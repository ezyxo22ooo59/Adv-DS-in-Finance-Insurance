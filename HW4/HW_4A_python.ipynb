{
 "cells": [
  {
   "cell_type": "markdown",
   "metadata": {},
   "source": [
    "[a]"
   ]
  },
  {
   "cell_type": "code",
   "execution_count": 24,
   "metadata": {},
   "outputs": [],
   "source": [
    "from IPython.core.interactiveshell import InteractiveShell\n",
    "InteractiveShell.ast_node_interactivity = \"all\"\n",
    "\n",
    "import warnings\n",
    "warnings.filterwarnings(\"ignore\")\n",
    "import numpy as np\n",
    "import pandas as pd\n",
    "\n",
    "import statsmodels.api as sm\n",
    "import statsmodels.formula.api as smf"
   ]
  },
  {
   "cell_type": "code",
   "execution_count": 26,
   "metadata": {
    "collapsed": true
   },
   "outputs": [
    {
     "data": {
      "text/html": [
       "<div>\n",
       "<style scoped>\n",
       "    .dataframe tbody tr th:only-of-type {\n",
       "        vertical-align: middle;\n",
       "    }\n",
       "\n",
       "    .dataframe tbody tr th {\n",
       "        vertical-align: top;\n",
       "    }\n",
       "\n",
       "    .dataframe thead th {\n",
       "        text-align: right;\n",
       "    }\n",
       "</style>\n",
       "<table border=\"1\" class=\"dataframe\">\n",
       "  <thead>\n",
       "    <tr style=\"text-align: right;\">\n",
       "      <th></th>\n",
       "      <th>age</th>\n",
       "      <th>vsae</th>\n",
       "      <th>sicdegp</th>\n",
       "      <th>childid</th>\n",
       "      <th>Age</th>\n",
       "      <th>Grp</th>\n",
       "    </tr>\n",
       "  </thead>\n",
       "  <tbody>\n",
       "    <tr>\n",
       "      <th>0</th>\n",
       "      <td>2</td>\n",
       "      <td>6.0</td>\n",
       "      <td>3</td>\n",
       "      <td>1</td>\n",
       "      <td>0</td>\n",
       "      <td>0.0</td>\n",
       "    </tr>\n",
       "    <tr>\n",
       "      <th>1</th>\n",
       "      <td>3</td>\n",
       "      <td>7.0</td>\n",
       "      <td>3</td>\n",
       "      <td>1</td>\n",
       "      <td>1</td>\n",
       "      <td>0.0</td>\n",
       "    </tr>\n",
       "    <tr>\n",
       "      <th>2</th>\n",
       "      <td>5</td>\n",
       "      <td>18.0</td>\n",
       "      <td>3</td>\n",
       "      <td>1</td>\n",
       "      <td>3</td>\n",
       "      <td>0.0</td>\n",
       "    </tr>\n",
       "    <tr>\n",
       "      <th>3</th>\n",
       "      <td>9</td>\n",
       "      <td>25.0</td>\n",
       "      <td>3</td>\n",
       "      <td>1</td>\n",
       "      <td>7</td>\n",
       "      <td>0.0</td>\n",
       "    </tr>\n",
       "    <tr>\n",
       "      <th>4</th>\n",
       "      <td>13</td>\n",
       "      <td>27.0</td>\n",
       "      <td>3</td>\n",
       "      <td>1</td>\n",
       "      <td>11</td>\n",
       "      <td>0.0</td>\n",
       "    </tr>\n",
       "  </tbody>\n",
       "</table>\n",
       "</div>"
      ],
      "text/plain": [
       "   age  vsae  sicdegp  childid  Age  Grp\n",
       "0    2   6.0        3        1    0  0.0\n",
       "1    3   7.0        3        1    1  0.0\n",
       "2    5  18.0        3        1    3  0.0\n",
       "3    9  25.0        3        1    7  0.0\n",
       "4   13  27.0        3        1   11  0.0"
      ]
     },
     "execution_count": 26,
     "metadata": {},
     "output_type": "execute_result"
    }
   ],
   "source": [
    "# Load data from csv file\n",
    "df = pd.read_csv(\"autism.csv\")\n",
    "\n",
    "# Define Age and Grp variables\n",
    "df['Age'] = df['age'] - 2\n",
    "df.loc[df['sicdegp'] == 3, 'Grp'] = 0\n",
    "df.loc[df['sicdegp'] == 1, 'Grp'] = 1\n",
    "df.loc[df['sicdegp'] == 2, 'Grp'] = 2\n",
    "df['Grp'] = df['Grp'].astype('category')\n",
    "df = df.dropna()\n",
    "\n",
    "df.head()"
   ]
  },
  {
   "cell_type": "code",
   "execution_count": 38,
   "metadata": {},
   "outputs": [
    {
     "name": "stdout",
     "output_type": "stream",
     "text": [
      "Model A log-likelihood: -2305.2220473509706\n",
      "Model B log-likelihood: -2346.8311556068556\n",
      "Model C log-likelihood: -2306.156899480725\n"
     ]
    }
   ],
   "source": [
    "# Define model formulas\n",
    "model_a_formula = \"vsae ~ Age + np.power(Age, 2) + Grp + Age*Grp + np.power(Age, 2)*Grp\"\n",
    "model_b_formula = \"vsae ~ Age + np.power(Age, 2) + Grp + Age*Grp + np.power(Age, 2)*Grp\"\n",
    "model_c_formula = \"vsae ~ Age + np.power(Age, 2) + Grp + Age*Grp\"\n",
    "\n",
    "# Fit models using mixed_model\n",
    "model_a = smf.mixedlm(model_a_formula, data=df, groups=df['childid'], re_formula=\"~0+Age+np.power(Age, 2)\")\n",
    "model_b = smf.mixedlm(model_b_formula, data=df, groups=df['childid'], re_formula=\"~0+Age\", vc_formula = {'Age':'0 + Age', 'Grp':'0 + Grp'})\n",
    "model_c = smf.mixedlm(model_c_formula, data=df, groups=df['childid'], re_formula=\"~0+Age+np.power(Age, 2)\")\n",
    "\n",
    "# Calculate log-likelihood for each model\n",
    "fit_modelA = model_a.fit(method=['lbfgs'],reml=False)\n",
    "fit_modelB =  model_b.fit(reml=False)\n",
    "fit_modelC = model_c.fit(method=['lbfgs'],reml=False)\n",
    "\n",
    "# Report log-likelihood for each model\n",
    "print(\"Model A log-likelihood:\", fit_modelA.llf)\n",
    "print(\"Model B log-likelihood:\", fit_modelB.llf)\n",
    "print(\"Model C log-likelihood:\", fit_modelC.llf)"
   ]
  },
  {
   "cell_type": "markdown",
   "metadata": {},
   "source": [
    "[b]"
   ]
  },
  {
   "cell_type": "code",
   "execution_count": 39,
   "metadata": {},
   "outputs": [
    {
     "name": "stdout",
     "output_type": "stream",
     "text": [
      "Best model according to AIC: C\n"
     ]
    }
   ],
   "source": [
    "# Perform model selection\n",
    "models = {'A': model_a, 'B': model_b, 'C': model_c}\n",
    "aic_values = {k: v.fit(reml=False).aic for k, v in models.items()}\n",
    "best_model = min(aic_values, key=aic_values.get)\n",
    "print(\"Best model according to AIC:\", best_model)"
   ]
  },
  {
   "cell_type": "code",
   "execution_count": 41,
   "metadata": {},
   "outputs": [
    {
     "data": {
      "text/html": [
       "<table class=\"simpletable\">\n",
       "<tr>\n",
       "       <td>Model:</td>       <td>MixedLM</td> <td>Dependent Variable:</td>    <td>vsae</td>   \n",
       "</tr>\n",
       "<tr>\n",
       "  <td>No. Observations:</td>   <td>610</td>         <td>Method:</td>           <td>ML</td>    \n",
       "</tr>\n",
       "<tr>\n",
       "     <td>No. Groups:</td>      <td>158</td>         <td>Scale:</td>          <td>38.4864</td> \n",
       "</tr>\n",
       "<tr>\n",
       "  <td>Min. group size:</td>     <td>1</td>      <td>Log-Likelihood:</td>   <td>-2306.1569</td>\n",
       "</tr>\n",
       "<tr>\n",
       "  <td>Max. group size:</td>     <td>5</td>        <td>Converged:</td>          <td>Yes</td>   \n",
       "</tr>\n",
       "<tr>\n",
       "  <td>Mean group size:</td>    <td>3.9</td>            <td></td>                <td></td>     \n",
       "</tr>\n",
       "</table>\n",
       "<table class=\"simpletable\">\n",
       "<tr>\n",
       "               <td></td>               <th>Coef.</th> <th>Std.Err.</th>    <th>z</th>   <th>P>|z|</th> <th>[0.025</th> <th>0.975]</th>\n",
       "</tr>\n",
       "<tr>\n",
       "  <th>Intercept</th>                  <td>13.463</td>   <td>0.779</td>  <td>17.273</td> <td>0.000</td> <td>11.935</td> <td>14.990</td>\n",
       "</tr>\n",
       "<tr>\n",
       "  <th>Grp[T.1.0]</th>                 <td>-4.987</td>   <td>1.035</td>  <td>-4.818</td> <td>0.000</td> <td>-7.015</td> <td>-2.958</td>\n",
       "</tr>\n",
       "<tr>\n",
       "  <th>Grp[T.2.0]</th>                 <td>-3.622</td>   <td>0.974</td>  <td>-3.717</td> <td>0.000</td> <td>-5.532</td> <td>-1.712</td>\n",
       "</tr>\n",
       "<tr>\n",
       "  <th>Age</th>                         <td>6.149</td>   <td>0.686</td>   <td>8.963</td> <td>0.000</td>  <td>4.805</td>  <td>7.494</td>\n",
       "</tr>\n",
       "<tr>\n",
       "  <th>Age:Grp[T.1.0]</th>             <td>-4.069</td>   <td>0.876</td>  <td>-4.644</td> <td>0.000</td> <td>-5.787</td> <td>-2.352</td>\n",
       "</tr>\n",
       "<tr>\n",
       "  <th>Age:Grp[T.2.0]</th>             <td>-3.496</td>   <td>0.825</td>  <td>-4.236</td> <td>0.000</td> <td>-5.114</td> <td>-1.879</td>\n",
       "</tr>\n",
       "<tr>\n",
       "  <th>np.power(Age, 2)</th>            <td>0.109</td>   <td>0.043</td>   <td>2.562</td> <td>0.010</td>  <td>0.026</td>  <td>0.193</td>\n",
       "</tr>\n",
       "<tr>\n",
       "  <th>Age Var</th>                    <td>14.199</td>   <td>0.477</td>     <td></td>      <td></td>       <td></td>       <td></td>   \n",
       "</tr>\n",
       "<tr>\n",
       "  <th>Age x np.power(Age, 2) Cov</th> <td>-0.409</td>   <td>0.034</td>     <td></td>      <td></td>       <td></td>       <td></td>   \n",
       "</tr>\n",
       "<tr>\n",
       "  <th>np.power(Age, 2) Var</th>        <td>0.125</td>   <td>0.005</td>     <td></td>      <td></td>       <td></td>       <td></td>   \n",
       "</tr>\n",
       "</table>"
      ],
      "text/plain": [
       "<class 'statsmodels.iolib.summary2.Summary'>\n",
       "\"\"\"\n",
       "                Mixed Linear Model Regression Results\n",
       "=====================================================================\n",
       "Model:                 MixedLM     Dependent Variable:     vsae      \n",
       "No. Observations:      610         Method:                 ML        \n",
       "No. Groups:            158         Scale:                  38.4864   \n",
       "Min. group size:       1           Log-Likelihood:         -2306.1569\n",
       "Max. group size:       5           Converged:              Yes       \n",
       "Mean group size:       3.9                                           \n",
       "---------------------------------------------------------------------\n",
       "                           Coef.  Std.Err.   z    P>|z| [0.025 0.975]\n",
       "---------------------------------------------------------------------\n",
       "Intercept                  13.463    0.779 17.273 0.000 11.935 14.990\n",
       "Grp[T.1.0]                 -4.987    1.035 -4.818 0.000 -7.015 -2.958\n",
       "Grp[T.2.0]                 -3.622    0.974 -3.717 0.000 -5.532 -1.712\n",
       "Age                         6.149    0.686  8.963 0.000  4.805  7.494\n",
       "Age:Grp[T.1.0]             -4.069    0.876 -4.644 0.000 -5.787 -2.352\n",
       "Age:Grp[T.2.0]             -3.496    0.825 -4.236 0.000 -5.114 -1.879\n",
       "np.power(Age, 2)            0.109    0.043  2.562 0.010  0.026  0.193\n",
       "Age Var                    14.199    0.477                           \n",
       "Age x np.power(Age, 2) Cov -0.409    0.034                           \n",
       "np.power(Age, 2) Var        0.125    0.005                           \n",
       "=====================================================================\n",
       "\n",
       "\"\"\""
      ]
     },
     "execution_count": 41,
     "metadata": {},
     "output_type": "execute_result"
    }
   ],
   "source": [
    "# Report the test statistics and the corresponding p-values\n",
    "fit_modelC.summary()"
   ]
  },
  {
   "cell_type": "code",
   "execution_count": null,
   "metadata": {},
   "outputs": [],
   "source": []
  }
 ],
 "metadata": {
  "kernelspec": {
   "display_name": "Python 3 (ipykernel)",
   "language": "python",
   "name": "python3"
  },
  "language_info": {
   "codemirror_mode": {
    "name": "ipython",
    "version": 3
   },
   "file_extension": ".py",
   "mimetype": "text/x-python",
   "name": "python",
   "nbconvert_exporter": "python",
   "pygments_lexer": "ipython3",
   "version": "3.10.10"
  }
 },
 "nbformat": 4,
 "nbformat_minor": 1
}
