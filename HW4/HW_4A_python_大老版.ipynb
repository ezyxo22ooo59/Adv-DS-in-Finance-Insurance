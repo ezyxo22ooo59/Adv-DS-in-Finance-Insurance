{
 "cells": [
  {
   "cell_type": "code",
   "execution_count": 8,
   "metadata": {},
   "outputs": [],
   "source": [
    "import pandas as pd\n",
    "\n",
    "import statsmodels.api as sm\n",
    "import statsmodels.formula.api as smf\n",
    "\n",
    "from IPython.core.interactiveshell import InteractiveShell\n",
    "InteractiveShell.ast_node_interactivity = \"all\"\n",
    "\n",
    "import warnings\n",
    "warnings.filterwarnings(\"ignore\")"
   ]
  },
  {
   "attachments": {},
   "cell_type": "markdown",
   "metadata": {},
   "source": [
    "The file, autism.csv, contains the autism dataset, where\n",
    "* vsae, Vineland Socialization Age Equivalent, is the dependent variable\n",
    "* childid is the unique child identifier\n",
    "* age, age at which vsae is measured, is a time variable\n",
    "* sicdegp is the sequenced inventory of communication development expressive group, with 1 being low, 2 being median, and 3 being high"
   ]
  },
  {
   "cell_type": "code",
   "execution_count": 9,
   "metadata": {},
   "outputs": [
    {
     "data": {
      "text/plain": "   age  vsae  sicdegp  childid  Age  Age2  Grp\n0    2   6.0        3        1    0     0  0.0\n1    3   7.0        3        1    1     1  0.0\n2    5  18.0        3        1    3     9  0.0\n3    9  25.0        3        1    7    49  0.0\n4   13  27.0        3        1   11   121  0.0",
      "text/html": "<div>\n<style scoped>\n    .dataframe tbody tr th:only-of-type {\n        vertical-align: middle;\n    }\n\n    .dataframe tbody tr th {\n        vertical-align: top;\n    }\n\n    .dataframe thead th {\n        text-align: right;\n    }\n</style>\n<table border=\"1\" class=\"dataframe\">\n  <thead>\n    <tr style=\"text-align: right;\">\n      <th></th>\n      <th>age</th>\n      <th>vsae</th>\n      <th>sicdegp</th>\n      <th>childid</th>\n      <th>Age</th>\n      <th>Age2</th>\n      <th>Grp</th>\n    </tr>\n  </thead>\n  <tbody>\n    <tr>\n      <th>0</th>\n      <td>2</td>\n      <td>6.0</td>\n      <td>3</td>\n      <td>1</td>\n      <td>0</td>\n      <td>0</td>\n      <td>0.0</td>\n    </tr>\n    <tr>\n      <th>1</th>\n      <td>3</td>\n      <td>7.0</td>\n      <td>3</td>\n      <td>1</td>\n      <td>1</td>\n      <td>1</td>\n      <td>0.0</td>\n    </tr>\n    <tr>\n      <th>2</th>\n      <td>5</td>\n      <td>18.0</td>\n      <td>3</td>\n      <td>1</td>\n      <td>3</td>\n      <td>9</td>\n      <td>0.0</td>\n    </tr>\n    <tr>\n      <th>3</th>\n      <td>9</td>\n      <td>25.0</td>\n      <td>3</td>\n      <td>1</td>\n      <td>7</td>\n      <td>49</td>\n      <td>0.0</td>\n    </tr>\n    <tr>\n      <th>4</th>\n      <td>13</td>\n      <td>27.0</td>\n      <td>3</td>\n      <td>1</td>\n      <td>11</td>\n      <td>121</td>\n      <td>0.0</td>\n    </tr>\n  </tbody>\n</table>\n</div>"
     },
     "execution_count": 9,
     "metadata": {},
     "output_type": "execute_result"
    },
    {
     "data": {
      "text/plain": "     age   vsae  sicdegp  childid  Age  Age2  Grp\n607    5    6.0        1      202    3     9  1.0\n608   13   12.0        1      202   11   121  1.0\n609    2    4.0        1      210    0     0  1.0\n610    3   25.0        1      210    1     1  1.0\n611    9  130.0        1      210    7    49  1.0",
      "text/html": "<div>\n<style scoped>\n    .dataframe tbody tr th:only-of-type {\n        vertical-align: middle;\n    }\n\n    .dataframe tbody tr th {\n        vertical-align: top;\n    }\n\n    .dataframe thead th {\n        text-align: right;\n    }\n</style>\n<table border=\"1\" class=\"dataframe\">\n  <thead>\n    <tr style=\"text-align: right;\">\n      <th></th>\n      <th>age</th>\n      <th>vsae</th>\n      <th>sicdegp</th>\n      <th>childid</th>\n      <th>Age</th>\n      <th>Age2</th>\n      <th>Grp</th>\n    </tr>\n  </thead>\n  <tbody>\n    <tr>\n      <th>607</th>\n      <td>5</td>\n      <td>6.0</td>\n      <td>1</td>\n      <td>202</td>\n      <td>3</td>\n      <td>9</td>\n      <td>1.0</td>\n    </tr>\n    <tr>\n      <th>608</th>\n      <td>13</td>\n      <td>12.0</td>\n      <td>1</td>\n      <td>202</td>\n      <td>11</td>\n      <td>121</td>\n      <td>1.0</td>\n    </tr>\n    <tr>\n      <th>609</th>\n      <td>2</td>\n      <td>4.0</td>\n      <td>1</td>\n      <td>210</td>\n      <td>0</td>\n      <td>0</td>\n      <td>1.0</td>\n    </tr>\n    <tr>\n      <th>610</th>\n      <td>3</td>\n      <td>25.0</td>\n      <td>1</td>\n      <td>210</td>\n      <td>1</td>\n      <td>1</td>\n      <td>1.0</td>\n    </tr>\n    <tr>\n      <th>611</th>\n      <td>9</td>\n      <td>130.0</td>\n      <td>1</td>\n      <td>210</td>\n      <td>7</td>\n      <td>49</td>\n      <td>1.0</td>\n    </tr>\n  </tbody>\n</table>\n</div>"
     },
     "execution_count": 9,
     "metadata": {},
     "output_type": "execute_result"
    }
   ],
   "source": [
    "# read excel wb\n",
    "df = pd.read_csv(\"autism.csv\")\n",
    "\n",
    "df[\"Age\"] = df[\"age\"] - 2\n",
    "df['Age2'] = df[\"Age\"] **2\n",
    "\n",
    "df.loc[df['sicdegp'] == 3, 'Grp'] = 0\n",
    "df.loc[df['sicdegp'] == 1, 'Grp'] = 1\n",
    "df.loc[df['sicdegp'] == 2, 'Grp'] = 2\n",
    "\n",
    "df['Grp'] = df['Grp'].astype('category')\n",
    "\n",
    "# drop rows with missing values\n",
    "df = df.dropna()\n",
    "\n",
    "df.head()\n",
    "df.tail()"
   ]
  },
  {
   "attachments": {},
   "cell_type": "markdown",
   "metadata": {},
   "source": [
    "[a] Use statsmodels.formula.api.mixedlm() to fit the following models (using REML). Let your\n",
    "code report the log-likelihood achieved for fitting each model.\n",
    "* model A: vsae ∼Age + Age2+ Grp + Age ∗Grp + Age2∗Grp + (0 + Age + Age2|childid)\n",
    "    * vc formula = { }\n",
    "* model B: vsae ∼Age + Age2+ Grp + Age ∗Grp + Age2∗Grp + (0 + Age|childid)\n",
    "    * vc formula = {‘Age’:‘0 + Age’, ‘Grp’:‘0 + Grp’}\n",
    "* model C: vsae ∼Age + Age2+ Grp + Age ∗Grp + (0 + Age + Age2|childid)\n",
    "    * vc formula = { }\n",
    "\n",
    "Note that\n",
    "* Age = age −2\n",
    "* Grp = sicdegp is a categorical variable, with sicdegp = 3 as the refence level in these models\n"
   ]
  },
  {
   "cell_type": "code",
   "execution_count": 10,
   "metadata": {},
   "outputs": [
    {
     "name": "stdout",
     "output_type": "stream",
     "text": [
      "Log-likelihood for model A: -2305.2220\n"
     ]
    }
   ],
   "source": [
    "# Define formulas\n",
    "formula_a = 'vsae ~ Age + Age2 + Grp + Age*Grp + Age2*Grp'\n",
    "\n",
    "# Fit models and report log-likelihoods\n",
    "model_a = smf.mixedlm(formula_a, df, \n",
    "                      groups = df['childid'], \n",
    "                      re_formula = \"~ 0 + Age + Age2\", \n",
    "                      vc_formula = {})\n",
    "result_a = model_a.fit(reml=False)\n",
    "print(f\"Log-likelihood for model A: {result_a.llf:.4f}\")"
   ]
  },
  {
   "cell_type": "code",
   "execution_count": 11,
   "metadata": {},
   "outputs": [
    {
     "name": "stdout",
     "output_type": "stream",
     "text": [
      "Log-likelihood for model B: -2346.8312\n"
     ]
    }
   ],
   "source": [
    "formula_b = 'vsae ~ Age + Age2 + Grp + Age*Grp + Age2*Grp'\n",
    "\n",
    "model_b = smf.mixedlm(formula_b, df, \n",
    "                      groups = df['childid'], \n",
    "                      re_formula = \"~ 0 + Age\", \n",
    "                      vc_formula = {'Age':'0 + Age', 'Grp':'0 + Grp'})\n",
    "result_b = model_b.fit(reml=False)\n",
    "print(f\"Log-likelihood for model B: {result_b.llf:.4f}\")\n"
   ]
  },
  {
   "cell_type": "code",
   "execution_count": 12,
   "metadata": {},
   "outputs": [
    {
     "name": "stdout",
     "output_type": "stream",
     "text": [
      "Log-likelihood for model C: -2306.1569\n"
     ]
    }
   ],
   "source": [
    "formula_c = 'vsae ~ Age + Age2 + Grp + Age*Grp'\n",
    "\n",
    "model_c = smf.mixedlm(formula_c, df, \n",
    "                      groups = df['childid'], \n",
    "                      re_formula = \"~ 0 + Age + Age2\", \n",
    "                      vc_formula = {})\n",
    "result_c = model_c.fit(reml=False)\n",
    "print(f\"Log-likelihood for model C: {result_c.llf:.4f}\")"
   ]
  },
  {
   "attachments": {},
   "cell_type": "markdown",
   "metadata": {},
   "source": [
    "[b] Let your code perform model selection and identify the best model (which is Model C). Let your\n",
    "code report the test statistics and the corresponding p-values."
   ]
  },
  {
   "cell_type": "code",
   "execution_count": 13,
   "metadata": {},
   "outputs": [
    {
     "name": "stdout",
     "output_type": "stream",
     "text": [
      "The best model is model C.\n"
     ]
    }
   ],
   "source": [
    "results = pd.DataFrame({\n",
    "    'model': ['A', 'B', 'C'],\n",
    "    'AIC': [result_a.aic, result_b.aic, result_c.aic],\n",
    "    'BIC': [result_a.bic, result_b.bic, result_c.bic]\n",
    "})\n",
    "\n",
    "best_model = results.loc[results['AIC'].idxmin(), 'model']\n",
    "print(f\"The best model is model {best_model}.\")"
   ]
  },
  {
   "cell_type": "code",
   "execution_count": 15,
   "outputs": [
    {
     "data": {
      "text/plain": "statsmodels.regression.mixed_linear_model.MixedLMResultsWrapper"
     },
     "execution_count": 15,
     "metadata": {},
     "output_type": "execute_result"
    }
   ],
   "source": [
    "type(result_c)"
   ],
   "metadata": {
    "collapsed": false
   }
  },
  {
   "cell_type": "code",
   "execution_count": 14,
   "metadata": {},
   "outputs": [
    {
     "data": {
      "text/plain": "<class 'statsmodels.iolib.summary2.Summary'>\n\"\"\"\n          Mixed Linear Model Regression Results\n=========================================================\nModel:             MixedLM Dependent Variable: vsae      \nNo. Observations:  610     Method:             ML        \nNo. Groups:        158     Scale:              38.4864   \nMin. group size:   1       Log-Likelihood:     -2306.1569\nMax. group size:   5       Converged:          Yes       \nMean group size:   3.9                                   \n---------------------------------------------------------\n               Coef.  Std.Err.   z    P>|z| [0.025 0.975]\n---------------------------------------------------------\nIntercept      13.463    0.779 17.273 0.000 11.935 14.990\nGrp[T.1.0]     -4.987    1.035 -4.818 0.000 -7.015 -2.958\nGrp[T.2.0]     -3.622    0.974 -3.717 0.000 -5.532 -1.712\nAge             6.149    0.686  8.963 0.000  4.805  7.494\nAge:Grp[T.1.0] -4.069    0.876 -4.644 0.000 -5.787 -2.352\nAge:Grp[T.2.0] -3.496    0.825 -4.236 0.000 -5.114 -1.879\nAge2            0.109    0.043  2.562 0.010  0.026  0.193\nAge Var        14.199    0.476                           \nAge x Age2 Cov -0.409    0.034                           \nAge2 Var        0.125    0.005                           \n=========================================================\n\n\"\"\"",
      "text/html": "<table class=\"simpletable\">\n<tr>\n       <td>Model:</td>       <td>MixedLM</td> <td>Dependent Variable:</td>    <td>vsae</td>   \n</tr>\n<tr>\n  <td>No. Observations:</td>   <td>610</td>         <td>Method:</td>           <td>ML</td>    \n</tr>\n<tr>\n     <td>No. Groups:</td>      <td>158</td>         <td>Scale:</td>          <td>38.4864</td> \n</tr>\n<tr>\n  <td>Min. group size:</td>     <td>1</td>      <td>Log-Likelihood:</td>   <td>-2306.1569</td>\n</tr>\n<tr>\n  <td>Max. group size:</td>     <td>5</td>        <td>Converged:</td>          <td>Yes</td>   \n</tr>\n<tr>\n  <td>Mean group size:</td>    <td>3.9</td>            <td></td>                <td></td>     \n</tr>\n</table>\n<table class=\"simpletable\">\n<tr>\n         <td></td>         <th>Coef.</th> <th>Std.Err.</th>    <th>z</th>   <th>P>|z|</th> <th>[0.025</th> <th>0.975]</th>\n</tr>\n<tr>\n  <th>Intercept</th>      <td>13.463</td>   <td>0.779</td>  <td>17.273</td> <td>0.000</td> <td>11.935</td> <td>14.990</td>\n</tr>\n<tr>\n  <th>Grp[T.1.0]</th>     <td>-4.987</td>   <td>1.035</td>  <td>-4.818</td> <td>0.000</td> <td>-7.015</td> <td>-2.958</td>\n</tr>\n<tr>\n  <th>Grp[T.2.0]</th>     <td>-3.622</td>   <td>0.974</td>  <td>-3.717</td> <td>0.000</td> <td>-5.532</td> <td>-1.712</td>\n</tr>\n<tr>\n  <th>Age</th>             <td>6.149</td>   <td>0.686</td>   <td>8.963</td> <td>0.000</td>  <td>4.805</td>  <td>7.494</td>\n</tr>\n<tr>\n  <th>Age:Grp[T.1.0]</th> <td>-4.069</td>   <td>0.876</td>  <td>-4.644</td> <td>0.000</td> <td>-5.787</td> <td>-2.352</td>\n</tr>\n<tr>\n  <th>Age:Grp[T.2.0]</th> <td>-3.496</td>   <td>0.825</td>  <td>-4.236</td> <td>0.000</td> <td>-5.114</td> <td>-1.879</td>\n</tr>\n<tr>\n  <th>Age2</th>            <td>0.109</td>   <td>0.043</td>   <td>2.562</td> <td>0.010</td>  <td>0.026</td>  <td>0.193</td>\n</tr>\n<tr>\n  <th>Age Var</th>        <td>14.199</td>   <td>0.476</td>     <td></td>      <td></td>       <td></td>       <td></td>   \n</tr>\n<tr>\n  <th>Age x Age2 Cov</th> <td>-0.409</td>   <td>0.034</td>     <td></td>      <td></td>       <td></td>       <td></td>   \n</tr>\n<tr>\n  <th>Age2 Var</th>        <td>0.125</td>   <td>0.005</td>     <td></td>      <td></td>       <td></td>       <td></td>   \n</tr>\n</table>"
     },
     "execution_count": 14,
     "metadata": {},
     "output_type": "execute_result"
    }
   ],
   "source": [
    "# Report test statistics and p-values for model C\n",
    "result_c.summary()"
   ]
  },
  {
   "cell_type": "code",
   "execution_count": 14,
   "metadata": {},
   "outputs": [],
   "source": []
  }
 ],
 "metadata": {
  "kernelspec": {
   "display_name": "Python 3",
   "language": "python",
   "name": "python3"
  },
  "language_info": {
   "codemirror_mode": {
    "name": "ipython",
    "version": 3
   },
   "file_extension": ".py",
   "mimetype": "text/x-python",
   "name": "python",
   "nbconvert_exporter": "python",
   "pygments_lexer": "ipython3",
   "version": "3.9.7"
  },
  "orig_nbformat": 4
 },
 "nbformat": 4,
 "nbformat_minor": 2
}
