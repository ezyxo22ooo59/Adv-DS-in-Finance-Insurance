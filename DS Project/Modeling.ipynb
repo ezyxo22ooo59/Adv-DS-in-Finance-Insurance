{
  "cells": [
    {
      "cell_type": "code",
      "execution_count": 1,
      "metadata": {
        "id": "bFF934swDqIJ"
      },
      "outputs": [
        {
          "name": "stderr",
          "output_type": "stream",
          "text": [
            "2023-04-13 21:37:14.224721: I tensorflow/core/platform/cpu_feature_guard.cc:182] This TensorFlow binary is optimized to use available CPU instructions in performance-critical operations.\n",
            "To enable the following instructions: AVX2 FMA, in other operations, rebuild TensorFlow with the appropriate compiler flags.\n"
          ]
        }
      ],
      "source": [
        "import pandas as pd\n",
        "import numpy as np\n",
        "\n",
        "import yfinance\n",
        "import ta\n",
        "from ta.momentum import ROCIndicator, StochasticOscillator, RSIIndicator\n",
        "from ta.trend import CCIIndicator, EMAIndicator, TRIXIndicator, macd\n",
        "from ta.volume import OnBalanceVolumeIndicator, VolumeWeightedAveragePrice, force_index, ChaikinMoneyFlowIndicator, MFIIndicator\n",
        "from ta.volatility import BollingerBands\n",
        "\n",
        "import keras_tuner as kt"
      ]
    },
    {
      "cell_type": "code",
      "execution_count": 3,
      "metadata": {
        "id": "hD8lxhhrrf6u"
      },
      "outputs": [],
      "source": [
        "# df = pd.read_csv('bitcoin_df.csv')\n",
        "# del df['Unnamed: 0']  "
      ]
    },
    {
      "cell_type": "code",
      "execution_count": 7,
      "metadata": {
        "id": "My0ggWsIG1qS"
      },
      "outputs": [],
      "source": [
        "def get_rename_dict(df, name):\n",
        "  rename_dict = {'Date':'date'}\n",
        "  for e in df.columns[1:]:\n",
        "      rename_dict[e] = name+'_'+e.lower()\n",
        "  return rename_dict\n",
        "btc_df = pd.read_csv('BTC-USD.csv')\n",
        "btc_df = btc_df[btc_df.columns.drop('Adj Close')].rename(columns=get_rename_dict(btc_df, 'btc'))\n",
        "btc_df.date = pd.to_datetime(btc_df.date)"
      ]
    },
    {
      "cell_type": "code",
      "execution_count": 8,
      "metadata": {
        "id": "lLRv2tJTh7tc"
      },
      "outputs": [],
      "source": [
        "def get_indicators(df, name):\n",
        "  df[name+'_'+'stochastic_oscillator'] = StochasticOscillator(df[name+'_'+'high'], df[name+'_'+'low'], df[name+'_'+'close']).stoch()\n",
        "  df[name+'_'+'momentum_indicator'] = ROCIndicator(df[name+'_'+'close']).roc()\n",
        "  df[name+'_'+'CCI'] = CCIIndicator(df[name+'_'+'high'], df[name+'_'+'low'], df[name+'_'+'close']).cci()\n",
        "  df[name+'_'+'obv'] = OnBalanceVolumeIndicator(df[name+'_'+'close'], df[name+'_'+'volume']).on_balance_volume()\n",
        "  df[name+'_'+'ema'] = EMAIndicator(df[name+'_'+'close']).ema_indicator()\n",
        "  df[name+'_'+'trix'] = TRIXIndicator(df[name+'_'+'close']).trix()\n",
        "  df[name+'_'+'macd'] = macd(df[name+'_'+'close'])\n",
        "  df[name+'_'+'vmap'] = VolumeWeightedAveragePrice(df[name+'_'+'high'], df[name+'_'+'low'], df[name+'_'+'close'], df[name+'_'+'volume']).volume_weighted_average_price()\n",
        "  df[name+'_'+'fi'] = force_index(df[name+'_'+'close'], df[name+'_'+'volume'])\n",
        "  indicator_bb = BollingerBands(close=df[name+'_'+\"close\"], window_dev=2)\n",
        "  df[name+'_'+'bb_bbhi'] = indicator_bb.bollinger_hband()\n",
        "  df[name+'_'+'bb_bbli'] = indicator_bb.bollinger_lband()\n",
        "  df[name+'_'+'cmf'] = ChaikinMoneyFlowIndicator(df[name+'_'+'high'], df[name+'_'+'low'], df[name+'_'+'close'], df[name+'_'+'volume']).chaikin_money_flow()\n",
        "  df[name+'_'+'rsi'] = RSIIndicator(df[name+'_'+'close']).rsi()\n",
        "  df[name+'_'+'mfi'] = MFIIndicator(df[name+'_'+'high'], df[name+'_'+'low'], df[name+'_'+'close'], df[name+'_'+'volume']).money_flow_index()"
      ]
    },
    {
      "cell_type": "code",
      "execution_count": 9,
      "metadata": {
        "id": "XsA02gFhpKIH"
      },
      "outputs": [],
      "source": [
        "get_indicators(btc_df, 'btc')\n",
        "# get_indicators(ltc_df, 'ltc')"
      ]
    },
    {
      "cell_type": "code",
      "execution_count": 10,
      "metadata": {
        "id": "6imdXTcOpVr-"
      },
      "outputs": [],
      "source": [
        "btc_df['btc_return'] = btc_df.btc_close.shift(-1)/btc_df.btc_close-1\n",
        "btc_df['btc_return'] = btc_df.btc_return.apply(lambda x: 1 if x > 0 else 0)\n",
        "# ltc_df['ltc_return'] = ltc_df.ltc_close.shift(-1)/ltc_df.ltc_close-1\n",
        "# ltc_df['ltc_return'] = ltc_df.ltc_return.apply(lambda x: 1 if x > 0 else 0)"
      ]
    },
    {
      "cell_type": "code",
      "execution_count": 11,
      "metadata": {
        "id": "g2MmxcAfpmF_"
      },
      "outputs": [],
      "source": [
        "df = btc_df\n",
        "# df = ltc_df"
      ]
    },
    {
      "cell_type": "code",
      "execution_count": 12,
      "metadata": {
        "id": "cSTGzb3FquyR"
      },
      "outputs": [],
      "source": [
        "df = df[~df.isnull().any(axis=1)]"
      ]
    },
    {
      "cell_type": "code",
      "execution_count": 13,
      "metadata": {
        "colab": {
          "base_uri": "https://localhost:8080/"
        },
        "id": "2JdCzufVPomU",
        "outputId": "3ad757a8-fe74-48fa-a189-8f09cd775cc4"
      },
      "outputs": [
        {
          "name": "stdout",
          "output_type": "stream",
          "text": [
            "[*********************100%***********************]  1 of 1 completed\n",
            "[*********************100%***********************]  1 of 1 completed\n",
            "[*********************100%***********************]  1 of 1 completed\n",
            "[*********************100%***********************]  1 of 1 completed\n",
            "[*********************100%***********************]  1 of 1 completed\n"
          ]
        }
      ],
      "source": [
        "sp500 = yfinance.download (tickers = \"^GSPC\", start = \"2014-09-17\", \n",
        "                              end = \"2022-10-01\", interval = \"1d\")\n",
        "gold = yfinance.download (tickers = \"GC=F\", start = \"2014-09-17\", \n",
        "                              end = \"2022-10-01\", interval = \"1d\")\n",
        "treasury_yield5 = yfinance.download (tickers = \"^FVX\", start = \"2014-09-17\", \n",
        "                              end = \"2022-10-01\", interval = \"1d\")\n",
        "treasury_yield10 = yfinance.download (tickers = \"^TNX\", start = \"2014-09-17\", \n",
        "                              end = \"2022-10-01\", interval = \"1d\")\n",
        "treasury_yield30 = yfinance.download (tickers = \"^TYX\", start = \"2014-09-17\", \n",
        "                              end = \"2022-10-01\", interval = \"1d\")"
      ]
    },
    {
      "cell_type": "code",
      "execution_count": 14,
      "metadata": {
        "id": "o9kdeEjEVYu8"
      },
      "outputs": [],
      "source": [
        "gold_close = gold.reset_index().rename(columns={'Adj Close': 'gold_close', 'Date': 'date'})[['date', 'gold_close']]\n",
        "sp500_close = sp500.reset_index().rename(columns={'Adj Close': 'sp500_close', 'Date': 'date'})[['date', 'sp500_close']]\n",
        "treasury_yield5_close = treasury_yield5.reset_index().rename(columns={'Adj Close': 'ty5_close', 'Date': 'date'})[['date', 'ty5_close']]\n",
        "treasury_yield10_close = treasury_yield10.reset_index().rename(columns={'Adj Close': 'ty10_close', 'Date': 'date'})[['date', 'ty10_close']]\n",
        "treasury_yield30_close = treasury_yield30.reset_index().rename(columns={'Adj Close': 'ty30_close', 'Date': 'date'})[['date', 'ty30_close']]"
      ]
    },
    {
      "cell_type": "code",
      "execution_count": 15,
      "metadata": {
        "id": "Ao9y72xIRvuz"
      },
      "outputs": [],
      "source": [
        "df = pd.merge(df, sp500_close, how='left', on='date').fillna(method=\"ffill\") \n",
        "df = pd.merge(df, gold_close, how='left', on='date').fillna(method=\"ffill\") \n",
        "df = pd.merge(df, treasury_yield5_close, how='left', on='date').fillna(method=\"ffill\") \n",
        "df = pd.merge(df, treasury_yield10_close, how='left', on='date').fillna(method=\"ffill\")\n",
        "df = pd.merge(df, treasury_yield30_close, how='left', on='date').fillna(method=\"ffill\")"
      ]
    },
    {
      "cell_type": "code",
      "execution_count": 16,
      "metadata": {
        "colab": {
          "base_uri": "https://localhost:8080/",
          "height": 661
        },
        "id": "VFWmXIWVV1FC",
        "outputId": "0e62b1e0-5162-4109-948e-a2ee279f1031"
      },
      "outputs": [
        {
          "data": {
            "text/plain": [
              "(2894, 26)"
            ]
          },
          "execution_count": 16,
          "metadata": {},
          "output_type": "execute_result"
        }
      ],
      "source": [
        "df.shape"
      ]
    },
    {
      "cell_type": "code",
      "execution_count": 17,
      "metadata": {
        "id": "ZX_T8xxLL6IO"
      },
      "outputs": [],
      "source": [
        "y = df['btc_return']\n",
        "# y = df['ltc_return']\n",
        "X = df.drop(['date', 'btc_return'], axis=1)\n",
        "# X = df.drop(['date', 'ltc_return'], axis=1)"
      ]
    },
    {
      "cell_type": "code",
      "execution_count": 18,
      "metadata": {
        "id": "RVtbPKEFMadI"
      },
      "outputs": [],
      "source": [
        "from sklearn.model_selection import train_test_split\n",
        "from sklearn.neural_network import MLPClassifier\n",
        "from sklearn.preprocessing import MinMaxScaler"
      ]
    },
    {
      "cell_type": "code",
      "execution_count": 19,
      "metadata": {
        "id": "61onUxNlNDwr"
      },
      "outputs": [],
      "source": [
        "val_size=0.2\n",
        "X_train, X_test, y_train, y_test = train_test_split(X, y, test_size=val_size, shuffle=False)\n",
        "\n",
        "scaler = MinMaxScaler()\n",
        "X_train_scaled = scaler.fit_transform(X_train)\n",
        "X_test_scaled = scaler.transform(X_test)"
      ]
    },
    {
      "cell_type": "code",
      "execution_count": 20,
      "metadata": {
        "id": "2Y2c9F22NZLe"
      },
      "outputs": [],
      "source": [
        "clf = MLPClassifier(random_state=33, max_iter=500).fit(X_train_scaled, y_train)"
      ]
    },
    {
      "cell_type": "code",
      "execution_count": 21,
      "metadata": {
        "colab": {
          "base_uri": "https://localhost:8080/",
          "height": 265
        },
        "id": "TtcH79KO8J97",
        "outputId": "c5ffcd03-0426-4304-e8bb-2fc8fc12bf26"
      },
      "outputs": [
        {
          "data": {
            "image/png": "[encoded data removed]",
            "text/plain": [
              "<Figure size 432x288 with 2 Axes>"
            ]
          },
          "metadata": {
            "needs_background": "light"
          },
          "output_type": "display_data"
        }
      ],
      "source": [
        "import seaborn as sns\n",
        "from sklearn.metrics import confusion_matrix\n",
        "cm = confusion_matrix(clf.predict(X_test_scaled), y_test)\n",
        "f = sns.heatmap(cm, annot=True, fmt='d')"
      ]
    },
    {
      "cell_type": "code",
      "execution_count": 22,
      "metadata": {
        "id": "3h_54O2RdpYS"
      },
      "outputs": [],
      "source": [
        "rest_df = pd.read_csv('bitcoin_df.csv')[['date', 'btc_subjectivity', 'btc_label', 'btc_score', 'cpi', 'fed']]\n",
        "rest_df.date = pd.to_datetime(rest_df.date)\n",
        "df = pd.merge(df, rest_df, how='left', on='date')\n",
        "df.iloc[90, 26] = 0\n",
        "df.iloc[90, 27] = 0\n",
        "df.iloc[90, 28] = 0\n",
        "df.iloc[90, 29] = 1.73\n",
        "df.iloc[90, 30] = 0.11\n",
        "X_ = df.drop(['date', 'btc_return'], axis=1)\n",
        "# X_ = df.drop(['date', 'ltc_return'], axis=1)"
      ]
    },
    {
      "cell_type": "code",
      "execution_count": 23,
      "metadata": {
        "colab": {
          "base_uri": "https://localhost:8080/"
        },
        "id": "ji__G1RrjyGN",
        "outputId": "bdcf053f-b47c-48b3-aade-6a6c200b3115"
      },
      "outputs": [
        {
          "data": {
            "text/plain": [
              "(2894, 31)"
            ]
          },
          "execution_count": 23,
          "metadata": {},
          "output_type": "execute_result"
        }
      ],
      "source": [
        "df.shape"
      ]
    },
    {
      "cell_type": "code",
      "execution_count": 24,
      "metadata": {
        "id": "y3_8AYXhf9LI"
      },
      "outputs": [],
      "source": [
        "X_train_, X_test_, y_train_, y_test_ = train_test_split(X_, y, test_size=val_size, shuffle=False)\n",
        "X_train_scaled_ = scaler.fit_transform(X_train_)\n",
        "X_test_scaled_ = scaler.transform(X_test_)"
      ]
    },
    {
      "cell_type": "code",
      "execution_count": 25,
      "metadata": {
        "id": "poe6LNjJgVFQ"
      },
      "outputs": [],
      "source": [
        "clf2 = MLPClassifier(random_state=22, max_iter=1000).fit(X_train_scaled_, y_train)"
      ]
    },
    {
      "cell_type": "code",
      "execution_count": 26,
      "metadata": {
        "colab": {
          "base_uri": "https://localhost:8080/"
        },
        "id": "tuBH9cQYgXpb",
        "outputId": "7d9e25a5-b116-4681-e47f-0df4a8ff0fd6"
      },
      "outputs": [],
      "source": [
        "# clf2.predict(X_test_scaled_)\n",
        "# clf2.score(X_test_scaled_,y_test)"
      ]
    },
    {
      "cell_type": "code",
      "execution_count": 27,
      "metadata": {
        "colab": {
          "base_uri": "https://localhost:8080/",
          "height": 265
        },
        "id": "ZTxiPboVRWlQ",
        "outputId": "cdd30db4-4a36-4a5e-8c99-edc70739df22"
      },
      "outputs": [
        {
          "data": {
            "image/png": "[encoded data removed]",
            "text/plain": [
              "<Figure size 432x288 with 2 Axes>"
            ]
          },
          "metadata": {
            "needs_background": "light"
          },
          "output_type": "display_data"
        }
      ],
      "source": [
        "cm = confusion_matrix(clf2.predict(X_test_scaled_), y_test)\n",
        "f = sns.heatmap(cm, annot=True, fmt='d')"
      ]
    },
    {
      "cell_type": "code",
      "execution_count": 28,
      "metadata": {
        "id": "qeiF4gbNjVAi"
      },
      "outputs": [],
      "source": [
        "from sklearn.model_selection import GridSearchCV"
      ]
    },
    {
      "cell_type": "code",
      "execution_count": 29,
      "metadata": {
        "id": "Gmb98gROx20R"
      },
      "outputs": [],
      "source": [
        "parameter_space = {\n",
        "    'hidden_layer_sizes': [(50,50,50), (50, 100, 50), (100,)],\n",
        "    'activation': ['relu'],\n",
        "    'solver': ['sgd', 'adam'],\n",
        "    'alpha': [0.0001, 0.005, 0.001],\n",
        "    'learning_rate': ['constant','adaptive'],\n",
        "}"
      ]
    },
    {
      "cell_type": "code",
      "execution_count": 30,
      "metadata": {
        "colab": {
          "base_uri": "https://localhost:8080/"
        },
        "id": "ls5EFTnWx38q",
        "outputId": "a1c3959b-4fd1-45ca-b565-ad7995809919"
      },
      "outputs": [
        {
          "data": {
            "text/plain": [
              "0.48704663212435234"
            ]
          },
          "execution_count": 30,
          "metadata": {},
          "output_type": "execute_result"
        }
      ],
      "source": [
        "clf2_tuned = GridSearchCV(MLPClassifier(random_state=42, max_iter=1000), parameter_space, n_jobs=-1, cv=5)\n",
        "clf2_tuned.fit(X_train_scaled_, y_train)\n",
        "clf2_tuned.score(X_test_scaled_, y_test)"
      ]
    },
    {
      "cell_type": "code",
      "execution_count": 31,
      "metadata": {
        "colab": {
          "base_uri": "https://localhost:8080/"
        },
        "id": "YdqqJQmnyDL-",
        "outputId": "76a24d62-a689-49d6-e689-cd96dee703aa"
      },
      "outputs": [
        {
          "data": {
            "text/plain": [
              "{'activation': 'relu',\n",
              " 'alpha': 0.0001,\n",
              " 'hidden_layer_sizes': (100,),\n",
              " 'learning_rate': 'constant',\n",
              " 'solver': 'sgd'}"
            ]
          },
          "execution_count": 31,
          "metadata": {},
          "output_type": "execute_result"
        }
      ],
      "source": [
        "clf2_tuned.best_params_"
      ]
    },
    {
      "cell_type": "code",
      "execution_count": 32,
      "metadata": {
        "colab": {
          "base_uri": "https://localhost:8080/",
          "height": 265
        },
        "id": "6izTsNR5vrdY",
        "outputId": "b176c5b7-7da4-41fe-e706-abee2f7d2bc0"
      },
      "outputs": [
        {
          "data": {
            "image/png": "[encoded data removed]",
            "text/plain": [
              "<Figure size 432x288 with 2 Axes>"
            ]
          },
          "metadata": {
            "needs_background": "light"
          },
          "output_type": "display_data"
        }
      ],
      "source": [
        "import seaborn as sns\n",
        "from sklearn.metrics import confusion_matrix\n",
        "y_pred = clf2_tuned.predict(X_test_scaled_)\n",
        "cm = confusion_matrix(y_pred, y_test)\n",
        "f = sns.heatmap(cm, annot=True, fmt='d')"
      ]
    },
    {
      "cell_type": "code",
      "execution_count": 33,
      "metadata": {
        "colab": {
          "base_uri": "https://localhost:8080/"
        },
        "id": "f8niu4B5v7g0",
        "outputId": "eb6c063e-0a72-457d-c333-a1f201fa13de"
      },
      "outputs": [
        {
          "name": "stdout",
          "output_type": "stream",
          "text": [
            "              precision    recall  f1-score   support\n",
            "\n",
            "           0       0.48      0.12      0.20       294\n",
            "           1       0.49      0.86      0.62       285\n",
            "\n",
            "    accuracy                           0.49       579\n",
            "   macro avg       0.48      0.49      0.41       579\n",
            "weighted avg       0.48      0.49      0.41       579\n",
            "\n"
          ]
        }
      ],
      "source": [
        "from sklearn.metrics import classification_report\n",
        "print(classification_report(y_test, y_pred))"
      ]
    },
    {
      "cell_type": "markdown",
      "metadata": {
        "id": "RPsTOBOvtne6"
      },
      "source": [
        "LSTM"
      ]
    },
    {
      "cell_type": "code",
      "execution_count": 34,
      "metadata": {
        "colab": {
          "base_uri": "https://localhost:8080/",
          "height": 661
        },
        "id": "INIddV-KvC9q",
        "outputId": "f3c5b46e-8006-4545-b1d4-de1b734ff149"
      },
      "outputs": [
        {
          "data": {
            "text/plain": [
              "Index(['date', 'btc_open', 'btc_high', 'btc_low', 'btc_close', 'btc_volume',\n",
              "       'btc_stochastic_oscillator', 'btc_momentum_indicator', 'btc_CCI',\n",
              "       'btc_obv', 'btc_ema', 'btc_trix', 'btc_macd', 'btc_vmap', 'btc_fi',\n",
              "       'btc_bb_bbhi', 'btc_bb_bbli', 'btc_cmf', 'btc_rsi', 'btc_mfi',\n",
              "       'btc_return', 'sp500_close', 'gold_close', 'ty5_close', 'ty10_close',\n",
              "       'ty30_close', 'btc_subjectivity', 'btc_label', 'btc_score', 'cpi',\n",
              "       'fed'],\n",
              "      dtype='object')"
            ]
          },
          "execution_count": 34,
          "metadata": {},
          "output_type": "execute_result"
        }
      ],
      "source": [
        "df.columns"
      ]
    },
    {
      "cell_type": "code",
      "execution_count": 35,
      "metadata": {
        "id": "7fOSlWEYTqxH"
      },
      "outputs": [],
      "source": [
        "# df_lstm = df.drop(['date', 'btc_return', 'ltc_return'], axis=1)\n",
        "# df_lstm = df.drop(['date', 'btc_return'], axis=1)\n",
        "df_lstm = df.drop(['date'], axis=1)\n",
        "# btc_idx = ltc_idx = 0\n",
        "btc_idx = btc_price_idx = 0\n",
        "for i in range(len(df_lstm.columns)):\n",
        "  if btc_idx and btc_price_idx:\n",
        "    break\n",
        "  if df_lstm.columns[i] == 'btc_return':\n",
        "    btc_idx = i\n",
        "  elif df_lstm.columns[i] == 'btc_close':\n",
        "    btc_price_idx = i\n",
        "  # elif df_lstm.columns[i] == 'ltc_close':\n",
        "  #   ltc_idx = i\n",
        "idx_order = [btc_idx, btc_price_idx] + [i for i in range(len(df_lstm.columns)) if i != btc_idx and i != btc_price_idx]\n",
        "df_lstm = df_lstm.iloc[:, idx_order]\n",
        "btc_test_price = list(df_lstm.iloc[:,1].to_list()[len(X_train)+21:])"
      ]
    },
    {
      "cell_type": "code",
      "execution_count": 36,
      "metadata": {
        "id": "OrdbEuJuWCts"
      },
      "outputs": [],
      "source": [
        "df_lstm_train = scaler.fit_transform(df_lstm[:len(X_train)])\n",
        "df_lstm_test = scaler.transform(df_lstm[len(X_train):])\n",
        "X_train_lstm = []\n",
        "y_train_lstm = []\n",
        "n_future = 1\n",
        "n_past = 21\n",
        "for i in range(n_past,len(X_train)):\n",
        "    X_train_lstm.append(df_lstm_train[i - n_past:i,:]) \n",
        "    y_train_lstm.append(df_lstm_train[i + n_future - 1:i + n_future, 0]) \n",
        "y_train_lstm = np.array(y_train_lstm)\n",
        "X_train_lstm = np.array(X_train_lstm)\n",
        "\n",
        "X_test_lstm = []\n",
        "y_test_lstm = []\n",
        "\n",
        "for i in range(n_past,len(X_test)-n_future+1):\n",
        "    X_test_lstm.append(df_lstm_test[i - n_past:i,:]) \n",
        "    y_test_lstm.append(df_lstm_test[i + n_future - 1:i + n_future, 0])\n",
        "y_test_lstm = np.array(y_test_lstm)\n",
        "X_test_lstm = np.array(X_test_lstm)"
      ]
    },
    {
      "cell_type": "code",
      "execution_count": 37,
      "metadata": {
        "colab": {
          "base_uri": "https://localhost:8080/"
        },
        "id": "YVsb5fXH-Lw1",
        "outputId": "d7f53a72-0ada-4af4-b2e4-cde2952dcfe7"
      },
      "outputs": [
        {
          "data": {
            "text/plain": [
              "(558, 21, 30)"
            ]
          },
          "execution_count": 37,
          "metadata": {},
          "output_type": "execute_result"
        }
      ],
      "source": [
        "X_test_lstm.shape"
      ]
    },
    {
      "cell_type": "code",
      "execution_count": 38,
      "metadata": {
        "colab": {
          "base_uri": "https://localhost:8080/"
        },
        "id": "y0kQcGj6jJL9",
        "outputId": "4201afb0-1b55-40f7-a5d6-2b2d90bf75a1"
      },
      "outputs": [
        {
          "data": {
            "text/plain": [
              "array([[0.],\n",
              "       [1.],\n",
              "       [1.],\n",
              "       ...,\n",
              "       [0.],\n",
              "       [1.],\n",
              "       [0.]])"
            ]
          },
          "execution_count": 38,
          "metadata": {},
          "output_type": "execute_result"
        }
      ],
      "source": [
        "y_train_lstm"
      ]
    },
    {
      "cell_type": "code",
      "execution_count": 39,
      "metadata": {
        "colab": {
          "base_uri": "https://localhost:8080/",
          "height": 1000
        },
        "id": "CeIujLZKX97T",
        "outputId": "2126d48d-9882-47c9-c887-4e0ddb6b197c"
      },
      "outputs": [
        {
          "name": "stdout",
          "output_type": "stream",
          "text": [
            "---------------------------------------------\n",
            "simulation number: 1/1 seed number: 5858\n",
            "Epoch 1/100\n",
            "36/36 [==============================] - 7s 38ms/step - loss: 0.6893 - binary_accuracy: 0.5488\n",
            "Epoch 2/100\n",
            "36/36 [==============================] - 1s 38ms/step - loss: 0.6870 - binary_accuracy: 0.5488\n",
            "Epoch 3/100\n",
            "36/36 [==============================] - 1s 40ms/step - loss: 0.6867 - binary_accuracy: 0.5488\n",
            "Epoch 4/100\n",
            "36/36 [==============================] - 1s 41ms/step - loss: 0.6882 - binary_accuracy: 0.5484\n",
            "Epoch 5/100\n",
            "36/36 [==============================] - 2s 42ms/step - loss: 0.6866 - binary_accuracy: 0.5488\n",
            "Epoch 6/100\n",
            "36/36 [==============================] - 1s 40ms/step - loss: 0.6866 - binary_accuracy: 0.5488\n",
            "Epoch 7/100\n",
            "36/36 [==============================] - 1s 42ms/step - loss: 0.6871 - binary_accuracy: 0.5488\n",
            "Epoch 8/100\n",
            "36/36 [==============================] - 2s 42ms/step - loss: 0.6868 - binary_accuracy: 0.5501\n",
            "Epoch 9/100\n",
            "36/36 [==============================] - 2s 43ms/step - loss: 0.6867 - binary_accuracy: 0.5480\n",
            "Epoch 10/100\n",
            "36/36 [==============================] - 1s 40ms/step - loss: 0.6857 - binary_accuracy: 0.5484\n",
            "Epoch 11/100\n",
            "36/36 [==============================] - 1s 41ms/step - loss: 0.6874 - binary_accuracy: 0.5440\n",
            "Epoch 12/100\n",
            "36/36 [==============================] - 2s 44ms/step - loss: 0.6854 - binary_accuracy: 0.5493\n",
            "Epoch 13/100\n",
            "36/36 [==============================] - 1s 41ms/step - loss: 0.6858 - binary_accuracy: 0.5475\n",
            "Epoch 14/100\n",
            "36/36 [==============================] - 1s 41ms/step - loss: 0.6853 - binary_accuracy: 0.5440\n",
            "Epoch 15/100\n",
            "36/36 [==============================] - 1s 40ms/step - loss: 0.6863 - binary_accuracy: 0.5453\n",
            "Epoch 16/100\n",
            "36/36 [==============================] - 2s 43ms/step - loss: 0.6847 - binary_accuracy: 0.5475\n",
            "Epoch 17/100\n",
            "36/36 [==============================] - 1s 40ms/step - loss: 0.6859 - binary_accuracy: 0.5484\n",
            "Epoch 18/100\n",
            "36/36 [==============================] - 1s 41ms/step - loss: 0.6857 - binary_accuracy: 0.5375\n",
            "Epoch 19/100\n",
            "36/36 [==============================] - 2s 42ms/step - loss: 0.6852 - binary_accuracy: 0.5453\n",
            "Epoch 20/100\n",
            "36/36 [==============================] - 1s 40ms/step - loss: 0.6851 - binary_accuracy: 0.5445\n",
            "Epoch 21/100\n",
            "36/36 [==============================] - 2s 42ms/step - loss: 0.6848 - binary_accuracy: 0.5449\n",
            "Epoch 22/100\n",
            "36/36 [==============================] - 2s 43ms/step - loss: 0.6847 - binary_accuracy: 0.5405\n",
            "Epoch 23/100\n",
            "36/36 [==============================] - 1s 39ms/step - loss: 0.6840 - binary_accuracy: 0.5475\n",
            "Epoch 24/100\n",
            "36/36 [==============================] - 1s 37ms/step - loss: 0.6848 - binary_accuracy: 0.5458\n",
            "Epoch 25/100\n",
            "36/36 [==============================] - 1s 41ms/step - loss: 0.6839 - binary_accuracy: 0.5510\n",
            "Epoch 26/100\n",
            "36/36 [==============================] - 1s 39ms/step - loss: 0.6837 - binary_accuracy: 0.5514\n",
            "Epoch 27/100\n",
            "36/36 [==============================] - 1s 38ms/step - loss: 0.6842 - binary_accuracy: 0.5449\n",
            "Epoch 28/100\n",
            "36/36 [==============================] - 1s 39ms/step - loss: 0.6841 - binary_accuracy: 0.5440\n",
            "Epoch 29/100\n",
            "36/36 [==============================] - 1s 40ms/step - loss: 0.6840 - binary_accuracy: 0.5501\n",
            "Epoch 30/100\n",
            "36/36 [==============================] - 1s 37ms/step - loss: 0.6837 - binary_accuracy: 0.5532\n",
            "Epoch 31/100\n",
            "36/36 [==============================] - 1s 41ms/step - loss: 0.6834 - binary_accuracy: 0.5514\n",
            "Epoch 32/100\n",
            "36/36 [==============================] - 2s 53ms/step - loss: 0.6845 - binary_accuracy: 0.5497\n",
            "Epoch 33/100\n",
            "36/36 [==============================] - 2s 45ms/step - loss: 0.6833 - binary_accuracy: 0.5519\n",
            "Epoch 34/100\n",
            "36/36 [==============================] - 2s 43ms/step - loss: 0.6826 - binary_accuracy: 0.5575\n",
            "Epoch 35/100\n",
            "36/36 [==============================] - 1s 42ms/step - loss: 0.6828 - binary_accuracy: 0.5497\n",
            "Epoch 36/100\n",
            "36/36 [==============================] - 1s 40ms/step - loss: 0.6816 - binary_accuracy: 0.5571\n",
            "Epoch 37/100\n",
            "36/36 [==============================] - 1s 40ms/step - loss: 0.6821 - binary_accuracy: 0.5523\n",
            "Epoch 38/100\n",
            "36/36 [==============================] - 1s 40ms/step - loss: 0.6836 - binary_accuracy: 0.5514\n",
            "Epoch 39/100\n",
            "36/36 [==============================] - 1s 39ms/step - loss: 0.6821 - binary_accuracy: 0.5567\n",
            "Epoch 40/100\n",
            "36/36 [==============================] - 2s 43ms/step - loss: 0.6812 - binary_accuracy: 0.5510\n",
            "Epoch 41/100\n",
            "36/36 [==============================] - 2s 43ms/step - loss: 0.6804 - binary_accuracy: 0.5628\n",
            "Epoch 42/100\n",
            "36/36 [==============================] - 1s 40ms/step - loss: 0.6820 - binary_accuracy: 0.5619\n",
            "Epoch 43/100\n",
            "36/36 [==============================] - 1s 40ms/step - loss: 0.6814 - binary_accuracy: 0.5527\n",
            "Epoch 44/100\n",
            "36/36 [==============================] - 2s 42ms/step - loss: 0.6817 - binary_accuracy: 0.5606\n",
            "Epoch 45/100\n",
            "36/36 [==============================] - 1s 39ms/step - loss: 0.6808 - binary_accuracy: 0.5632\n",
            "Epoch 46/100\n",
            "36/36 [==============================] - 1s 39ms/step - loss: 0.6817 - binary_accuracy: 0.5506\n",
            "Epoch 47/100\n",
            "36/36 [==============================] - 1s 42ms/step - loss: 0.6815 - binary_accuracy: 0.5684\n",
            "Epoch 48/100\n",
            "36/36 [==============================] - 1s 39ms/step - loss: 0.6795 - binary_accuracy: 0.5588\n",
            "Epoch 49/100\n",
            "36/36 [==============================] - 1s 37ms/step - loss: 0.6778 - binary_accuracy: 0.5689\n",
            "Epoch 50/100\n",
            "36/36 [==============================] - 1s 39ms/step - loss: 0.6809 - binary_accuracy: 0.5650\n",
            "Epoch 51/100\n",
            "36/36 [==============================] - 2s 43ms/step - loss: 0.6795 - binary_accuracy: 0.5693\n",
            "Epoch 52/100\n",
            "36/36 [==============================] - 1s 40ms/step - loss: 0.6815 - binary_accuracy: 0.5632\n",
            "Epoch 53/100\n",
            "36/36 [==============================] - 1s 40ms/step - loss: 0.6798 - binary_accuracy: 0.5606\n",
            "Epoch 54/100\n",
            "36/36 [==============================] - 2s 44ms/step - loss: 0.6802 - binary_accuracy: 0.5575\n",
            "Epoch 55/100\n",
            "36/36 [==============================] - 1s 40ms/step - loss: 0.6788 - binary_accuracy: 0.5628\n",
            "Epoch 56/100\n",
            "36/36 [==============================] - 1s 40ms/step - loss: 0.6774 - binary_accuracy: 0.5671\n",
            "Epoch 57/100\n",
            "36/36 [==============================] - 2s 44ms/step - loss: 0.6788 - binary_accuracy: 0.5759\n",
            "Epoch 58/100\n",
            "36/36 [==============================] - 1s 39ms/step - loss: 0.6768 - binary_accuracy: 0.5702\n",
            "Epoch 59/100\n",
            "36/36 [==============================] - 1s 37ms/step - loss: 0.6784 - binary_accuracy: 0.5523\n",
            "Epoch 60/100\n",
            "36/36 [==============================] - 1s 38ms/step - loss: 0.6787 - binary_accuracy: 0.5680\n",
            "Epoch 61/100\n",
            "36/36 [==============================] - 2s 43ms/step - loss: 0.6779 - binary_accuracy: 0.5732\n",
            "Epoch 62/100\n",
            "36/36 [==============================] - 2s 43ms/step - loss: 0.6780 - binary_accuracy: 0.5767\n",
            "Epoch 63/100\n",
            "36/36 [==============================] - 1s 40ms/step - loss: 0.6764 - binary_accuracy: 0.5767\n",
            "Epoch 64/100\n",
            "36/36 [==============================] - 2s 44ms/step - loss: 0.6749 - binary_accuracy: 0.5785\n",
            "Epoch 65/100\n",
            "36/36 [==============================] - 1s 39ms/step - loss: 0.6787 - binary_accuracy: 0.5623\n",
            "Epoch 66/100\n",
            "36/36 [==============================] - 1s 40ms/step - loss: 0.6778 - binary_accuracy: 0.5680\n",
            "Epoch 67/100\n",
            "36/36 [==============================] - 2s 43ms/step - loss: 0.6756 - binary_accuracy: 0.5820\n",
            "Epoch 68/100\n",
            "36/36 [==============================] - 1s 40ms/step - loss: 0.6755 - binary_accuracy: 0.5754\n",
            "Epoch 69/100\n",
            "36/36 [==============================] - 1s 40ms/step - loss: 0.6755 - binary_accuracy: 0.5824\n",
            "Epoch 70/100\n",
            "36/36 [==============================] - 2s 44ms/step - loss: 0.6760 - binary_accuracy: 0.5671\n",
            "Epoch 71/100\n",
            "36/36 [==============================] - 1s 41ms/step - loss: 0.6732 - binary_accuracy: 0.5815\n",
            "Epoch 72/100\n",
            "36/36 [==============================] - 1s 41ms/step - loss: 0.6754 - binary_accuracy: 0.5745\n",
            "Epoch 73/100\n",
            "36/36 [==============================] - 1s 40ms/step - loss: 0.6738 - binary_accuracy: 0.5767\n",
            "Epoch 74/100\n",
            "36/36 [==============================] - 2s 43ms/step - loss: 0.6756 - binary_accuracy: 0.5719\n",
            "Epoch 75/100\n",
            "36/36 [==============================] - 1s 41ms/step - loss: 0.6742 - binary_accuracy: 0.5750\n",
            "Epoch 76/100\n",
            "36/36 [==============================] - 1s 40ms/step - loss: 0.6717 - binary_accuracy: 0.5745\n",
            "Epoch 77/100\n",
            "36/36 [==============================] - 2s 39ms/step - loss: 0.6710 - binary_accuracy: 0.5806\n",
            "Epoch 78/100\n",
            "36/36 [==============================] - 1s 40ms/step - loss: 0.6712 - binary_accuracy: 0.5859\n",
            "Epoch 79/100\n",
            "36/36 [==============================] - 1s 40ms/step - loss: 0.6694 - binary_accuracy: 0.5889\n",
            "Epoch 80/100\n",
            "36/36 [==============================] - 2s 42ms/step - loss: 0.6708 - binary_accuracy: 0.5802\n",
            "Epoch 81/100\n",
            "36/36 [==============================] - 1s 41ms/step - loss: 0.6661 - binary_accuracy: 0.5950\n",
            "Epoch 82/100\n",
            "36/36 [==============================] - 1s 40ms/step - loss: 0.6702 - binary_accuracy: 0.5828\n",
            "Epoch 83/100\n",
            "36/36 [==============================] - 2s 43ms/step - loss: 0.6695 - binary_accuracy: 0.5881\n",
            "Epoch 84/100\n",
            "36/36 [==============================] - 1s 40ms/step - loss: 0.6697 - binary_accuracy: 0.5793\n",
            "Epoch 85/100\n",
            "36/36 [==============================] - 1s 39ms/step - loss: 0.6656 - binary_accuracy: 0.5959\n",
            "Epoch 86/100\n",
            "36/36 [==============================] - 1s 41ms/step - loss: 0.6679 - binary_accuracy: 0.5828\n",
            "Epoch 87/100\n",
            "36/36 [==============================] - 1s 40ms/step - loss: 0.6662 - binary_accuracy: 0.5994\n",
            "Epoch 88/100\n",
            "36/36 [==============================] - 1s 40ms/step - loss: 0.6610 - binary_accuracy: 0.5924\n",
            "Epoch 89/100\n",
            "36/36 [==============================] - 2s 42ms/step - loss: 0.6661 - binary_accuracy: 0.6033\n",
            "Epoch 90/100\n",
            "36/36 [==============================] - 1s 40ms/step - loss: 0.6653 - binary_accuracy: 0.5802\n",
            "Epoch 91/100\n",
            "36/36 [==============================] - 1s 39ms/step - loss: 0.6631 - binary_accuracy: 0.5968\n",
            "Epoch 92/100\n",
            "36/36 [==============================] - 2s 42ms/step - loss: 0.6649 - binary_accuracy: 0.5942\n",
            "Epoch 93/100\n",
            "36/36 [==============================] - 1s 39ms/step - loss: 0.6613 - binary_accuracy: 0.5994\n",
            "Epoch 94/100\n",
            "36/36 [==============================] - 1s 38ms/step - loss: 0.6625 - binary_accuracy: 0.5894\n",
            "Epoch 95/100\n",
            "36/36 [==============================] - 1s 39ms/step - loss: 0.6625 - binary_accuracy: 0.5937\n",
            "Epoch 96/100\n",
            "36/36 [==============================] - 1s 37ms/step - loss: 0.6647 - binary_accuracy: 0.6020\n",
            "Epoch 97/100\n",
            "36/36 [==============================] - 1s 39ms/step - loss: 0.6666 - binary_accuracy: 0.5881\n",
            "Epoch 98/100\n",
            "36/36 [==============================] - 1s 41ms/step - loss: 0.6643 - binary_accuracy: 0.6020\n",
            "Epoch 99/100\n",
            "36/36 [==============================] - 1s 39ms/step - loss: 0.6597 - binary_accuracy: 0.5920\n",
            "Epoch 100/100\n",
            "36/36 [==============================] - 1s 37ms/step - loss: 0.6607 - binary_accuracy: 0.5876\n",
            "18/18 [==============================] - 1s 10ms/step\n",
            "              precision    recall  f1-score   support\n",
            "\n",
            "         0.0       0.56      0.39      0.46       285\n",
            "         1.0       0.52      0.67      0.58       273\n",
            "\n",
            "    accuracy                           0.53       558\n",
            "   macro avg       0.54      0.53      0.52       558\n",
            "weighted avg       0.54      0.53      0.52       558\n",
            "\n",
            "Counter({1: 357, 0: 201})\n",
            "[0.5304659498207885]\n",
            "0.5304659498207885\n"
          ]
        },
        {
          "data": {
            "image/png": "[encoded data removed]",
            "text/plain": [
              "<Figure size 432x288 with 2 Axes>"
            ]
          },
          "metadata": {
            "needs_background": "light"
          },
          "output_type": "display_data"
        }
      ],
      "source": [
        "import tensorflow\n",
        "from tensorflow.keras import Sequential\n",
        "from tensorflow.keras.layers import LSTM, Dense, Dropout, BatchNormalization\n",
        "from tensorflow.keras.models import Model\n",
        "from tensorflow.keras.optimizers import Adam\n",
        "from keras import optimizers\n",
        "from tensorflow import keras\n",
        "import matplotlib.pyplot as plt\n",
        "from sklearn.metrics import classification_report\n",
        "import seaborn as sns\n",
        "from sklearn.metrics import confusion_matrix\n",
        "from collections import Counter\n",
        "\n",
        "#relu: 8527 \n",
        "#relu w batchnormalization: 3691 \n",
        "#tanh w: 6747\n",
        "#PReLU w: 6528 3235 8146\n",
        "#gelu w: 9934 1806\n",
        "#gelu: 1467 934 8786 1957 4790 6675\n",
        "#selu: 7224\n",
        "\n",
        "def simulation(seed_num):\n",
        "  def create_LSTM(lookback, feature_dim, seed_num):\n",
        "      tensorflow.random.set_seed(seed_num)\n",
        "      model = keras.Sequential()\n",
        "      model.add(LSTM(64, activation='gelu', input_shape = (lookback, feature_dim), return_sequences=True))\n",
        "      model.add(Dropout(0.2))\n",
        "      #model.add(BatchNormalization())\n",
        "      model.add(LSTM(32, activation='gelu'))\n",
        "      model.add(Dropout(0.2))\n",
        "      #model.add(BatchNormalization())\n",
        "      model.add(Dense(1, activation=\"sigmoid\"))\n",
        "      model.compile(loss=\"binary_crossentropy\"\n",
        "                    ,metrics=[keras.metrics.binary_accuracy]\n",
        "                    ,optimizer=\"adam\")\n",
        "      return model\n",
        "\n",
        "  # path_checkpoint = \"model_checkpoint.h1\"\n",
        "  #es_callback = keras.callbacks.EarlyStopping(monitor=\"val_loss\", patience=15)\n",
        "\n",
        "  # modelckpt_callback = keras.callbacks.ModelCheckpoint(\n",
        "  #     monitor=\"val_loss\",\n",
        "  #     filepath=path_checkpoint,\n",
        "  #     verbose=1,\n",
        "  #     save_weights_only=True,\n",
        "  #     save_best_only=True,\n",
        "  # )\n",
        "\n",
        "  LSTM_model = create_LSTM(X_train_lstm.shape[1], X_train_lstm.shape[2], seed_num)\n",
        "  LSTM_model.fit(X_train_lstm, y_train_lstm, epochs=100, batch_size=64)\n",
        "  LSTM_pred = LSTM_model.predict(X_test_lstm)\n",
        "  LSTM_pred = np.where(LSTM_pred > 0.5, 1, 0)\n",
        "  test_sample.append(LSTM_pred)\n",
        "  #print(LSTM_pred)\n",
        "  # LSTM_pred = LSTM_pred.reshape(LSTM_pred.shape[0], LSTM_pred.shape[1])\n",
        "  # inv_yhat = np.concatenate((LSTM_pred, df_lstm[len(X_train):].iloc[n_past:, 1:]), axis=1)\n",
        "  # inv_yhat = scaler.inverse_transform(inv_yhat)\n",
        "  # inv_yhat = inv_yhat[:,0]\n",
        "  # inv_y = df_lstm[len(X_train):].iloc[n_past:, 0].to_list()\n",
        "\n",
        "  # plt.plot(inv_y)\n",
        "  # plt.plot(inv_yhat);\n",
        "\n",
        "  # actual_return = []\n",
        "  # pred_return = []\n",
        "  # for i in range(len(inv_y)-1):\n",
        "  #     if inv_y[i+1] > inv_y[i]:\n",
        "  #       actual_return.append(1)\n",
        "  #     else:\n",
        "  #       actual_return.append(0)\n",
        "  #     if inv_yhat[i+1] > inv_yhat[i]:\n",
        "  #       pred_return.append(1)\n",
        "  #     else:\n",
        "  #       pred_return.append(0)\n",
        "\n",
        "  cm = confusion_matrix(y_test_lstm, LSTM_pred)\n",
        "  f = sns.heatmap(cm, annot=True, fmt='d')\n",
        "  print(classification_report(y_test_lstm, LSTM_pred))\n",
        "  print(Counter(LSTM_pred.flatten()))\n",
        "  sim_results.append(classification_report(y_test_lstm, LSTM_pred, output_dict=True)['accuracy'])\n",
        "\n",
        "\n",
        "sim_arr = np.random.choice([i for i in range(10000)], 1, replace=False)\n",
        "sim_results = []\n",
        "test_sample = []\n",
        "for i in range(len(sim_arr)):\n",
        "  print(\"---------------------------------------------\")\n",
        "  print(\"simulation number: \" + str(i+1) + \"/\" + str(len(sim_arr)) + \" seed number: \"+str(sim_arr[i]))\n",
        "  simulation(sim_arr[i])\n",
        "print(sim_results)\n",
        "print(np.mean(sim_results))"
      ]
    },
    {
      "cell_type": "code",
      "execution_count": 40,
      "metadata": {
        "colab": {
          "base_uri": "https://localhost:8080/"
        },
        "id": "PiYb5Acwn4O8",
        "outputId": "e034f73c-5ca7-40cb-a2d3-fd659fcf3cfa"
      },
      "outputs": [
        {
          "name": "stdout",
          "output_type": "stream",
          "text": [
            "Search space summary\n",
            "Default search space size: 2\n",
            "units (Int)\n",
            "{'default': None, 'conditions': [], 'min_value': 32, 'max_value': 128, 'step': 32, 'sampling': None}\n",
            "learning_rate (Choice)\n",
            "{'default': 0.005, 'conditions': [], 'values': [0.005, 0.001, 0.0001, 1e-05], 'ordered': True}\n"
          ]
        }
      ],
      "source": [
        "from tensorflow.keras.layers import Input\n",
        "#934 333\n",
        "class MyHyperModel(kt.HyperModel):\n",
        "  def build(self, hp):\n",
        "      tensorflow.random.set_seed(42)\n",
        "      model = Sequential()\n",
        "      model.add(Input(shape=(X_train_lstm.shape[1], X_train_lstm.shape[2])))\n",
        "      hp_units = hp.Int('units', min_value=32, max_value=128, step=32)\n",
        "      model.add(LSTM(units=hp_units, activation='gelu', return_sequences=True))\n",
        "      model.add(Dropout(0.2))\n",
        "      # model.add(LSTM(units=hp_units, activation='relu', return_sequences=True))\n",
        "      # model.add(Dropout(0.2))\n",
        "      model.add(LSTM(units=hp_units, activation='gelu'))\n",
        "      model.add(Dropout(0.2))\n",
        "      model.add(Dense(1, activation = 'sigmoid'))\n",
        "      # Tune the Learning rate for the optimizer\n",
        "      # Choose an optimal value \n",
        "      hp_learning_rate = hp.Choice('learning_rate', values=[0.005, 1e-3, 1e-4, 1e-5])\n",
        "      model.compile(optimizer = Adam(learning_rate=hp_learning_rate),\n",
        "                    loss = 'binary_crossentropy',\n",
        "                    metrics = [keras.metrics.binary_accuracy])\n",
        "      return model\n",
        "\n",
        "  def fit(self, hp, model, *args, **kwargs):\n",
        "        return model.fit(\n",
        "            *args,\n",
        "            batch_size=hp.Choice(\"batch_size\", [16, 32]),\n",
        "            **kwargs,\n",
        "        )\n",
        "\n",
        "tuner = kt.Hyperband(MyHyperModel(), # the hypermodel\n",
        "                     objective='loss', # objective to optimize\n",
        "                     max_epochs=100,\n",
        "                     directory='dir', # directory to save Logs\n",
        "                     project_name= 'khyperband')\n",
        "tuner.search_space_summary()"
      ]
    },
    {
      "cell_type": "code",
      "execution_count": 41,
      "metadata": {
        "id": "9mBwAt78B99i"
      },
      "outputs": [
        {
          "name": "stdout",
          "output_type": "stream",
          "text": [
            "Trial 30 Complete [00h 00m 16s]\n",
            "loss: 0.6891278624534607\n",
            "\n",
            "Best loss So Far: 0.6882159113883972\n",
            "Total elapsed time: 00h 07m 15s\n",
            "INFO:tensorflow:Oracle triggered exit\n"
          ]
        }
      ],
      "source": [
        "tuner.search(X_train_lstm, y_train_lstm, epochs=100)"
      ]
    },
    {
      "cell_type": "code",
      "execution_count": 42,
      "metadata": {
        "colab": {
          "base_uri": "https://localhost:8080/"
        },
        "id": "a_G7Jops6vTL",
        "outputId": "a5f01770-b21d-4367-aec8-9f7688752bf5"
      },
      "outputs": [
        {
          "name": "stdout",
          "output_type": "stream",
          "text": [
            "Model: \"sequential_1\"\n",
            "_________________________________________________________________\n",
            " Layer (type)                Output Shape              Param #   \n",
            "=================================================================\n",
            " lstm_2 (LSTM)               (None, 21, 32)            8064      \n",
            "                                                                 \n",
            " dropout_2 (Dropout)         (None, 21, 32)            0         \n",
            "                                                                 \n",
            " lstm_3 (LSTM)               (None, 32)                8320      \n",
            "                                                                 \n",
            " dropout_3 (Dropout)         (None, 32)                0         \n",
            "                                                                 \n",
            " dense_1 (Dense)             (None, 1)                 33        \n",
            "                                                                 \n",
            "=================================================================\n",
            "Total params: 16417 (64.13 KB)\n",
            "Trainable params: 16417 (64.13 KB)\n",
            "Non-trainable params: 0 (0.00 Byte)\n",
            "_________________________________________________________________\n"
          ]
        }
      ],
      "source": [
        "best_hps=tuner.get_best_hyperparameters()[0]\n",
        "h_model = tuner.hypermodel.build(best_hps)\n",
        "h_model.summary()"
      ]
    },
    {
      "cell_type": "code",
      "execution_count": 43,
      "metadata": {
        "colab": {
          "base_uri": "https://localhost:8080/"
        },
        "id": "7DAqRHFq6vV9",
        "outputId": "c9331b8d-043d-4f9f-f91a-7b472eaf6673"
      },
      "outputs": [
        {
          "name": "stdout",
          "output_type": "stream",
          "text": [
            "Epoch 1/100\n",
            "72/72 [==============================] - 8s 27ms/step - loss: 0.6905 - binary_accuracy: 0.5480\n",
            "Epoch 2/100\n",
            "72/72 [==============================] - 2s 30ms/step - loss: 0.6885 - binary_accuracy: 0.5488\n",
            "Epoch 3/100\n",
            "72/72 [==============================] - 2s 33ms/step - loss: 0.6872 - binary_accuracy: 0.5488\n",
            "Epoch 4/100\n",
            "72/72 [==============================] - 2s 33ms/step - loss: 0.6874 - binary_accuracy: 0.5488\n",
            "Epoch 5/100\n",
            "72/72 [==============================] - 2s 32ms/step - loss: 0.6870 - binary_accuracy: 0.5493\n",
            "Epoch 6/100\n",
            "72/72 [==============================] - 2s 32ms/step - loss: 0.6884 - binary_accuracy: 0.5506\n",
            "Epoch 7/100\n",
            "72/72 [==============================] - 2s 33ms/step - loss: 0.6862 - binary_accuracy: 0.5493\n",
            "Epoch 8/100\n",
            "72/72 [==============================] - 2s 32ms/step - loss: 0.6866 - binary_accuracy: 0.5484\n",
            "Epoch 9/100\n",
            "72/72 [==============================] - 3s 37ms/step - loss: 0.6867 - binary_accuracy: 0.5436\n",
            "Epoch 10/100\n",
            "72/72 [==============================] - 2s 34ms/step - loss: 0.6858 - binary_accuracy: 0.5453\n",
            "Epoch 11/100\n",
            "72/72 [==============================] - 2s 32ms/step - loss: 0.6867 - binary_accuracy: 0.5471\n",
            "Epoch 12/100\n",
            "72/72 [==============================] - 2s 33ms/step - loss: 0.6850 - binary_accuracy: 0.5462\n",
            "Epoch 13/100\n",
            "72/72 [==============================] - 2s 34ms/step - loss: 0.6849 - binary_accuracy: 0.5440\n",
            "Epoch 14/100\n",
            "72/72 [==============================] - 2s 32ms/step - loss: 0.6855 - binary_accuracy: 0.5480\n",
            "Epoch 15/100\n",
            "72/72 [==============================] - 2s 34ms/step - loss: 0.6865 - binary_accuracy: 0.5445\n",
            "Epoch 16/100\n",
            "72/72 [==============================] - 2s 34ms/step - loss: 0.6848 - binary_accuracy: 0.5466\n",
            "Epoch 17/100\n",
            "72/72 [==============================] - 3s 36ms/step - loss: 0.6850 - binary_accuracy: 0.5466\n",
            "Epoch 18/100\n",
            "72/72 [==============================] - 3s 35ms/step - loss: 0.6849 - binary_accuracy: 0.5388\n",
            "Epoch 19/100\n",
            "72/72 [==============================] - 2s 34ms/step - loss: 0.6845 - binary_accuracy: 0.5484\n",
            "Epoch 20/100\n",
            "72/72 [==============================] - 2s 34ms/step - loss: 0.6845 - binary_accuracy: 0.5541\n",
            "Epoch 21/100\n",
            "72/72 [==============================] - 2s 34ms/step - loss: 0.6846 - binary_accuracy: 0.5423\n",
            "Epoch 22/100\n",
            "72/72 [==============================] - 3s 35ms/step - loss: 0.6853 - binary_accuracy: 0.5440\n",
            "Epoch 23/100\n",
            "72/72 [==============================] - 3s 37ms/step - loss: 0.6836 - binary_accuracy: 0.5497\n",
            "Epoch 24/100\n",
            "72/72 [==============================] - 2s 34ms/step - loss: 0.6849 - binary_accuracy: 0.5423\n",
            "Epoch 25/100\n",
            "72/72 [==============================] - 2s 32ms/step - loss: 0.6841 - binary_accuracy: 0.5480\n",
            "Epoch 26/100\n",
            "72/72 [==============================] - 2s 34ms/step - loss: 0.6837 - binary_accuracy: 0.5493\n",
            "Epoch 27/100\n",
            "72/72 [==============================] - 2s 32ms/step - loss: 0.6834 - binary_accuracy: 0.5497\n",
            "Epoch 28/100\n",
            "72/72 [==============================] - 3s 36ms/step - loss: 0.6837 - binary_accuracy: 0.5510\n",
            "Epoch 29/100\n",
            "72/72 [==============================] - 2s 32ms/step - loss: 0.6831 - binary_accuracy: 0.5493\n",
            "Epoch 30/100\n",
            "72/72 [==============================] - 2s 32ms/step - loss: 0.6814 - binary_accuracy: 0.5571\n",
            "Epoch 31/100\n",
            "72/72 [==============================] - 3s 35ms/step - loss: 0.6827 - binary_accuracy: 0.5562\n",
            "Epoch 32/100\n",
            "72/72 [==============================] - 3s 36ms/step - loss: 0.6830 - binary_accuracy: 0.5523\n",
            "Epoch 33/100\n",
            "72/72 [==============================] - 3s 40ms/step - loss: 0.6821 - binary_accuracy: 0.5523\n",
            "Epoch 34/100\n",
            "72/72 [==============================] - 3s 36ms/step - loss: 0.6819 - binary_accuracy: 0.5475\n",
            "Epoch 35/100\n",
            "72/72 [==============================] - 2s 33ms/step - loss: 0.6833 - binary_accuracy: 0.5567\n",
            "Epoch 36/100\n",
            "72/72 [==============================] - 2s 33ms/step - loss: 0.6826 - binary_accuracy: 0.5580\n",
            "Epoch 37/100\n",
            "72/72 [==============================] - 3s 42ms/step - loss: 0.6817 - binary_accuracy: 0.5580\n",
            "Epoch 38/100\n",
            "72/72 [==============================] - 2s 34ms/step - loss: 0.6822 - binary_accuracy: 0.5636\n",
            "Epoch 39/100\n",
            "72/72 [==============================] - 3s 36ms/step - loss: 0.6810 - binary_accuracy: 0.5715\n",
            "Epoch 40/100\n",
            "72/72 [==============================] - 2s 35ms/step - loss: 0.6814 - binary_accuracy: 0.5619\n",
            "Epoch 41/100\n",
            "72/72 [==============================] - 2s 34ms/step - loss: 0.6805 - binary_accuracy: 0.5636\n",
            "Epoch 42/100\n",
            "72/72 [==============================] - 2s 34ms/step - loss: 0.6822 - binary_accuracy: 0.5632\n",
            "Epoch 43/100\n",
            "72/72 [==============================] - 2s 33ms/step - loss: 0.6810 - binary_accuracy: 0.5732\n",
            "Epoch 44/100\n",
            "72/72 [==============================] - 2s 33ms/step - loss: 0.6792 - binary_accuracy: 0.5571\n",
            "Epoch 45/100\n",
            "72/72 [==============================] - 2s 33ms/step - loss: 0.6792 - binary_accuracy: 0.5759\n",
            "Epoch 46/100\n",
            "72/72 [==============================] - 3s 37ms/step - loss: 0.6771 - binary_accuracy: 0.5732\n",
            "Epoch 47/100\n",
            "72/72 [==============================] - 3s 44ms/step - loss: 0.6794 - binary_accuracy: 0.5667\n",
            "Epoch 48/100\n",
            "72/72 [==============================] - 3s 37ms/step - loss: 0.6789 - binary_accuracy: 0.5645\n",
            "Epoch 49/100\n",
            "72/72 [==============================] - 3s 44ms/step - loss: 0.6779 - binary_accuracy: 0.5789\n",
            "Epoch 50/100\n",
            "72/72 [==============================] - 3s 43ms/step - loss: 0.6782 - binary_accuracy: 0.5684\n",
            "Epoch 51/100\n",
            "72/72 [==============================] - 3s 36ms/step - loss: 0.6786 - binary_accuracy: 0.5732\n",
            "Epoch 52/100\n",
            "72/72 [==============================] - 3s 39ms/step - loss: 0.6792 - binary_accuracy: 0.5689\n",
            "Epoch 53/100\n",
            "72/72 [==============================] - 2s 35ms/step - loss: 0.6774 - binary_accuracy: 0.5619\n",
            "Epoch 54/100\n",
            "72/72 [==============================] - 2s 34ms/step - loss: 0.6771 - binary_accuracy: 0.5724\n",
            "Epoch 55/100\n",
            "72/72 [==============================] - 3s 36ms/step - loss: 0.6769 - binary_accuracy: 0.5815\n",
            "Epoch 56/100\n",
            "72/72 [==============================] - 2s 30ms/step - loss: 0.6773 - binary_accuracy: 0.5663\n",
            "Epoch 57/100\n",
            "72/72 [==============================] - 2s 32ms/step - loss: 0.6778 - binary_accuracy: 0.5728\n",
            "Epoch 58/100\n",
            "72/72 [==============================] - 2s 30ms/step - loss: 0.6761 - binary_accuracy: 0.5763\n",
            "Epoch 59/100\n",
            "72/72 [==============================] - 2s 34ms/step - loss: 0.6782 - binary_accuracy: 0.5702\n",
            "Epoch 60/100\n",
            "72/72 [==============================] - 2s 33ms/step - loss: 0.6727 - binary_accuracy: 0.5811\n",
            "Epoch 61/100\n",
            "72/72 [==============================] - 3s 45ms/step - loss: 0.6782 - binary_accuracy: 0.5689\n",
            "Epoch 62/100\n",
            "72/72 [==============================] - 3s 42ms/step - loss: 0.6770 - binary_accuracy: 0.5824\n",
            "Epoch 63/100\n",
            "72/72 [==============================] - 3s 35ms/step - loss: 0.6755 - binary_accuracy: 0.5889\n",
            "Epoch 64/100\n",
            "72/72 [==============================] - 3s 38ms/step - loss: 0.6717 - binary_accuracy: 0.5820\n",
            "Epoch 65/100\n",
            "72/72 [==============================] - 3s 43ms/step - loss: 0.6747 - binary_accuracy: 0.5789\n",
            "Epoch 66/100\n",
            "72/72 [==============================] - 4s 50ms/step - loss: 0.6747 - binary_accuracy: 0.5789\n",
            "Epoch 67/100\n",
            "72/72 [==============================] - 3s 43ms/step - loss: 0.6731 - binary_accuracy: 0.5850\n",
            "Epoch 68/100\n",
            "72/72 [==============================] - 3s 40ms/step - loss: 0.6726 - binary_accuracy: 0.5820\n",
            "Epoch 69/100\n",
            "72/72 [==============================] - 3s 48ms/step - loss: 0.6724 - binary_accuracy: 0.5785\n",
            "Epoch 70/100\n",
            "72/72 [==============================] - 3s 36ms/step - loss: 0.6729 - binary_accuracy: 0.5724\n",
            "Epoch 71/100\n",
            "72/72 [==============================] - 3s 38ms/step - loss: 0.6705 - binary_accuracy: 0.5894\n",
            "Epoch 72/100\n",
            "72/72 [==============================] - 3s 36ms/step - loss: 0.6698 - binary_accuracy: 0.5898\n",
            "Epoch 73/100\n",
            "72/72 [==============================] - 3s 39ms/step - loss: 0.6682 - binary_accuracy: 0.5837\n",
            "Epoch 74/100\n",
            "72/72 [==============================] - 3s 38ms/step - loss: 0.6670 - binary_accuracy: 0.5990\n",
            "Epoch 75/100\n",
            "72/72 [==============================] - 3s 38ms/step - loss: 0.6776 - binary_accuracy: 0.5711\n",
            "Epoch 76/100\n",
            "72/72 [==============================] - 2s 34ms/step - loss: 0.6685 - binary_accuracy: 0.5833\n",
            "Epoch 77/100\n",
            "72/72 [==============================] - 3s 39ms/step - loss: 0.6698 - binary_accuracy: 0.5837\n",
            "Epoch 78/100\n",
            "72/72 [==============================] - 3s 36ms/step - loss: 0.6689 - binary_accuracy: 0.5902\n",
            "Epoch 79/100\n",
            "72/72 [==============================] - 3s 37ms/step - loss: 0.6685 - binary_accuracy: 0.5902\n",
            "Epoch 80/100\n",
            "72/72 [==============================] - 3s 36ms/step - loss: 0.6694 - binary_accuracy: 0.5789\n",
            "Epoch 81/100\n",
            "72/72 [==============================] - 3s 37ms/step - loss: 0.6692 - binary_accuracy: 0.5894\n",
            "Epoch 82/100\n",
            "72/72 [==============================] - 3s 37ms/step - loss: 0.6671 - binary_accuracy: 0.5846\n",
            "Epoch 83/100\n",
            "72/72 [==============================] - 3s 38ms/step - loss: 0.6645 - binary_accuracy: 0.5915\n",
            "Epoch 84/100\n",
            "72/72 [==============================] - 3s 35ms/step - loss: 0.6659 - binary_accuracy: 0.5911\n",
            "Epoch 85/100\n",
            "72/72 [==============================] - 3s 37ms/step - loss: 0.6686 - binary_accuracy: 0.5815\n",
            "Epoch 86/100\n",
            "72/72 [==============================] - 3s 40ms/step - loss: 0.6625 - binary_accuracy: 0.5920\n",
            "Epoch 87/100\n",
            "72/72 [==============================] - 3s 39ms/step - loss: 0.6643 - binary_accuracy: 0.5959\n",
            "Epoch 88/100\n",
            "72/72 [==============================] - 3s 40ms/step - loss: 0.6617 - binary_accuracy: 0.5963\n",
            "Epoch 89/100\n",
            "72/72 [==============================] - 3s 38ms/step - loss: 0.6596 - binary_accuracy: 0.5929\n",
            "Epoch 90/100\n",
            "72/72 [==============================] - 3s 40ms/step - loss: 0.6584 - binary_accuracy: 0.5990\n",
            "Epoch 91/100\n",
            "72/72 [==============================] - 3s 35ms/step - loss: 0.6571 - binary_accuracy: 0.6011\n",
            "Epoch 92/100\n",
            "72/72 [==============================] - 3s 41ms/step - loss: 0.6588 - binary_accuracy: 0.5863\n",
            "Epoch 93/100\n",
            "72/72 [==============================] - 3s 42ms/step - loss: 0.6593 - binary_accuracy: 0.5915\n",
            "Epoch 94/100\n",
            "72/72 [==============================] - 3s 42ms/step - loss: 0.6575 - binary_accuracy: 0.6129\n",
            "Epoch 95/100\n",
            "72/72 [==============================] - 3s 40ms/step - loss: 0.6597 - binary_accuracy: 0.5981\n",
            "Epoch 96/100\n",
            "72/72 [==============================] - 3s 37ms/step - loss: 0.6543 - binary_accuracy: 0.5990\n",
            "Epoch 97/100\n",
            "72/72 [==============================] - 3s 42ms/step - loss: 0.6577 - binary_accuracy: 0.6011\n",
            "Epoch 98/100\n",
            "72/72 [==============================] - 3s 40ms/step - loss: 0.6557 - binary_accuracy: 0.6033\n",
            "Epoch 99/100\n",
            "72/72 [==============================] - 3s 39ms/step - loss: 0.6552 - binary_accuracy: 0.5981\n",
            "Epoch 100/100\n",
            "72/72 [==============================] - 3s 39ms/step - loss: 0.6512 - binary_accuracy: 0.6051\n",
            "18/18 [==============================] - 1s 12ms/step\n"
          ]
        }
      ],
      "source": [
        "h_model.fit(X_train_lstm, y_train_lstm, epochs=100)\n",
        "LSTM_h_pred = h_model.predict(X_test_lstm)\n",
        "LSTM_h_pred = np.where(LSTM_h_pred > 0.5, 1, 0)"
      ]
    },
    {
      "cell_type": "code",
      "execution_count": 44,
      "metadata": {
        "colab": {
          "base_uri": "https://localhost:8080/",
          "height": 421
        },
        "id": "1Pm49yz76vYo",
        "outputId": "ca522763-1c8d-44a9-a128-60479bd00738"
      },
      "outputs": [
        {
          "name": "stdout",
          "output_type": "stream",
          "text": [
            "              precision    recall  f1-score   support\n",
            "\n",
            "           0       0.32      0.59      0.42       155\n",
            "           1       0.77      0.52      0.62       403\n",
            "\n",
            "    accuracy                           0.54       558\n",
            "   macro avg       0.55      0.56      0.52       558\n",
            "weighted avg       0.65      0.54      0.56       558\n",
            "\n"
          ]
        },
        {
          "data": {
            "image/png": "[encoded data removed]",
            "text/plain": [
              "<Figure size 432x288 with 2 Axes>"
            ]
          },
          "metadata": {
            "needs_background": "light"
          },
          "output_type": "display_data"
        }
      ],
      "source": [
        "cm = confusion_matrix(LSTM_h_pred, y_test_lstm)\n",
        "f = sns.heatmap(cm, annot=True, fmt='d')\n",
        "print(classification_report(LSTM_h_pred, y_test_lstm))"
      ]
    },
    {
      "cell_type": "code",
      "execution_count": 45,
      "metadata": {
        "id": "RrgltKuVOmvU"
      },
      "outputs": [],
      "source": [
        "bt_df = pd.DataFrame([btc_test_price, LSTM_h_pred.flatten(), y_test_lstm.flatten()]).T\n",
        "bt_df.columns = ['btc_price', 'pred', 'actual']"
      ]
    },
    {
      "cell_type": "code",
      "execution_count": 46,
      "metadata": {
        "colab": {
          "base_uri": "https://localhost:8080/",
          "height": 424
        },
        "id": "zZRHgFG4LWha",
        "outputId": "98be5e00-4135-4742-9904-85f79edcf43e"
      },
      "outputs": [
        {
          "data": {
            "text/html": [
              "<div>\n",
              "<style scoped>\n",
              "    .dataframe tbody tr th:only-of-type {\n",
              "        vertical-align: middle;\n",
              "    }\n",
              "\n",
              "    .dataframe tbody tr th {\n",
              "        vertical-align: top;\n",
              "    }\n",
              "\n",
              "    .dataframe thead th {\n",
              "        text-align: right;\n",
              "    }\n",
              "</style>\n",
              "<table border=\"1\" class=\"dataframe\">\n",
              "  <thead>\n",
              "    <tr style=\"text-align: right;\">\n",
              "      <th></th>\n",
              "      <th>btc_price</th>\n",
              "      <th>pred</th>\n",
              "      <th>actual</th>\n",
              "    </tr>\n",
              "  </thead>\n",
              "  <tbody>\n",
              "    <tr>\n",
              "      <th>0</th>\n",
              "      <td>54738.945313</td>\n",
              "      <td>1.0</td>\n",
              "      <td>0.0</td>\n",
              "    </tr>\n",
              "    <tr>\n",
              "      <th>1</th>\n",
              "      <td>52774.265625</td>\n",
              "      <td>1.0</td>\n",
              "      <td>0.0</td>\n",
              "    </tr>\n",
              "    <tr>\n",
              "      <th>2</th>\n",
              "      <td>51704.160156</td>\n",
              "      <td>1.0</td>\n",
              "      <td>1.0</td>\n",
              "    </tr>\n",
              "    <tr>\n",
              "      <th>3</th>\n",
              "      <td>55137.312500</td>\n",
              "      <td>1.0</td>\n",
              "      <td>1.0</td>\n",
              "    </tr>\n",
              "    <tr>\n",
              "      <th>4</th>\n",
              "      <td>55973.511719</td>\n",
              "      <td>1.0</td>\n",
              "      <td>0.0</td>\n",
              "    </tr>\n",
              "    <tr>\n",
              "      <th>...</th>\n",
              "      <td>...</td>\n",
              "      <td>...</td>\n",
              "      <td>...</td>\n",
              "    </tr>\n",
              "    <tr>\n",
              "      <th>553</th>\n",
              "      <td>19110.546875</td>\n",
              "      <td>0.0</td>\n",
              "      <td>1.0</td>\n",
              "    </tr>\n",
              "    <tr>\n",
              "      <th>554</th>\n",
              "      <td>19426.720703</td>\n",
              "      <td>0.0</td>\n",
              "      <td>1.0</td>\n",
              "    </tr>\n",
              "    <tr>\n",
              "      <th>555</th>\n",
              "      <td>19573.050781</td>\n",
              "      <td>0.0</td>\n",
              "      <td>0.0</td>\n",
              "    </tr>\n",
              "    <tr>\n",
              "      <th>556</th>\n",
              "      <td>19431.789063</td>\n",
              "      <td>0.0</td>\n",
              "      <td>0.0</td>\n",
              "    </tr>\n",
              "    <tr>\n",
              "      <th>557</th>\n",
              "      <td>19312.095703</td>\n",
              "      <td>0.0</td>\n",
              "      <td>0.0</td>\n",
              "    </tr>\n",
              "  </tbody>\n",
              "</table>\n",
              "<p>558 rows × 3 columns</p>\n",
              "</div>"
            ],
            "text/plain": [
              "        btc_price  pred  actual\n",
              "0    54738.945313   1.0     0.0\n",
              "1    52774.265625   1.0     0.0\n",
              "2    51704.160156   1.0     1.0\n",
              "3    55137.312500   1.0     1.0\n",
              "4    55973.511719   1.0     0.0\n",
              "..            ...   ...     ...\n",
              "553  19110.546875   0.0     1.0\n",
              "554  19426.720703   0.0     1.0\n",
              "555  19573.050781   0.0     0.0\n",
              "556  19431.789063   0.0     0.0\n",
              "557  19312.095703   0.0     0.0\n",
              "\n",
              "[558 rows x 3 columns]"
            ]
          },
          "execution_count": 46,
          "metadata": {},
          "output_type": "execute_result"
        }
      ],
      "source": [
        "bt_df"
      ]
    },
    {
      "cell_type": "code",
      "execution_count": 47,
      "metadata": {
        "colab": {
          "base_uri": "https://localhost:8080/",
          "height": 269
        },
        "id": "fs2JpgQBpGOJ",
        "outputId": "b0eee1b4-bf03-4e42-9547-12d8f967c057"
      },
      "outputs": [
        {
          "data": {
            "image/png": "[encoded data removed]",
            "text/plain": [
              "<Figure size 432x288 with 1 Axes>"
            ]
          },
          "metadata": {
            "needs_background": "light"
          },
          "output_type": "display_data"
        }
      ],
      "source": [
        "plt.plot(bt_df.btc_price);"
      ]
    },
    {
      "cell_type": "code",
      "execution_count": 48,
      "metadata": {
        "id": "_lke6RYWpPMZ"
      },
      "outputs": [],
      "source": [
        "def max10_strategy(df,cash,new_df,commission,initial_margin,maintenance_margin,interest):\n",
        "    #for deciding initial positions of buy and hold strategy\n",
        "    initial=cash\n",
        "    crypto = 0\n",
        "    position = 0\n",
        "    cash_base_level = 5000\n",
        "    signal = ''\n",
        "    margin_account = []\n",
        "    lose_all = False\n",
        "    for i in range(len(df)):\n",
        "        #for long position, adjust price movements\n",
        "        if i > 0 and position > 0:\n",
        "            diff = df.btc_price[i] - df.btc_price[i-1]\n",
        "            crypto += position * diff\n",
        "        #check if each margin account (if any) satisfy the margin requirement\n",
        "        if i > 0 and position < 0:\n",
        "            diff = df.btc_price[i-1] - df.btc_price[i]\n",
        "            for j in range(len(margin_account)):\n",
        "                margin_account[j][0] += diff\n",
        "                margin_account[j][-1] += margin_account[j][1]*interest\n",
        "                amount, maintenance = margin_account[j][0], margin_account[j][2]\n",
        "                if amount < maintenance: \n",
        "                    if cash > (maintenance - amount): #amount less than maintenance margin\n",
        "                        cash -= (maintenance - amount)\n",
        "                        margin_account[j][0] = maintenance\n",
        "                    else: #lose all the money\n",
        "                        print('lose all')\n",
        "                        lose_all = True\n",
        "                        break\n",
        "        if lose_all:\n",
        "           break\n",
        "        #reaching 10\n",
        "        if(position>=10):\n",
        "            signal=\"close and sell all \"\n",
        "            cash+=position*df.btc_price[i]*(1-commission)\n",
        "            position=0\n",
        "            crypto=0\n",
        "        #reaching -10\n",
        "        elif(position<=-10):\n",
        "            signal=\"close and buy all\"\n",
        "            cash+= sum(e[0]-e[-1] for e in margin_account)\n",
        "            position=0\n",
        "            margin_account.clear()\n",
        "        else:\n",
        "            #indicate signal and buyin/selling amount\n",
        "            signal=\"no action\"\n",
        "            pos=1 if df.pred[i]==1 else -1\n",
        "            #money and coin value\n",
        "            if pos == 1:\n",
        "              if position >= 0:\n",
        "                  if cash - pos*df.btc_price[i]*(1+commission) >= cash_base_level: #enough cash to buy coins\n",
        "                      signal = 'buy'\n",
        "                      cash-=pos*df.btc_price[i]*(1+commission)\n",
        "                      position+=pos\n",
        "                      crypto+=pos*df.btc_price[i]\n",
        "              else:\n",
        "                  signal = 'buy to close half'\n",
        "                  n = abs(position)//2\n",
        "                  for _ in range(max(1,n)):\n",
        "                    removed = margin_account.pop(0)\n",
        "                    cash += removed[0]-removed[-1]\n",
        "                    position += pos\n",
        "            elif pos == -1:\n",
        "                if position <= 0:\n",
        "                   if cash - abs(pos)*df.btc_price[i]*initial_margin >= cash_base_level:\n",
        "                      signal = 'short sell'\n",
        "                      for _ in range(abs(pos)):\n",
        "                          margin_account.append([df.btc_price[i]*initial_margin, df.btc_price[i]*initial_margin, df.btc_price[i]*maintenance_margin, 0]) \n",
        "                          cash -= df.btc_price[i]*initial_margin\n",
        "                      position += pos\n",
        "                else:\n",
        "                   signal = 'sell half'\n",
        "                   n = position//2\n",
        "                   for _ in range(max(1,n)): \n",
        "                      cash += df.btc_price[i]*(1-commission)\n",
        "                      crypto -= df.btc_price[i]\n",
        "                      position += pos\n",
        "        dic={\n",
        "            \"signal\":signal,\n",
        "            \"strategy value\":cash+crypto+sum(e[0]-e[-1] for e in margin_account),\n",
        "            \"position\":position,\n",
        "            \"buy and hold\":(initial/df.btc_price[0])*df.btc_price[i]\n",
        "        }\n",
        "        new_df.append(dic)\n",
        "\n",
        "        # print('index ' + str(i))\n",
        "        # print('pos: '+ str(pos) + ' ' + signal+ ' at '+str(df.btc_price[i]))\n",
        "        # print('position: '+str(position))\n",
        "        # print('cash: '+str(cash))\n",
        "        # print('crypto: '+str(crypto))\n",
        "        # print(margin_account)\n",
        "        # print('total: '+str(cash+crypto+sum(e[0]-e[-1] for e in margin_account)))\n",
        "        # print('------')\n",
        "    df2 = pd.DataFrame(new_df)\n",
        "    \n",
        "    return df2"
      ]
    },
    {
      "cell_type": "code",
      "execution_count": 49,
      "metadata": {
        "colab": {
          "base_uri": "https://localhost:8080/",
          "height": 1000
        },
        "id": "xZ6nAy4cpQLr",
        "outputId": "a97481f1-4338-4d79-f11c-9e1eda30969a"
      },
      "outputs": [],
      "source": [
        "max10_df = max10_strategy(bt_df,100000,[],0.002,0.5,0.3,0.0002)"
      ]
    },
    {
      "cell_type": "code",
      "execution_count": 50,
      "metadata": {
        "colab": {
          "base_uri": "https://localhost:8080/",
          "height": 424
        },
        "id": "buwHBsTNpQRs",
        "outputId": "abf52418-fa23-4b15-f673-5747f579564e"
      },
      "outputs": [
        {
          "data": {
            "image/png": "[encoded data removed]",
            "text/plain": [
              "<Figure size 1080x720 with 1 Axes>"
            ]
          },
          "metadata": {
            "needs_background": "light"
          },
          "output_type": "display_data"
        }
      ],
      "source": [
        "max10_df\n",
        "\n",
        "plt.figure(figsize=(15,10))\n",
        "plt.plot(max10_df[\"strategy value\"], label='Max10 Strategy')\n",
        "plt.plot(max10_df[\"buy and hold\"], label='Buy and Hold')\n",
        "plt.legend()\n",
        "plt.show();"
      ]
    },
    {
      "cell_type": "code",
      "execution_count": 51,
      "metadata": {
        "id": "aSzT22TRHzPY"
      },
      "outputs": [],
      "source": [
        "def momentum_strategy(df,cash,new_df,commission,initial_margin,maintenance_margin, interest):\n",
        "    #for deciding initial positions of buy and hold strategy\n",
        "    initial=cash\n",
        "    crypto = 0\n",
        "    position = 0\n",
        "    cash_base_level = 5000\n",
        "    signal = ''\n",
        "    margin_account = []\n",
        "    lose_all = False\n",
        "    for i in range(len(df)):\n",
        "        #for long position, adjust price movements\n",
        "        if i > 0 and position > 0:\n",
        "            diff = df.btc_price[i] - df.btc_price[i-1]\n",
        "            crypto += position * diff\n",
        "        #check if each margin account (if any) satisfy the margin requirement\n",
        "        if i > 0 and position < 0:\n",
        "            diff = df.btc_price[i-1] - df.btc_price[i]\n",
        "            for j in range(len(margin_account)):\n",
        "                margin_account[j][0] += diff\n",
        "                margin_account[j][-1] += margin_account[j][1]*interest\n",
        "                amount, maintenance = margin_account[j][0], margin_account[j][2]\n",
        "                if amount < maintenance: \n",
        "                    if cash > (maintenance - amount): #amount less than maintenance margin\n",
        "                        cash -= (maintenance - amount)\n",
        "                        margin_account[j][0] = maintenance\n",
        "                    else: #lose all the money\n",
        "                        print('lose all')\n",
        "                        lose_all = True\n",
        "                        break\n",
        "        signal = 'no action'\n",
        "        if lose_all:\n",
        "           break\n",
        "\n",
        "        if df.pred[i] == 1:\n",
        "            if not position and cash - df.btc_price[i]*(1+commission) >= cash_base_level: #position is 0, buy 1 coin\n",
        "                signal = 'buy' \n",
        "                cash-=df.btc_price[i]*(1+commission)\n",
        "                crypto+=df.btc_price[i]\n",
        "                position+=1\n",
        "            elif position > 0 and cash - df.btc_price[i]*(1+commission) >= cash_base_level: #if position > 0 and bitcoin price has been growing for the past 4 days, we think there is momentum and buy more\n",
        "                if sum(df.actual[i-4:i].to_list()) == 4:\n",
        "                  signal = 'buy more'\n",
        "                  cash-=df.btc_price[i]*(1+commission)\n",
        "                  crypto+=df.btc_price[i]\n",
        "                  position+=1\n",
        "            elif position < 0:\n",
        "                signal=\"close and buy all\"\n",
        "                cash+= sum(e[0] - e[-1] for e in margin_account)\n",
        "                position=0\n",
        "                margin_account.clear()\n",
        "        else:\n",
        "            if not position and cash - df.btc_price[i]*initial_margin >= cash_base_level:\n",
        "                signal = 'short sell'\n",
        "                cash -= df.btc_price[i]*initial_margin\n",
        "                margin_account.append([df.btc_price[i]*initial_margin, df.btc_price[i]*initial_margin, df.btc_price[i]*maintenance_margin, 0])\n",
        "                position -= 1\n",
        "            elif position < 0 and cash - df.btc_price[i]*initial_margin >= cash_base_level:\n",
        "                if sum(df.actual[i-4:i].to_list()) == -4:\n",
        "                    signal = 'sell more'\n",
        "                    margin_account.append([df.btc_price[i]*initial_margin, df.btc_price[i]*initial_margin, df.btc_price[i]*maintenance_margin, 0])\n",
        "                    position -= 1\n",
        "            elif position > 0:\n",
        "                signal = \"close and sell all\"\n",
        "                cash+=crypto*(1-commission)\n",
        "                position=0\n",
        "                crypto=0\n",
        "        dic={\n",
        "            \"signal\":signal,\n",
        "            \"strategy value\":cash+crypto+sum(e[0]-e[-1] for e in margin_account),\n",
        "            \"position\":position,\n",
        "            \"buy and hold\":(initial/df.btc_price[0])*df.btc_price[i]\n",
        "        }\n",
        "        new_df.append(dic)\n",
        "\n",
        "        # print('index ' + str(i))\n",
        "        # print('direction: '+ str(int(df.pred[i])) + ', ' + signal+ ' at '+str(df.btc_price[i]))\n",
        "        # print('position: '+str(position))\n",
        "        # print('cash: '+str(cash))\n",
        "        # print('crypto: '+str(crypto))\n",
        "        # print(margin_account)\n",
        "        # print('total: '+str(cash+crypto+sum(e[0] - e[-1] for e in margin_account)))\n",
        "        # print('------')\n",
        "    df2 = pd.DataFrame(new_df)\n",
        "   \n",
        "    return df2"
      ]
    },
    {
      "cell_type": "code",
      "execution_count": 52,
      "metadata": {
        "colab": {
          "base_uri": "https://localhost:8080/",
          "height": 1000
        },
        "id": "Ym1axqo-r24V",
        "outputId": "b5c2fdb2-122b-48a8-9e36-1f46f4a456e5"
      },
      "outputs": [],
      "source": [
        "momentum_df = momentum_strategy(bt_df,100000,[],0.002,0.5,0.3,0.0002)"
      ]
    },
    {
      "cell_type": "code",
      "execution_count": 53,
      "metadata": {
        "colab": {
          "base_uri": "https://localhost:8080/",
          "height": 424
        },
        "id": "utmJeBdluEsp",
        "outputId": "1e44b74f-0a6a-4a5c-f564-42d118b37184"
      },
      "outputs": [
        {
          "data": {
            "image/png": "[encoded data removed]",
            "text/plain": [
              "<Figure size 1080x720 with 1 Axes>"
            ]
          },
          "metadata": {
            "needs_background": "light"
          },
          "output_type": "display_data"
        }
      ],
      "source": [
        "momentum_df\n",
        "\n",
        "plt.figure(figsize=(15,10))\n",
        "plt.plot(momentum_df[\"strategy value\"], label='Momentum Strategy')\n",
        "plt.plot(momentum_df[\"buy and hold\"], label='Buy and Hold')\n",
        "plt.legend()\n",
        "plt.show();"
      ]
    }
  ],
  "metadata": {
    "colab": {
      "provenance": []
    },
    "gpuClass": "standard",
    "kernelspec": {
      "display_name": "Python 3",
      "name": "python3"
    },
    "language_info": {
      "codemirror_mode": {
        "name": "ipython",
        "version": 3
      },
      "file_extension": ".py",
      "mimetype": "text/x-python",
      "name": "python",
      "nbconvert_exporter": "python",
      "pygments_lexer": "ipython3",
      "version": "3.9.7"
    }
  },
  "nbformat": 4,
  "nbformat_minor": 0
}
