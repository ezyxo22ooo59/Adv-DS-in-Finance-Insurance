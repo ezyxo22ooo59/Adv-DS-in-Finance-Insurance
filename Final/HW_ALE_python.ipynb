{
 "cells": [
  {
   "cell_type": "code",
   "execution_count": 6,
   "outputs": [
    {
     "name": "stdout",
     "output_type": "stream",
     "text": [
      "Requirement already satisfied: scipy in /Users/emilyziyixiao/opt/anaconda3/envs/310_new/lib/python3.10/site-packages (1.10.1)\r\n",
      "Requirement already satisfied: alibi in /Users/emilyziyixiao/opt/anaconda3/envs/310_new/lib/python3.10/site-packages (0.9.2)\r\n",
      "Requirement already satisfied: numpy<1.27.0,>=1.19.5 in /Users/emilyziyixiao/opt/anaconda3/envs/310_new/lib/python3.10/site-packages (from scipy) (1.22.4)\r\n",
      "Requirement already satisfied: spacy[lookups]<4.0.0,>=2.0.0 in /Users/emilyziyixiao/opt/anaconda3/envs/310_new/lib/python3.10/site-packages (from alibi) (3.5.2)\r\n",
      "Requirement already satisfied: requests<3.0.0,>=2.21.0 in /Users/emilyziyixiao/opt/anaconda3/envs/310_new/lib/python3.10/site-packages (from alibi) (2.28.1)\r\n",
      "Requirement already satisfied: scikit-learn<2.0.0,>=1.0.0 in /Users/emilyziyixiao/opt/anaconda3/envs/310_new/lib/python3.10/site-packages (from alibi) (1.2.1)\r\n",
      "Requirement already satisfied: tqdm<5.0.0,>=4.28.1 in /Users/emilyziyixiao/opt/anaconda3/envs/310_new/lib/python3.10/site-packages (from alibi) (4.65.0)\r\n",
      "Requirement already satisfied: pandas<3.0.0,>=1.0.0 in /Users/emilyziyixiao/opt/anaconda3/envs/310_new/lib/python3.10/site-packages (from alibi) (1.5.3)\r\n",
      "Requirement already satisfied: blis<0.8.0 in /Users/emilyziyixiao/opt/anaconda3/envs/310_new/lib/python3.10/site-packages (from alibi) (0.7.9)\r\n",
      "Requirement already satisfied: typing-extensions>=3.7.4.3 in /Users/emilyziyixiao/opt/anaconda3/envs/310_new/lib/python3.10/site-packages (from alibi) (4.5.0)\r\n",
      "Requirement already satisfied: matplotlib<4.0.0,>=3.0.0 in /Users/emilyziyixiao/opt/anaconda3/envs/310_new/lib/python3.10/site-packages (from alibi) (3.7.1)\r\n",
      "Requirement already satisfied: transformers<5.0.0,>=4.7.0 in /Users/emilyziyixiao/opt/anaconda3/envs/310_new/lib/python3.10/site-packages (from alibi) (4.24.0)\r\n",
      "Requirement already satisfied: scikit-image<0.21,>=0.17.2 in /Users/emilyziyixiao/opt/anaconda3/envs/310_new/lib/python3.10/site-packages (from alibi) (0.20.0)\r\n",
      "Requirement already satisfied: Pillow<10.0,>=5.4.1 in /Users/emilyziyixiao/opt/anaconda3/envs/310_new/lib/python3.10/site-packages (from alibi) (9.4.0)\r\n",
      "Requirement already satisfied: dill<0.4.0,>=0.3.0 in /Users/emilyziyixiao/opt/anaconda3/envs/310_new/lib/python3.10/site-packages (from alibi) (0.3.6)\r\n",
      "Requirement already satisfied: attrs<24.0.0,>=19.2.0 in /Users/emilyziyixiao/opt/anaconda3/envs/310_new/lib/python3.10/site-packages (from alibi) (22.1.0)\r\n",
      "Requirement already satisfied: kiwisolver>=1.0.1 in /Users/emilyziyixiao/opt/anaconda3/envs/310_new/lib/python3.10/site-packages (from matplotlib<4.0.0,>=3.0.0->alibi) (1.4.4)\r\n",
      "Requirement already satisfied: pyparsing>=2.3.1 in /Users/emilyziyixiao/opt/anaconda3/envs/310_new/lib/python3.10/site-packages (from matplotlib<4.0.0,>=3.0.0->alibi) (3.0.9)\r\n",
      "Requirement already satisfied: fonttools>=4.22.0 in /Users/emilyziyixiao/opt/anaconda3/envs/310_new/lib/python3.10/site-packages (from matplotlib<4.0.0,>=3.0.0->alibi) (4.25.0)\r\n",
      "Requirement already satisfied: packaging>=20.0 in /Users/emilyziyixiao/opt/anaconda3/envs/310_new/lib/python3.10/site-packages (from matplotlib<4.0.0,>=3.0.0->alibi) (23.0)\r\n",
      "Requirement already satisfied: python-dateutil>=2.7 in /Users/emilyziyixiao/opt/anaconda3/envs/310_new/lib/python3.10/site-packages (from matplotlib<4.0.0,>=3.0.0->alibi) (2.8.2)\r\n",
      "Requirement already satisfied: cycler>=0.10 in /Users/emilyziyixiao/opt/anaconda3/envs/310_new/lib/python3.10/site-packages (from matplotlib<4.0.0,>=3.0.0->alibi) (0.11.0)\r\n",
      "Requirement already satisfied: contourpy>=1.0.1 in /Users/emilyziyixiao/opt/anaconda3/envs/310_new/lib/python3.10/site-packages (from matplotlib<4.0.0,>=3.0.0->alibi) (1.0.5)\r\n",
      "Requirement already satisfied: pytz>=2020.1 in /Users/emilyziyixiao/opt/anaconda3/envs/310_new/lib/python3.10/site-packages (from pandas<3.0.0,>=1.0.0->alibi) (2022.7)\r\n",
      "Requirement already satisfied: certifi>=2017.4.17 in /Users/emilyziyixiao/opt/anaconda3/envs/310_new/lib/python3.10/site-packages (from requests<3.0.0,>=2.21.0->alibi) (2022.12.7)\r\n",
      "Requirement already satisfied: idna<4,>=2.5 in /Users/emilyziyixiao/opt/anaconda3/envs/310_new/lib/python3.10/site-packages (from requests<3.0.0,>=2.21.0->alibi) (3.4)\r\n",
      "Requirement already satisfied: charset-normalizer<3,>=2 in /Users/emilyziyixiao/opt/anaconda3/envs/310_new/lib/python3.10/site-packages (from requests<3.0.0,>=2.21.0->alibi) (2.0.4)\r\n",
      "Requirement already satisfied: urllib3<1.27,>=1.21.1 in /Users/emilyziyixiao/opt/anaconda3/envs/310_new/lib/python3.10/site-packages (from requests<3.0.0,>=2.21.0->alibi) (1.26.14)\r\n",
      "Requirement already satisfied: tifffile>=2019.7.26 in /Users/emilyziyixiao/opt/anaconda3/envs/310_new/lib/python3.10/site-packages (from scikit-image<0.21,>=0.17.2->alibi) (2023.4.12)\r\n",
      "Requirement already satisfied: PyWavelets>=1.1.1 in /Users/emilyziyixiao/opt/anaconda3/envs/310_new/lib/python3.10/site-packages (from scikit-image<0.21,>=0.17.2->alibi) (1.4.1)\r\n",
      "Requirement already satisfied: lazy_loader>=0.1 in /Users/emilyziyixiao/opt/anaconda3/envs/310_new/lib/python3.10/site-packages (from scikit-image<0.21,>=0.17.2->alibi) (0.2)\r\n",
      "Requirement already satisfied: networkx>=2.8 in /Users/emilyziyixiao/opt/anaconda3/envs/310_new/lib/python3.10/site-packages (from scikit-image<0.21,>=0.17.2->alibi) (3.1)\r\n",
      "Requirement already satisfied: imageio>=2.4.1 in /Users/emilyziyixiao/opt/anaconda3/envs/310_new/lib/python3.10/site-packages (from scikit-image<0.21,>=0.17.2->alibi) (2.28.1)\r\n",
      "Requirement already satisfied: threadpoolctl>=2.0.0 in /Users/emilyziyixiao/opt/anaconda3/envs/310_new/lib/python3.10/site-packages (from scikit-learn<2.0.0,>=1.0.0->alibi) (2.2.0)\r\n",
      "Requirement already satisfied: joblib>=1.1.1 in /Users/emilyziyixiao/opt/anaconda3/envs/310_new/lib/python3.10/site-packages (from scikit-learn<2.0.0,>=1.0.0->alibi) (1.1.1)\r\n",
      "Requirement already satisfied: smart-open<7.0.0,>=5.2.1 in /Users/emilyziyixiao/opt/anaconda3/envs/310_new/lib/python3.10/site-packages (from spacy[lookups]<4.0.0,>=2.0.0->alibi) (6.3.0)\r\n",
      "Requirement already satisfied: srsly<3.0.0,>=2.4.3 in /Users/emilyziyixiao/opt/anaconda3/envs/310_new/lib/python3.10/site-packages (from spacy[lookups]<4.0.0,>=2.0.0->alibi) (2.4.6)\r\n",
      "Requirement already satisfied: catalogue<2.1.0,>=2.0.6 in /Users/emilyziyixiao/opt/anaconda3/envs/310_new/lib/python3.10/site-packages (from spacy[lookups]<4.0.0,>=2.0.0->alibi) (2.0.8)\r\n",
      "Requirement already satisfied: wasabi<1.2.0,>=0.9.1 in /Users/emilyziyixiao/opt/anaconda3/envs/310_new/lib/python3.10/site-packages (from spacy[lookups]<4.0.0,>=2.0.0->alibi) (1.1.1)\r\n",
      "Requirement already satisfied: jinja2 in /Users/emilyziyixiao/opt/anaconda3/envs/310_new/lib/python3.10/site-packages (from spacy[lookups]<4.0.0,>=2.0.0->alibi) (3.1.2)\r\n",
      "Requirement already satisfied: thinc<8.2.0,>=8.1.8 in /Users/emilyziyixiao/opt/anaconda3/envs/310_new/lib/python3.10/site-packages (from spacy[lookups]<4.0.0,>=2.0.0->alibi) (8.1.9)\r\n",
      "Requirement already satisfied: setuptools in /Users/emilyziyixiao/opt/anaconda3/envs/310_new/lib/python3.10/site-packages (from spacy[lookups]<4.0.0,>=2.0.0->alibi) (65.6.3)\r\n",
      "Requirement already satisfied: cymem<2.1.0,>=2.0.2 in /Users/emilyziyixiao/opt/anaconda3/envs/310_new/lib/python3.10/site-packages (from spacy[lookups]<4.0.0,>=2.0.0->alibi) (2.0.7)\r\n",
      "Requirement already satisfied: typer<0.8.0,>=0.3.0 in /Users/emilyziyixiao/opt/anaconda3/envs/310_new/lib/python3.10/site-packages (from spacy[lookups]<4.0.0,>=2.0.0->alibi) (0.7.0)\r\n",
      "Requirement already satisfied: spacy-loggers<2.0.0,>=1.0.0 in /Users/emilyziyixiao/opt/anaconda3/envs/310_new/lib/python3.10/site-packages (from spacy[lookups]<4.0.0,>=2.0.0->alibi) (1.0.4)\r\n",
      "Requirement already satisfied: langcodes<4.0.0,>=3.2.0 in /Users/emilyziyixiao/opt/anaconda3/envs/310_new/lib/python3.10/site-packages (from spacy[lookups]<4.0.0,>=2.0.0->alibi) (3.3.0)\r\n",
      "Requirement already satisfied: pydantic!=1.8,!=1.8.1,<1.11.0,>=1.7.4 in /Users/emilyziyixiao/opt/anaconda3/envs/310_new/lib/python3.10/site-packages (from spacy[lookups]<4.0.0,>=2.0.0->alibi) (1.10.7)\r\n",
      "Requirement already satisfied: murmurhash<1.1.0,>=0.28.0 in /Users/emilyziyixiao/opt/anaconda3/envs/310_new/lib/python3.10/site-packages (from spacy[lookups]<4.0.0,>=2.0.0->alibi) (1.0.9)\r\n",
      "Requirement already satisfied: preshed<3.1.0,>=3.0.2 in /Users/emilyziyixiao/opt/anaconda3/envs/310_new/lib/python3.10/site-packages (from spacy[lookups]<4.0.0,>=2.0.0->alibi) (3.0.8)\r\n",
      "Requirement already satisfied: spacy-legacy<3.1.0,>=3.0.11 in /Users/emilyziyixiao/opt/anaconda3/envs/310_new/lib/python3.10/site-packages (from spacy[lookups]<4.0.0,>=2.0.0->alibi) (3.0.12)\r\n",
      "Requirement already satisfied: pathy>=0.10.0 in /Users/emilyziyixiao/opt/anaconda3/envs/310_new/lib/python3.10/site-packages (from spacy[lookups]<4.0.0,>=2.0.0->alibi) (0.10.1)\r\n",
      "Requirement already satisfied: spacy-lookups-data<1.1.0,>=1.0.3 in /Users/emilyziyixiao/opt/anaconda3/envs/310_new/lib/python3.10/site-packages (from spacy[lookups]<4.0.0,>=2.0.0->alibi) (1.0.3)\r\n",
      "Requirement already satisfied: tokenizers!=0.11.3,<0.14,>=0.11.1 in /Users/emilyziyixiao/opt/anaconda3/envs/310_new/lib/python3.10/site-packages (from transformers<5.0.0,>=4.7.0->alibi) (0.11.4)\r\n",
      "Requirement already satisfied: filelock in /Users/emilyziyixiao/opt/anaconda3/envs/310_new/lib/python3.10/site-packages (from transformers<5.0.0,>=4.7.0->alibi) (3.11.0)\r\n",
      "Requirement already satisfied: pyyaml>=5.1 in /Users/emilyziyixiao/opt/anaconda3/envs/310_new/lib/python3.10/site-packages (from transformers<5.0.0,>=4.7.0->alibi) (6.0)\r\n",
      "Requirement already satisfied: huggingface-hub<1.0,>=0.10.0 in /Users/emilyziyixiao/opt/anaconda3/envs/310_new/lib/python3.10/site-packages (from transformers<5.0.0,>=4.7.0->alibi) (0.10.1)\r\n",
      "Requirement already satisfied: regex!=2019.12.17 in /Users/emilyziyixiao/opt/anaconda3/envs/310_new/lib/python3.10/site-packages (from transformers<5.0.0,>=4.7.0->alibi) (2022.7.9)\r\n",
      "Requirement already satisfied: six>=1.5 in /Users/emilyziyixiao/opt/anaconda3/envs/310_new/lib/python3.10/site-packages (from python-dateutil>=2.7->matplotlib<4.0.0,>=3.0.0->alibi) (1.16.0)\r\n",
      "Requirement already satisfied: confection<1.0.0,>=0.0.1 in /Users/emilyziyixiao/opt/anaconda3/envs/310_new/lib/python3.10/site-packages (from thinc<8.2.0,>=8.1.8->spacy[lookups]<4.0.0,>=2.0.0->alibi) (0.0.4)\r\n",
      "Requirement already satisfied: click<9.0.0,>=7.1.1 in /Users/emilyziyixiao/opt/anaconda3/envs/310_new/lib/python3.10/site-packages (from typer<0.8.0,>=0.3.0->spacy[lookups]<4.0.0,>=2.0.0->alibi) (8.0.4)\r\n",
      "Requirement already satisfied: MarkupSafe>=2.0 in /Users/emilyziyixiao/opt/anaconda3/envs/310_new/lib/python3.10/site-packages (from jinja2->spacy[lookups]<4.0.0,>=2.0.0->alibi) (2.1.1)\r\n"
     ]
    }
   ],
   "source": [
    "!pip install scipy alibi"
   ],
   "metadata": {
    "collapsed": false
   }
  },
  {
   "cell_type": "code",
   "execution_count": 8,
   "outputs": [
    {
     "name": "stdout",
     "output_type": "stream",
     "text": [
      "Requirement already satisfied: scipy in /Users/emilyziyixiao/opt/anaconda3/envs/310_new/lib/python3.10/site-packages (1.10.1)\r\n",
      "Requirement already satisfied: numpy<1.27.0,>=1.19.5 in /Users/emilyziyixiao/opt/anaconda3/envs/310_new/lib/python3.10/site-packages (from scipy) (1.22.4)\r\n",
      "Requirement already satisfied: alibi in /Users/emilyziyixiao/opt/anaconda3/envs/310_new/lib/python3.10/site-packages (0.9.2)\r\n",
      "Requirement already satisfied: attrs<24.0.0,>=19.2.0 in /Users/emilyziyixiao/opt/anaconda3/envs/310_new/lib/python3.10/site-packages (from alibi) (22.1.0)\r\n",
      "Requirement already satisfied: scipy<2.0.0,>=1.1.0 in /Users/emilyziyixiao/opt/anaconda3/envs/310_new/lib/python3.10/site-packages (from alibi) (1.10.1)\r\n",
      "Requirement already satisfied: matplotlib<4.0.0,>=3.0.0 in /Users/emilyziyixiao/opt/anaconda3/envs/310_new/lib/python3.10/site-packages (from alibi) (3.7.1)\r\n",
      "Requirement already satisfied: spacy[lookups]<4.0.0,>=2.0.0 in /Users/emilyziyixiao/opt/anaconda3/envs/310_new/lib/python3.10/site-packages (from alibi) (3.5.2)\r\n",
      "Requirement already satisfied: requests<3.0.0,>=2.21.0 in /Users/emilyziyixiao/opt/anaconda3/envs/310_new/lib/python3.10/site-packages (from alibi) (2.28.1)\r\n",
      "Requirement already satisfied: typing-extensions>=3.7.4.3 in /Users/emilyziyixiao/opt/anaconda3/envs/310_new/lib/python3.10/site-packages (from alibi) (4.5.0)\r\n",
      "Requirement already satisfied: scikit-image<0.21,>=0.17.2 in /Users/emilyziyixiao/opt/anaconda3/envs/310_new/lib/python3.10/site-packages (from alibi) (0.20.0)\r\n",
      "Requirement already satisfied: numpy<2.0.0,>=1.16.2 in /Users/emilyziyixiao/opt/anaconda3/envs/310_new/lib/python3.10/site-packages (from alibi) (1.22.4)\r\n",
      "Requirement already satisfied: scikit-learn<2.0.0,>=1.0.0 in /Users/emilyziyixiao/opt/anaconda3/envs/310_new/lib/python3.10/site-packages (from alibi) (1.2.1)\r\n",
      "Requirement already satisfied: pandas<3.0.0,>=1.0.0 in /Users/emilyziyixiao/opt/anaconda3/envs/310_new/lib/python3.10/site-packages (from alibi) (1.5.3)\r\n",
      "Requirement already satisfied: Pillow<10.0,>=5.4.1 in /Users/emilyziyixiao/opt/anaconda3/envs/310_new/lib/python3.10/site-packages (from alibi) (9.4.0)\r\n",
      "Requirement already satisfied: transformers<5.0.0,>=4.7.0 in /Users/emilyziyixiao/opt/anaconda3/envs/310_new/lib/python3.10/site-packages (from alibi) (4.24.0)\r\n",
      "Requirement already satisfied: tqdm<5.0.0,>=4.28.1 in /Users/emilyziyixiao/opt/anaconda3/envs/310_new/lib/python3.10/site-packages (from alibi) (4.65.0)\r\n",
      "Requirement already satisfied: dill<0.4.0,>=0.3.0 in /Users/emilyziyixiao/opt/anaconda3/envs/310_new/lib/python3.10/site-packages (from alibi) (0.3.6)\r\n",
      "Requirement already satisfied: blis<0.8.0 in /Users/emilyziyixiao/opt/anaconda3/envs/310_new/lib/python3.10/site-packages (from alibi) (0.7.9)\r\n",
      "Requirement already satisfied: fonttools>=4.22.0 in /Users/emilyziyixiao/opt/anaconda3/envs/310_new/lib/python3.10/site-packages (from matplotlib<4.0.0,>=3.0.0->alibi) (4.25.0)\r\n",
      "Requirement already satisfied: cycler>=0.10 in /Users/emilyziyixiao/opt/anaconda3/envs/310_new/lib/python3.10/site-packages (from matplotlib<4.0.0,>=3.0.0->alibi) (0.11.0)\r\n",
      "Requirement already satisfied: python-dateutil>=2.7 in /Users/emilyziyixiao/opt/anaconda3/envs/310_new/lib/python3.10/site-packages (from matplotlib<4.0.0,>=3.0.0->alibi) (2.8.2)\r\n",
      "Requirement already satisfied: kiwisolver>=1.0.1 in /Users/emilyziyixiao/opt/anaconda3/envs/310_new/lib/python3.10/site-packages (from matplotlib<4.0.0,>=3.0.0->alibi) (1.4.4)\r\n",
      "Requirement already satisfied: packaging>=20.0 in /Users/emilyziyixiao/opt/anaconda3/envs/310_new/lib/python3.10/site-packages (from matplotlib<4.0.0,>=3.0.0->alibi) (23.0)\r\n",
      "Requirement already satisfied: contourpy>=1.0.1 in /Users/emilyziyixiao/opt/anaconda3/envs/310_new/lib/python3.10/site-packages (from matplotlib<4.0.0,>=3.0.0->alibi) (1.0.5)\r\n",
      "Requirement already satisfied: pyparsing>=2.3.1 in /Users/emilyziyixiao/opt/anaconda3/envs/310_new/lib/python3.10/site-packages (from matplotlib<4.0.0,>=3.0.0->alibi) (3.0.9)\r\n",
      "Requirement already satisfied: pytz>=2020.1 in /Users/emilyziyixiao/opt/anaconda3/envs/310_new/lib/python3.10/site-packages (from pandas<3.0.0,>=1.0.0->alibi) (2022.7)\r\n",
      "Requirement already satisfied: idna<4,>=2.5 in /Users/emilyziyixiao/opt/anaconda3/envs/310_new/lib/python3.10/site-packages (from requests<3.0.0,>=2.21.0->alibi) (3.4)\r\n",
      "Requirement already satisfied: urllib3<1.27,>=1.21.1 in /Users/emilyziyixiao/opt/anaconda3/envs/310_new/lib/python3.10/site-packages (from requests<3.0.0,>=2.21.0->alibi) (1.26.14)\r\n",
      "Requirement already satisfied: certifi>=2017.4.17 in /Users/emilyziyixiao/opt/anaconda3/envs/310_new/lib/python3.10/site-packages (from requests<3.0.0,>=2.21.0->alibi) (2022.12.7)\r\n",
      "Requirement already satisfied: charset-normalizer<3,>=2 in /Users/emilyziyixiao/opt/anaconda3/envs/310_new/lib/python3.10/site-packages (from requests<3.0.0,>=2.21.0->alibi) (2.0.4)\r\n",
      "Requirement already satisfied: lazy_loader>=0.1 in /Users/emilyziyixiao/opt/anaconda3/envs/310_new/lib/python3.10/site-packages (from scikit-image<0.21,>=0.17.2->alibi) (0.2)\r\n",
      "Requirement already satisfied: tifffile>=2019.7.26 in /Users/emilyziyixiao/opt/anaconda3/envs/310_new/lib/python3.10/site-packages (from scikit-image<0.21,>=0.17.2->alibi) (2023.4.12)\r\n",
      "Requirement already satisfied: imageio>=2.4.1 in /Users/emilyziyixiao/opt/anaconda3/envs/310_new/lib/python3.10/site-packages (from scikit-image<0.21,>=0.17.2->alibi) (2.28.1)\r\n",
      "Requirement already satisfied: networkx>=2.8 in /Users/emilyziyixiao/opt/anaconda3/envs/310_new/lib/python3.10/site-packages (from scikit-image<0.21,>=0.17.2->alibi) (3.1)\r\n",
      "Requirement already satisfied: PyWavelets>=1.1.1 in /Users/emilyziyixiao/opt/anaconda3/envs/310_new/lib/python3.10/site-packages (from scikit-image<0.21,>=0.17.2->alibi) (1.4.1)\r\n",
      "Requirement already satisfied: threadpoolctl>=2.0.0 in /Users/emilyziyixiao/opt/anaconda3/envs/310_new/lib/python3.10/site-packages (from scikit-learn<2.0.0,>=1.0.0->alibi) (2.2.0)\r\n",
      "Requirement already satisfied: joblib>=1.1.1 in /Users/emilyziyixiao/opt/anaconda3/envs/310_new/lib/python3.10/site-packages (from scikit-learn<2.0.0,>=1.0.0->alibi) (1.1.1)\r\n",
      "Requirement already satisfied: setuptools in /Users/emilyziyixiao/opt/anaconda3/envs/310_new/lib/python3.10/site-packages (from spacy[lookups]<4.0.0,>=2.0.0->alibi) (65.6.3)\r\n",
      "Requirement already satisfied: spacy-legacy<3.1.0,>=3.0.11 in /Users/emilyziyixiao/opt/anaconda3/envs/310_new/lib/python3.10/site-packages (from spacy[lookups]<4.0.0,>=2.0.0->alibi) (3.0.12)\r\n",
      "Requirement already satisfied: murmurhash<1.1.0,>=0.28.0 in /Users/emilyziyixiao/opt/anaconda3/envs/310_new/lib/python3.10/site-packages (from spacy[lookups]<4.0.0,>=2.0.0->alibi) (1.0.9)\r\n",
      "Requirement already satisfied: srsly<3.0.0,>=2.4.3 in /Users/emilyziyixiao/opt/anaconda3/envs/310_new/lib/python3.10/site-packages (from spacy[lookups]<4.0.0,>=2.0.0->alibi) (2.4.6)\r\n",
      "Requirement already satisfied: langcodes<4.0.0,>=3.2.0 in /Users/emilyziyixiao/opt/anaconda3/envs/310_new/lib/python3.10/site-packages (from spacy[lookups]<4.0.0,>=2.0.0->alibi) (3.3.0)\r\n",
      "Requirement already satisfied: smart-open<7.0.0,>=5.2.1 in /Users/emilyziyixiao/opt/anaconda3/envs/310_new/lib/python3.10/site-packages (from spacy[lookups]<4.0.0,>=2.0.0->alibi) (6.3.0)\r\n",
      "Requirement already satisfied: preshed<3.1.0,>=3.0.2 in /Users/emilyziyixiao/opt/anaconda3/envs/310_new/lib/python3.10/site-packages (from spacy[lookups]<4.0.0,>=2.0.0->alibi) (3.0.8)\r\n",
      "Requirement already satisfied: jinja2 in /Users/emilyziyixiao/opt/anaconda3/envs/310_new/lib/python3.10/site-packages (from spacy[lookups]<4.0.0,>=2.0.0->alibi) (3.1.2)\r\n",
      "Requirement already satisfied: thinc<8.2.0,>=8.1.8 in /Users/emilyziyixiao/opt/anaconda3/envs/310_new/lib/python3.10/site-packages (from spacy[lookups]<4.0.0,>=2.0.0->alibi) (8.1.9)\r\n",
      "Requirement already satisfied: wasabi<1.2.0,>=0.9.1 in /Users/emilyziyixiao/opt/anaconda3/envs/310_new/lib/python3.10/site-packages (from spacy[lookups]<4.0.0,>=2.0.0->alibi) (1.1.1)\r\n",
      "Requirement already satisfied: catalogue<2.1.0,>=2.0.6 in /Users/emilyziyixiao/opt/anaconda3/envs/310_new/lib/python3.10/site-packages (from spacy[lookups]<4.0.0,>=2.0.0->alibi) (2.0.8)\r\n",
      "Requirement already satisfied: cymem<2.1.0,>=2.0.2 in /Users/emilyziyixiao/opt/anaconda3/envs/310_new/lib/python3.10/site-packages (from spacy[lookups]<4.0.0,>=2.0.0->alibi) (2.0.7)\r\n",
      "Requirement already satisfied: pathy>=0.10.0 in /Users/emilyziyixiao/opt/anaconda3/envs/310_new/lib/python3.10/site-packages (from spacy[lookups]<4.0.0,>=2.0.0->alibi) (0.10.1)\r\n",
      "Requirement already satisfied: spacy-loggers<2.0.0,>=1.0.0 in /Users/emilyziyixiao/opt/anaconda3/envs/310_new/lib/python3.10/site-packages (from spacy[lookups]<4.0.0,>=2.0.0->alibi) (1.0.4)\r\n",
      "Requirement already satisfied: pydantic!=1.8,!=1.8.1,<1.11.0,>=1.7.4 in /Users/emilyziyixiao/opt/anaconda3/envs/310_new/lib/python3.10/site-packages (from spacy[lookups]<4.0.0,>=2.0.0->alibi) (1.10.7)\r\n",
      "Requirement already satisfied: typer<0.8.0,>=0.3.0 in /Users/emilyziyixiao/opt/anaconda3/envs/310_new/lib/python3.10/site-packages (from spacy[lookups]<4.0.0,>=2.0.0->alibi) (0.7.0)\r\n",
      "Requirement already satisfied: spacy-lookups-data<1.1.0,>=1.0.3 in /Users/emilyziyixiao/opt/anaconda3/envs/310_new/lib/python3.10/site-packages (from spacy[lookups]<4.0.0,>=2.0.0->alibi) (1.0.3)\r\n",
      "Requirement already satisfied: regex!=2019.12.17 in /Users/emilyziyixiao/opt/anaconda3/envs/310_new/lib/python3.10/site-packages (from transformers<5.0.0,>=4.7.0->alibi) (2022.7.9)\r\n",
      "Requirement already satisfied: tokenizers!=0.11.3,<0.14,>=0.11.1 in /Users/emilyziyixiao/opt/anaconda3/envs/310_new/lib/python3.10/site-packages (from transformers<5.0.0,>=4.7.0->alibi) (0.11.4)\r\n",
      "Requirement already satisfied: huggingface-hub<1.0,>=0.10.0 in /Users/emilyziyixiao/opt/anaconda3/envs/310_new/lib/python3.10/site-packages (from transformers<5.0.0,>=4.7.0->alibi) (0.10.1)\r\n",
      "Requirement already satisfied: filelock in /Users/emilyziyixiao/opt/anaconda3/envs/310_new/lib/python3.10/site-packages (from transformers<5.0.0,>=4.7.0->alibi) (3.11.0)\r\n",
      "Requirement already satisfied: pyyaml>=5.1 in /Users/emilyziyixiao/opt/anaconda3/envs/310_new/lib/python3.10/site-packages (from transformers<5.0.0,>=4.7.0->alibi) (6.0)\r\n",
      "Requirement already satisfied: six>=1.5 in /Users/emilyziyixiao/opt/anaconda3/envs/310_new/lib/python3.10/site-packages (from python-dateutil>=2.7->matplotlib<4.0.0,>=3.0.0->alibi) (1.16.0)\r\n",
      "Requirement already satisfied: confection<1.0.0,>=0.0.1 in /Users/emilyziyixiao/opt/anaconda3/envs/310_new/lib/python3.10/site-packages (from thinc<8.2.0,>=8.1.8->spacy[lookups]<4.0.0,>=2.0.0->alibi) (0.0.4)\r\n",
      "Requirement already satisfied: click<9.0.0,>=7.1.1 in /Users/emilyziyixiao/opt/anaconda3/envs/310_new/lib/python3.10/site-packages (from typer<0.8.0,>=0.3.0->spacy[lookups]<4.0.0,>=2.0.0->alibi) (8.0.4)\r\n",
      "Requirement already satisfied: MarkupSafe>=2.0 in /Users/emilyziyixiao/opt/anaconda3/envs/310_new/lib/python3.10/site-packages (from jinja2->spacy[lookups]<4.0.0,>=2.0.0->alibi) (2.1.1)\r\n"
     ]
    }
   ],
   "source": [
    "!pip install --upgrade scipy\n",
    "!pip install --upgrade alibi"
   ],
   "metadata": {
    "collapsed": false
   }
  },
  {
   "cell_type": "code",
   "execution_count": 10,
   "outputs": [
    {
     "ename": "ImportError",
     "evalue": "cannot import name 'QhullError' from 'scipy.spatial' (/Users/emilyziyixiao/opt/anaconda3/envs/310_new/lib/python3.10/site-packages/scipy/spatial/__init__.py)",
     "output_type": "error",
     "traceback": [
      "\u001B[0;31m---------------------------------------------------------------------------\u001B[0m",
      "\u001B[0;31mImportError\u001B[0m                               Traceback (most recent call last)",
      "Cell \u001B[0;32mIn[10], line 4\u001B[0m\n\u001B[1;32m      2\u001B[0m \u001B[38;5;28;01mimport\u001B[39;00m \u001B[38;5;21;01mpandas\u001B[39;00m \u001B[38;5;28;01mas\u001B[39;00m \u001B[38;5;21;01mpd\u001B[39;00m\n\u001B[1;32m      3\u001B[0m \u001B[38;5;28;01mfrom\u001B[39;00m \u001B[38;5;21;01msklearn\u001B[39;00m \u001B[38;5;28;01mimport\u001B[39;00m datasets\n\u001B[0;32m----> 4\u001B[0m \u001B[38;5;28;01mfrom\u001B[39;00m \u001B[38;5;21;01malibi\u001B[39;00m\u001B[38;5;21;01m.\u001B[39;00m\u001B[38;5;21;01mexplainers\u001B[39;00m \u001B[38;5;28;01mimport\u001B[39;00m ALE, plot_ale\n",
      "File \u001B[0;32m~/opt/anaconda3/envs/310_new/lib/python3.10/site-packages/alibi/__init__.py:1\u001B[0m\n\u001B[0;32m----> 1\u001B[0m \u001B[38;5;28;01mfrom\u001B[39;00m \u001B[38;5;21;01m.\u001B[39;00m \u001B[38;5;28;01mimport\u001B[39;00m confidence, datasets, explainers, prototypes, utils\n\u001B[1;32m      2\u001B[0m \u001B[38;5;28;01mfrom\u001B[39;00m \u001B[38;5;21;01m.\u001B[39;00m\u001B[38;5;21;01mversion\u001B[39;00m \u001B[38;5;28;01mimport\u001B[39;00m __version__  \u001B[38;5;66;03m# noqa F401\u001B[39;00m\n\u001B[1;32m      4\u001B[0m __all__ \u001B[38;5;241m=\u001B[39m [\u001B[38;5;124m'\u001B[39m\u001B[38;5;124mconfidence\u001B[39m\u001B[38;5;124m'\u001B[39m, \u001B[38;5;124m'\u001B[39m\u001B[38;5;124mdatasets\u001B[39m\u001B[38;5;124m'\u001B[39m, \u001B[38;5;124m'\u001B[39m\u001B[38;5;124mexplainers\u001B[39m\u001B[38;5;124m'\u001B[39m, \u001B[38;5;124m'\u001B[39m\u001B[38;5;124mprototypes\u001B[39m\u001B[38;5;124m'\u001B[39m, \u001B[38;5;124m'\u001B[39m\u001B[38;5;124mutils\u001B[39m\u001B[38;5;124m'\u001B[39m]\n",
      "File \u001B[0;32m~/opt/anaconda3/envs/310_new/lib/python3.10/site-packages/alibi/explainers/__init__.py:9\u001B[0m\n\u001B[1;32m      7\u001B[0m \u001B[38;5;28;01mfrom\u001B[39;00m \u001B[38;5;21;01malibi\u001B[39;00m\u001B[38;5;21;01m.\u001B[39;00m\u001B[38;5;21;01mexplainers\u001B[39;00m\u001B[38;5;21;01m.\u001B[39;00m\u001B[38;5;21;01manchors\u001B[39;00m\u001B[38;5;21;01m.\u001B[39;00m\u001B[38;5;21;01manchor_text\u001B[39;00m \u001B[38;5;28;01mimport\u001B[39;00m AnchorText\n\u001B[1;32m      8\u001B[0m \u001B[38;5;28;01mfrom\u001B[39;00m \u001B[38;5;21;01malibi\u001B[39;00m\u001B[38;5;21;01m.\u001B[39;00m\u001B[38;5;21;01mexplainers\u001B[39;00m\u001B[38;5;21;01m.\u001B[39;00m\u001B[38;5;21;01manchors\u001B[39;00m\u001B[38;5;21;01m.\u001B[39;00m\u001B[38;5;21;01manchor_tabular\u001B[39;00m \u001B[38;5;28;01mimport\u001B[39;00m AnchorTabular\n\u001B[0;32m----> 9\u001B[0m \u001B[38;5;28;01mfrom\u001B[39;00m \u001B[38;5;21;01malibi\u001B[39;00m\u001B[38;5;21;01m.\u001B[39;00m\u001B[38;5;21;01mexplainers\u001B[39;00m\u001B[38;5;21;01m.\u001B[39;00m\u001B[38;5;21;01manchors\u001B[39;00m\u001B[38;5;21;01m.\u001B[39;00m\u001B[38;5;21;01manchor_image\u001B[39;00m \u001B[38;5;28;01mimport\u001B[39;00m AnchorImage\n\u001B[1;32m     10\u001B[0m \u001B[38;5;28;01mfrom\u001B[39;00m \u001B[38;5;21;01malibi\u001B[39;00m\u001B[38;5;21;01m.\u001B[39;00m\u001B[38;5;21;01mexplainers\u001B[39;00m\u001B[38;5;21;01m.\u001B[39;00m\u001B[38;5;21;01mcfrl_base\u001B[39;00m \u001B[38;5;28;01mimport\u001B[39;00m CounterfactualRL\n\u001B[1;32m     11\u001B[0m \u001B[38;5;28;01mfrom\u001B[39;00m \u001B[38;5;21;01malibi\u001B[39;00m\u001B[38;5;21;01m.\u001B[39;00m\u001B[38;5;21;01mexplainers\u001B[39;00m\u001B[38;5;21;01m.\u001B[39;00m\u001B[38;5;21;01mcfrl_tabular\u001B[39;00m \u001B[38;5;28;01mimport\u001B[39;00m CounterfactualRLTabular\n",
      "File \u001B[0;32m~/opt/anaconda3/envs/310_new/lib/python3.10/site-packages/alibi/explainers/anchors/anchor_image.py:7\u001B[0m\n\u001B[1;32m      4\u001B[0m \u001B[38;5;28;01mfrom\u001B[39;00m \u001B[38;5;21;01mtyping\u001B[39;00m \u001B[38;5;28;01mimport\u001B[39;00m Any, Callable, Dict, List, Optional, Tuple, Type, Union\n\u001B[1;32m      6\u001B[0m \u001B[38;5;28;01mimport\u001B[39;00m \u001B[38;5;21;01mnumpy\u001B[39;00m \u001B[38;5;28;01mas\u001B[39;00m \u001B[38;5;21;01mnp\u001B[39;00m\n\u001B[0;32m----> 7\u001B[0m \u001B[38;5;28;01mfrom\u001B[39;00m \u001B[38;5;21;01mskimage\u001B[39;00m\u001B[38;5;21;01m.\u001B[39;00m\u001B[38;5;21;01msegmentation\u001B[39;00m \u001B[38;5;28;01mimport\u001B[39;00m felzenszwalb, quickshift, slic\n\u001B[1;32m      9\u001B[0m \u001B[38;5;28;01mfrom\u001B[39;00m \u001B[38;5;21;01malibi\u001B[39;00m\u001B[38;5;21;01m.\u001B[39;00m\u001B[38;5;21;01mapi\u001B[39;00m\u001B[38;5;21;01m.\u001B[39;00m\u001B[38;5;21;01mdefaults\u001B[39;00m \u001B[38;5;28;01mimport\u001B[39;00m DEFAULT_DATA_ANCHOR_IMG, DEFAULT_META_ANCHOR\n\u001B[1;32m     10\u001B[0m \u001B[38;5;28;01mfrom\u001B[39;00m \u001B[38;5;21;01malibi\u001B[39;00m\u001B[38;5;21;01m.\u001B[39;00m\u001B[38;5;21;01mapi\u001B[39;00m\u001B[38;5;21;01m.\u001B[39;00m\u001B[38;5;21;01minterfaces\u001B[39;00m \u001B[38;5;28;01mimport\u001B[39;00m Explainer, Explanation\n",
      "File \u001B[0;32m~/opt/anaconda3/envs/310_new/lib/python3.10/site-packages/skimage/segmentation/__init__.py:7\u001B[0m\n\u001B[1;32m      5\u001B[0m \u001B[38;5;28;01mfrom\u001B[39;00m \u001B[38;5;21;01m.\u001B[39;00m\u001B[38;5;21;01mslic_superpixels\u001B[39;00m \u001B[38;5;28;01mimport\u001B[39;00m slic\n\u001B[1;32m      6\u001B[0m \u001B[38;5;28;01mfrom\u001B[39;00m \u001B[38;5;21;01m.\u001B[39;00m\u001B[38;5;21;01m_quickshift\u001B[39;00m \u001B[38;5;28;01mimport\u001B[39;00m quickshift\n\u001B[0;32m----> 7\u001B[0m \u001B[38;5;28;01mfrom\u001B[39;00m \u001B[38;5;21;01m.\u001B[39;00m\u001B[38;5;21;01mboundaries\u001B[39;00m \u001B[38;5;28;01mimport\u001B[39;00m find_boundaries, mark_boundaries\n\u001B[1;32m      8\u001B[0m \u001B[38;5;28;01mfrom\u001B[39;00m \u001B[38;5;21;01m.\u001B[39;00m\u001B[38;5;21;01m_clear_border\u001B[39;00m \u001B[38;5;28;01mimport\u001B[39;00m clear_border\n\u001B[1;32m      9\u001B[0m \u001B[38;5;28;01mfrom\u001B[39;00m \u001B[38;5;21;01m.\u001B[39;00m\u001B[38;5;21;01m_join\u001B[39;00m \u001B[38;5;28;01mimport\u001B[39;00m join_segmentations, relabel_sequential\n",
      "File \u001B[0;32m~/opt/anaconda3/envs/310_new/lib/python3.10/site-packages/skimage/segmentation/boundaries.py:5\u001B[0m\n\u001B[1;32m      2\u001B[0m \u001B[38;5;28;01mfrom\u001B[39;00m \u001B[38;5;21;01mscipy\u001B[39;00m \u001B[38;5;28;01mimport\u001B[39;00m ndimage \u001B[38;5;28;01mas\u001B[39;00m ndi\n\u001B[1;32m      4\u001B[0m \u001B[38;5;28;01mfrom\u001B[39;00m \u001B[38;5;21;01m.\u001B[39;00m\u001B[38;5;21;01m.\u001B[39;00m\u001B[38;5;21;01m_shared\u001B[39;00m\u001B[38;5;21;01m.\u001B[39;00m\u001B[38;5;21;01mutils\u001B[39;00m \u001B[38;5;28;01mimport\u001B[39;00m _supported_float_type\n\u001B[0;32m----> 5\u001B[0m \u001B[38;5;28;01mfrom\u001B[39;00m \u001B[38;5;21;01m.\u001B[39;00m\u001B[38;5;21;01m.\u001B[39;00m\u001B[38;5;21;01mmorphology\u001B[39;00m \u001B[38;5;28;01mimport\u001B[39;00m dilation, erosion, square\n\u001B[1;32m      6\u001B[0m \u001B[38;5;28;01mfrom\u001B[39;00m \u001B[38;5;21;01m.\u001B[39;00m\u001B[38;5;21;01m.\u001B[39;00m\u001B[38;5;21;01mutil\u001B[39;00m \u001B[38;5;28;01mimport\u001B[39;00m img_as_float, view_as_windows\n\u001B[1;32m      7\u001B[0m \u001B[38;5;28;01mfrom\u001B[39;00m \u001B[38;5;21;01m.\u001B[39;00m\u001B[38;5;21;01m.\u001B[39;00m\u001B[38;5;21;01mcolor\u001B[39;00m \u001B[38;5;28;01mimport\u001B[39;00m gray2rgb\n",
      "File \u001B[0;32m~/opt/anaconda3/envs/310_new/lib/python3.10/site-packages/skimage/morphology/__init__.py:12\u001B[0m\n\u001B[1;32m     10\u001B[0m \u001B[38;5;28;01mfrom\u001B[39;00m \u001B[38;5;21;01m.\u001B[39;00m\u001B[38;5;21;01m.\u001B[39;00m\u001B[38;5;21;01mmeasure\u001B[39;00m\u001B[38;5;21;01m.\u001B[39;00m\u001B[38;5;21;01m_label\u001B[39;00m \u001B[38;5;28;01mimport\u001B[39;00m label\n\u001B[1;32m     11\u001B[0m \u001B[38;5;28;01mfrom\u001B[39;00m \u001B[38;5;21;01m.\u001B[39;00m\u001B[38;5;21;01m_skeletonize\u001B[39;00m \u001B[38;5;28;01mimport\u001B[39;00m medial_axis, skeletonize, skeletonize_3d, thin\n\u001B[0;32m---> 12\u001B[0m \u001B[38;5;28;01mfrom\u001B[39;00m \u001B[38;5;21;01m.\u001B[39;00m\u001B[38;5;21;01mconvex_hull\u001B[39;00m \u001B[38;5;28;01mimport\u001B[39;00m convex_hull_image, convex_hull_object\n\u001B[1;32m     13\u001B[0m \u001B[38;5;28;01mfrom\u001B[39;00m \u001B[38;5;21;01m.\u001B[39;00m\u001B[38;5;21;01mgrayreconstruct\u001B[39;00m \u001B[38;5;28;01mimport\u001B[39;00m reconstruction\n\u001B[1;32m     14\u001B[0m \u001B[38;5;28;01mfrom\u001B[39;00m \u001B[38;5;21;01m.\u001B[39;00m\u001B[38;5;21;01mmisc\u001B[39;00m \u001B[38;5;28;01mimport\u001B[39;00m remove_small_holes, remove_small_objects\n",
      "File \u001B[0;32m~/opt/anaconda3/envs/310_new/lib/python3.10/site-packages/skimage/morphology/convex_hull.py:4\u001B[0m\n\u001B[1;32m      2\u001B[0m \u001B[38;5;28;01mfrom\u001B[39;00m \u001B[38;5;21;01mitertools\u001B[39;00m \u001B[38;5;28;01mimport\u001B[39;00m product\n\u001B[1;32m      3\u001B[0m \u001B[38;5;28;01mimport\u001B[39;00m \u001B[38;5;21;01mnumpy\u001B[39;00m \u001B[38;5;28;01mas\u001B[39;00m \u001B[38;5;21;01mnp\u001B[39;00m\n\u001B[0;32m----> 4\u001B[0m \u001B[38;5;28;01mfrom\u001B[39;00m \u001B[38;5;21;01mscipy\u001B[39;00m\u001B[38;5;21;01m.\u001B[39;00m\u001B[38;5;21;01mspatial\u001B[39;00m \u001B[38;5;28;01mimport\u001B[39;00m ConvexHull, QhullError\n\u001B[1;32m      5\u001B[0m \u001B[38;5;28;01mfrom\u001B[39;00m \u001B[38;5;21;01m.\u001B[39;00m\u001B[38;5;21;01m.\u001B[39;00m\u001B[38;5;21;01mmeasure\u001B[39;00m\u001B[38;5;21;01m.\u001B[39;00m\u001B[38;5;21;01mpnpoly\u001B[39;00m \u001B[38;5;28;01mimport\u001B[39;00m grid_points_in_poly\n\u001B[1;32m      6\u001B[0m \u001B[38;5;28;01mfrom\u001B[39;00m \u001B[38;5;21;01m.\u001B[39;00m\u001B[38;5;21;01m_convex_hull\u001B[39;00m \u001B[38;5;28;01mimport\u001B[39;00m possible_hull\n",
      "\u001B[0;31mImportError\u001B[0m: cannot import name 'QhullError' from 'scipy.spatial' (/Users/emilyziyixiao/opt/anaconda3/envs/310_new/lib/python3.10/site-packages/scipy/spatial/__init__.py)"
     ]
    }
   ],
   "source": [
    "import numpy as np\n",
    "import pandas as pd\n",
    "from sklearn import datasets\n",
    "from alibi.explainers import ALE, plot_ale"
   ],
   "metadata": {
    "collapsed": false
   }
  },
  {
   "cell_type": "code",
   "execution_count": 4,
   "metadata": {
    "collapsed": true
   },
   "outputs": [
    {
     "ename": "ImportError",
     "evalue": "cannot import name 'QhullError' from 'scipy.spatial' (/Users/emilyziyixiao/opt/anaconda3/envs/310_new/lib/python3.10/site-packages/scipy/spatial/__init__.py)",
     "output_type": "error",
     "traceback": [
      "\u001B[0;31m---------------------------------------------------------------------------\u001B[0m",
      "\u001B[0;31mImportError\u001B[0m                               Traceback (most recent call last)",
      "Cell \u001B[0;32mIn[4], line 1\u001B[0m\n\u001B[0;32m----> 1\u001B[0m \u001B[38;5;28;01mfrom\u001B[39;00m \u001B[38;5;21;01malibi\u001B[39;00m\u001B[38;5;21;01m.\u001B[39;00m\u001B[38;5;21;01mexplainers\u001B[39;00m \u001B[38;5;28;01mimport\u001B[39;00m ALE, plot_ale\n\u001B[1;32m      2\u001B[0m ale \u001B[38;5;241m=\u001B[39m ALE(knn_clf\u001B[38;5;241m.\u001B[39mpredict_proba, feature_names \u001B[38;5;241m=\u001B[39m iris\u001B[38;5;241m.\u001B[39mfeature_names,\n\u001B[1;32m      3\u001B[0m           target_names \u001B[38;5;241m=\u001B[39m iris\u001B[38;5;241m.\u001B[39mtarget_names)\n\u001B[1;32m      4\u001B[0m explainer \u001B[38;5;241m=\u001B[39m ale\u001B[38;5;241m.\u001B[39mexplain(X\u001B[38;5;241m.\u001B[39mvalues) \u001B[38;5;66;03m# X needs to be np array\u001B[39;00m\n",
      "File \u001B[0;32m~/opt/anaconda3/envs/310_new/lib/python3.10/site-packages/alibi/__init__.py:1\u001B[0m\n\u001B[0;32m----> 1\u001B[0m \u001B[38;5;28;01mfrom\u001B[39;00m \u001B[38;5;21;01m.\u001B[39;00m \u001B[38;5;28;01mimport\u001B[39;00m confidence, datasets, explainers, prototypes, utils\n\u001B[1;32m      2\u001B[0m \u001B[38;5;28;01mfrom\u001B[39;00m \u001B[38;5;21;01m.\u001B[39;00m\u001B[38;5;21;01mversion\u001B[39;00m \u001B[38;5;28;01mimport\u001B[39;00m __version__  \u001B[38;5;66;03m# noqa F401\u001B[39;00m\n\u001B[1;32m      4\u001B[0m __all__ \u001B[38;5;241m=\u001B[39m [\u001B[38;5;124m'\u001B[39m\u001B[38;5;124mconfidence\u001B[39m\u001B[38;5;124m'\u001B[39m, \u001B[38;5;124m'\u001B[39m\u001B[38;5;124mdatasets\u001B[39m\u001B[38;5;124m'\u001B[39m, \u001B[38;5;124m'\u001B[39m\u001B[38;5;124mexplainers\u001B[39m\u001B[38;5;124m'\u001B[39m, \u001B[38;5;124m'\u001B[39m\u001B[38;5;124mprototypes\u001B[39m\u001B[38;5;124m'\u001B[39m, \u001B[38;5;124m'\u001B[39m\u001B[38;5;124mutils\u001B[39m\u001B[38;5;124m'\u001B[39m]\n",
      "File \u001B[0;32m~/opt/anaconda3/envs/310_new/lib/python3.10/site-packages/alibi/explainers/__init__.py:9\u001B[0m\n\u001B[1;32m      7\u001B[0m \u001B[38;5;28;01mfrom\u001B[39;00m \u001B[38;5;21;01malibi\u001B[39;00m\u001B[38;5;21;01m.\u001B[39;00m\u001B[38;5;21;01mexplainers\u001B[39;00m\u001B[38;5;21;01m.\u001B[39;00m\u001B[38;5;21;01manchors\u001B[39;00m\u001B[38;5;21;01m.\u001B[39;00m\u001B[38;5;21;01manchor_text\u001B[39;00m \u001B[38;5;28;01mimport\u001B[39;00m AnchorText\n\u001B[1;32m      8\u001B[0m \u001B[38;5;28;01mfrom\u001B[39;00m \u001B[38;5;21;01malibi\u001B[39;00m\u001B[38;5;21;01m.\u001B[39;00m\u001B[38;5;21;01mexplainers\u001B[39;00m\u001B[38;5;21;01m.\u001B[39;00m\u001B[38;5;21;01manchors\u001B[39;00m\u001B[38;5;21;01m.\u001B[39;00m\u001B[38;5;21;01manchor_tabular\u001B[39;00m \u001B[38;5;28;01mimport\u001B[39;00m AnchorTabular\n\u001B[0;32m----> 9\u001B[0m \u001B[38;5;28;01mfrom\u001B[39;00m \u001B[38;5;21;01malibi\u001B[39;00m\u001B[38;5;21;01m.\u001B[39;00m\u001B[38;5;21;01mexplainers\u001B[39;00m\u001B[38;5;21;01m.\u001B[39;00m\u001B[38;5;21;01manchors\u001B[39;00m\u001B[38;5;21;01m.\u001B[39;00m\u001B[38;5;21;01manchor_image\u001B[39;00m \u001B[38;5;28;01mimport\u001B[39;00m AnchorImage\n\u001B[1;32m     10\u001B[0m \u001B[38;5;28;01mfrom\u001B[39;00m \u001B[38;5;21;01malibi\u001B[39;00m\u001B[38;5;21;01m.\u001B[39;00m\u001B[38;5;21;01mexplainers\u001B[39;00m\u001B[38;5;21;01m.\u001B[39;00m\u001B[38;5;21;01mcfrl_base\u001B[39;00m \u001B[38;5;28;01mimport\u001B[39;00m CounterfactualRL\n\u001B[1;32m     11\u001B[0m \u001B[38;5;28;01mfrom\u001B[39;00m \u001B[38;5;21;01malibi\u001B[39;00m\u001B[38;5;21;01m.\u001B[39;00m\u001B[38;5;21;01mexplainers\u001B[39;00m\u001B[38;5;21;01m.\u001B[39;00m\u001B[38;5;21;01mcfrl_tabular\u001B[39;00m \u001B[38;5;28;01mimport\u001B[39;00m CounterfactualRLTabular\n",
      "File \u001B[0;32m~/opt/anaconda3/envs/310_new/lib/python3.10/site-packages/alibi/explainers/anchors/anchor_image.py:7\u001B[0m\n\u001B[1;32m      4\u001B[0m \u001B[38;5;28;01mfrom\u001B[39;00m \u001B[38;5;21;01mtyping\u001B[39;00m \u001B[38;5;28;01mimport\u001B[39;00m Any, Callable, Dict, List, Optional, Tuple, Type, Union\n\u001B[1;32m      6\u001B[0m \u001B[38;5;28;01mimport\u001B[39;00m \u001B[38;5;21;01mnumpy\u001B[39;00m \u001B[38;5;28;01mas\u001B[39;00m \u001B[38;5;21;01mnp\u001B[39;00m\n\u001B[0;32m----> 7\u001B[0m \u001B[38;5;28;01mfrom\u001B[39;00m \u001B[38;5;21;01mskimage\u001B[39;00m\u001B[38;5;21;01m.\u001B[39;00m\u001B[38;5;21;01msegmentation\u001B[39;00m \u001B[38;5;28;01mimport\u001B[39;00m felzenszwalb, quickshift, slic\n\u001B[1;32m      9\u001B[0m \u001B[38;5;28;01mfrom\u001B[39;00m \u001B[38;5;21;01malibi\u001B[39;00m\u001B[38;5;21;01m.\u001B[39;00m\u001B[38;5;21;01mapi\u001B[39;00m\u001B[38;5;21;01m.\u001B[39;00m\u001B[38;5;21;01mdefaults\u001B[39;00m \u001B[38;5;28;01mimport\u001B[39;00m DEFAULT_DATA_ANCHOR_IMG, DEFAULT_META_ANCHOR\n\u001B[1;32m     10\u001B[0m \u001B[38;5;28;01mfrom\u001B[39;00m \u001B[38;5;21;01malibi\u001B[39;00m\u001B[38;5;21;01m.\u001B[39;00m\u001B[38;5;21;01mapi\u001B[39;00m\u001B[38;5;21;01m.\u001B[39;00m\u001B[38;5;21;01minterfaces\u001B[39;00m \u001B[38;5;28;01mimport\u001B[39;00m Explainer, Explanation\n",
      "File \u001B[0;32m~/opt/anaconda3/envs/310_new/lib/python3.10/site-packages/skimage/segmentation/__init__.py:7\u001B[0m\n\u001B[1;32m      5\u001B[0m \u001B[38;5;28;01mfrom\u001B[39;00m \u001B[38;5;21;01m.\u001B[39;00m\u001B[38;5;21;01mslic_superpixels\u001B[39;00m \u001B[38;5;28;01mimport\u001B[39;00m slic\n\u001B[1;32m      6\u001B[0m \u001B[38;5;28;01mfrom\u001B[39;00m \u001B[38;5;21;01m.\u001B[39;00m\u001B[38;5;21;01m_quickshift\u001B[39;00m \u001B[38;5;28;01mimport\u001B[39;00m quickshift\n\u001B[0;32m----> 7\u001B[0m \u001B[38;5;28;01mfrom\u001B[39;00m \u001B[38;5;21;01m.\u001B[39;00m\u001B[38;5;21;01mboundaries\u001B[39;00m \u001B[38;5;28;01mimport\u001B[39;00m find_boundaries, mark_boundaries\n\u001B[1;32m      8\u001B[0m \u001B[38;5;28;01mfrom\u001B[39;00m \u001B[38;5;21;01m.\u001B[39;00m\u001B[38;5;21;01m_clear_border\u001B[39;00m \u001B[38;5;28;01mimport\u001B[39;00m clear_border\n\u001B[1;32m      9\u001B[0m \u001B[38;5;28;01mfrom\u001B[39;00m \u001B[38;5;21;01m.\u001B[39;00m\u001B[38;5;21;01m_join\u001B[39;00m \u001B[38;5;28;01mimport\u001B[39;00m join_segmentations, relabel_sequential\n",
      "File \u001B[0;32m~/opt/anaconda3/envs/310_new/lib/python3.10/site-packages/skimage/segmentation/boundaries.py:5\u001B[0m\n\u001B[1;32m      2\u001B[0m \u001B[38;5;28;01mfrom\u001B[39;00m \u001B[38;5;21;01mscipy\u001B[39;00m \u001B[38;5;28;01mimport\u001B[39;00m ndimage \u001B[38;5;28;01mas\u001B[39;00m ndi\n\u001B[1;32m      4\u001B[0m \u001B[38;5;28;01mfrom\u001B[39;00m \u001B[38;5;21;01m.\u001B[39;00m\u001B[38;5;21;01m.\u001B[39;00m\u001B[38;5;21;01m_shared\u001B[39;00m\u001B[38;5;21;01m.\u001B[39;00m\u001B[38;5;21;01mutils\u001B[39;00m \u001B[38;5;28;01mimport\u001B[39;00m _supported_float_type\n\u001B[0;32m----> 5\u001B[0m \u001B[38;5;28;01mfrom\u001B[39;00m \u001B[38;5;21;01m.\u001B[39;00m\u001B[38;5;21;01m.\u001B[39;00m\u001B[38;5;21;01mmorphology\u001B[39;00m \u001B[38;5;28;01mimport\u001B[39;00m dilation, erosion, square\n\u001B[1;32m      6\u001B[0m \u001B[38;5;28;01mfrom\u001B[39;00m \u001B[38;5;21;01m.\u001B[39;00m\u001B[38;5;21;01m.\u001B[39;00m\u001B[38;5;21;01mutil\u001B[39;00m \u001B[38;5;28;01mimport\u001B[39;00m img_as_float, view_as_windows\n\u001B[1;32m      7\u001B[0m \u001B[38;5;28;01mfrom\u001B[39;00m \u001B[38;5;21;01m.\u001B[39;00m\u001B[38;5;21;01m.\u001B[39;00m\u001B[38;5;21;01mcolor\u001B[39;00m \u001B[38;5;28;01mimport\u001B[39;00m gray2rgb\n",
      "File \u001B[0;32m~/opt/anaconda3/envs/310_new/lib/python3.10/site-packages/skimage/morphology/__init__.py:12\u001B[0m\n\u001B[1;32m     10\u001B[0m \u001B[38;5;28;01mfrom\u001B[39;00m \u001B[38;5;21;01m.\u001B[39;00m\u001B[38;5;21;01m.\u001B[39;00m\u001B[38;5;21;01mmeasure\u001B[39;00m\u001B[38;5;21;01m.\u001B[39;00m\u001B[38;5;21;01m_label\u001B[39;00m \u001B[38;5;28;01mimport\u001B[39;00m label\n\u001B[1;32m     11\u001B[0m \u001B[38;5;28;01mfrom\u001B[39;00m \u001B[38;5;21;01m.\u001B[39;00m\u001B[38;5;21;01m_skeletonize\u001B[39;00m \u001B[38;5;28;01mimport\u001B[39;00m medial_axis, skeletonize, skeletonize_3d, thin\n\u001B[0;32m---> 12\u001B[0m \u001B[38;5;28;01mfrom\u001B[39;00m \u001B[38;5;21;01m.\u001B[39;00m\u001B[38;5;21;01mconvex_hull\u001B[39;00m \u001B[38;5;28;01mimport\u001B[39;00m convex_hull_image, convex_hull_object\n\u001B[1;32m     13\u001B[0m \u001B[38;5;28;01mfrom\u001B[39;00m \u001B[38;5;21;01m.\u001B[39;00m\u001B[38;5;21;01mgrayreconstruct\u001B[39;00m \u001B[38;5;28;01mimport\u001B[39;00m reconstruction\n\u001B[1;32m     14\u001B[0m \u001B[38;5;28;01mfrom\u001B[39;00m \u001B[38;5;21;01m.\u001B[39;00m\u001B[38;5;21;01mmisc\u001B[39;00m \u001B[38;5;28;01mimport\u001B[39;00m remove_small_holes, remove_small_objects\n",
      "File \u001B[0;32m~/opt/anaconda3/envs/310_new/lib/python3.10/site-packages/skimage/morphology/convex_hull.py:4\u001B[0m\n\u001B[1;32m      2\u001B[0m \u001B[38;5;28;01mfrom\u001B[39;00m \u001B[38;5;21;01mitertools\u001B[39;00m \u001B[38;5;28;01mimport\u001B[39;00m product\n\u001B[1;32m      3\u001B[0m \u001B[38;5;28;01mimport\u001B[39;00m \u001B[38;5;21;01mnumpy\u001B[39;00m \u001B[38;5;28;01mas\u001B[39;00m \u001B[38;5;21;01mnp\u001B[39;00m\n\u001B[0;32m----> 4\u001B[0m \u001B[38;5;28;01mfrom\u001B[39;00m \u001B[38;5;21;01mscipy\u001B[39;00m\u001B[38;5;21;01m.\u001B[39;00m\u001B[38;5;21;01mspatial\u001B[39;00m \u001B[38;5;28;01mimport\u001B[39;00m ConvexHull, QhullError\n\u001B[1;32m      5\u001B[0m \u001B[38;5;28;01mfrom\u001B[39;00m \u001B[38;5;21;01m.\u001B[39;00m\u001B[38;5;21;01m.\u001B[39;00m\u001B[38;5;21;01mmeasure\u001B[39;00m\u001B[38;5;21;01m.\u001B[39;00m\u001B[38;5;21;01mpnpoly\u001B[39;00m \u001B[38;5;28;01mimport\u001B[39;00m grid_points_in_poly\n\u001B[1;32m      6\u001B[0m \u001B[38;5;28;01mfrom\u001B[39;00m \u001B[38;5;21;01m.\u001B[39;00m\u001B[38;5;21;01m_convex_hull\u001B[39;00m \u001B[38;5;28;01mimport\u001B[39;00m possible_hull\n",
      "\u001B[0;31mImportError\u001B[0m: cannot import name 'QhullError' from 'scipy.spatial' (/Users/emilyziyixiao/opt/anaconda3/envs/310_new/lib/python3.10/site-packages/scipy/spatial/__init__.py)"
     ]
    }
   ],
   "source": [
    "from alibi.explainers import ALE, plot_ale\n",
    "ale = ALE(knn_clf.predict_proba, feature_names = iris.feature_names,\n",
    "          target_names = iris.target_names)\n",
    "explainer = ale.explain(X.values) # X needs to be np array\n",
    "plot_ale(explainer,features = \"petal length (cm)\")"
   ]
  },
  {
   "cell_type": "code",
   "execution_count": null,
   "outputs": [],
   "source": [],
   "metadata": {
    "collapsed": false
   }
  }
 ],
 "metadata": {
  "kernelspec": {
   "display_name": "Python 3",
   "language": "python",
   "name": "python3"
  },
  "language_info": {
   "codemirror_mode": {
    "name": "ipython",
    "version": 2
   },
   "file_extension": ".py",
   "mimetype": "text/x-python",
   "name": "python",
   "nbconvert_exporter": "python",
   "pygments_lexer": "ipython2",
   "version": "2.7.6"
  }
 },
 "nbformat": 4,
 "nbformat_minor": 0
}
