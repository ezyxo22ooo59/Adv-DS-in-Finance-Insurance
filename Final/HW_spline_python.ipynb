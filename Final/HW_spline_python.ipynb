{
 "cells": [
  {
   "cell_type": "code",
   "execution_count": 5,
   "outputs": [
    {
     "name": "stdout",
     "output_type": "stream",
     "text": [
      "\u001B[33mWARNING: Skipping theano as it is not installed.\u001B[0m\u001B[33m\r\n",
      "\u001B[0mFound existing installation: Theano-PyMC 1.1.2\r\n",
      "Uninstalling Theano-PyMC-1.1.2:\r\n",
      "  Successfully uninstalled Theano-PyMC-1.1.2\r\n"
     ]
    }
   ],
   "source": [
    "!pip uninstall -y theano\n",
    "!pip uninstall -y theano-pymc"
   ],
   "metadata": {
    "collapsed": false
   }
  },
  {
   "cell_type": "code",
   "execution_count": 6,
   "outputs": [
    {
     "name": "stdout",
     "output_type": "stream",
     "text": [
      "Collecting theano-pymc\r\n",
      "  Downloading Theano-PyMC-1.1.2.tar.gz (1.8 MB)\r\n",
      "\u001B[2K     \u001B[90m━━━━━━━━━━━━━━━━━━━━━━━━━━━━━━━━━━━━━━━━\u001B[0m \u001B[32m1.8/1.8 MB\u001B[0m \u001B[31m17.0 MB/s\u001B[0m eta \u001B[36m0:00:00\u001B[0m00:01\u001B[0m00:01\u001B[0m\r\n",
      "\u001B[?25h  Preparing metadata (setup.py) ... \u001B[?25ldone\r\n",
      "\u001B[?25hRequirement already satisfied: numpy>=1.9.1 in /Users/emilyziyixiao/opt/anaconda3/envs/310_new/lib/python3.10/site-packages (from theano-pymc) (1.24.2)\r\n",
      "Requirement already satisfied: scipy>=0.14 in /Users/emilyziyixiao/opt/anaconda3/envs/310_new/lib/python3.10/site-packages (from theano-pymc) (1.7.3)\r\n",
      "Requirement already satisfied: filelock in /Users/emilyziyixiao/opt/anaconda3/envs/310_new/lib/python3.10/site-packages (from theano-pymc) (3.11.0)\r\n",
      "Collecting numpy>=1.9.1\r\n",
      "  Downloading numpy-1.22.4-cp310-cp310-macosx_10_15_x86_64.whl (17.7 MB)\r\n",
      "\u001B[2K     \u001B[90m━━━━━━━━━━━━━━━━━━━━━━━━━━━━━━━━━━━━━━━━\u001B[0m \u001B[32m17.7/17.7 MB\u001B[0m \u001B[31m22.3 MB/s\u001B[0m eta \u001B[36m0:00:00\u001B[0m00:01\u001B[0m00:01\u001B[0m\r\n",
      "\u001B[?25hBuilding wheels for collected packages: theano-pymc\r\n",
      "  Building wheel for theano-pymc (setup.py) ... \u001B[?25ldone\r\n",
      "\u001B[?25h  Created wheel for theano-pymc: filename=Theano_PyMC-1.1.2-py3-none-any.whl size=1529963 sha256=3e61e505f1f3759121e71064005fa4bb9627e361ff367d3d36b2d319d037e8f1\r\n",
      "  Stored in directory: /Users/emilyziyixiao/Library/Caches/pip/wheels/c2/da/87/4e3e2d14772741721d4ebe739c16bcf10ca3c6348f740aa852\r\n",
      "Successfully built theano-pymc\r\n",
      "Installing collected packages: numpy, theano-pymc\r\n",
      "  Attempting uninstall: numpy\r\n",
      "    Found existing installation: numpy 1.24.2\r\n",
      "    Uninstalling numpy-1.24.2:\r\n",
      "      Successfully uninstalled numpy-1.24.2\r\n",
      "\u001B[31mERROR: pip's dependency resolver does not currently take into account all the packages that are installed. This behaviour is the source of the following dependency conflicts.\r\n",
      "tensorflow 2.10.0 requires libclang>=13.0.0, which is not installed.\r\n",
      "tensorflow 2.10.0 requires tensorflow-io-gcs-filesystem>=0.23.1, which is not installed.\r\n",
      "tensorflow 2.10.0 requires protobuf<3.20,>=3.9.2, but you have protobuf 3.20.3 which is incompatible.\r\n",
      "tensorboard 2.10.0 requires protobuf<3.20,>=3.9.2, but you have protobuf 3.20.3 which is incompatible.\r\n",
      "arviz 0.11.2 requires typing-extensions<4,>=3.7.4.3, but you have typing-extensions 4.4.0 which is incompatible.\u001B[0m\u001B[31m\r\n",
      "\u001B[0mSuccessfully installed numpy-1.22.4 theano-pymc-1.1.2\r\n"
     ]
    }
   ],
   "source": [
    "!pip install theano-pymc"
   ],
   "metadata": {
    "collapsed": false
   }
  },
  {
   "cell_type": "code",
   "execution_count": 8,
   "outputs": [
    {
     "name": "stdout",
     "output_type": "stream",
     "text": [
      "Requirement already satisfied: arviz in /Users/emilyziyixiao/opt/anaconda3/envs/310_new/lib/python3.10/site-packages (0.11.2)\r\n",
      "Requirement already satisfied: pandas>=0.23 in /Users/emilyziyixiao/opt/anaconda3/envs/310_new/lib/python3.10/site-packages (from arviz) (1.5.3)\r\n",
      "Requirement already satisfied: numpy>=1.12 in /Users/emilyziyixiao/opt/anaconda3/envs/310_new/lib/python3.10/site-packages (from arviz) (1.22.4)\r\n",
      "Collecting typing-extensions<4,>=3.7.4.3\r\n",
      "  Downloading typing_extensions-3.10.0.2-py3-none-any.whl (26 kB)\r\n",
      "Requirement already satisfied: scipy>=0.19 in /Users/emilyziyixiao/opt/anaconda3/envs/310_new/lib/python3.10/site-packages (from arviz) (1.7.3)\r\n",
      "Requirement already satisfied: xarray>=0.16.1 in /Users/emilyziyixiao/opt/anaconda3/envs/310_new/lib/python3.10/site-packages (from arviz) (2022.11.0)\r\n",
      "Requirement already satisfied: matplotlib>=3.0 in /Users/emilyziyixiao/opt/anaconda3/envs/310_new/lib/python3.10/site-packages (from arviz) (3.7.1)\r\n",
      "Requirement already satisfied: packaging in /Users/emilyziyixiao/opt/anaconda3/envs/310_new/lib/python3.10/site-packages (from arviz) (23.0)\r\n",
      "Requirement already satisfied: setuptools>=38.4 in /Users/emilyziyixiao/opt/anaconda3/envs/310_new/lib/python3.10/site-packages (from arviz) (65.6.3)\r\n",
      "Requirement already satisfied: netcdf4 in /Users/emilyziyixiao/opt/anaconda3/envs/310_new/lib/python3.10/site-packages (from arviz) (1.6.2)\r\n",
      "Requirement already satisfied: cycler>=0.10 in /Users/emilyziyixiao/opt/anaconda3/envs/310_new/lib/python3.10/site-packages (from matplotlib>=3.0->arviz) (0.11.0)\r\n",
      "Requirement already satisfied: pillow>=6.2.0 in /Users/emilyziyixiao/opt/anaconda3/envs/310_new/lib/python3.10/site-packages (from matplotlib>=3.0->arviz) (9.4.0)\r\n",
      "Requirement already satisfied: pyparsing>=2.3.1 in /Users/emilyziyixiao/opt/anaconda3/envs/310_new/lib/python3.10/site-packages (from matplotlib>=3.0->arviz) (3.0.9)\r\n",
      "Requirement already satisfied: fonttools>=4.22.0 in /Users/emilyziyixiao/opt/anaconda3/envs/310_new/lib/python3.10/site-packages (from matplotlib>=3.0->arviz) (4.25.0)\r\n",
      "Requirement already satisfied: python-dateutil>=2.7 in /Users/emilyziyixiao/opt/anaconda3/envs/310_new/lib/python3.10/site-packages (from matplotlib>=3.0->arviz) (2.8.2)\r\n",
      "Requirement already satisfied: contourpy>=1.0.1 in /Users/emilyziyixiao/opt/anaconda3/envs/310_new/lib/python3.10/site-packages (from matplotlib>=3.0->arviz) (1.0.5)\r\n",
      "Requirement already satisfied: kiwisolver>=1.0.1 in /Users/emilyziyixiao/opt/anaconda3/envs/310_new/lib/python3.10/site-packages (from matplotlib>=3.0->arviz) (1.4.4)\r\n",
      "Requirement already satisfied: pytz>=2020.1 in /Users/emilyziyixiao/opt/anaconda3/envs/310_new/lib/python3.10/site-packages (from pandas>=0.23->arviz) (2022.7)\r\n",
      "Requirement already satisfied: cftime in /Users/emilyziyixiao/opt/anaconda3/envs/310_new/lib/python3.10/site-packages (from netcdf4->arviz) (1.6.2)\r\n",
      "Requirement already satisfied: six>=1.5 in /Users/emilyziyixiao/opt/anaconda3/envs/310_new/lib/python3.10/site-packages (from python-dateutil>=2.7->matplotlib>=3.0->arviz) (1.16.0)\r\n",
      "Installing collected packages: typing-extensions\r\n",
      "  Attempting uninstall: typing-extensions\r\n",
      "    Found existing installation: typing_extensions 4.4.0\r\n",
      "    Uninstalling typing_extensions-4.4.0:\r\n",
      "      Successfully uninstalled typing_extensions-4.4.0\r\n",
      "\u001B[31mERROR: pip's dependency resolver does not currently take into account all the packages that are installed. This behaviour is the source of the following dependency conflicts.\r\n",
      "tensorflow 2.10.0 requires libclang>=13.0.0, which is not installed.\r\n",
      "tensorflow 2.10.0 requires tensorflow-io-gcs-filesystem>=0.23.1, which is not installed.\r\n",
      "tensorflow 2.10.0 requires protobuf<3.20,>=3.9.2, but you have protobuf 3.20.3 which is incompatible.\u001B[0m\u001B[31m\r\n",
      "\u001B[0mSuccessfully installed typing-extensions-3.10.0.2\r\n"
     ]
    }
   ],
   "source": [
    "!pip install arviz"
   ],
   "metadata": {
    "collapsed": false
   }
  },
  {
   "cell_type": "code",
   "execution_count": 11,
   "outputs": [
    {
     "name": "stdout",
     "output_type": "stream",
     "text": [
      "Requirement already satisfied: theano-pymc==1.1.2 in /Users/emilyziyixiao/opt/anaconda3/envs/310_new/lib/python3.10/site-packages (1.1.2)\r\n",
      "Collecting pymc3==3.11.2\r\n",
      "  Downloading pymc3-3.11.2-py3-none-any.whl (869 kB)\r\n",
      "\u001B[2K     \u001B[90m━━━━━━━━━━━━━━━━━━━━━━━━━━━━━━━━━━━━━━\u001B[0m \u001B[32m869.4/869.4 kB\u001B[0m \u001B[31m12.5 MB/s\u001B[0m eta \u001B[36m0:00:00\u001B[0m00:01\u001B[0m\r\n",
      "\u001B[?25hRequirement already satisfied: filelock in /Users/emilyziyixiao/opt/anaconda3/envs/310_new/lib/python3.10/site-packages (from theano-pymc==1.1.2) (3.11.0)\r\n",
      "Requirement already satisfied: scipy>=0.14 in /Users/emilyziyixiao/opt/anaconda3/envs/310_new/lib/python3.10/site-packages (from theano-pymc==1.1.2) (1.7.3)\r\n",
      "Requirement already satisfied: numpy>=1.9.1 in /Users/emilyziyixiao/opt/anaconda3/envs/310_new/lib/python3.10/site-packages (from theano-pymc==1.1.2) (1.22.4)\r\n",
      "Requirement already satisfied: semver in /Users/emilyziyixiao/opt/anaconda3/envs/310_new/lib/python3.10/site-packages (from pymc3==3.11.2) (2.13.0)\r\n",
      "Requirement already satisfied: pandas>=0.24.0 in /Users/emilyziyixiao/opt/anaconda3/envs/310_new/lib/python3.10/site-packages (from pymc3==3.11.2) (1.5.3)\r\n",
      "Requirement already satisfied: cachetools>=4.2.1 in /Users/emilyziyixiao/opt/anaconda3/envs/310_new/lib/python3.10/site-packages (from pymc3==3.11.2) (4.2.2)\r\n",
      "Requirement already satisfied: patsy>=0.5.1 in /Users/emilyziyixiao/opt/anaconda3/envs/310_new/lib/python3.10/site-packages (from pymc3==3.11.2) (0.5.3)\r\n",
      "Requirement already satisfied: typing-extensions>=3.7.4 in /Users/emilyziyixiao/opt/anaconda3/envs/310_new/lib/python3.10/site-packages (from pymc3==3.11.2) (3.10.0.2)\r\n",
      "Requirement already satisfied: fastprogress>=0.2.0 in /Users/emilyziyixiao/opt/anaconda3/envs/310_new/lib/python3.10/site-packages (from pymc3==3.11.2) (1.0.0)\r\n",
      "Requirement already satisfied: dill in /Users/emilyziyixiao/opt/anaconda3/envs/310_new/lib/python3.10/site-packages (from pymc3==3.11.2) (0.3.6)\r\n",
      "Requirement already satisfied: arviz>=0.11.0 in /Users/emilyziyixiao/opt/anaconda3/envs/310_new/lib/python3.10/site-packages (from pymc3==3.11.2) (0.11.2)\r\n",
      "Requirement already satisfied: xarray>=0.16.1 in /Users/emilyziyixiao/opt/anaconda3/envs/310_new/lib/python3.10/site-packages (from arviz>=0.11.0->pymc3==3.11.2) (2022.11.0)\r\n",
      "Requirement already satisfied: netcdf4 in /Users/emilyziyixiao/opt/anaconda3/envs/310_new/lib/python3.10/site-packages (from arviz>=0.11.0->pymc3==3.11.2) (1.6.2)\r\n",
      "Requirement already satisfied: packaging in /Users/emilyziyixiao/opt/anaconda3/envs/310_new/lib/python3.10/site-packages (from arviz>=0.11.0->pymc3==3.11.2) (23.0)\r\n",
      "Requirement already satisfied: matplotlib>=3.0 in /Users/emilyziyixiao/opt/anaconda3/envs/310_new/lib/python3.10/site-packages (from arviz>=0.11.0->pymc3==3.11.2) (3.7.1)\r\n",
      "Requirement already satisfied: setuptools>=38.4 in /Users/emilyziyixiao/opt/anaconda3/envs/310_new/lib/python3.10/site-packages (from arviz>=0.11.0->pymc3==3.11.2) (65.6.3)\r\n",
      "Requirement already satisfied: python-dateutil>=2.8.1 in /Users/emilyziyixiao/opt/anaconda3/envs/310_new/lib/python3.10/site-packages (from pandas>=0.24.0->pymc3==3.11.2) (2.8.2)\r\n",
      "Requirement already satisfied: pytz>=2020.1 in /Users/emilyziyixiao/opt/anaconda3/envs/310_new/lib/python3.10/site-packages (from pandas>=0.24.0->pymc3==3.11.2) (2022.7)\r\n",
      "Requirement already satisfied: six in /Users/emilyziyixiao/opt/anaconda3/envs/310_new/lib/python3.10/site-packages (from patsy>=0.5.1->pymc3==3.11.2) (1.16.0)\r\n",
      "Requirement already satisfied: cycler>=0.10 in /Users/emilyziyixiao/opt/anaconda3/envs/310_new/lib/python3.10/site-packages (from matplotlib>=3.0->arviz>=0.11.0->pymc3==3.11.2) (0.11.0)\r\n",
      "Requirement already satisfied: kiwisolver>=1.0.1 in /Users/emilyziyixiao/opt/anaconda3/envs/310_new/lib/python3.10/site-packages (from matplotlib>=3.0->arviz>=0.11.0->pymc3==3.11.2) (1.4.4)\r\n",
      "Requirement already satisfied: pillow>=6.2.0 in /Users/emilyziyixiao/opt/anaconda3/envs/310_new/lib/python3.10/site-packages (from matplotlib>=3.0->arviz>=0.11.0->pymc3==3.11.2) (9.4.0)\r\n",
      "Requirement already satisfied: pyparsing>=2.3.1 in /Users/emilyziyixiao/opt/anaconda3/envs/310_new/lib/python3.10/site-packages (from matplotlib>=3.0->arviz>=0.11.0->pymc3==3.11.2) (3.0.9)\r\n",
      "Requirement already satisfied: fonttools>=4.22.0 in /Users/emilyziyixiao/opt/anaconda3/envs/310_new/lib/python3.10/site-packages (from matplotlib>=3.0->arviz>=0.11.0->pymc3==3.11.2) (4.25.0)\r\n",
      "Requirement already satisfied: contourpy>=1.0.1 in /Users/emilyziyixiao/opt/anaconda3/envs/310_new/lib/python3.10/site-packages (from matplotlib>=3.0->arviz>=0.11.0->pymc3==3.11.2) (1.0.5)\r\n",
      "Requirement already satisfied: cftime in /Users/emilyziyixiao/opt/anaconda3/envs/310_new/lib/python3.10/site-packages (from netcdf4->arviz>=0.11.0->pymc3==3.11.2) (1.6.2)\r\n",
      "Installing collected packages: pymc3\r\n",
      "  Attempting uninstall: pymc3\r\n",
      "    Found existing installation: pymc3 3.11.4\r\n",
      "    Uninstalling pymc3-3.11.4:\r\n",
      "      Successfully uninstalled pymc3-3.11.4\r\n",
      "Successfully installed pymc3-3.11.2\r\n"
     ]
    }
   ],
   "source": [
    "!pip install theano-pymc==1.1.2 pymc3==3.11.2\n"
   ],
   "metadata": {
    "collapsed": false
   }
  },
  {
   "cell_type": "code",
   "execution_count": null,
   "outputs": [],
   "source": [
    "import pandas as pd\n",
    "import numpy as np\n",
    "import matplotlib.pyplot as plt\n",
    "\n",
    "import arviz as az\n",
    "import pymc as pm\n",
    "from patsy import dmatrix\n",
    "\n",
    "from IPython.core.interactiveshell import InteractiveShell\n",
    "InteractiveShell.ast_node_interactivity = \"all\"\n",
    "\n",
    "import warnings\n",
    "warnings.filterwarnings(\"ignore\")"
   ],
   "metadata": {
    "collapsed": false
   }
  },
  {
   "cell_type": "code",
   "execution_count": 16,
   "metadata": {
    "collapsed": true
   },
   "outputs": [
    {
     "ename": "TypeError",
     "evalue": "unsupported operand type(s) for *: 'Timestamp' and 'float'",
     "output_type": "error",
     "traceback": [
      "\u001B[0;31m---------------------------------------------------------------------------\u001B[0m",
      "\u001B[0;31mTypeError\u001B[0m                                 Traceback (most recent call last)",
      "Cell \u001B[0;32mIn[16], line 15\u001B[0m\n\u001B[1;32m     13\u001B[0m \u001B[38;5;66;03m# Generate the knot locations\u001B[39;00m\n\u001B[1;32m     14\u001B[0m num_knots \u001B[38;5;241m=\u001B[39m \u001B[38;5;241m9\u001B[39m\n\u001B[0;32m---> 15\u001B[0m knots \u001B[38;5;241m=\u001B[39m \u001B[43mnp\u001B[49m\u001B[38;5;241;43m.\u001B[39;49m\u001B[43mlinspace\u001B[49m\u001B[43m(\u001B[49m\u001B[43mdata\u001B[49m\u001B[43m[\u001B[49m\u001B[38;5;124;43m'\u001B[39;49m\u001B[38;5;124;43mDateTime\u001B[39;49m\u001B[38;5;124;43m'\u001B[39;49m\u001B[43m]\u001B[49m\u001B[38;5;241;43m.\u001B[39;49m\u001B[43mmin\u001B[49m\u001B[43m(\u001B[49m\u001B[43m)\u001B[49m\u001B[43m,\u001B[49m\u001B[43m \u001B[49m\u001B[43mdata\u001B[49m\u001B[43m[\u001B[49m\u001B[38;5;124;43m'\u001B[39;49m\u001B[38;5;124;43mDateTime\u001B[39;49m\u001B[38;5;124;43m'\u001B[39;49m\u001B[43m]\u001B[49m\u001B[38;5;241;43m.\u001B[39;49m\u001B[43mmax\u001B[49m\u001B[43m(\u001B[49m\u001B[43m)\u001B[49m\u001B[43m,\u001B[49m\u001B[43m \u001B[49m\u001B[43mnum_knots\u001B[49m\u001B[43m)\u001B[49m\n\u001B[1;32m     17\u001B[0m \u001B[38;5;66;03m# Compute the basis functions\u001B[39;00m\n\u001B[1;32m     18\u001B[0m \u001B[38;5;28;01mdef\u001B[39;00m \u001B[38;5;21mcompute_basis_functions\u001B[39m(x, knots, degree\u001B[38;5;241m=\u001B[39m\u001B[38;5;241m3\u001B[39m):\n",
      "File \u001B[0;32m<__array_function__ internals>:180\u001B[0m, in \u001B[0;36mlinspace\u001B[0;34m(*args, **kwargs)\u001B[0m\n",
      "File \u001B[0;32m~/opt/anaconda3/envs/310_new/lib/python3.10/site-packages/numpy/core/function_base.py:127\u001B[0m, in \u001B[0;36mlinspace\u001B[0;34m(start, stop, num, endpoint, retstep, dtype, axis)\u001B[0m\n\u001B[1;32m    123\u001B[0m div \u001B[38;5;241m=\u001B[39m (num \u001B[38;5;241m-\u001B[39m \u001B[38;5;241m1\u001B[39m) \u001B[38;5;28;01mif\u001B[39;00m endpoint \u001B[38;5;28;01melse\u001B[39;00m num\n\u001B[1;32m    125\u001B[0m \u001B[38;5;66;03m# Convert float/complex array scalars to float, gh-3504\u001B[39;00m\n\u001B[1;32m    126\u001B[0m \u001B[38;5;66;03m# and make sure one can use variables that have an __array_interface__, gh-6634\u001B[39;00m\n\u001B[0;32m--> 127\u001B[0m start \u001B[38;5;241m=\u001B[39m \u001B[43masanyarray\u001B[49m\u001B[43m(\u001B[49m\u001B[43mstart\u001B[49m\u001B[43m)\u001B[49m\u001B[43m \u001B[49m\u001B[38;5;241;43m*\u001B[39;49m\u001B[43m \u001B[49m\u001B[38;5;241;43m1.0\u001B[39;49m\n\u001B[1;32m    128\u001B[0m stop  \u001B[38;5;241m=\u001B[39m asanyarray(stop)  \u001B[38;5;241m*\u001B[39m \u001B[38;5;241m1.0\u001B[39m\n\u001B[1;32m    130\u001B[0m dt \u001B[38;5;241m=\u001B[39m result_type(start, stop, \u001B[38;5;28mfloat\u001B[39m(num))\n",
      "\u001B[0;31mTypeError\u001B[0m: unsupported operand type(s) for *: 'Timestamp' and 'float'"
     ]
    }
   ],
   "source": [
    "import pandas as pd\n",
    "import numpy as np\n",
    "import matplotlib.pyplot as plt\n",
    "import seaborn as sns\n",
    "from scipy.interpolate import BSpline\n",
    "import arviz as az\n",
    "\n",
    "# Read the data\n",
    "data = pd.read_csv('ESM2023_20230428_5m.csv')\n",
    "data['DateTime'] = pd.to_datetime(data['DateTime'])\n",
    "data['Close'] = np.log(data['Close'])\n",
    "\n",
    "# Generate the knot locations\n",
    "num_knots = 9\n",
    "knots = np.linspace(data['DateTime'].min(), data['DateTime'].max(), num_knots)\n",
    "\n",
    "# Compute the basis functions\n",
    "def compute_basis_functions(x, knots, degree=3):\n",
    "    num_basis = len(knots) + degree - 1\n",
    "    basis = np.zeros((x.shape[0], num_basis))\n",
    "    for i in range(num_basis):\n",
    "        coeffs = np.zeros(num_basis)\n",
    "        coeffs[i] = 1\n",
    "        basis[:, i] = BSpline(knots, coeffs, degree)(x)\n",
    "    return basis\n",
    "\n",
    "x = (data['DateTime'] - data['DateTime'].min()) / (data['DateTime'].max() - data['DateTime'].min())\n",
    "x = x.values\n",
    "y = data['Close'].values\n",
    "basis_functions = compute_basis_functions(x, knots)\n",
    "\n",
    "# Fit the Bayesian cubic spline model\n",
    "with pm.Model() as model:\n",
    "    w = pm.Normal(\"w\", mu=0, sd=10, shape=basis_functions.shape[1])\n",
    "    a = pm.Normal(\"a\", mu=0, sd=10)\n",
    "    sigma = pm.HalfNormal(\"sigma\", sd=10)\n",
    "\n",
    "    mu = a + tt.dot(basis_functions, w)\n",
    "    y_obs = pm.Lognormal(\"y_obs\", mu=mu, sd=sigma, observed=y)\n",
    "\n",
    "    trace = pm.sample(2000, tune=2000, chains=2, target_accept=0.9)\n",
    "\n",
    "# Plot the fitted curve and 90% credible interval\n",
    "plt.figure(figsize=(12, 6))\n",
    "x_pred = np.linspace(0, 1, 500)\n",
    "basis_pred = compute_basis_functions(x_pred, knots)\n",
    "y_pred = np.exp(np.dot(basis_pred, np.mean(trace['w'], axis=0)) + np.mean(trace['a'], axis=0))\n",
    "y_pred_low = np.exp(np.dot(basis_pred, np.percentile(trace['w'], 5, axis=0)) + np.percentile(trace['a'], 5, axis=0))\n",
    "y_pred_high = np.exp(np.dot(basis_pred, np.percentile(trace['w'], 95, axis=0)) + np.percentile(trace['a'], 95, axis=0))\n",
    "\n",
    "plt.plot(data['Timestamp'], np.exp(y), 'o', markersize=4, label='Data', alpha=0.5)\n",
    "plt.plot(data['Timestamp'].min() + (data['Timestamp'].max() - data['Timestamp'].min()) * x_pred, y_pred, label='Fitted curve')\n",
    "plt.fill_between(data['Timestamp'].min() + (data['Timestamp'].max() - data['Timestamp'].min()) * x_pred, y_pred_low, y_pred_high, alpha=0.3, label='90% credible interval')\n",
    "\n",
    "for knot in knots:\n",
    "    plt.axvline(knot, color='gray', linestyle='--', label='Knots' if knot == knots[0] else None)\n",
    "\n",
    "plt.xlabel('Timestamp')\n",
    "plt.ylabel('Close')\n",
    "plt.legend()\n",
    "plt.title('Bayesian Cubic Spline Fit')\n",
    "plt.show()\n",
    "\n",
    "# Plot trace diagnostics using ArviZ\n",
    "az.plot_trace(trace)\n",
    "plt.show()"
   ]
  },
  {
   "cell_type": "code",
   "execution_count": 15,
   "outputs": [
    {
     "data": {
      "text/plain": "              Unnamed: 0             DateTime     Open     High      Low  \\\n0    2023-04-27 18:00:00  2023-04-27 18:00:00  4151.00  4153.00  4148.25   \n1    2023-04-27 18:05:00  2023-04-27 18:05:00  4151.00  4152.25  4150.25   \n2    2023-04-27 18:10:00  2023-04-27 18:10:00  4151.75  4152.25  4149.50   \n3    2023-04-27 18:15:00  2023-04-27 18:15:00  4149.75  4151.00  4149.25   \n4    2023-04-27 18:20:00  2023-04-27 18:20:00  4150.25  4151.00  4149.00   \n..                   ...                  ...      ...      ...      ...   \n271  2023-04-28 16:35:00  2023-04-28 16:35:00  4190.25  4191.00  4190.25   \n272  2023-04-28 16:40:00  2023-04-28 16:40:00  4190.50  4191.00  4189.00   \n273  2023-04-28 16:45:00  2023-04-28 16:45:00  4189.75  4191.00  4189.25   \n274  2023-04-28 16:50:00  2023-04-28 16:50:00  4190.00  4191.00  4189.75   \n275  2023-04-28 16:55:00  2023-04-28 16:55:00  4191.00  4191.75  4189.75   \n\n       Close  Volume  Count  \n0    4151.00    3035    921  \n1    4151.75    1872    507  \n2    4149.75    1301    350  \n3    4150.25     744    230  \n4    4149.25     728    243  \n..       ...     ...    ...  \n271  4190.50    1435    239  \n272  4189.50    3001    338  \n273  4190.00    1168    301  \n274  4191.00    4745    303  \n275  4190.75    8240    419  \n\n[276 rows x 8 columns]",
      "text/html": "<div>\n<style scoped>\n    .dataframe tbody tr th:only-of-type {\n        vertical-align: middle;\n    }\n\n    .dataframe tbody tr th {\n        vertical-align: top;\n    }\n\n    .dataframe thead th {\n        text-align: right;\n    }\n</style>\n<table border=\"1\" class=\"dataframe\">\n  <thead>\n    <tr style=\"text-align: right;\">\n      <th></th>\n      <th>Unnamed: 0</th>\n      <th>DateTime</th>\n      <th>Open</th>\n      <th>High</th>\n      <th>Low</th>\n      <th>Close</th>\n      <th>Volume</th>\n      <th>Count</th>\n    </tr>\n  </thead>\n  <tbody>\n    <tr>\n      <th>0</th>\n      <td>2023-04-27 18:00:00</td>\n      <td>2023-04-27 18:00:00</td>\n      <td>4151.00</td>\n      <td>4153.00</td>\n      <td>4148.25</td>\n      <td>4151.00</td>\n      <td>3035</td>\n      <td>921</td>\n    </tr>\n    <tr>\n      <th>1</th>\n      <td>2023-04-27 18:05:00</td>\n      <td>2023-04-27 18:05:00</td>\n      <td>4151.00</td>\n      <td>4152.25</td>\n      <td>4150.25</td>\n      <td>4151.75</td>\n      <td>1872</td>\n      <td>507</td>\n    </tr>\n    <tr>\n      <th>2</th>\n      <td>2023-04-27 18:10:00</td>\n      <td>2023-04-27 18:10:00</td>\n      <td>4151.75</td>\n      <td>4152.25</td>\n      <td>4149.50</td>\n      <td>4149.75</td>\n      <td>1301</td>\n      <td>350</td>\n    </tr>\n    <tr>\n      <th>3</th>\n      <td>2023-04-27 18:15:00</td>\n      <td>2023-04-27 18:15:00</td>\n      <td>4149.75</td>\n      <td>4151.00</td>\n      <td>4149.25</td>\n      <td>4150.25</td>\n      <td>744</td>\n      <td>230</td>\n    </tr>\n    <tr>\n      <th>4</th>\n      <td>2023-04-27 18:20:00</td>\n      <td>2023-04-27 18:20:00</td>\n      <td>4150.25</td>\n      <td>4151.00</td>\n      <td>4149.00</td>\n      <td>4149.25</td>\n      <td>728</td>\n      <td>243</td>\n    </tr>\n    <tr>\n      <th>...</th>\n      <td>...</td>\n      <td>...</td>\n      <td>...</td>\n      <td>...</td>\n      <td>...</td>\n      <td>...</td>\n      <td>...</td>\n      <td>...</td>\n    </tr>\n    <tr>\n      <th>271</th>\n      <td>2023-04-28 16:35:00</td>\n      <td>2023-04-28 16:35:00</td>\n      <td>4190.25</td>\n      <td>4191.00</td>\n      <td>4190.25</td>\n      <td>4190.50</td>\n      <td>1435</td>\n      <td>239</td>\n    </tr>\n    <tr>\n      <th>272</th>\n      <td>2023-04-28 16:40:00</td>\n      <td>2023-04-28 16:40:00</td>\n      <td>4190.50</td>\n      <td>4191.00</td>\n      <td>4189.00</td>\n      <td>4189.50</td>\n      <td>3001</td>\n      <td>338</td>\n    </tr>\n    <tr>\n      <th>273</th>\n      <td>2023-04-28 16:45:00</td>\n      <td>2023-04-28 16:45:00</td>\n      <td>4189.75</td>\n      <td>4191.00</td>\n      <td>4189.25</td>\n      <td>4190.00</td>\n      <td>1168</td>\n      <td>301</td>\n    </tr>\n    <tr>\n      <th>274</th>\n      <td>2023-04-28 16:50:00</td>\n      <td>2023-04-28 16:50:00</td>\n      <td>4190.00</td>\n      <td>4191.00</td>\n      <td>4189.75</td>\n      <td>4191.00</td>\n      <td>4745</td>\n      <td>303</td>\n    </tr>\n    <tr>\n      <th>275</th>\n      <td>2023-04-28 16:55:00</td>\n      <td>2023-04-28 16:55:00</td>\n      <td>4191.00</td>\n      <td>4191.75</td>\n      <td>4189.75</td>\n      <td>4190.75</td>\n      <td>8240</td>\n      <td>419</td>\n    </tr>\n  </tbody>\n</table>\n<p>276 rows × 8 columns</p>\n</div>"
     },
     "execution_count": 15,
     "metadata": {},
     "output_type": "execute_result"
    }
   ],
   "source": [
    "data"
   ],
   "metadata": {
    "collapsed": false
   }
  },
  {
   "cell_type": "code",
   "execution_count": 17,
   "outputs": [
    {
     "name": "stdout",
     "output_type": "stream",
     "text": [
      "Collecting cmdstanpy\r\n",
      "  Downloading cmdstanpy-1.1.0-py3-none-any.whl (83 kB)\r\n",
      "\u001B[2K     \u001B[90m━━━━━━━━━━━━━━━━━━━━━━━━━━━━━━━━━━━━━━━━\u001B[0m \u001B[32m83.2/83.2 kB\u001B[0m \u001B[31m1.8 MB/s\u001B[0m eta \u001B[36m0:00:00\u001B[0m00:01\u001B[0m\r\n",
      "\u001B[?25hRequirement already satisfied: tqdm in /Users/emilyziyixiao/opt/anaconda3/envs/310_new/lib/python3.10/site-packages (from cmdstanpy) (4.65.0)\r\n",
      "Requirement already satisfied: pandas in /Users/emilyziyixiao/opt/anaconda3/envs/310_new/lib/python3.10/site-packages (from cmdstanpy) (1.5.3)\r\n",
      "Requirement already satisfied: numpy>=1.21 in /Users/emilyziyixiao/opt/anaconda3/envs/310_new/lib/python3.10/site-packages (from cmdstanpy) (1.22.4)\r\n",
      "Requirement already satisfied: python-dateutil>=2.8.1 in /Users/emilyziyixiao/opt/anaconda3/envs/310_new/lib/python3.10/site-packages (from pandas->cmdstanpy) (2.8.2)\r\n",
      "Requirement already satisfied: pytz>=2020.1 in /Users/emilyziyixiao/opt/anaconda3/envs/310_new/lib/python3.10/site-packages (from pandas->cmdstanpy) (2022.7)\r\n",
      "Requirement already satisfied: six>=1.5 in /Users/emilyziyixiao/opt/anaconda3/envs/310_new/lib/python3.10/site-packages (from python-dateutil>=2.8.1->pandas->cmdstanpy) (1.16.0)\r\n",
      "Installing collected packages: cmdstanpy\r\n",
      "Successfully installed cmdstanpy-1.1.0\r\n"
     ]
    }
   ],
   "source": [
    "!pip install cmdstanpy"
   ],
   "metadata": {
    "collapsed": false
   }
  },
  {
   "cell_type": "code",
   "execution_count": 18,
   "outputs": [
    {
     "name": "stdout",
     "output_type": "stream",
     "text": [
      "Installing CmdStan version: 2.32.0\n",
      "Install directory: /Users/emilyziyixiao/.cmdstan\n",
      "Downloading CmdStan version 2.32.0\n",
      "Download successful, file: /var/folders/zr/nth0p58d0lncg_nv89hbpzsm0000gn/T/tmplzk8s5wd\n",
      "Extracting distribution\n",
      "Unpacked download as cmdstan-2.32.0\n",
      "Building version cmdstan-2.32.0, may take several minutes, depending on your system.\n"
     ]
    },
    {
     "name": "stderr",
     "output_type": "stream",
     "text": [
      "19:29:38 - cmdstanpy - WARNING - CmdStan installation failed.\n",
      "Command \"make build\" failed\n",
      "Command ['make', 'build', '-j1']\n",
      "\terror during processing No such file or directory\n"
     ]
    },
    {
     "data": {
      "text/plain": "False"
     },
     "execution_count": 18,
     "metadata": {},
     "output_type": "execute_result"
    }
   ],
   "source": [
    "import cmdstanpy\n",
    "cmdstanpy.install_cmdstan()"
   ],
   "metadata": {
    "collapsed": false
   }
  },
  {
   "cell_type": "code",
   "execution_count": 21,
   "outputs": [
    {
     "name": "stdout",
     "output_type": "stream",
     "text": [
      "Password:\r\n",
      "sudo: a password is required\r\n",
      "/bin/bash: -c: line 0: unexpected EOF while looking for matching `''\r\n",
      "/bin/bash: -c: line 1: syntax error: unexpected end of file\r\n"
     ]
    }
   ],
   "source": [
    "!sudo apt-get update\n",
    "!sudo apt-get install build-essential -asdfghjkl;'\n"
   ],
   "metadata": {
    "collapsed": false
   }
  },
  {
   "cell_type": "code",
   "execution_count": 28,
   "outputs": [
    {
     "name": "stderr",
     "output_type": "stream",
     "text": [
      "20:19:57 - cmdstanpy - INFO - compiling stan file /Users/emilyziyixiao/DataspellProjects/AdvDsFinance/Final/stan_model.stan to exe file /Users/emilyziyixiao/DataspellProjects/AdvDsFinance/Final/stan_model\n"
     ]
    },
    {
     "ename": "ValueError",
     "evalue": "Failed to compile Stan model '/Users/emilyziyixiao/DataspellProjects/AdvDsFinance/Final/stan_model.stan'. Console:\nx86_64-apple-darwin13.4.0-clang++ -march=core2 -mtune=haswell -mssse3 -ftree-vectorize -fPIC -fPIE -fstack-protector-strong -O2 -pipe -stdlib=libc++ -fvisibility-inlines-hidden -std=c++14 -fmessage-length=0 -isystem /opt/anaconda3/include -std=c++1y -Wno-unknown-warning-option -Wno-tautological-compare -Wno-sign-compare -D_REENTRANT -Wno-ignored-attributes      -I stan/lib/stan_math/lib/tbb_2020.3/include    -O3 -I src -I stan/src -I stan/lib/rapidjson_1.1.0/ -I lib/CLI11-1.9.1/ -I stan/lib/stan_math/ -I stan/lib/stan_math/lib/eigen_3.4.0 -I stan/lib/stan_math/lib/boost_1.78.0 -I stan/lib/stan_math/lib/sundials_6.1.1/include -I stan/lib/stan_math/lib/sundials_6.1.1/src/sundials -D_FORTIFY_SOURCE=2 -mmacosx-version-min=10.9 -isystem /opt/anaconda3/include    -DBOOST_DISABLE_ASSERTS          -c -MT stan/src/stan/model/model_header.hpp.gch -MT stan/src/stan/model/model_header.d -MM -E -MG -MP -MF stan/src/stan/model/model_header.d stan/src/stan/model/model_header.hpp\nx86_64-apple-darwin13.4.0-clang++ -march=core2 -mtune=haswell -mssse3 -ftree-vectorize -fPIC -fPIE -fstack-protector-strong -O2 -pipe -stdlib=libc++ -fvisibility-inlines-hidden -std=c++14 -fmessage-length=0 -isystem /opt/anaconda3/include -std=c++1y -Wno-unknown-warning-option -Wno-tautological-compare -Wno-sign-compare -D_REENTRANT -Wno-ignored-attributes      -I stan/lib/stan_math/lib/tbb_2020.3/include    -O3 -I src -I stan/src -I stan/lib/rapidjson_1.1.0/ -I lib/CLI11-1.9.1/ -I stan/lib/stan_math/ -I stan/lib/stan_math/lib/eigen_3.4.0 -I stan/lib/stan_math/lib/boost_1.78.0 -I stan/lib/stan_math/lib/sundials_6.1.1/include -I stan/lib/stan_math/lib/sundials_6.1.1/src/sundials -D_FORTIFY_SOURCE=2 -mmacosx-version-min=10.9 -isystem /opt/anaconda3/include    -DBOOST_DISABLE_ASSERTS          -c -MT src/cmdstan/main.o -MM -E -MG -MP -MF src/cmdstan/main.d src/cmdstan/main.cpp\n\n--- Compiling the main object file. This might take up to a minute. ---\nx86_64-apple-darwin13.4.0-clang++ -march=core2 -mtune=haswell -mssse3 -ftree-vectorize -fPIC -fPIE -fstack-protector-strong -O2 -pipe -stdlib=libc++ -fvisibility-inlines-hidden -std=c++14 -fmessage-length=0 -isystem /opt/anaconda3/include -std=c++1y -Wno-unknown-warning-option -Wno-tautological-compare -Wno-sign-compare -D_REENTRANT -Wno-ignored-attributes      -I stan/lib/stan_math/lib/tbb_2020.3/include    -O3 -I src -I stan/src -I stan/lib/rapidjson_1.1.0/ -I lib/CLI11-1.9.1/ -I stan/lib/stan_math/ -I stan/lib/stan_math/lib/eigen_3.4.0 -I stan/lib/stan_math/lib/boost_1.78.0 -I stan/lib/stan_math/lib/sundials_6.1.1/include -I stan/lib/stan_math/lib/sundials_6.1.1/src/sundials -D_FORTIFY_SOURCE=2 -mmacosx-version-min=10.9 -isystem /opt/anaconda3/include    -DBOOST_DISABLE_ASSERTS          -c -o src/cmdstan/main.o src/cmdstan/main.cpp\ntouch stan/lib/stan_math/lib/tbb/version_tbb_2020.3\ntbb_root=\"../tbb_2020.3\" CXX=\"x86_64-apple-darwin13.4.0-clang++\" CC=\"x86_64-apple-darwin13.4.0-clang\" LDFLAGS='-Wl,-L,\"/Users/emilyziyixiao/.cmdstan/cmdstan-2.32.0/stan/lib/stan_math/lib/tbb\" -Wl,-rpath,\"/Users/emilyziyixiao/.cmdstan/cmdstan-2.32.0/stan/lib/stan_math/lib/tbb\"  ' '/Library/Developer/CommandLineTools/usr/bin/make' -C \"stan/lib/stan_math/lib/tbb\" -r -f \"/Users/emilyziyixiao/.cmdstan/cmdstan-2.32.0/stan/lib/stan_math/lib/tbb_2020.3/build/Makefile.tbb\" compiler=clang cfg=release stdver=c++1y  CXXFLAGS=\"-Wno-unknown-warning-option -Wno-deprecated-copy  \"\n/Users/emilyziyixiao/.cmdstan/cmdstan-2.32.0/stan/lib/stan_math/lib/tbb_2020.3/build/Makefile.tbb:28: CONFIG: cfg=release arch=intel64 compiler=clang target=macos runtime=cc_os12.1\nx86_64-apple-darwin13.4.0-clang++ -o concurrent_hash_map.o -c -MMD -O2 -DUSE_PTHREAD -DDO_ITT_NOTIFY -stdlib=libc++ -m64 -mrtm -isysroot /Library/Developer/CommandLineTools/SDKs/MacOSX.sdk -mmacosx-version-min=10.11  -fPIC  -D__TBB_BUILD=1 -Wall -Wno-non-virtual-dtor -Wno-dangling-else -Wno-unknown-warning-option -Wno-deprecated-copy   -DTBB_SUPPRESS_DEPRECATED_MESSAGES=1 -std=c++1y  -I../tbb_2020.3/src -I../tbb_2020.3/src/rml/include -I../tbb_2020.3/include ../tbb_2020.3/src/tbb/concurrent_hash_map.cpp\nx86_64-apple-darwin13.4.0-clang++ -o concurrent_queue.o -c -MMD -O2 -DUSE_PTHREAD -DDO_ITT_NOTIFY -stdlib=libc++ -m64 -mrtm -isysroot /Library/Developer/CommandLineTools/SDKs/MacOSX.sdk -mmacosx-version-min=10.11  -fPIC  -D__TBB_BUILD=1 -Wall -Wno-non-virtual-dtor -Wno-dangling-else -Wno-unknown-warning-option -Wno-deprecated-copy   -DTBB_SUPPRESS_DEPRECATED_MESSAGES=1 -std=c++1y  -I../tbb_2020.3/src -I../tbb_2020.3/src/rml/include -I../tbb_2020.3/include ../tbb_2020.3/src/tbb/concurrent_queue.cpp\nx86_64-apple-darwin13.4.0-clang++ -o concurrent_vector.o -c -MMD -O2 -DUSE_PTHREAD -DDO_ITT_NOTIFY -stdlib=libc++ -m64 -mrtm -isysroot /Library/Developer/CommandLineTools/SDKs/MacOSX.sdk -mmacosx-version-min=10.11  -fPIC  -D__TBB_BUILD=1 -Wall -Wno-non-virtual-dtor -Wno-dangling-else -Wno-unknown-warning-option -Wno-deprecated-copy   -DTBB_SUPPRESS_DEPRECATED_MESSAGES=1 -std=c++1y  -I../tbb_2020.3/src -I../tbb_2020.3/src/rml/include -I../tbb_2020.3/include ../tbb_2020.3/src/tbb/concurrent_vector.cpp\nx86_64-apple-darwin13.4.0-clang++ -o dynamic_link.o -c -MMD -O2 -DUSE_PTHREAD -DDO_ITT_NOTIFY -stdlib=libc++ -m64 -mrtm -isysroot /Library/Developer/CommandLineTools/SDKs/MacOSX.sdk -mmacosx-version-min=10.11  -fPIC  -D__TBB_BUILD=1 -Wall -Wno-non-virtual-dtor -Wno-dangling-else -Wno-unknown-warning-option -Wno-deprecated-copy   -DTBB_SUPPRESS_DEPRECATED_MESSAGES=1 -std=c++1y  -I../tbb_2020.3/src -I../tbb_2020.3/src/rml/include -I../tbb_2020.3/include ../tbb_2020.3/src/tbb/dynamic_link.cpp\nx86_64-apple-darwin13.4.0-clang++ -o itt_notify.o -c -MMD -O2 -DUSE_PTHREAD -DDO_ITT_NOTIFY -stdlib=libc++ -m64 -mrtm -isysroot /Library/Developer/CommandLineTools/SDKs/MacOSX.sdk -mmacosx-version-min=10.11  -fPIC  -D__TBB_BUILD=1 -Wall -Wno-non-virtual-dtor -Wno-dangling-else -Wno-unknown-warning-option -Wno-deprecated-copy   -DTBB_SUPPRESS_DEPRECATED_MESSAGES=1 -std=c++1y  -I../tbb_2020.3/src -I../tbb_2020.3/src/rml/include -I../tbb_2020.3/include ../tbb_2020.3/src/tbb/itt_notify.cpp\nx86_64-apple-darwin13.4.0-clang++ -o cache_aligned_allocator.o -c -MMD -O2 -DUSE_PTHREAD -DDO_ITT_NOTIFY -stdlib=libc++ -m64 -mrtm -isysroot /Library/Developer/CommandLineTools/SDKs/MacOSX.sdk -mmacosx-version-min=10.11  -fPIC  -D__TBB_BUILD=1 -Wall -Wno-non-virtual-dtor -Wno-dangling-else -Wno-unknown-warning-option -Wno-deprecated-copy   -DTBB_SUPPRESS_DEPRECATED_MESSAGES=1 -std=c++1y  -I../tbb_2020.3/src -I../tbb_2020.3/src/rml/include -I../tbb_2020.3/include ../tbb_2020.3/src/tbb/cache_aligned_allocator.cpp\nx86_64-apple-darwin13.4.0-clang++ -o pipeline.o -c -MMD -O2 -DUSE_PTHREAD -DDO_ITT_NOTIFY -stdlib=libc++ -m64 -mrtm -isysroot /Library/Developer/CommandLineTools/SDKs/MacOSX.sdk -mmacosx-version-min=10.11  -fPIC  -D__TBB_BUILD=1 -Wall -Wno-non-virtual-dtor -Wno-dangling-else -Wno-unknown-warning-option -Wno-deprecated-copy   -DTBB_SUPPRESS_DEPRECATED_MESSAGES=1 -std=c++1y  -I../tbb_2020.3/src -I../tbb_2020.3/src/rml/include -I../tbb_2020.3/include ../tbb_2020.3/src/tbb/pipeline.cpp\nx86_64-apple-darwin13.4.0-clang++ -o queuing_mutex.o -c -MMD -O2 -DUSE_PTHREAD -DDO_ITT_NOTIFY -stdlib=libc++ -m64 -mrtm -isysroot /Library/Developer/CommandLineTools/SDKs/MacOSX.sdk -mmacosx-version-min=10.11  -fPIC  -D__TBB_BUILD=1 -Wall -Wno-non-virtual-dtor -Wno-dangling-else -Wno-unknown-warning-option -Wno-deprecated-copy   -DTBB_SUPPRESS_DEPRECATED_MESSAGES=1 -std=c++1y  -I../tbb_2020.3/src -I../tbb_2020.3/src/rml/include -I../tbb_2020.3/include ../tbb_2020.3/src/tbb/queuing_mutex.cpp\nx86_64-apple-darwin13.4.0-clang++ -o queuing_rw_mutex.o -c -MMD -O2 -DUSE_PTHREAD -DDO_ITT_NOTIFY -stdlib=libc++ -m64 -mrtm -isysroot /Library/Developer/CommandLineTools/SDKs/MacOSX.sdk -mmacosx-version-min=10.11  -fPIC  -D__TBB_BUILD=1 -Wall -Wno-non-virtual-dtor -Wno-dangling-else -Wno-unknown-warning-option -Wno-deprecated-copy   -DTBB_SUPPRESS_DEPRECATED_MESSAGES=1 -std=c++1y  -I../tbb_2020.3/src -I../tbb_2020.3/src/rml/include -I../tbb_2020.3/include ../tbb_2020.3/src/tbb/queuing_rw_mutex.cpp\nx86_64-apple-darwin13.4.0-clang++ -o reader_writer_lock.o -c -MMD -O2 -DUSE_PTHREAD -DDO_ITT_NOTIFY -stdlib=libc++ -m64 -mrtm -isysroot /Library/Developer/CommandLineTools/SDKs/MacOSX.sdk -mmacosx-version-min=10.11  -fPIC  -D__TBB_BUILD=1 -Wall -Wno-non-virtual-dtor -Wno-dangling-else -Wno-unknown-warning-option -Wno-deprecated-copy   -DTBB_SUPPRESS_DEPRECATED_MESSAGES=1 -std=c++1y  -I../tbb_2020.3/src -I../tbb_2020.3/src/rml/include -I../tbb_2020.3/include ../tbb_2020.3/src/tbb/reader_writer_lock.cpp\nx86_64-apple-darwin13.4.0-clang++ -o spin_rw_mutex.o -c -MMD -O2 -DUSE_PTHREAD -DDO_ITT_NOTIFY -stdlib=libc++ -m64 -mrtm -isysroot /Library/Developer/CommandLineTools/SDKs/MacOSX.sdk -mmacosx-version-min=10.11  -fPIC  -D__TBB_BUILD=1 -Wall -Wno-non-virtual-dtor -Wno-dangling-else -Wno-unknown-warning-option -Wno-deprecated-copy   -DTBB_SUPPRESS_DEPRECATED_MESSAGES=1 -std=c++1y  -I../tbb_2020.3/src -I../tbb_2020.3/src/rml/include -I../tbb_2020.3/include ../tbb_2020.3/src/tbb/spin_rw_mutex.cpp\nx86_64-apple-darwin13.4.0-clang++ -o x86_rtm_rw_mutex.o -c -MMD -O2 -DUSE_PTHREAD -DDO_ITT_NOTIFY -stdlib=libc++ -m64 -mrtm -isysroot /Library/Developer/CommandLineTools/SDKs/MacOSX.sdk -mmacosx-version-min=10.11  -fPIC  -D__TBB_BUILD=1 -Wall -Wno-non-virtual-dtor -Wno-dangling-else -Wno-unknown-warning-option -Wno-deprecated-copy   -DTBB_SUPPRESS_DEPRECATED_MESSAGES=1 -std=c++1y  -I../tbb_2020.3/src -I../tbb_2020.3/src/rml/include -I../tbb_2020.3/include ../tbb_2020.3/src/tbb/x86_rtm_rw_mutex.cpp\nx86_64-apple-darwin13.4.0-clang++ -o spin_mutex.o -c -MMD -O2 -DUSE_PTHREAD -DDO_ITT_NOTIFY -stdlib=libc++ -m64 -mrtm -isysroot /Library/Developer/CommandLineTools/SDKs/MacOSX.sdk -mmacosx-version-min=10.11  -fPIC  -D__TBB_BUILD=1 -Wall -Wno-non-virtual-dtor -Wno-dangling-else -Wno-unknown-warning-option -Wno-deprecated-copy   -DTBB_SUPPRESS_DEPRECATED_MESSAGES=1 -std=c++1y  -I../tbb_2020.3/src -I../tbb_2020.3/src/rml/include -I../tbb_2020.3/include ../tbb_2020.3/src/tbb/spin_mutex.cpp\nx86_64-apple-darwin13.4.0-clang++ -o critical_section.o -c -MMD -O2 -DUSE_PTHREAD -DDO_ITT_NOTIFY -stdlib=libc++ -m64 -mrtm -isysroot /Library/Developer/CommandLineTools/SDKs/MacOSX.sdk -mmacosx-version-min=10.11  -fPIC  -D__TBB_BUILD=1 -Wall -Wno-non-virtual-dtor -Wno-dangling-else -Wno-unknown-warning-option -Wno-deprecated-copy   -DTBB_SUPPRESS_DEPRECATED_MESSAGES=1 -std=c++1y  -I../tbb_2020.3/src -I../tbb_2020.3/src/rml/include -I../tbb_2020.3/include ../tbb_2020.3/src/tbb/critical_section.cpp\nx86_64-apple-darwin13.4.0-clang++ -o mutex.o -c -MMD -O2 -DUSE_PTHREAD -DDO_ITT_NOTIFY -stdlib=libc++ -m64 -mrtm -isysroot /Library/Developer/CommandLineTools/SDKs/MacOSX.sdk -mmacosx-version-min=10.11  -fPIC  -D__TBB_BUILD=1 -Wall -Wno-non-virtual-dtor -Wno-dangling-else -Wno-unknown-warning-option -Wno-deprecated-copy   -DTBB_SUPPRESS_DEPRECATED_MESSAGES=1 -std=c++1y  -I../tbb_2020.3/src -I../tbb_2020.3/src/rml/include -I../tbb_2020.3/include ../tbb_2020.3/src/tbb/mutex.cpp\nx86_64-apple-darwin13.4.0-clang++ -o recursive_mutex.o -c -MMD -O2 -DUSE_PTHREAD -DDO_ITT_NOTIFY -stdlib=libc++ -m64 -mrtm -isysroot /Library/Developer/CommandLineTools/SDKs/MacOSX.sdk -mmacosx-version-min=10.11  -fPIC  -D__TBB_BUILD=1 -Wall -Wno-non-virtual-dtor -Wno-dangling-else -Wno-unknown-warning-option -Wno-deprecated-copy   -DTBB_SUPPRESS_DEPRECATED_MESSAGES=1 -std=c++1y  -I../tbb_2020.3/src -I../tbb_2020.3/src/rml/include -I../tbb_2020.3/include ../tbb_2020.3/src/tbb/recursive_mutex.cpp\nx86_64-apple-darwin13.4.0-clang++ -o condition_variable.o -c -MMD -O2 -DUSE_PTHREAD -DDO_ITT_NOTIFY -stdlib=libc++ -m64 -mrtm -isysroot /Library/Developer/CommandLineTools/SDKs/MacOSX.sdk -mmacosx-version-min=10.11  -fPIC  -D__TBB_BUILD=1 -Wall -Wno-non-virtual-dtor -Wno-dangling-else -Wno-unknown-warning-option -Wno-deprecated-copy   -DTBB_SUPPRESS_DEPRECATED_MESSAGES=1 -std=c++1y  -I../tbb_2020.3/src -I../tbb_2020.3/src/rml/include -I../tbb_2020.3/include ../tbb_2020.3/src/tbb/condition_variable.cpp\nx86_64-apple-darwin13.4.0-clang++ -o tbb_thread.o -c -MMD -O2 -DUSE_PTHREAD -DDO_ITT_NOTIFY -stdlib=libc++ -m64 -mrtm -isysroot /Library/Developer/CommandLineTools/SDKs/MacOSX.sdk -mmacosx-version-min=10.11  -fPIC  -D__TBB_BUILD=1 -Wall -Wno-non-virtual-dtor -Wno-dangling-else -Wno-unknown-warning-option -Wno-deprecated-copy   -DTBB_SUPPRESS_DEPRECATED_MESSAGES=1 -std=c++1y  -I../tbb_2020.3/src -I../tbb_2020.3/src/rml/include -I../tbb_2020.3/include ../tbb_2020.3/src/tbb/tbb_thread.cpp\nx86_64-apple-darwin13.4.0-clang++ -o concurrent_monitor.o -c -MMD -O2 -DUSE_PTHREAD -DDO_ITT_NOTIFY -stdlib=libc++ -m64 -mrtm -isysroot /Library/Developer/CommandLineTools/SDKs/MacOSX.sdk -mmacosx-version-min=10.11  -fPIC  -D__TBB_BUILD=1 -Wall -Wno-non-virtual-dtor -Wno-dangling-else -Wno-unknown-warning-option -Wno-deprecated-copy   -DTBB_SUPPRESS_DEPRECATED_MESSAGES=1 -std=c++1y  -I../tbb_2020.3/src -I../tbb_2020.3/src/rml/include -I../tbb_2020.3/include ../tbb_2020.3/src/tbb/concurrent_monitor.cpp\nx86_64-apple-darwin13.4.0-clang++ -o semaphore.o -c -MMD -O2 -DUSE_PTHREAD -DDO_ITT_NOTIFY -stdlib=libc++ -m64 -mrtm -isysroot /Library/Developer/CommandLineTools/SDKs/MacOSX.sdk -mmacosx-version-min=10.11  -fPIC  -D__TBB_BUILD=1 -Wall -Wno-non-virtual-dtor -Wno-dangling-else -Wno-unknown-warning-option -Wno-deprecated-copy   -DTBB_SUPPRESS_DEPRECATED_MESSAGES=1 -std=c++1y  -I../tbb_2020.3/src -I../tbb_2020.3/src/rml/include -I../tbb_2020.3/include ../tbb_2020.3/src/tbb/semaphore.cpp\nx86_64-apple-darwin13.4.0-clang++ -o private_server.o -c -MMD -O2 -DUSE_PTHREAD -DDO_ITT_NOTIFY -stdlib=libc++ -m64 -mrtm -isysroot /Library/Developer/CommandLineTools/SDKs/MacOSX.sdk -mmacosx-version-min=10.11  -fPIC  -D__TBB_BUILD=1 -Wall -Wno-non-virtual-dtor -Wno-dangling-else -Wno-unknown-warning-option -Wno-deprecated-copy   -DTBB_SUPPRESS_DEPRECATED_MESSAGES=1 -std=c++1y  -I../tbb_2020.3/src -I../tbb_2020.3/src/rml/include -I../tbb_2020.3/include ../tbb_2020.3/src/tbb/private_server.cpp\nx86_64-apple-darwin13.4.0-clang++ -o rml_tbb.o -c -MMD -O2 -DUSE_PTHREAD -DDO_ITT_NOTIFY -stdlib=libc++ -m64 -mrtm -isysroot /Library/Developer/CommandLineTools/SDKs/MacOSX.sdk -mmacosx-version-min=10.11  -fPIC  -D__TBB_BUILD=1 -Wall -Wno-non-virtual-dtor -Wno-dangling-else -Wno-unknown-warning-option -Wno-deprecated-copy   -DTBB_SUPPRESS_DEPRECATED_MESSAGES=1 -std=c++1y  -I../tbb_2020.3/src -I../tbb_2020.3/src/rml/include -I../tbb_2020.3/include ../tbb_2020.3/src/rml/client/rml_tbb.cpp\nx86_64-apple-darwin13.4.0-clang++ -o tbb_misc.o -c -MMD -O2 -DUSE_PTHREAD -DDO_ITT_NOTIFY -stdlib=libc++ -m64 -mrtm -isysroot /Library/Developer/CommandLineTools/SDKs/MacOSX.sdk -mmacosx-version-min=10.11  -fPIC  -D__TBB_BUILD=1 -Wall -Wno-non-virtual-dtor -Wno-dangling-else -Wno-unknown-warning-option -Wno-deprecated-copy   -DTBB_SUPPRESS_DEPRECATED_MESSAGES=1 -std=c++1y  -I../tbb_2020.3/src -I../tbb_2020.3/src/rml/include -I../tbb_2020.3/include -I. ../tbb_2020.3/src/tbb/tbb_misc.cpp\nx86_64-apple-darwin13.4.0-clang++ -o tbb_misc_ex.o -c -MMD -O2 -DUSE_PTHREAD -DDO_ITT_NOTIFY -stdlib=libc++ -m64 -mrtm -isysroot /Library/Developer/CommandLineTools/SDKs/MacOSX.sdk -mmacosx-version-min=10.11  -fPIC  -D__TBB_BUILD=1 -Wall -Wno-non-virtual-dtor -Wno-dangling-else -Wno-unknown-warning-option -Wno-deprecated-copy   -DTBB_SUPPRESS_DEPRECATED_MESSAGES=1 -std=c++1y  -I../tbb_2020.3/src -I../tbb_2020.3/src/rml/include -I../tbb_2020.3/include ../tbb_2020.3/src/tbb/tbb_misc_ex.cpp\nx86_64-apple-darwin13.4.0-clang++ -o task.o -c -MMD -O2 -DUSE_PTHREAD -DDO_ITT_NOTIFY -stdlib=libc++ -m64 -mrtm -isysroot /Library/Developer/CommandLineTools/SDKs/MacOSX.sdk -mmacosx-version-min=10.11  -fPIC  -D__TBB_BUILD=1 -Wall -Wno-non-virtual-dtor -Wno-dangling-else -Wno-unknown-warning-option -Wno-deprecated-copy   -DTBB_SUPPRESS_DEPRECATED_MESSAGES=1 -std=c++1y  -I../tbb_2020.3/src -I../tbb_2020.3/src/rml/include -I../tbb_2020.3/include ../tbb_2020.3/src/tbb/task.cpp\nx86_64-apple-darwin13.4.0-clang++ -o task_group_context.o -c -MMD -O2 -DUSE_PTHREAD -DDO_ITT_NOTIFY -stdlib=libc++ -m64 -mrtm -isysroot /Library/Developer/CommandLineTools/SDKs/MacOSX.sdk -mmacosx-version-min=10.11  -fPIC  -D__TBB_BUILD=1 -Wall -Wno-non-virtual-dtor -Wno-dangling-else -Wno-unknown-warning-option -Wno-deprecated-copy   -DTBB_SUPPRESS_DEPRECATED_MESSAGES=1 -std=c++1y  -I../tbb_2020.3/src -I../tbb_2020.3/src/rml/include -I../tbb_2020.3/include ../tbb_2020.3/src/tbb/task_group_context.cpp\nx86_64-apple-darwin13.4.0-clang++ -o governor.o -c -MMD -O2 -DUSE_PTHREAD -DDO_ITT_NOTIFY -stdlib=libc++ -m64 -mrtm -isysroot /Library/Developer/CommandLineTools/SDKs/MacOSX.sdk -mmacosx-version-min=10.11  -fPIC  -D__TBB_BUILD=1 -Wall -Wno-non-virtual-dtor -Wno-dangling-else -Wno-unknown-warning-option -Wno-deprecated-copy   -DTBB_SUPPRESS_DEPRECATED_MESSAGES=1 -std=c++1y  -I../tbb_2020.3/src -I../tbb_2020.3/src/rml/include -I../tbb_2020.3/include ../tbb_2020.3/src/tbb/governor.cpp\nx86_64-apple-darwin13.4.0-clang++ -o market.o -c -MMD -O2 -DUSE_PTHREAD -DDO_ITT_NOTIFY -stdlib=libc++ -m64 -mrtm -isysroot /Library/Developer/CommandLineTools/SDKs/MacOSX.sdk -mmacosx-version-min=10.11  -fPIC  -D__TBB_BUILD=1 -Wall -Wno-non-virtual-dtor -Wno-dangling-else -Wno-unknown-warning-option -Wno-deprecated-copy   -DTBB_SUPPRESS_DEPRECATED_MESSAGES=1 -std=c++1y  -I../tbb_2020.3/src -I../tbb_2020.3/src/rml/include -I../tbb_2020.3/include ../tbb_2020.3/src/tbb/market.cpp\nx86_64-apple-darwin13.4.0-clang++ -o arena.o -c -MMD -O2 -DUSE_PTHREAD -DDO_ITT_NOTIFY -stdlib=libc++ -m64 -mrtm -isysroot /Library/Developer/CommandLineTools/SDKs/MacOSX.sdk -mmacosx-version-min=10.11  -fPIC  -D__TBB_BUILD=1 -Wall -Wno-non-virtual-dtor -Wno-dangling-else -Wno-unknown-warning-option -Wno-deprecated-copy   -DTBB_SUPPRESS_DEPRECATED_MESSAGES=1 -std=c++1y  -I../tbb_2020.3/src -I../tbb_2020.3/src/rml/include -I../tbb_2020.3/include ../tbb_2020.3/src/tbb/arena.cpp\nx86_64-apple-darwin13.4.0-clang++ -o scheduler.o -c -MMD -O2 -DUSE_PTHREAD -DDO_ITT_NOTIFY -stdlib=libc++ -m64 -mrtm -isysroot /Library/Developer/CommandLineTools/SDKs/MacOSX.sdk -mmacosx-version-min=10.11  -fPIC  -D__TBB_BUILD=1 -Wall -Wno-non-virtual-dtor -Wno-dangling-else -Wno-unknown-warning-option -Wno-deprecated-copy   -DTBB_SUPPRESS_DEPRECATED_MESSAGES=1 -std=c++1y  -I../tbb_2020.3/src -I../tbb_2020.3/src/rml/include -I../tbb_2020.3/include ../tbb_2020.3/src/tbb/scheduler.cpp\nx86_64-apple-darwin13.4.0-clang++ -o observer_proxy.o -c -MMD -O2 -DUSE_PTHREAD -DDO_ITT_NOTIFY -stdlib=libc++ -m64 -mrtm -isysroot /Library/Developer/CommandLineTools/SDKs/MacOSX.sdk -mmacosx-version-min=10.11  -fPIC  -D__TBB_BUILD=1 -Wall -Wno-non-virtual-dtor -Wno-dangling-else -Wno-unknown-warning-option -Wno-deprecated-copy   -DTBB_SUPPRESS_DEPRECATED_MESSAGES=1 -std=c++1y  -I../tbb_2020.3/src -I../tbb_2020.3/src/rml/include -I../tbb_2020.3/include ../tbb_2020.3/src/tbb/observer_proxy.cpp\nx86_64-apple-darwin13.4.0-clang++ -o tbb_statistics.o -c -MMD -O2 -DUSE_PTHREAD -DDO_ITT_NOTIFY -stdlib=libc++ -m64 -mrtm -isysroot /Library/Developer/CommandLineTools/SDKs/MacOSX.sdk -mmacosx-version-min=10.11  -fPIC  -D__TBB_BUILD=1 -Wall -Wno-non-virtual-dtor -Wno-dangling-else -Wno-unknown-warning-option -Wno-deprecated-copy   -DTBB_SUPPRESS_DEPRECATED_MESSAGES=1 -std=c++1y  -I../tbb_2020.3/src -I../tbb_2020.3/src/rml/include -I../tbb_2020.3/include ../tbb_2020.3/src/tbb/tbb_statistics.cpp\nx86_64-apple-darwin13.4.0-clang++ -o tbb_main.o -c -MMD -O2 -DUSE_PTHREAD -DDO_ITT_NOTIFY -stdlib=libc++ -m64 -mrtm -isysroot /Library/Developer/CommandLineTools/SDKs/MacOSX.sdk -mmacosx-version-min=10.11  -fPIC  -D__TBB_BUILD=1 -Wall -Wno-non-virtual-dtor -Wno-dangling-else -Wno-unknown-warning-option -Wno-deprecated-copy   -DTBB_SUPPRESS_DEPRECATED_MESSAGES=1 -std=c++1y  -I../tbb_2020.3/src -I../tbb_2020.3/src/rml/include -I../tbb_2020.3/include ../tbb_2020.3/src/tbb/tbb_main.cpp\nx86_64-apple-darwin13.4.0-clang++ -o concurrent_vector_v2.o -c -MMD -O2 -DUSE_PTHREAD -DDO_ITT_NOTIFY -stdlib=libc++ -m64 -mrtm -isysroot /Library/Developer/CommandLineTools/SDKs/MacOSX.sdk -mmacosx-version-min=10.11  -fPIC  -D__TBB_BUILD=1 -Wall -Wno-non-virtual-dtor -Wno-dangling-else -Wno-unknown-warning-option -Wno-deprecated-copy   -DTBB_SUPPRESS_DEPRECATED_MESSAGES=1 -std=c++1y  -I../tbb_2020.3/src -I../tbb_2020.3/src/rml/include -I../tbb_2020.3/include ../tbb_2020.3/src/old/concurrent_vector_v2.cpp\nx86_64-apple-darwin13.4.0-clang++ -o concurrent_queue_v2.o -c -MMD -O2 -DUSE_PTHREAD -DDO_ITT_NOTIFY -stdlib=libc++ -m64 -mrtm -isysroot /Library/Developer/CommandLineTools/SDKs/MacOSX.sdk -mmacosx-version-min=10.11  -fPIC  -D__TBB_BUILD=1 -Wall -Wno-non-virtual-dtor -Wno-dangling-else -Wno-unknown-warning-option -Wno-deprecated-copy   -DTBB_SUPPRESS_DEPRECATED_MESSAGES=1 -std=c++1y  -I../tbb_2020.3/src -I../tbb_2020.3/src/rml/include -I../tbb_2020.3/include ../tbb_2020.3/src/old/concurrent_queue_v2.cpp\nx86_64-apple-darwin13.4.0-clang++ -o spin_rw_mutex_v2.o -c -MMD -O2 -DUSE_PTHREAD -DDO_ITT_NOTIFY -stdlib=libc++ -m64 -mrtm -isysroot /Library/Developer/CommandLineTools/SDKs/MacOSX.sdk -mmacosx-version-min=10.11  -fPIC  -D__TBB_BUILD=1 -Wall -Wno-non-virtual-dtor -Wno-dangling-else -Wno-unknown-warning-option -Wno-deprecated-copy   -DTBB_SUPPRESS_DEPRECATED_MESSAGES=1 -std=c++1y  -I../tbb_2020.3/src -I../tbb_2020.3/src/rml/include -I../tbb_2020.3/include ../tbb_2020.3/src/old/spin_rw_mutex_v2.cpp\nx86_64-apple-darwin13.4.0-clang++ -o task_v2.o -c -MMD -O2 -DUSE_PTHREAD -DDO_ITT_NOTIFY -stdlib=libc++ -m64 -mrtm -isysroot /Library/Developer/CommandLineTools/SDKs/MacOSX.sdk -mmacosx-version-min=10.11  -fPIC  -D__TBB_BUILD=1 -Wall -Wno-non-virtual-dtor -Wno-dangling-else -Wno-unknown-warning-option -Wno-deprecated-copy   -DTBB_SUPPRESS_DEPRECATED_MESSAGES=1 -std=c++1y  -I../tbb_2020.3/src -I../tbb_2020.3/src/rml/include -I../tbb_2020.3/include ../tbb_2020.3/src/old/task_v2.cpp\nsh ../tbb_2020.3/build/generate_tbbvars.sh DY\nx86_64-apple-darwin13.4.0-clang++ -E -x c++ ../tbb_2020.3/src/tbb/mac64-tbb-export.def -O2 -DUSE_PTHREAD -DDO_ITT_NOTIFY -stdlib=libc++ -m64 -mrtm -isysroot /Library/Developer/CommandLineTools/SDKs/MacOSX.sdk -mmacosx-version-min=10.11  -fPIC  -D__TBB_BUILD=1 -Wall -Wno-non-virtual-dtor -Wno-dangling-else -Wno-unknown-warning-option -Wno-deprecated-copy   -DTBB_SUPPRESS_DEPRECATED_MESSAGES=1 -I../tbb_2020.3/src -I../tbb_2020.3/src/rml/include -I../tbb_2020.3/include > tbb.def\nx86_64-apple-darwin13.4.0-clang++ -fPIC -o libtbb.dylib concurrent_hash_map.o concurrent_queue.o concurrent_vector.o dynamic_link.o itt_notify.o cache_aligned_allocator.o pipeline.o queuing_mutex.o queuing_rw_mutex.o reader_writer_lock.o spin_rw_mutex.o x86_rtm_rw_mutex.o spin_mutex.o critical_section.o mutex.o recursive_mutex.o condition_variable.o tbb_thread.o concurrent_monitor.o semaphore.o private_server.o rml_tbb.o tbb_misc.o tbb_misc_ex.o task.o task_group_context.o governor.o market.o arena.o scheduler.o observer_proxy.o tbb_statistics.o tbb_main.o concurrent_vector_v2.o concurrent_queue_v2.o spin_rw_mutex_v2.o task_v2.o   -ldl -lpthread -dynamiclib -install_name @rpath/libtbb.dylib -stdlib=libc++ -m64 -L/Library/Developer/CommandLineTools/SDKs/MacOSX.sdk/usr/lib/system -L/Library/Developer/CommandLineTools/SDKs/MacOSX.sdk/usr/lib/ -mmacosx-version-min=10.11 -Wl,-L,\"/Users/emilyziyixiao/.cmdstan/cmdstan-2.32.0/stan/lib/stan_math/lib/tbb\" -Wl,-rpath,\"/Users/emilyziyixiao/.cmdstan/cmdstan-2.32.0/stan/lib/stan_math/lib/tbb\"   -Wl,-exported_symbols_list,tbb.def\nld: unsupported tapi file type '!tapi-tbd' in YAML file '/Library/Developer/CommandLineTools/SDKs/MacOSX.sdk/usr/lib//libc++.tbd' for architecture x86_64\nclang-12: error: linker command failed with exit code 1 (use -v to see invocation)\nmake[1]: *** [libtbb.dylib] Error 1\nmake: *** [stan/lib/stan_math/lib/tbb/tbb.def] Error 2\n\nCommand ['make', '/Users/emilyziyixiao/DataspellProjects/AdvDsFinance/Final/stan_model']\n\terror during processing No such file or directory\n",
     "output_type": "error",
     "traceback": [
      "\u001B[0;31m---------------------------------------------------------------------------\u001B[0m",
      "\u001B[0;31mValueError\u001B[0m                                Traceback (most recent call last)",
      "Cell \u001B[0;32mIn[28], line 91\u001B[0m\n\u001B[1;32m     88\u001B[0m \u001B[38;5;28;01mwith\u001B[39;00m \u001B[38;5;28mopen\u001B[39m(\u001B[38;5;124m\"\u001B[39m\u001B[38;5;124mstan_model.stan\u001B[39m\u001B[38;5;124m\"\u001B[39m, \u001B[38;5;124m\"\u001B[39m\u001B[38;5;124mw\u001B[39m\u001B[38;5;124m\"\u001B[39m) \u001B[38;5;28;01mas\u001B[39;00m f:\n\u001B[1;32m     89\u001B[0m     f\u001B[38;5;241m.\u001B[39mwrite(stan_model_code)\n\u001B[0;32m---> 91\u001B[0m stan_model \u001B[38;5;241m=\u001B[39m \u001B[43mCmdStanModel\u001B[49m\u001B[43m(\u001B[49m\u001B[43mstan_file\u001B[49m\u001B[38;5;241;43m=\u001B[39;49m\u001B[38;5;124;43m\"\u001B[39;49m\u001B[38;5;124;43mstan_model.stan\u001B[39;49m\u001B[38;5;124;43m\"\u001B[39;49m\u001B[43m)\u001B[49m\n\u001B[1;32m     93\u001B[0m \u001B[38;5;66;03m# Fit the model\u001B[39;00m\n\u001B[1;32m     94\u001B[0m fit \u001B[38;5;241m=\u001B[39m stan_model\u001B[38;5;241m.\u001B[39msample(data\u001B[38;5;241m=\u001B[39mdata_dict, iter_sampling\u001B[38;5;241m=\u001B[39m\u001B[38;5;241m2000\u001B[39m, iter_warmup\u001B[38;5;241m=\u001B[39m\u001B[38;5;241m2000\u001B[39m, chains\u001B[38;5;241m=\u001B[39m\u001B[38;5;241m2\u001B[39m)\n",
      "File \u001B[0;32m~/opt/anaconda3/envs/310_new/lib/python3.10/site-packages/cmdstanpy/model.py:236\u001B[0m, in \u001B[0;36mCmdStanModel.__init__\u001B[0;34m(self, model_name, stan_file, exe_file, compile, stanc_options, cpp_options, user_header)\u001B[0m\n\u001B[1;32m    233\u001B[0m         get_logger()\u001B[38;5;241m.\u001B[39mdebug(\u001B[38;5;124m\"\u001B[39m\u001B[38;5;124mTBB already found in load path\u001B[39m\u001B[38;5;124m\"\u001B[39m)\n\u001B[1;32m    235\u001B[0m \u001B[38;5;28;01mif\u001B[39;00m \u001B[38;5;28mcompile\u001B[39m \u001B[38;5;129;01mand\u001B[39;00m \u001B[38;5;28mself\u001B[39m\u001B[38;5;241m.\u001B[39m_exe_file \u001B[38;5;129;01mis\u001B[39;00m \u001B[38;5;28;01mNone\u001B[39;00m:\n\u001B[0;32m--> 236\u001B[0m     \u001B[38;5;28;43mself\u001B[39;49m\u001B[38;5;241;43m.\u001B[39;49m\u001B[43mcompile\u001B[49m\u001B[43m(\u001B[49m\u001B[43mforce\u001B[49m\u001B[38;5;241;43m=\u001B[39;49m\u001B[38;5;28;43mstr\u001B[39;49m\u001B[43m(\u001B[49m\u001B[38;5;28;43mcompile\u001B[39;49m\u001B[43m)\u001B[49m\u001B[38;5;241;43m.\u001B[39;49m\u001B[43mlower\u001B[49m\u001B[43m(\u001B[49m\u001B[43m)\u001B[49m\u001B[43m \u001B[49m\u001B[38;5;241;43m==\u001B[39;49m\u001B[43m \u001B[49m\u001B[38;5;124;43m'\u001B[39;49m\u001B[38;5;124;43mforce\u001B[39;49m\u001B[38;5;124;43m'\u001B[39;49m\u001B[43m)\u001B[49m\n",
      "File \u001B[0;32m~/opt/anaconda3/envs/310_new/lib/python3.10/site-packages/cmdstanpy/model.py:563\u001B[0m, in \u001B[0;36mCmdStanModel.compile\u001B[0;34m(self, force, stanc_options, cpp_options, user_header, override_options)\u001B[0m\n\u001B[1;32m    556\u001B[0m \u001B[38;5;28;01mif\u001B[39;00m \u001B[38;5;124m'\u001B[39m\u001B[38;5;124mPCH\u001B[39m\u001B[38;5;124m'\u001B[39m \u001B[38;5;129;01min\u001B[39;00m console \u001B[38;5;129;01mor\u001B[39;00m \u001B[38;5;124m'\u001B[39m\u001B[38;5;124mprecompiled header\u001B[39m\u001B[38;5;124m'\u001B[39m \u001B[38;5;129;01min\u001B[39;00m console:\n\u001B[1;32m    557\u001B[0m     get_logger()\u001B[38;5;241m.\u001B[39mwarning(\n\u001B[1;32m    558\u001B[0m         \u001B[38;5;124m\"\u001B[39m\u001B[38;5;124mCmdStan\u001B[39m\u001B[38;5;124m'\u001B[39m\u001B[38;5;124ms precompiled header (PCH) files \u001B[39m\u001B[38;5;124m\"\u001B[39m\n\u001B[1;32m    559\u001B[0m         \u001B[38;5;124m\"\u001B[39m\u001B[38;5;124mmay need to be rebuilt.\u001B[39m\u001B[38;5;124m\"\u001B[39m\n\u001B[1;32m    560\u001B[0m         \u001B[38;5;124m\"\u001B[39m\u001B[38;5;124mPlease run cmdstanpy.rebuild_cmdstan().\u001B[39m\u001B[38;5;130;01m\\n\u001B[39;00m\u001B[38;5;124m\"\u001B[39m\n\u001B[1;32m    561\u001B[0m         \u001B[38;5;124m\"\u001B[39m\u001B[38;5;124mIf the issue persists please open a bug report\u001B[39m\u001B[38;5;124m\"\u001B[39m\n\u001B[1;32m    562\u001B[0m     )\n\u001B[0;32m--> 563\u001B[0m \u001B[38;5;28;01mraise\u001B[39;00m \u001B[38;5;167;01mValueError\u001B[39;00m(\n\u001B[1;32m    564\u001B[0m     \u001B[38;5;124mf\u001B[39m\u001B[38;5;124m\"\u001B[39m\u001B[38;5;124mFailed to compile Stan model \u001B[39m\u001B[38;5;124m'\u001B[39m\u001B[38;5;132;01m{\u001B[39;00m\u001B[38;5;28mself\u001B[39m\u001B[38;5;241m.\u001B[39m_stan_file\u001B[38;5;132;01m}\u001B[39;00m\u001B[38;5;124m'\u001B[39m\u001B[38;5;124m. \u001B[39m\u001B[38;5;124m\"\u001B[39m\n\u001B[1;32m    565\u001B[0m     \u001B[38;5;124mf\u001B[39m\u001B[38;5;124m\"\u001B[39m\u001B[38;5;124mConsole:\u001B[39m\u001B[38;5;130;01m\\n\u001B[39;00m\u001B[38;5;132;01m{\u001B[39;00mconsole\u001B[38;5;132;01m}\u001B[39;00m\u001B[38;5;124m\"\u001B[39m\n\u001B[1;32m    566\u001B[0m )\n",
      "\u001B[0;31mValueError\u001B[0m: Failed to compile Stan model '/Users/emilyziyixiao/DataspellProjects/AdvDsFinance/Final/stan_model.stan'. Console:\nx86_64-apple-darwin13.4.0-clang++ -march=core2 -mtune=haswell -mssse3 -ftree-vectorize -fPIC -fPIE -fstack-protector-strong -O2 -pipe -stdlib=libc++ -fvisibility-inlines-hidden -std=c++14 -fmessage-length=0 -isystem /opt/anaconda3/include -std=c++1y -Wno-unknown-warning-option -Wno-tautological-compare -Wno-sign-compare -D_REENTRANT -Wno-ignored-attributes      -I stan/lib/stan_math/lib/tbb_2020.3/include    -O3 -I src -I stan/src -I stan/lib/rapidjson_1.1.0/ -I lib/CLI11-1.9.1/ -I stan/lib/stan_math/ -I stan/lib/stan_math/lib/eigen_3.4.0 -I stan/lib/stan_math/lib/boost_1.78.0 -I stan/lib/stan_math/lib/sundials_6.1.1/include -I stan/lib/stan_math/lib/sundials_6.1.1/src/sundials -D_FORTIFY_SOURCE=2 -mmacosx-version-min=10.9 -isystem /opt/anaconda3/include    -DBOOST_DISABLE_ASSERTS          -c -MT stan/src/stan/model/model_header.hpp.gch -MT stan/src/stan/model/model_header.d -MM -E -MG -MP -MF stan/src/stan/model/model_header.d stan/src/stan/model/model_header.hpp\nx86_64-apple-darwin13.4.0-clang++ -march=core2 -mtune=haswell -mssse3 -ftree-vectorize -fPIC -fPIE -fstack-protector-strong -O2 -pipe -stdlib=libc++ -fvisibility-inlines-hidden -std=c++14 -fmessage-length=0 -isystem /opt/anaconda3/include -std=c++1y -Wno-unknown-warning-option -Wno-tautological-compare -Wno-sign-compare -D_REENTRANT -Wno-ignored-attributes      -I stan/lib/stan_math/lib/tbb_2020.3/include    -O3 -I src -I stan/src -I stan/lib/rapidjson_1.1.0/ -I lib/CLI11-1.9.1/ -I stan/lib/stan_math/ -I stan/lib/stan_math/lib/eigen_3.4.0 -I stan/lib/stan_math/lib/boost_1.78.0 -I stan/lib/stan_math/lib/sundials_6.1.1/include -I stan/lib/stan_math/lib/sundials_6.1.1/src/sundials -D_FORTIFY_SOURCE=2 -mmacosx-version-min=10.9 -isystem /opt/anaconda3/include    -DBOOST_DISABLE_ASSERTS          -c -MT src/cmdstan/main.o -MM -E -MG -MP -MF src/cmdstan/main.d src/cmdstan/main.cpp\n\n--- Compiling the main object file. This might take up to a minute. ---\nx86_64-apple-darwin13.4.0-clang++ -march=core2 -mtune=haswell -mssse3 -ftree-vectorize -fPIC -fPIE -fstack-protector-strong -O2 -pipe -stdlib=libc++ -fvisibility-inlines-hidden -std=c++14 -fmessage-length=0 -isystem /opt/anaconda3/include -std=c++1y -Wno-unknown-warning-option -Wno-tautological-compare -Wno-sign-compare -D_REENTRANT -Wno-ignored-attributes      -I stan/lib/stan_math/lib/tbb_2020.3/include    -O3 -I src -I stan/src -I stan/lib/rapidjson_1.1.0/ -I lib/CLI11-1.9.1/ -I stan/lib/stan_math/ -I stan/lib/stan_math/lib/eigen_3.4.0 -I stan/lib/stan_math/lib/boost_1.78.0 -I stan/lib/stan_math/lib/sundials_6.1.1/include -I stan/lib/stan_math/lib/sundials_6.1.1/src/sundials -D_FORTIFY_SOURCE=2 -mmacosx-version-min=10.9 -isystem /opt/anaconda3/include    -DBOOST_DISABLE_ASSERTS          -c -o src/cmdstan/main.o src/cmdstan/main.cpp\ntouch stan/lib/stan_math/lib/tbb/version_tbb_2020.3\ntbb_root=\"../tbb_2020.3\" CXX=\"x86_64-apple-darwin13.4.0-clang++\" CC=\"x86_64-apple-darwin13.4.0-clang\" LDFLAGS='-Wl,-L,\"/Users/emilyziyixiao/.cmdstan/cmdstan-2.32.0/stan/lib/stan_math/lib/tbb\" -Wl,-rpath,\"/Users/emilyziyixiao/.cmdstan/cmdstan-2.32.0/stan/lib/stan_math/lib/tbb\"  ' '/Library/Developer/CommandLineTools/usr/bin/make' -C \"stan/lib/stan_math/lib/tbb\" -r -f \"/Users/emilyziyixiao/.cmdstan/cmdstan-2.32.0/stan/lib/stan_math/lib/tbb_2020.3/build/Makefile.tbb\" compiler=clang cfg=release stdver=c++1y  CXXFLAGS=\"-Wno-unknown-warning-option -Wno-deprecated-copy  \"\n/Users/emilyziyixiao/.cmdstan/cmdstan-2.32.0/stan/lib/stan_math/lib/tbb_2020.3/build/Makefile.tbb:28: CONFIG: cfg=release arch=intel64 compiler=clang target=macos runtime=cc_os12.1\nx86_64-apple-darwin13.4.0-clang++ -o concurrent_hash_map.o -c -MMD -O2 -DUSE_PTHREAD -DDO_ITT_NOTIFY -stdlib=libc++ -m64 -mrtm -isysroot /Library/Developer/CommandLineTools/SDKs/MacOSX.sdk -mmacosx-version-min=10.11  -fPIC  -D__TBB_BUILD=1 -Wall -Wno-non-virtual-dtor -Wno-dangling-else -Wno-unknown-warning-option -Wno-deprecated-copy   -DTBB_SUPPRESS_DEPRECATED_MESSAGES=1 -std=c++1y  -I../tbb_2020.3/src -I../tbb_2020.3/src/rml/include -I../tbb_2020.3/include ../tbb_2020.3/src/tbb/concurrent_hash_map.cpp\nx86_64-apple-darwin13.4.0-clang++ -o concurrent_queue.o -c -MMD -O2 -DUSE_PTHREAD -DDO_ITT_NOTIFY -stdlib=libc++ -m64 -mrtm -isysroot /Library/Developer/CommandLineTools/SDKs/MacOSX.sdk -mmacosx-version-min=10.11  -fPIC  -D__TBB_BUILD=1 -Wall -Wno-non-virtual-dtor -Wno-dangling-else -Wno-unknown-warning-option -Wno-deprecated-copy   -DTBB_SUPPRESS_DEPRECATED_MESSAGES=1 -std=c++1y  -I../tbb_2020.3/src -I../tbb_2020.3/src/rml/include -I../tbb_2020.3/include ../tbb_2020.3/src/tbb/concurrent_queue.cpp\nx86_64-apple-darwin13.4.0-clang++ -o concurrent_vector.o -c -MMD -O2 -DUSE_PTHREAD -DDO_ITT_NOTIFY -stdlib=libc++ -m64 -mrtm -isysroot /Library/Developer/CommandLineTools/SDKs/MacOSX.sdk -mmacosx-version-min=10.11  -fPIC  -D__TBB_BUILD=1 -Wall -Wno-non-virtual-dtor -Wno-dangling-else -Wno-unknown-warning-option -Wno-deprecated-copy   -DTBB_SUPPRESS_DEPRECATED_MESSAGES=1 -std=c++1y  -I../tbb_2020.3/src -I../tbb_2020.3/src/rml/include -I../tbb_2020.3/include ../tbb_2020.3/src/tbb/concurrent_vector.cpp\nx86_64-apple-darwin13.4.0-clang++ -o dynamic_link.o -c -MMD -O2 -DUSE_PTHREAD -DDO_ITT_NOTIFY -stdlib=libc++ -m64 -mrtm -isysroot /Library/Developer/CommandLineTools/SDKs/MacOSX.sdk -mmacosx-version-min=10.11  -fPIC  -D__TBB_BUILD=1 -Wall -Wno-non-virtual-dtor -Wno-dangling-else -Wno-unknown-warning-option -Wno-deprecated-copy   -DTBB_SUPPRESS_DEPRECATED_MESSAGES=1 -std=c++1y  -I../tbb_2020.3/src -I../tbb_2020.3/src/rml/include -I../tbb_2020.3/include ../tbb_2020.3/src/tbb/dynamic_link.cpp\nx86_64-apple-darwin13.4.0-clang++ -o itt_notify.o -c -MMD -O2 -DUSE_PTHREAD -DDO_ITT_NOTIFY -stdlib=libc++ -m64 -mrtm -isysroot /Library/Developer/CommandLineTools/SDKs/MacOSX.sdk -mmacosx-version-min=10.11  -fPIC  -D__TBB_BUILD=1 -Wall -Wno-non-virtual-dtor -Wno-dangling-else -Wno-unknown-warning-option -Wno-deprecated-copy   -DTBB_SUPPRESS_DEPRECATED_MESSAGES=1 -std=c++1y  -I../tbb_2020.3/src -I../tbb_2020.3/src/rml/include -I../tbb_2020.3/include ../tbb_2020.3/src/tbb/itt_notify.cpp\nx86_64-apple-darwin13.4.0-clang++ -o cache_aligned_allocator.o -c -MMD -O2 -DUSE_PTHREAD -DDO_ITT_NOTIFY -stdlib=libc++ -m64 -mrtm -isysroot /Library/Developer/CommandLineTools/SDKs/MacOSX.sdk -mmacosx-version-min=10.11  -fPIC  -D__TBB_BUILD=1 -Wall -Wno-non-virtual-dtor -Wno-dangling-else -Wno-unknown-warning-option -Wno-deprecated-copy   -DTBB_SUPPRESS_DEPRECATED_MESSAGES=1 -std=c++1y  -I../tbb_2020.3/src -I../tbb_2020.3/src/rml/include -I../tbb_2020.3/include ../tbb_2020.3/src/tbb/cache_aligned_allocator.cpp\nx86_64-apple-darwin13.4.0-clang++ -o pipeline.o -c -MMD -O2 -DUSE_PTHREAD -DDO_ITT_NOTIFY -stdlib=libc++ -m64 -mrtm -isysroot /Library/Developer/CommandLineTools/SDKs/MacOSX.sdk -mmacosx-version-min=10.11  -fPIC  -D__TBB_BUILD=1 -Wall -Wno-non-virtual-dtor -Wno-dangling-else -Wno-unknown-warning-option -Wno-deprecated-copy   -DTBB_SUPPRESS_DEPRECATED_MESSAGES=1 -std=c++1y  -I../tbb_2020.3/src -I../tbb_2020.3/src/rml/include -I../tbb_2020.3/include ../tbb_2020.3/src/tbb/pipeline.cpp\nx86_64-apple-darwin13.4.0-clang++ -o queuing_mutex.o -c -MMD -O2 -DUSE_PTHREAD -DDO_ITT_NOTIFY -stdlib=libc++ -m64 -mrtm -isysroot /Library/Developer/CommandLineTools/SDKs/MacOSX.sdk -mmacosx-version-min=10.11  -fPIC  -D__TBB_BUILD=1 -Wall -Wno-non-virtual-dtor -Wno-dangling-else -Wno-unknown-warning-option -Wno-deprecated-copy   -DTBB_SUPPRESS_DEPRECATED_MESSAGES=1 -std=c++1y  -I../tbb_2020.3/src -I../tbb_2020.3/src/rml/include -I../tbb_2020.3/include ../tbb_2020.3/src/tbb/queuing_mutex.cpp\nx86_64-apple-darwin13.4.0-clang++ -o queuing_rw_mutex.o -c -MMD -O2 -DUSE_PTHREAD -DDO_ITT_NOTIFY -stdlib=libc++ -m64 -mrtm -isysroot /Library/Developer/CommandLineTools/SDKs/MacOSX.sdk -mmacosx-version-min=10.11  -fPIC  -D__TBB_BUILD=1 -Wall -Wno-non-virtual-dtor -Wno-dangling-else -Wno-unknown-warning-option -Wno-deprecated-copy   -DTBB_SUPPRESS_DEPRECATED_MESSAGES=1 -std=c++1y  -I../tbb_2020.3/src -I../tbb_2020.3/src/rml/include -I../tbb_2020.3/include ../tbb_2020.3/src/tbb/queuing_rw_mutex.cpp\nx86_64-apple-darwin13.4.0-clang++ -o reader_writer_lock.o -c -MMD -O2 -DUSE_PTHREAD -DDO_ITT_NOTIFY -stdlib=libc++ -m64 -mrtm -isysroot /Library/Developer/CommandLineTools/SDKs/MacOSX.sdk -mmacosx-version-min=10.11  -fPIC  -D__TBB_BUILD=1 -Wall -Wno-non-virtual-dtor -Wno-dangling-else -Wno-unknown-warning-option -Wno-deprecated-copy   -DTBB_SUPPRESS_DEPRECATED_MESSAGES=1 -std=c++1y  -I../tbb_2020.3/src -I../tbb_2020.3/src/rml/include -I../tbb_2020.3/include ../tbb_2020.3/src/tbb/reader_writer_lock.cpp\nx86_64-apple-darwin13.4.0-clang++ -o spin_rw_mutex.o -c -MMD -O2 -DUSE_PTHREAD -DDO_ITT_NOTIFY -stdlib=libc++ -m64 -mrtm -isysroot /Library/Developer/CommandLineTools/SDKs/MacOSX.sdk -mmacosx-version-min=10.11  -fPIC  -D__TBB_BUILD=1 -Wall -Wno-non-virtual-dtor -Wno-dangling-else -Wno-unknown-warning-option -Wno-deprecated-copy   -DTBB_SUPPRESS_DEPRECATED_MESSAGES=1 -std=c++1y  -I../tbb_2020.3/src -I../tbb_2020.3/src/rml/include -I../tbb_2020.3/include ../tbb_2020.3/src/tbb/spin_rw_mutex.cpp\nx86_64-apple-darwin13.4.0-clang++ -o x86_rtm_rw_mutex.o -c -MMD -O2 -DUSE_PTHREAD -DDO_ITT_NOTIFY -stdlib=libc++ -m64 -mrtm -isysroot /Library/Developer/CommandLineTools/SDKs/MacOSX.sdk -mmacosx-version-min=10.11  -fPIC  -D__TBB_BUILD=1 -Wall -Wno-non-virtual-dtor -Wno-dangling-else -Wno-unknown-warning-option -Wno-deprecated-copy   -DTBB_SUPPRESS_DEPRECATED_MESSAGES=1 -std=c++1y  -I../tbb_2020.3/src -I../tbb_2020.3/src/rml/include -I../tbb_2020.3/include ../tbb_2020.3/src/tbb/x86_rtm_rw_mutex.cpp\nx86_64-apple-darwin13.4.0-clang++ -o spin_mutex.o -c -MMD -O2 -DUSE_PTHREAD -DDO_ITT_NOTIFY -stdlib=libc++ -m64 -mrtm -isysroot /Library/Developer/CommandLineTools/SDKs/MacOSX.sdk -mmacosx-version-min=10.11  -fPIC  -D__TBB_BUILD=1 -Wall -Wno-non-virtual-dtor -Wno-dangling-else -Wno-unknown-warning-option -Wno-deprecated-copy   -DTBB_SUPPRESS_DEPRECATED_MESSAGES=1 -std=c++1y  -I../tbb_2020.3/src -I../tbb_2020.3/src/rml/include -I../tbb_2020.3/include ../tbb_2020.3/src/tbb/spin_mutex.cpp\nx86_64-apple-darwin13.4.0-clang++ -o critical_section.o -c -MMD -O2 -DUSE_PTHREAD -DDO_ITT_NOTIFY -stdlib=libc++ -m64 -mrtm -isysroot /Library/Developer/CommandLineTools/SDKs/MacOSX.sdk -mmacosx-version-min=10.11  -fPIC  -D__TBB_BUILD=1 -Wall -Wno-non-virtual-dtor -Wno-dangling-else -Wno-unknown-warning-option -Wno-deprecated-copy   -DTBB_SUPPRESS_DEPRECATED_MESSAGES=1 -std=c++1y  -I../tbb_2020.3/src -I../tbb_2020.3/src/rml/include -I../tbb_2020.3/include ../tbb_2020.3/src/tbb/critical_section.cpp\nx86_64-apple-darwin13.4.0-clang++ -o mutex.o -c -MMD -O2 -DUSE_PTHREAD -DDO_ITT_NOTIFY -stdlib=libc++ -m64 -mrtm -isysroot /Library/Developer/CommandLineTools/SDKs/MacOSX.sdk -mmacosx-version-min=10.11  -fPIC  -D__TBB_BUILD=1 -Wall -Wno-non-virtual-dtor -Wno-dangling-else -Wno-unknown-warning-option -Wno-deprecated-copy   -DTBB_SUPPRESS_DEPRECATED_MESSAGES=1 -std=c++1y  -I../tbb_2020.3/src -I../tbb_2020.3/src/rml/include -I../tbb_2020.3/include ../tbb_2020.3/src/tbb/mutex.cpp\nx86_64-apple-darwin13.4.0-clang++ -o recursive_mutex.o -c -MMD -O2 -DUSE_PTHREAD -DDO_ITT_NOTIFY -stdlib=libc++ -m64 -mrtm -isysroot /Library/Developer/CommandLineTools/SDKs/MacOSX.sdk -mmacosx-version-min=10.11  -fPIC  -D__TBB_BUILD=1 -Wall -Wno-non-virtual-dtor -Wno-dangling-else -Wno-unknown-warning-option -Wno-deprecated-copy   -DTBB_SUPPRESS_DEPRECATED_MESSAGES=1 -std=c++1y  -I../tbb_2020.3/src -I../tbb_2020.3/src/rml/include -I../tbb_2020.3/include ../tbb_2020.3/src/tbb/recursive_mutex.cpp\nx86_64-apple-darwin13.4.0-clang++ -o condition_variable.o -c -MMD -O2 -DUSE_PTHREAD -DDO_ITT_NOTIFY -stdlib=libc++ -m64 -mrtm -isysroot /Library/Developer/CommandLineTools/SDKs/MacOSX.sdk -mmacosx-version-min=10.11  -fPIC  -D__TBB_BUILD=1 -Wall -Wno-non-virtual-dtor -Wno-dangling-else -Wno-unknown-warning-option -Wno-deprecated-copy   -DTBB_SUPPRESS_DEPRECATED_MESSAGES=1 -std=c++1y  -I../tbb_2020.3/src -I../tbb_2020.3/src/rml/include -I../tbb_2020.3/include ../tbb_2020.3/src/tbb/condition_variable.cpp\nx86_64-apple-darwin13.4.0-clang++ -o tbb_thread.o -c -MMD -O2 -DUSE_PTHREAD -DDO_ITT_NOTIFY -stdlib=libc++ -m64 -mrtm -isysroot /Library/Developer/CommandLineTools/SDKs/MacOSX.sdk -mmacosx-version-min=10.11  -fPIC  -D__TBB_BUILD=1 -Wall -Wno-non-virtual-dtor -Wno-dangling-else -Wno-unknown-warning-option -Wno-deprecated-copy   -DTBB_SUPPRESS_DEPRECATED_MESSAGES=1 -std=c++1y  -I../tbb_2020.3/src -I../tbb_2020.3/src/rml/include -I../tbb_2020.3/include ../tbb_2020.3/src/tbb/tbb_thread.cpp\nx86_64-apple-darwin13.4.0-clang++ -o concurrent_monitor.o -c -MMD -O2 -DUSE_PTHREAD -DDO_ITT_NOTIFY -stdlib=libc++ -m64 -mrtm -isysroot /Library/Developer/CommandLineTools/SDKs/MacOSX.sdk -mmacosx-version-min=10.11  -fPIC  -D__TBB_BUILD=1 -Wall -Wno-non-virtual-dtor -Wno-dangling-else -Wno-unknown-warning-option -Wno-deprecated-copy   -DTBB_SUPPRESS_DEPRECATED_MESSAGES=1 -std=c++1y  -I../tbb_2020.3/src -I../tbb_2020.3/src/rml/include -I../tbb_2020.3/include ../tbb_2020.3/src/tbb/concurrent_monitor.cpp\nx86_64-apple-darwin13.4.0-clang++ -o semaphore.o -c -MMD -O2 -DUSE_PTHREAD -DDO_ITT_NOTIFY -stdlib=libc++ -m64 -mrtm -isysroot /Library/Developer/CommandLineTools/SDKs/MacOSX.sdk -mmacosx-version-min=10.11  -fPIC  -D__TBB_BUILD=1 -Wall -Wno-non-virtual-dtor -Wno-dangling-else -Wno-unknown-warning-option -Wno-deprecated-copy   -DTBB_SUPPRESS_DEPRECATED_MESSAGES=1 -std=c++1y  -I../tbb_2020.3/src -I../tbb_2020.3/src/rml/include -I../tbb_2020.3/include ../tbb_2020.3/src/tbb/semaphore.cpp\nx86_64-apple-darwin13.4.0-clang++ -o private_server.o -c -MMD -O2 -DUSE_PTHREAD -DDO_ITT_NOTIFY -stdlib=libc++ -m64 -mrtm -isysroot /Library/Developer/CommandLineTools/SDKs/MacOSX.sdk -mmacosx-version-min=10.11  -fPIC  -D__TBB_BUILD=1 -Wall -Wno-non-virtual-dtor -Wno-dangling-else -Wno-unknown-warning-option -Wno-deprecated-copy   -DTBB_SUPPRESS_DEPRECATED_MESSAGES=1 -std=c++1y  -I../tbb_2020.3/src -I../tbb_2020.3/src/rml/include -I../tbb_2020.3/include ../tbb_2020.3/src/tbb/private_server.cpp\nx86_64-apple-darwin13.4.0-clang++ -o rml_tbb.o -c -MMD -O2 -DUSE_PTHREAD -DDO_ITT_NOTIFY -stdlib=libc++ -m64 -mrtm -isysroot /Library/Developer/CommandLineTools/SDKs/MacOSX.sdk -mmacosx-version-min=10.11  -fPIC  -D__TBB_BUILD=1 -Wall -Wno-non-virtual-dtor -Wno-dangling-else -Wno-unknown-warning-option -Wno-deprecated-copy   -DTBB_SUPPRESS_DEPRECATED_MESSAGES=1 -std=c++1y  -I../tbb_2020.3/src -I../tbb_2020.3/src/rml/include -I../tbb_2020.3/include ../tbb_2020.3/src/rml/client/rml_tbb.cpp\nx86_64-apple-darwin13.4.0-clang++ -o tbb_misc.o -c -MMD -O2 -DUSE_PTHREAD -DDO_ITT_NOTIFY -stdlib=libc++ -m64 -mrtm -isysroot /Library/Developer/CommandLineTools/SDKs/MacOSX.sdk -mmacosx-version-min=10.11  -fPIC  -D__TBB_BUILD=1 -Wall -Wno-non-virtual-dtor -Wno-dangling-else -Wno-unknown-warning-option -Wno-deprecated-copy   -DTBB_SUPPRESS_DEPRECATED_MESSAGES=1 -std=c++1y  -I../tbb_2020.3/src -I../tbb_2020.3/src/rml/include -I../tbb_2020.3/include -I. ../tbb_2020.3/src/tbb/tbb_misc.cpp\nx86_64-apple-darwin13.4.0-clang++ -o tbb_misc_ex.o -c -MMD -O2 -DUSE_PTHREAD -DDO_ITT_NOTIFY -stdlib=libc++ -m64 -mrtm -isysroot /Library/Developer/CommandLineTools/SDKs/MacOSX.sdk -mmacosx-version-min=10.11  -fPIC  -D__TBB_BUILD=1 -Wall -Wno-non-virtual-dtor -Wno-dangling-else -Wno-unknown-warning-option -Wno-deprecated-copy   -DTBB_SUPPRESS_DEPRECATED_MESSAGES=1 -std=c++1y  -I../tbb_2020.3/src -I../tbb_2020.3/src/rml/include -I../tbb_2020.3/include ../tbb_2020.3/src/tbb/tbb_misc_ex.cpp\nx86_64-apple-darwin13.4.0-clang++ -o task.o -c -MMD -O2 -DUSE_PTHREAD -DDO_ITT_NOTIFY -stdlib=libc++ -m64 -mrtm -isysroot /Library/Developer/CommandLineTools/SDKs/MacOSX.sdk -mmacosx-version-min=10.11  -fPIC  -D__TBB_BUILD=1 -Wall -Wno-non-virtual-dtor -Wno-dangling-else -Wno-unknown-warning-option -Wno-deprecated-copy   -DTBB_SUPPRESS_DEPRECATED_MESSAGES=1 -std=c++1y  -I../tbb_2020.3/src -I../tbb_2020.3/src/rml/include -I../tbb_2020.3/include ../tbb_2020.3/src/tbb/task.cpp\nx86_64-apple-darwin13.4.0-clang++ -o task_group_context.o -c -MMD -O2 -DUSE_PTHREAD -DDO_ITT_NOTIFY -stdlib=libc++ -m64 -mrtm -isysroot /Library/Developer/CommandLineTools/SDKs/MacOSX.sdk -mmacosx-version-min=10.11  -fPIC  -D__TBB_BUILD=1 -Wall -Wno-non-virtual-dtor -Wno-dangling-else -Wno-unknown-warning-option -Wno-deprecated-copy   -DTBB_SUPPRESS_DEPRECATED_MESSAGES=1 -std=c++1y  -I../tbb_2020.3/src -I../tbb_2020.3/src/rml/include -I../tbb_2020.3/include ../tbb_2020.3/src/tbb/task_group_context.cpp\nx86_64-apple-darwin13.4.0-clang++ -o governor.o -c -MMD -O2 -DUSE_PTHREAD -DDO_ITT_NOTIFY -stdlib=libc++ -m64 -mrtm -isysroot /Library/Developer/CommandLineTools/SDKs/MacOSX.sdk -mmacosx-version-min=10.11  -fPIC  -D__TBB_BUILD=1 -Wall -Wno-non-virtual-dtor -Wno-dangling-else -Wno-unknown-warning-option -Wno-deprecated-copy   -DTBB_SUPPRESS_DEPRECATED_MESSAGES=1 -std=c++1y  -I../tbb_2020.3/src -I../tbb_2020.3/src/rml/include -I../tbb_2020.3/include ../tbb_2020.3/src/tbb/governor.cpp\nx86_64-apple-darwin13.4.0-clang++ -o market.o -c -MMD -O2 -DUSE_PTHREAD -DDO_ITT_NOTIFY -stdlib=libc++ -m64 -mrtm -isysroot /Library/Developer/CommandLineTools/SDKs/MacOSX.sdk -mmacosx-version-min=10.11  -fPIC  -D__TBB_BUILD=1 -Wall -Wno-non-virtual-dtor -Wno-dangling-else -Wno-unknown-warning-option -Wno-deprecated-copy   -DTBB_SUPPRESS_DEPRECATED_MESSAGES=1 -std=c++1y  -I../tbb_2020.3/src -I../tbb_2020.3/src/rml/include -I../tbb_2020.3/include ../tbb_2020.3/src/tbb/market.cpp\nx86_64-apple-darwin13.4.0-clang++ -o arena.o -c -MMD -O2 -DUSE_PTHREAD -DDO_ITT_NOTIFY -stdlib=libc++ -m64 -mrtm -isysroot /Library/Developer/CommandLineTools/SDKs/MacOSX.sdk -mmacosx-version-min=10.11  -fPIC  -D__TBB_BUILD=1 -Wall -Wno-non-virtual-dtor -Wno-dangling-else -Wno-unknown-warning-option -Wno-deprecated-copy   -DTBB_SUPPRESS_DEPRECATED_MESSAGES=1 -std=c++1y  -I../tbb_2020.3/src -I../tbb_2020.3/src/rml/include -I../tbb_2020.3/include ../tbb_2020.3/src/tbb/arena.cpp\nx86_64-apple-darwin13.4.0-clang++ -o scheduler.o -c -MMD -O2 -DUSE_PTHREAD -DDO_ITT_NOTIFY -stdlib=libc++ -m64 -mrtm -isysroot /Library/Developer/CommandLineTools/SDKs/MacOSX.sdk -mmacosx-version-min=10.11  -fPIC  -D__TBB_BUILD=1 -Wall -Wno-non-virtual-dtor -Wno-dangling-else -Wno-unknown-warning-option -Wno-deprecated-copy   -DTBB_SUPPRESS_DEPRECATED_MESSAGES=1 -std=c++1y  -I../tbb_2020.3/src -I../tbb_2020.3/src/rml/include -I../tbb_2020.3/include ../tbb_2020.3/src/tbb/scheduler.cpp\nx86_64-apple-darwin13.4.0-clang++ -o observer_proxy.o -c -MMD -O2 -DUSE_PTHREAD -DDO_ITT_NOTIFY -stdlib=libc++ -m64 -mrtm -isysroot /Library/Developer/CommandLineTools/SDKs/MacOSX.sdk -mmacosx-version-min=10.11  -fPIC  -D__TBB_BUILD=1 -Wall -Wno-non-virtual-dtor -Wno-dangling-else -Wno-unknown-warning-option -Wno-deprecated-copy   -DTBB_SUPPRESS_DEPRECATED_MESSAGES=1 -std=c++1y  -I../tbb_2020.3/src -I../tbb_2020.3/src/rml/include -I../tbb_2020.3/include ../tbb_2020.3/src/tbb/observer_proxy.cpp\nx86_64-apple-darwin13.4.0-clang++ -o tbb_statistics.o -c -MMD -O2 -DUSE_PTHREAD -DDO_ITT_NOTIFY -stdlib=libc++ -m64 -mrtm -isysroot /Library/Developer/CommandLineTools/SDKs/MacOSX.sdk -mmacosx-version-min=10.11  -fPIC  -D__TBB_BUILD=1 -Wall -Wno-non-virtual-dtor -Wno-dangling-else -Wno-unknown-warning-option -Wno-deprecated-copy   -DTBB_SUPPRESS_DEPRECATED_MESSAGES=1 -std=c++1y  -I../tbb_2020.3/src -I../tbb_2020.3/src/rml/include -I../tbb_2020.3/include ../tbb_2020.3/src/tbb/tbb_statistics.cpp\nx86_64-apple-darwin13.4.0-clang++ -o tbb_main.o -c -MMD -O2 -DUSE_PTHREAD -DDO_ITT_NOTIFY -stdlib=libc++ -m64 -mrtm -isysroot /Library/Developer/CommandLineTools/SDKs/MacOSX.sdk -mmacosx-version-min=10.11  -fPIC  -D__TBB_BUILD=1 -Wall -Wno-non-virtual-dtor -Wno-dangling-else -Wno-unknown-warning-option -Wno-deprecated-copy   -DTBB_SUPPRESS_DEPRECATED_MESSAGES=1 -std=c++1y  -I../tbb_2020.3/src -I../tbb_2020.3/src/rml/include -I../tbb_2020.3/include ../tbb_2020.3/src/tbb/tbb_main.cpp\nx86_64-apple-darwin13.4.0-clang++ -o concurrent_vector_v2.o -c -MMD -O2 -DUSE_PTHREAD -DDO_ITT_NOTIFY -stdlib=libc++ -m64 -mrtm -isysroot /Library/Developer/CommandLineTools/SDKs/MacOSX.sdk -mmacosx-version-min=10.11  -fPIC  -D__TBB_BUILD=1 -Wall -Wno-non-virtual-dtor -Wno-dangling-else -Wno-unknown-warning-option -Wno-deprecated-copy   -DTBB_SUPPRESS_DEPRECATED_MESSAGES=1 -std=c++1y  -I../tbb_2020.3/src -I../tbb_2020.3/src/rml/include -I../tbb_2020.3/include ../tbb_2020.3/src/old/concurrent_vector_v2.cpp\nx86_64-apple-darwin13.4.0-clang++ -o concurrent_queue_v2.o -c -MMD -O2 -DUSE_PTHREAD -DDO_ITT_NOTIFY -stdlib=libc++ -m64 -mrtm -isysroot /Library/Developer/CommandLineTools/SDKs/MacOSX.sdk -mmacosx-version-min=10.11  -fPIC  -D__TBB_BUILD=1 -Wall -Wno-non-virtual-dtor -Wno-dangling-else -Wno-unknown-warning-option -Wno-deprecated-copy   -DTBB_SUPPRESS_DEPRECATED_MESSAGES=1 -std=c++1y  -I../tbb_2020.3/src -I../tbb_2020.3/src/rml/include -I../tbb_2020.3/include ../tbb_2020.3/src/old/concurrent_queue_v2.cpp\nx86_64-apple-darwin13.4.0-clang++ -o spin_rw_mutex_v2.o -c -MMD -O2 -DUSE_PTHREAD -DDO_ITT_NOTIFY -stdlib=libc++ -m64 -mrtm -isysroot /Library/Developer/CommandLineTools/SDKs/MacOSX.sdk -mmacosx-version-min=10.11  -fPIC  -D__TBB_BUILD=1 -Wall -Wno-non-virtual-dtor -Wno-dangling-else -Wno-unknown-warning-option -Wno-deprecated-copy   -DTBB_SUPPRESS_DEPRECATED_MESSAGES=1 -std=c++1y  -I../tbb_2020.3/src -I../tbb_2020.3/src/rml/include -I../tbb_2020.3/include ../tbb_2020.3/src/old/spin_rw_mutex_v2.cpp\nx86_64-apple-darwin13.4.0-clang++ -o task_v2.o -c -MMD -O2 -DUSE_PTHREAD -DDO_ITT_NOTIFY -stdlib=libc++ -m64 -mrtm -isysroot /Library/Developer/CommandLineTools/SDKs/MacOSX.sdk -mmacosx-version-min=10.11  -fPIC  -D__TBB_BUILD=1 -Wall -Wno-non-virtual-dtor -Wno-dangling-else -Wno-unknown-warning-option -Wno-deprecated-copy   -DTBB_SUPPRESS_DEPRECATED_MESSAGES=1 -std=c++1y  -I../tbb_2020.3/src -I../tbb_2020.3/src/rml/include -I../tbb_2020.3/include ../tbb_2020.3/src/old/task_v2.cpp\nsh ../tbb_2020.3/build/generate_tbbvars.sh DY\nx86_64-apple-darwin13.4.0-clang++ -E -x c++ ../tbb_2020.3/src/tbb/mac64-tbb-export.def -O2 -DUSE_PTHREAD -DDO_ITT_NOTIFY -stdlib=libc++ -m64 -mrtm -isysroot /Library/Developer/CommandLineTools/SDKs/MacOSX.sdk -mmacosx-version-min=10.11  -fPIC  -D__TBB_BUILD=1 -Wall -Wno-non-virtual-dtor -Wno-dangling-else -Wno-unknown-warning-option -Wno-deprecated-copy   -DTBB_SUPPRESS_DEPRECATED_MESSAGES=1 -I../tbb_2020.3/src -I../tbb_2020.3/src/rml/include -I../tbb_2020.3/include > tbb.def\nx86_64-apple-darwin13.4.0-clang++ -fPIC -o libtbb.dylib concurrent_hash_map.o concurrent_queue.o concurrent_vector.o dynamic_link.o itt_notify.o cache_aligned_allocator.o pipeline.o queuing_mutex.o queuing_rw_mutex.o reader_writer_lock.o spin_rw_mutex.o x86_rtm_rw_mutex.o spin_mutex.o critical_section.o mutex.o recursive_mutex.o condition_variable.o tbb_thread.o concurrent_monitor.o semaphore.o private_server.o rml_tbb.o tbb_misc.o tbb_misc_ex.o task.o task_group_context.o governor.o market.o arena.o scheduler.o observer_proxy.o tbb_statistics.o tbb_main.o concurrent_vector_v2.o concurrent_queue_v2.o spin_rw_mutex_v2.o task_v2.o   -ldl -lpthread -dynamiclib -install_name @rpath/libtbb.dylib -stdlib=libc++ -m64 -L/Library/Developer/CommandLineTools/SDKs/MacOSX.sdk/usr/lib/system -L/Library/Developer/CommandLineTools/SDKs/MacOSX.sdk/usr/lib/ -mmacosx-version-min=10.11 -Wl,-L,\"/Users/emilyziyixiao/.cmdstan/cmdstan-2.32.0/stan/lib/stan_math/lib/tbb\" -Wl,-rpath,\"/Users/emilyziyixiao/.cmdstan/cmdstan-2.32.0/stan/lib/stan_math/lib/tbb\"   -Wl,-exported_symbols_list,tbb.def\nld: unsupported tapi file type '!tapi-tbd' in YAML file '/Library/Developer/CommandLineTools/SDKs/MacOSX.sdk/usr/lib//libc++.tbd' for architecture x86_64\nclang-12: error: linker command failed with exit code 1 (use -v to see invocation)\nmake[1]: *** [libtbb.dylib] Error 1\nmake: *** [stan/lib/stan_math/lib/tbb/tbb.def] Error 2\n\nCommand ['make', '/Users/emilyziyixiao/DataspellProjects/AdvDsFinance/Final/stan_model']\n\terror during processing No such file or directory\n"
     ]
    }
   ],
   "source": [
    "import pandas as pd\n",
    "import numpy as np\n",
    "import matplotlib.pyplot as plt\n",
    "import seaborn as sns\n",
    "from scipy.interpolate import BSpline\n",
    "from cmdstanpy import CmdStanModel, cmdstan_path\n",
    "import os\n",
    "\n",
    "# Read the data\n",
    "data = pd.read_csv('ESM2023_20230428_5m.csv')\n",
    "data['DateTime'] = pd.to_datetime(data['DateTime'])\n",
    "data['Close'] = np.log(data['Close'])\n",
    "\n",
    "# Generate the knot locations\n",
    "num_knots = 9\n",
    "timestamps_numeric = (data['DateTime'] - data['DateTime'].min()) / np.timedelta64(1, 's')\n",
    "knots_numeric = np.linspace(timestamps_numeric.min(), timestamps_numeric.max(), num_knots)\n",
    "knots = data['DateTime'].min() + pd.to_timedelta(knots_numeric, unit='s')\n",
    "\n",
    "# Compute the basis functions\n",
    "def compute_basis_functions(x, knots, degree=3):\n",
    "    num_basis = len(knots) + degree - 1\n",
    "    basis = np.zeros((x.shape[0], num_basis))\n",
    "    for i in range(num_basis):\n",
    "        coeffs = np.zeros(num_basis)\n",
    "        coeffs[i] = 1\n",
    "        basis[:, i] = BSpline(knots, coeffs, degree)(x)\n",
    "    return basis\n",
    "\n",
    "x = (data['DateTime'] - data['DateTime'].min()) / (data['DateTime'].max() - data['DateTime'].min())\n",
    "x = x.values\n",
    "y = data['Close'].values\n",
    "basis_functions = compute_basis_functions(x, knots)\n",
    "\n",
    "# Save the data in a dictionary\n",
    "data_dict = {\n",
    "    \"N\": len(y),\n",
    "    \"K\": basis_functions.shape[1],\n",
    "    \"y\": y,\n",
    "    \"X\": basis_functions\n",
    "}\n",
    "\n",
    "# Write the Stan model\n",
    "stan_model_code = \"\"\"\n",
    "functions {\n",
    "  matrix cubic_spline_basis(vector x, vector knots) {\n",
    "    int N = rows(x);\n",
    "    int K = rows(knots);\n",
    "    matrix[N, K + 3] B;\n",
    "    vector[N] x_shifted = x - knots[1];\n",
    "    for (i in 1:N) {\n",
    "      for (j in 1:K) {\n",
    "        if (x[i] >= knots[j] && x[i] < knots[j + 1]) {\n",
    "          B[i, j] = pow(x_shifted[i], 3) - 4 * pow(x_shifted[i] - knots[j], 3) * (x[i] > knots[j]);\n",
    "        } else if (x[i] >= knots[j + 1] && x[i] < knots[j + 2]) {\n",
    "          B[i, j] = pow(knots[j + 2] - knots[1], 3) - 4 * pow(x_shifted[i] - knots[j + 1], 3);\n",
    "        } else {\n",
    "          B[i, j] = 0;\n",
    "        }\n",
    "      }\n",
    "      B[i, K + 1] = x_shifted[i] * x_shifted[i];\n",
    "      B[i, K + 2] = x_shifted[i];\n",
    "      B[i, K + 3] = 1;\n",
    "    }\n",
    "    return B;\n",
    "  }\n",
    "}\n",
    "data {\n",
    "  int<lower=0> N;\n",
    "  vector[N] x;\n",
    "  vector[N] y;\n",
    "  int<lower=0> K;\n",
    "  vector[K] knots;\n",
    "}\n",
    "transformed data {\n",
    "  matrix[N, K + 3] B = cubic_spline_basis(x, knots);\n",
    "}\n",
    "parameters {\n",
    "  vector[K + 3] w;\n",
    "  real a;\n",
    "  real<lower=0> sigma;\n",
    "}\n",
    "model {\n",
    "  y ~ lognormal(a + B * w, sigma);\n",
    "}\n",
    "\"\"\"\n",
    "\n",
    "with open(\"stan_model.stan\", \"w\") as f:\n",
    "    f.write(stan_model_code)\n",
    "\n",
    "stan_model = CmdStanModel(stan_file=\"stan_model.stan\")\n",
    "\n",
    "# Fit the model\n",
    "fit = stan_model.sample(data=data_dict, iter_sampling=2000, iter_warmup=2000, chains=2)\n",
    "\n",
    "# Get the posterior samples\n",
    "w_samples = fit.stan_variable(\"w\")\n",
    "a_samples = fit.stan_variable(\"a\")\n",
    "sigma_samples = fit.stan_variable(\"sigma\")\n",
    "\n",
    "# Compute the fitted curve and 90% credible interval\n",
    "x_pred = np.linspace(0, 1, 500)\n",
    "basis_pred = compute_basis_functions(x_pred, knots)\n",
    "y_pred = np.exp(np.dot(basis_pred, w_samples.mean(axis=0)) + a_samples.mean())\n",
    "y_pred_low = np.exp(np.dot(basis_pred, np.percentile(w_samples, 5, axis=0)) + np.percentile(a_samples, 5))\n",
    "y_pred_high = np.exp(np.dot(basis_pred, np.percentile(w_samples, 95, axis=0)) + np.percentile(a_samples,\n",
    "                                                                                              95))\n",
    "\n",
    "# Plot the fitted curve and 90% credible interval\n",
    "plt.figure(figsize=(12, 6))\n",
    "plt.plot(data['DateTime'], np.exp(y), 'o', markersize=4, label='Data', alpha=0.5)\n",
    "time_range = data['DateTime'].max() - data['DateTime'].min()\n",
    "plt.plot(data['DateTime'].min() + pd.to_timedelta(time_range.total_seconds() * x_pred, unit='s'), y_pred, label='Fitted curve')\n",
    "plt.fill_between(data['DateTime'].min() + pd.to_timedelta(time_range.total_seconds() * x_pred, unit='s'), y_pred_low, y_pred_high, alpha=0.3, label='90% credible interval')\n",
    "\n",
    "\n",
    "for knot in knots:\n",
    "    plt.axvline(knot, color='gray', linestyle='--', label='Knots' if knot == knots[0] else None)\n",
    "\n",
    "plt.xlabel('Timestamp')\n",
    "plt.ylabel('Close')\n",
    "plt.legend()\n",
    "plt.title('Bayesian Cubic Spline Fit')\n",
    "plt.show()\n",
    "\n",
    "# Print summary statistics of the fit\n",
    "print(fit.summary())"
   ],
   "metadata": {
    "collapsed": false
   }
  },
  {
   "cell_type": "code",
   "execution_count": 29,
   "outputs": [
    {
     "name": "stdout",
     "output_type": "stream",
     "text": [
      "Collecting tensorflow_probability\r\n",
      "  Downloading tensorflow_probability-0.19.0-py2.py3-none-any.whl (6.7 MB)\r\n",
      "\u001B[2K     \u001B[90m━━━━━━━━━━━━━━━━━━━━━━━━━━━━━━━━━━━━━━━━\u001B[0m \u001B[32m6.7/6.7 MB\u001B[0m \u001B[31m24.4 MB/s\u001B[0m eta \u001B[36m0:00:00\u001B[0m00:01\u001B[0m00:01\u001B[0m\r\n",
      "\u001B[?25hCollecting dm-tree\r\n",
      "  Downloading dm_tree-0.1.8-cp310-cp310-macosx_10_9_x86_64.whl (115 kB)\r\n",
      "\u001B[2K     \u001B[90m━━━━━━━━━━━━━━━━━━━━━━━━━━━━━━━━━━━━━━━\u001B[0m \u001B[32m115.4/115.4 kB\u001B[0m \u001B[31m3.5 MB/s\u001B[0m eta \u001B[36m0:00:00\u001B[0m\r\n",
      "\u001B[?25hRequirement already satisfied: gast>=0.3.2 in /Users/emilyziyixiao/opt/anaconda3/envs/310_new/lib/python3.10/site-packages (from tensorflow_probability) (0.4.0)\r\n",
      "Requirement already satisfied: numpy>=1.13.3 in /Users/emilyziyixiao/opt/anaconda3/envs/310_new/lib/python3.10/site-packages (from tensorflow_probability) (1.22.4)\r\n",
      "Requirement already satisfied: absl-py in /Users/emilyziyixiao/opt/anaconda3/envs/310_new/lib/python3.10/site-packages (from tensorflow_probability) (1.3.0)\r\n",
      "Requirement already satisfied: decorator in /Users/emilyziyixiao/opt/anaconda3/envs/310_new/lib/python3.10/site-packages (from tensorflow_probability) (5.1.1)\r\n",
      "Requirement already satisfied: six>=1.10.0 in /Users/emilyziyixiao/opt/anaconda3/envs/310_new/lib/python3.10/site-packages (from tensorflow_probability) (1.16.0)\r\n",
      "Collecting cloudpickle>=1.3\r\n",
      "  Downloading cloudpickle-2.2.1-py3-none-any.whl (25 kB)\r\n",
      "Installing collected packages: dm-tree, cloudpickle, tensorflow_probability\r\n",
      "Successfully installed cloudpickle-2.2.1 dm-tree-0.1.8 tensorflow_probability-0.19.0\r\n"
     ]
    }
   ],
   "source": [
    "!pip install tensorflow_probability"
   ],
   "metadata": {
    "collapsed": false
   }
  },
  {
   "cell_type": "code",
   "execution_count": 30,
   "outputs": [
    {
     "ename": "SyntaxError",
     "evalue": "unterminated string literal (detected at line 71) (2101376661.py, line 71)",
     "output_type": "error",
     "traceback": [
      "\u001B[0;36m  Cell \u001B[0;32mIn[30], line 71\u001B[0;36m\u001B[0m\n\u001B[0;31m    plt.axvline(knot, color='gray', linestyle='--', label='Knots\u001B[0m\n\u001B[0m                                                          ^\u001B[0m\n\u001B[0;31mSyntaxError\u001B[0m\u001B[0;31m:\u001B[0m unterminated string literal (detected at line 71)\n"
     ]
    }
   ],
   "source": [
    "import numpy as np\n",
    "import pandas as pd\n",
    "import matplotlib.pyplot as plt\n",
    "import tensorflow as tf\n",
    "import tensorflow_probability as tfp\n",
    "from scipy.interpolate import BSpline\n",
    "\n",
    "tfd = tfp.distributions\n",
    "tfb = tfp.bijectors\n",
    "tfpl = tfp.layers\n",
    "\n",
    "# Read the data\n",
    "data = pd.read_csv('ESM2023_20230428_5m.csv')\n",
    "data['DateTime'] = pd.to_datetime(data['DateTime'])\n",
    "data['Close'] = np.log(data['Close'])\n",
    "\n",
    "# Generate the knot locations\n",
    "num_knots = 9\n",
    "knots = np.linspace(data['DateTime'].min(), data['DateTime'].max(), num_knots)\n",
    "\n",
    "# Compute the basis functions\n",
    "def compute_basis_functions(x, knots, degree=3):\n",
    "    num_basis = len(knots) + degree - 1\n",
    "    basis = np.zeros((x.shape[0], num_basis))\n",
    "    for i in range(num_basis):\n",
    "        coeffs = np.zeros(num_basis)\n",
    "        coeffs[i] = 1\n",
    "        basis[:, i] = BSpline(knots, coeffs, degree)(x)\n",
    "    return basis\n",
    "\n",
    "x = (data['DateTime'] - data['DateTime'].min()) / (data['DateTime'].max() - data['DateTime'].min())\n",
    "x = x.values\n",
    "y = data['Close'].values\n",
    "basis_functions = compute_basis_functions(x, knots)\n",
    "\n",
    "# Build and fit the Bayesian cubic spline model\n",
    "def build_model(input_shape):\n",
    "    model = tf.keras.Sequential([\n",
    "        tfpl.DenseVariational(\n",
    "            input_shape=input_shape,\n",
    "            units=1,\n",
    "            make_prior_fn=lambda t: tfd.MultivariateNormalDiag(loc=tf.zeros(13), scale_diag=tf.ones(13)),\n",
    "            make_posterior_fn=lambda t: tfd.MultivariateNormalDiag(\n",
    "                loc=tf.Variable(tf.zeros(13)),\n",
    "                scale_diag=tfp.util.TransformedVariable(tf.ones(13), bijector=tfb.Softplus())\n",
    "            ),\n",
    "            kl_weight=1 / x.shape[0]\n",
    "        )\n",
    "    ])\n",
    "    return model\n",
    "\n",
    "model = build_model(input_shape=(13,))\n",
    "model.compile(optimizer=tf.keras.optimizers.Adam(learning_rate=0.01), loss='mse')\n",
    "model.fit(basis_functions, y, epochs=1000, verbose=0)\n",
    "\n",
    "# Plot the fitted curve and 90% credible interval\n",
    "x_pred = np.linspace(0, 1, 500)\n",
    "basis_pred = compute_basis_functions(x_pred, knots)\n",
    "\n",
    "samples = model(basis_pred).sample(500).numpy()\n",
    "y_pred = np.exp(samples.mean(axis=0))\n",
    "y_pred_low = np.exp(np.percentile(samples, 5, axis=0))\n",
    "y_pred_high = np.exp(np.percentile(samples, 95, axis=0))\n",
    "\n",
    "plt.figure(figsize=(12, 6))\n",
    "plt.plot(data['DateTime'], np.exp(y), 'o', markersize=4, label='Data', alpha=0.5)\n",
    "plt.plot(data['DateTime'].min() + (data['DateTime'].max() - data['DateTime'].min()) * x_pred, y_pred, label='Fitted curve')\n",
    "plt.fill_between(data['DateTime'].min() + (data['DateTime'].max() - data['DateTime'].min()) * x_pred, y_pred_low, y_pred_high, alpha=0.3, label='90% credible interval')\n",
    "\n",
    "for knot in knots:\n",
    "    plt.axvline(knot, color='gray', linestyle='--', label='Knots\n"
   ],
   "metadata": {
    "collapsed": false
   }
  },
  {
   "cell_type": "code",
   "execution_count": null,
   "outputs": [],
   "source": [],
   "metadata": {
    "collapsed": false
   }
  }
 ],
 "metadata": {
  "kernelspec": {
   "display_name": "Python 3",
   "language": "python",
   "name": "python3"
  },
  "language_info": {
   "codemirror_mode": {
    "name": "ipython",
    "version": 2
   },
   "file_extension": ".py",
   "mimetype": "text/x-python",
   "name": "python",
   "nbconvert_exporter": "python",
   "pygments_lexer": "ipython2",
   "version": "2.7.6"
  }
 },
 "nbformat": 4,
 "nbformat_minor": 0
}
