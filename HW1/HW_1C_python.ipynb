{
 "cells": [
  {
   "cell_type": "code",
   "execution_count": 1,
   "metadata": {
    "collapsed": true
   },
   "outputs": [],
   "source": [
    "from IPython.core.interactiveshell import InteractiveShell\n",
    "InteractiveShell.ast_node_interactivity = \"all\""
   ]
  },
  {
   "cell_type": "code",
   "execution_count": 2,
   "metadata": {},
   "outputs": [],
   "source": [
    "import sqlite3\n",
    "import pandas as pd\n",
    "import seaborn as sns\n",
    "import numpy as np\n",
    "import matplotlib.pyplot as plt"
   ]
  },
  {
   "cell_type": "markdown",
   "metadata": {},
   "source": [
    "[a]"
   ]
  },
  {
   "cell_type": "code",
   "execution_count": 3,
   "metadata": {},
   "outputs": [
    {
     "name": "stdout",
     "output_type": "stream",
     "text": [
      "The estimated Sharpe ratio is:  0.8013146984726371\n"
     ]
    }
   ],
   "source": [
    "# Connect to the database\n",
    "conn = sqlite3.connect('output.db')\n",
    "\n",
    "# Get the merged data from the database\n",
    "merged = pd.read_sql_query(\"SELECT * FROM merged\", conn)\n",
    "\n",
    "# Calculate the Sharpe ratio\n",
    "sharpe_ratio = np.mean(merged['Ret'] - merged['RF']) / np.std(merged['Ret']) * np.sqrt(12)\n",
    "print(\"The estimated Sharpe ratio is: \", sharpe_ratio)"
   ]
  },
  {
   "cell_type": "markdown",
   "metadata": {},
   "source": [
    "[b]"
   ]
  },
  {
   "cell_type": "code",
   "execution_count": 4,
   "metadata": {},
   "outputs": [
    {
     "data": {
      "text/html": [
       "<div>\n",
       "<style scoped>\n",
       "    .dataframe tbody tr th:only-of-type {\n",
       "        vertical-align: middle;\n",
       "    }\n",
       "\n",
       "    .dataframe tbody tr th {\n",
       "        vertical-align: top;\n",
       "    }\n",
       "\n",
       "    .dataframe thead th {\n",
       "        text-align: right;\n",
       "    }\n",
       "</style>\n",
       "<table border=\"1\" class=\"dataframe\">\n",
       "  <thead>\n",
       "    <tr style=\"text-align: right;\">\n",
       "      <th></th>\n",
       "      <th>cumulative_return</th>\n",
       "      <th>Date</th>\n",
       "    </tr>\n",
       "  </thead>\n",
       "  <tbody>\n",
       "    <tr>\n",
       "      <th>0</th>\n",
       "      <td>1036.200000</td>\n",
       "      <td>199701</td>\n",
       "    </tr>\n",
       "    <tr>\n",
       "      <th>1</th>\n",
       "      <td>1048.427160</td>\n",
       "      <td>199702</td>\n",
       "    </tr>\n",
       "    <tr>\n",
       "      <th>2</th>\n",
       "      <td>1038.047731</td>\n",
       "      <td>199703</td>\n",
       "    </tr>\n",
       "    <tr>\n",
       "      <th>3</th>\n",
       "      <td>1043.134165</td>\n",
       "      <td>199704</td>\n",
       "    </tr>\n",
       "    <tr>\n",
       "      <th>4</th>\n",
       "      <td>1085.485412</td>\n",
       "      <td>199705</td>\n",
       "    </tr>\n",
       "  </tbody>\n",
       "</table>\n",
       "</div>"
      ],
      "text/plain": [
       "   cumulative_return    Date\n",
       "0        1036.200000  199701\n",
       "1        1048.427160  199702\n",
       "2        1038.047731  199703\n",
       "3        1043.134165  199704\n",
       "4        1085.485412  199705"
      ]
     },
     "execution_count": 4,
     "metadata": {},
     "output_type": "execute_result"
    }
   ],
   "source": [
    "# Get cumulative return\n",
    "\n",
    "cumulative_return = []\n",
    "current = 1000\n",
    "for i, rowi in merged.iterrows():\n",
    "    current = current * (1 + rowi['Ret'])\n",
    "    cumulative_return.append(current)\n",
    "return_df = pd.DataFrame(cumulative_return, columns=['cumulative_return'])\n",
    "return_df['Date'] = merged['Date']\n",
    "return_df.head()"
   ]
  },
  {
   "cell_type": "code",
   "execution_count": 6,
   "metadata": {},
   "outputs": [
    {
     "data": {
      "text/plain": [
       "<Figure size 576x432 with 0 Axes>"
      ]
     },
     "execution_count": 6,
     "metadata": {},
     "output_type": "execute_result"
    },
    {
     "data": {
      "text/plain": [
       "Text(0.5, 1.0, 'Performance of $1000 invested in Jan 1997, as of Dec 2022')"
      ]
     },
     "execution_count": 6,
     "metadata": {},
     "output_type": "execute_result"
    },
    {
     "data": {
      "text/plain": [
       "<AxesSubplot:title={'center':'Performance of $1000 invested in Jan 1997, as of Dec 2022'}, xlabel='Date', ylabel='cumulative_return'>"
      ]
     },
     "execution_count": 6,
     "metadata": {},
     "output_type": "execute_result"
    },
    {
     "data": {
      "text/plain": [
       "([<matplotlib.axis.XTick at 0x7fcea235d550>,\n",
       "  <matplotlib.axis.XTick at 0x7fcea235d520>,\n",
       "  <matplotlib.axis.XTick at 0x7fcea2399a90>,\n",
       "  <matplotlib.axis.XTick at 0x7fcea24520a0>,\n",
       "  <matplotlib.axis.XTick at 0x7fcea24525b0>],\n",
       " [Text(4, 0, '1997-05'),\n",
       "  Text(70, 0, '2002-11'),\n",
       "  Text(136, 0, '2008-05'),\n",
       "  Text(201, 0, '2013-10'),\n",
       "  Text(267, 0, '2019-04')])"
      ]
     },
     "execution_count": 6,
     "metadata": {},
     "output_type": "execute_result"
    },
    {
     "data": {
      "image/png": "[encoded data removed]",
      "text/plain": [
       "<Figure size 576x432 with 1 Axes>"
      ]
     },
     "metadata": {},
     "output_type": "display_data"
    }
   ],
   "source": [
    "# Plot the line graph\n",
    "plt.figure(figsize=(8, 6))\n",
    "plt.title(\"Performance of $1000 invested in Jan 1997, as of Dec 2022\")\n",
    "sns.lineplot(data = return_df, x = 'Date', y = 'cumulative_return')\n",
    "x_labels = [\"1997-05\", \"2002-11\", \"2008-05\", \"2013-10\", \"2019-04\"]\n",
    "x_locations = [4, 70, 136, 201, 267]\n",
    "plt.xticks(x_locations, x_labels, rotation=90)\n",
    "plt.show()"
   ]
  },
  {
   "cell_type": "code",
   "execution_count": null,
   "metadata": {},
   "outputs": [],
   "source": []
  }
 ],
 "metadata": {
  "kernelspec": {
   "display_name": "Python 3",
   "language": "python",
   "name": "python3"
  },
  "language_info": {
   "codemirror_mode": {
    "name": "ipython",
    "version": 3
   },
   "file_extension": ".py",
   "mimetype": "text/x-python",
   "name": "python",
   "nbconvert_exporter": "python",
   "pygments_lexer": "ipython3",
   "version": "3.8.8"
  }
 },
 "nbformat": 4,
 "nbformat_minor": 1
}
