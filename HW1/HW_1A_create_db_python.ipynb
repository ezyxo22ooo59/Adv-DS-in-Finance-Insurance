{
 "cells": [
  {
   "cell_type": "code",
   "execution_count": 1,
   "metadata": {
    "collapsed": true
   },
   "outputs": [],
   "source": [
    "from IPython.core.interactiveshell import InteractiveShell\n",
    "InteractiveShell.ast_node_interactivity = \"all\""
   ]
  },
  {
   "cell_type": "code",
   "execution_count": 2,
   "metadata": {},
   "outputs": [],
   "source": [
    "import sqlite3\n",
    "import pandas as pd"
   ]
  },
  {
   "cell_type": "code",
   "execution_count": 3,
   "metadata": {},
   "outputs": [
    {
     "data": {
      "text/plain": [
       "<sqlite3.Cursor at 0x7fadb6132570>"
      ]
     },
     "execution_count": 3,
     "metadata": {},
     "output_type": "execute_result"
    },
    {
     "data": {
      "text/plain": [
       "<sqlite3.Cursor at 0x7fadb6132570>"
      ]
     },
     "execution_count": 3,
     "metadata": {},
     "output_type": "execute_result"
    },
    {
     "data": {
      "text/html": [
       "<div>\n",
       "<style scoped>\n",
       "    .dataframe tbody tr th:only-of-type {\n",
       "        vertical-align: middle;\n",
       "    }\n",
       "\n",
       "    .dataframe tbody tr th {\n",
       "        vertical-align: top;\n",
       "    }\n",
       "\n",
       "    .dataframe thead th {\n",
       "        text-align: right;\n",
       "    }\n",
       "</style>\n",
       "<table border=\"1\" class=\"dataframe\">\n",
       "  <thead>\n",
       "    <tr style=\"text-align: right;\">\n",
       "      <th></th>\n",
       "      <th>0</th>\n",
       "      <th>1</th>\n",
       "      <th>2</th>\n",
       "    </tr>\n",
       "  </thead>\n",
       "  <tbody>\n",
       "    <tr>\n",
       "      <th>0</th>\n",
       "      <td>0</td>\n",
       "      <td>main</td>\n",
       "      <td></td>\n",
       "    </tr>\n",
       "    <tr>\n",
       "      <th>1</th>\n",
       "      <td>2</td>\n",
       "      <td>hedgefund</td>\n",
       "      <td>/Users/emilyziyixiao/DataspellProjects/AdvDsFi...</td>\n",
       "    </tr>\n",
       "    <tr>\n",
       "      <th>2</th>\n",
       "      <td>3</td>\n",
       "      <td>rfasset</td>\n",
       "      <td>/Users/emilyziyixiao/DataspellProjects/AdvDsFi...</td>\n",
       "    </tr>\n",
       "  </tbody>\n",
       "</table>\n",
       "</div>"
      ],
      "text/plain": [
       "   0          1                                                  2\n",
       "0  0       main                                                   \n",
       "1  2  hedgefund  /Users/emilyziyixiao/DataspellProjects/AdvDsFi...\n",
       "2  3    rfasset  /Users/emilyziyixiao/DataspellProjects/AdvDsFi..."
      ]
     },
     "execution_count": 3,
     "metadata": {},
     "output_type": "execute_result"
    }
   ],
   "source": [
    "# create sqlite connection and cursor\n",
    "# and attached needed databases, created if they do not exist\n",
    "Con = sqlite3.connect('')\n",
    "Cur = Con.cursor()\n",
    "Cur.execute(\"ATTACH DATABASE 'hedgefund.db' AS hedgefund\")\n",
    "Cur.execute(\"ATTACH DATABASE 'rfasset.db' AS rfasset\")\n",
    "pd.DataFrame(Cur.execute('pragma database_list').fetchall()) #list db"
   ]
  },
  {
   "cell_type": "markdown",
   "metadata": {},
   "source": [
    "[a]"
   ]
  },
  {
   "cell_type": "code",
   "execution_count": 6,
   "metadata": {},
   "outputs": [
    {
     "data": {
      "text/html": [
       "<div>\n",
       "<style scoped>\n",
       "    .dataframe tbody tr th:only-of-type {\n",
       "        vertical-align: middle;\n",
       "    }\n",
       "\n",
       "    .dataframe tbody tr th {\n",
       "        vertical-align: top;\n",
       "    }\n",
       "\n",
       "    .dataframe thead th {\n",
       "        text-align: right;\n",
       "    }\n",
       "</style>\n",
       "<table border=\"1\" class=\"dataframe\">\n",
       "  <thead>\n",
       "    <tr style=\"text-align: right;\">\n",
       "      <th></th>\n",
       "      <th>Year</th>\n",
       "      <th>Jan</th>\n",
       "      <th>Feb</th>\n",
       "      <th>Mar</th>\n",
       "      <th>Apr</th>\n",
       "      <th>May</th>\n",
       "      <th>Jun</th>\n",
       "      <th>Jul</th>\n",
       "      <th>Aug</th>\n",
       "      <th>Sep</th>\n",
       "      <th>Oct</th>\n",
       "      <th>Nov</th>\n",
       "      <th>Dec</th>\n",
       "      <th>YTD</th>\n",
       "    </tr>\n",
       "  </thead>\n",
       "  <tbody>\n",
       "    <tr>\n",
       "      <th>0</th>\n",
       "      <td>1997</td>\n",
       "      <td>0.0362</td>\n",
       "      <td>0.0118</td>\n",
       "      <td>-0.0099</td>\n",
       "      <td>0.0049</td>\n",
       "      <td>0.0406</td>\n",
       "      <td>0.0311</td>\n",
       "      <td>0.0470</td>\n",
       "      <td>0.0052</td>\n",
       "      <td>0.0405</td>\n",
       "      <td>-0.0127</td>\n",
       "      <td>-0.0019</td>\n",
       "      <td>0.0129</td>\n",
       "      <td>0.2235</td>\n",
       "    </tr>\n",
       "    <tr>\n",
       "      <th>1</th>\n",
       "      <td>1998</td>\n",
       "      <td>-0.0019</td>\n",
       "      <td>0.0376</td>\n",
       "      <td>0.0354</td>\n",
       "      <td>0.0115</td>\n",
       "      <td>-0.0168</td>\n",
       "      <td>0.0023</td>\n",
       "      <td>-0.0046</td>\n",
       "      <td>-0.0781</td>\n",
       "      <td>0.0105</td>\n",
       "      <td>0.0217</td>\n",
       "      <td>0.0378</td>\n",
       "      <td>0.0295</td>\n",
       "      <td>0.0823</td>\n",
       "    </tr>\n",
       "    <tr>\n",
       "      <th>2</th>\n",
       "      <td>1999</td>\n",
       "      <td>0.0223</td>\n",
       "      <td>-0.0084</td>\n",
       "      <td>0.0348</td>\n",
       "      <td>0.0492</td>\n",
       "      <td>0.0115</td>\n",
       "      <td>0.0413</td>\n",
       "      <td>0.0082</td>\n",
       "      <td>0.0032</td>\n",
       "      <td>0.0074</td>\n",
       "      <td>0.0190</td>\n",
       "      <td>0.0533</td>\n",
       "      <td>0.0773</td>\n",
       "      <td>0.3656</td>\n",
       "    </tr>\n",
       "    <tr>\n",
       "      <th>3</th>\n",
       "      <td>2000</td>\n",
       "      <td>0.0095</td>\n",
       "      <td>0.0676</td>\n",
       "      <td>0.0174</td>\n",
       "      <td>-0.0147</td>\n",
       "      <td>-0.0100</td>\n",
       "      <td>0.0326</td>\n",
       "      <td>0.0006</td>\n",
       "      <td>0.0374</td>\n",
       "      <td>-0.0071</td>\n",
       "      <td>-0.0107</td>\n",
       "      <td>-0.0252</td>\n",
       "      <td>0.0220</td>\n",
       "      <td>0.1219</td>\n",
       "    </tr>\n",
       "    <tr>\n",
       "      <th>4</th>\n",
       "      <td>2001</td>\n",
       "      <td>0.0304</td>\n",
       "      <td>-0.0144</td>\n",
       "      <td>-0.0111</td>\n",
       "      <td>0.0202</td>\n",
       "      <td>0.0147</td>\n",
       "      <td>0.0051</td>\n",
       "      <td>-0.0057</td>\n",
       "      <td>-0.0018</td>\n",
       "      <td>-0.0258</td>\n",
       "      <td>0.0184</td>\n",
       "      <td>0.0202</td>\n",
       "      <td>0.0171</td>\n",
       "      <td>0.0677</td>\n",
       "    </tr>\n",
       "  </tbody>\n",
       "</table>\n",
       "</div>"
      ],
      "text/plain": [
       "   Year     Jan     Feb     Mar     Apr     May     Jun     Jul     Aug  \\\n",
       "0  1997  0.0362  0.0118 -0.0099  0.0049  0.0406  0.0311  0.0470  0.0052   \n",
       "1  1998 -0.0019  0.0376  0.0354  0.0115 -0.0168  0.0023 -0.0046 -0.0781   \n",
       "2  1999  0.0223 -0.0084  0.0348  0.0492  0.0115  0.0413  0.0082  0.0032   \n",
       "3  2000  0.0095  0.0676  0.0174 -0.0147 -0.0100  0.0326  0.0006  0.0374   \n",
       "4  2001  0.0304 -0.0144 -0.0111  0.0202  0.0147  0.0051 -0.0057 -0.0018   \n",
       "\n",
       "      Sep     Oct     Nov     Dec     YTD  \n",
       "0  0.0405 -0.0127 -0.0019  0.0129  0.2235  \n",
       "1  0.0105  0.0217  0.0378  0.0295  0.0823  \n",
       "2  0.0074  0.0190  0.0533  0.0773  0.3656  \n",
       "3 -0.0071 -0.0107 -0.0252  0.0220  0.1219  \n",
       "4 -0.0258  0.0184  0.0202  0.0171  0.0677  "
      ]
     },
     "execution_count": 6,
     "metadata": {},
     "output_type": "execute_result"
    }
   ],
   "source": [
    "# Load the data from the Excel file into pandas dataframes\n",
    "hedgefund_df = pd.read_excel('data.xlsx', sheet_name='HedgeFund', header=1, index_col=None)\n",
    "hedgefund_df = hedgefund_df[:-3]\n",
    "hedgefund_df = hedgefund_df.rename(columns={hedgefund_df.columns[0]: \"Year\"})\n",
    "hedgefund_df[\"Year\"] = hedgefund_df[\"Year\"].astype(int)\n",
    "hedgefund_df['YTD'] = hedgefund_df['YTD'].astype(str).str.strip('%').astype(float) / 100\n",
    "\n",
    "# Connect to the databases and create the tables\n",
    "conn_hedge = sqlite3.connect(\"hedgefund.db\")\n",
    "hedgefund_df.to_sql(\"hf_wide\", conn_hedge, if_exists=\"replace\", index=False)\n",
    "\n",
    "# Query the data to make sure it was stored correctly\n",
    "check_table_hf_wide = pd.read_sql_query(\"SELECT * FROM hf_wide\", conn_hedge)\n",
    "check_table_hf_wide.head()"
   ]
  },
  {
   "cell_type": "markdown",
   "metadata": {},
   "source": [
    "[b]"
   ]
  },
  {
   "cell_type": "code",
   "execution_count": 7,
   "metadata": {},
   "outputs": [
    {
     "data": {
      "text/html": [
       "<div>\n",
       "<style scoped>\n",
       "    .dataframe tbody tr th:only-of-type {\n",
       "        vertical-align: middle;\n",
       "    }\n",
       "\n",
       "    .dataframe tbody tr th {\n",
       "        vertical-align: top;\n",
       "    }\n",
       "\n",
       "    .dataframe thead th {\n",
       "        text-align: right;\n",
       "    }\n",
       "</style>\n",
       "<table border=\"1\" class=\"dataframe\">\n",
       "  <thead>\n",
       "    <tr style=\"text-align: right;\">\n",
       "      <th></th>\n",
       "      <th>Date</th>\n",
       "      <th>RF</th>\n",
       "    </tr>\n",
       "  </thead>\n",
       "  <tbody>\n",
       "    <tr>\n",
       "      <th>0</th>\n",
       "      <td>192607</td>\n",
       "      <td>0.0022</td>\n",
       "    </tr>\n",
       "    <tr>\n",
       "      <th>1</th>\n",
       "      <td>192608</td>\n",
       "      <td>0.0025</td>\n",
       "    </tr>\n",
       "    <tr>\n",
       "      <th>2</th>\n",
       "      <td>192609</td>\n",
       "      <td>0.0023</td>\n",
       "    </tr>\n",
       "    <tr>\n",
       "      <th>3</th>\n",
       "      <td>192610</td>\n",
       "      <td>0.0032</td>\n",
       "    </tr>\n",
       "    <tr>\n",
       "      <th>4</th>\n",
       "      <td>192611</td>\n",
       "      <td>0.0031</td>\n",
       "    </tr>\n",
       "  </tbody>\n",
       "</table>\n",
       "</div>"
      ],
      "text/plain": [
       "     Date      RF\n",
       "0  192607  0.0022\n",
       "1  192608  0.0025\n",
       "2  192609  0.0023\n",
       "3  192610  0.0032\n",
       "4  192611  0.0031"
      ]
     },
     "execution_count": 7,
     "metadata": {},
     "output_type": "execute_result"
    }
   ],
   "source": [
    "# Load the data from the Excel file into pandas dataframes\n",
    "rfasset_df = pd.read_excel('data.xlsx', sheet_name='RiskFreeAsset',header=1, index_col=None)\n",
    "rfasset_df['RF'] = rfasset_df['RF'] / 100\n",
    "\n",
    "# Connect to the databases and create the tables\n",
    "conn_rf = sqlite3.connect(\"rfasset.db\")\n",
    "rfasset_df.to_sql('rf_long', conn_rf, if_exists='replace', index=False)\n",
    "\n",
    "# Query the data to make sure it was stored correctly\n",
    "check_table_rf_long = pd.read_sql_query(\"SELECT * FROM rf_long\", conn_rf)\n",
    "check_table_rf_long.head()"
   ]
  },
  {
   "cell_type": "code",
   "execution_count": null,
   "metadata": {},
   "outputs": [],
   "source": []
  }
 ],
 "metadata": {
  "kernelspec": {
   "display_name": "Python 3",
   "language": "python",
   "name": "python3"
  },
  "language_info": {
   "codemirror_mode": {
    "name": "ipython",
    "version": 3
   },
   "file_extension": ".py",
   "mimetype": "text/x-python",
   "name": "python",
   "nbconvert_exporter": "python",
   "pygments_lexer": "ipython3",
   "version": "3.8.8"
  }
 },
 "nbformat": 4,
 "nbformat_minor": 1
}
