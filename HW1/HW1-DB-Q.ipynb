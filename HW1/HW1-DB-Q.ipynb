{
 "cells": [
  {
   "cell_type": "code",
   "execution_count": 58,
   "metadata": {
    "collapsed": true
   },
   "outputs": [],
   "source": [
    "from IPython.core.interactiveshell import InteractiveShell\n",
    "InteractiveShell.ast_node_interactivity = \"all\""
   ]
  },
  {
   "cell_type": "code",
   "execution_count": 59,
   "outputs": [],
   "source": [
    "import sqlite3\n",
    "import pandas as pd"
   ],
   "metadata": {
    "collapsed": false
   }
  },
  {
   "cell_type": "code",
   "execution_count": 60,
   "outputs": [
    {
     "data": {
      "text/plain": "<sqlite3.Cursor at 0x7fc2927b80a0>"
     },
     "execution_count": 60,
     "metadata": {},
     "output_type": "execute_result"
    },
    {
     "data": {
      "text/plain": "<sqlite3.Cursor at 0x7fc2927b80a0>"
     },
     "execution_count": 60,
     "metadata": {},
     "output_type": "execute_result"
    },
    {
     "data": {
      "text/plain": "   0          1                                                  2\n0  0       main                                                   \n1  2  hedgefund  /Users/emilyziyixiao/DataspellProjects/AdvDsFi...\n2  3    rfasset  /Users/emilyziyixiao/DataspellProjects/AdvDsFi...",
      "text/html": "<div>\n<style scoped>\n    .dataframe tbody tr th:only-of-type {\n        vertical-align: middle;\n    }\n\n    .dataframe tbody tr th {\n        vertical-align: top;\n    }\n\n    .dataframe thead th {\n        text-align: right;\n    }\n</style>\n<table border=\"1\" class=\"dataframe\">\n  <thead>\n    <tr style=\"text-align: right;\">\n      <th></th>\n      <th>0</th>\n      <th>1</th>\n      <th>2</th>\n    </tr>\n  </thead>\n  <tbody>\n    <tr>\n      <th>0</th>\n      <td>0</td>\n      <td>main</td>\n      <td></td>\n    </tr>\n    <tr>\n      <th>1</th>\n      <td>2</td>\n      <td>hedgefund</td>\n      <td>/Users/emilyziyixiao/DataspellProjects/AdvDsFi...</td>\n    </tr>\n    <tr>\n      <th>2</th>\n      <td>3</td>\n      <td>rfasset</td>\n      <td>/Users/emilyziyixiao/DataspellProjects/AdvDsFi...</td>\n    </tr>\n  </tbody>\n</table>\n</div>"
     },
     "execution_count": 60,
     "metadata": {},
     "output_type": "execute_result"
    }
   ],
   "source": [
    "# create sqlite connection and cursor\n",
    "# and attached needed databases, created if they do not exist\n",
    "Con = sqlite3.connect('')\n",
    "Cur = Con.cursor()\n",
    "Cur.execute(\"ATTACH DATABASE 'hedgefund.db' AS hedgefund\")\n",
    "Cur.execute(\"ATTACH DATABASE 'rfasset.db' AS rfasset\")\n",
    "pd.DataFrame(Cur.execute('pragma database_list').fetchall()) #list db"
   ],
   "metadata": {
    "collapsed": false
   }
  },
  {
   "cell_type": "code",
   "execution_count": 61,
   "outputs": [],
   "source": [
    "# Load data from data.xlsx into pandas dataframes\n",
    "hedgefund_df = pd.read_excel('data.xlsx', sheet_name='HedgeFund', header=1, skiprows=[30, 31])\n",
    "rfasset_df = pd.read_excel('data.xlsx', sheet_name='RiskFreeAsset',header=1)"
   ],
   "metadata": {
    "collapsed": false
   }
  },
  {
   "cell_type": "code",
   "execution_count": 139,
   "outputs": [
    {
     "data": {
      "text/plain": "   Year     Jan     Feb     Mar     Apr     May     Jun     Jul     Aug  \\\n0  1997  0.0362  0.0118 -0.0099  0.0049  0.0406  0.0311  0.0470  0.0052   \n1  1998 -0.0019  0.0376  0.0354  0.0115 -0.0168  0.0023 -0.0046 -0.0781   \n2  1999  0.0223 -0.0084  0.0348  0.0492  0.0115  0.0413  0.0082  0.0032   \n3  2000  0.0095  0.0676  0.0174 -0.0147 -0.0100  0.0326  0.0006  0.0374   \n4  2001  0.0304 -0.0144 -0.0111  0.0202  0.0147  0.0051 -0.0057 -0.0018   \n\n      Sep     Oct     Nov     Dec     YTD  \n0  0.0405 -0.0127 -0.0019  0.0129  22.35%  \n1  0.0105  0.0217  0.0378  0.0295   8.23%  \n2  0.0074  0.0190  0.0533  0.0773  36.56%  \n3 -0.0071 -0.0107 -0.0252  0.0220  12.19%  \n4 -0.0258  0.0184  0.0202  0.0171   6.77%  ",
      "text/html": "<div>\n<style scoped>\n    .dataframe tbody tr th:only-of-type {\n        vertical-align: middle;\n    }\n\n    .dataframe tbody tr th {\n        vertical-align: top;\n    }\n\n    .dataframe thead th {\n        text-align: right;\n    }\n</style>\n<table border=\"1\" class=\"dataframe\">\n  <thead>\n    <tr style=\"text-align: right;\">\n      <th></th>\n      <th>Year</th>\n      <th>Jan</th>\n      <th>Feb</th>\n      <th>Mar</th>\n      <th>Apr</th>\n      <th>May</th>\n      <th>Jun</th>\n      <th>Jul</th>\n      <th>Aug</th>\n      <th>Sep</th>\n      <th>Oct</th>\n      <th>Nov</th>\n      <th>Dec</th>\n      <th>YTD</th>\n    </tr>\n  </thead>\n  <tbody>\n    <tr>\n      <th>0</th>\n      <td>1997</td>\n      <td>0.0362</td>\n      <td>0.0118</td>\n      <td>-0.0099</td>\n      <td>0.0049</td>\n      <td>0.0406</td>\n      <td>0.0311</td>\n      <td>0.0470</td>\n      <td>0.0052</td>\n      <td>0.0405</td>\n      <td>-0.0127</td>\n      <td>-0.0019</td>\n      <td>0.0129</td>\n      <td>22.35%</td>\n    </tr>\n    <tr>\n      <th>1</th>\n      <td>1998</td>\n      <td>-0.0019</td>\n      <td>0.0376</td>\n      <td>0.0354</td>\n      <td>0.0115</td>\n      <td>-0.0168</td>\n      <td>0.0023</td>\n      <td>-0.0046</td>\n      <td>-0.0781</td>\n      <td>0.0105</td>\n      <td>0.0217</td>\n      <td>0.0378</td>\n      <td>0.0295</td>\n      <td>8.23%</td>\n    </tr>\n    <tr>\n      <th>2</th>\n      <td>1999</td>\n      <td>0.0223</td>\n      <td>-0.0084</td>\n      <td>0.0348</td>\n      <td>0.0492</td>\n      <td>0.0115</td>\n      <td>0.0413</td>\n      <td>0.0082</td>\n      <td>0.0032</td>\n      <td>0.0074</td>\n      <td>0.0190</td>\n      <td>0.0533</td>\n      <td>0.0773</td>\n      <td>36.56%</td>\n    </tr>\n    <tr>\n      <th>3</th>\n      <td>2000</td>\n      <td>0.0095</td>\n      <td>0.0676</td>\n      <td>0.0174</td>\n      <td>-0.0147</td>\n      <td>-0.0100</td>\n      <td>0.0326</td>\n      <td>0.0006</td>\n      <td>0.0374</td>\n      <td>-0.0071</td>\n      <td>-0.0107</td>\n      <td>-0.0252</td>\n      <td>0.0220</td>\n      <td>12.19%</td>\n    </tr>\n    <tr>\n      <th>4</th>\n      <td>2001</td>\n      <td>0.0304</td>\n      <td>-0.0144</td>\n      <td>-0.0111</td>\n      <td>0.0202</td>\n      <td>0.0147</td>\n      <td>0.0051</td>\n      <td>-0.0057</td>\n      <td>-0.0018</td>\n      <td>-0.0258</td>\n      <td>0.0184</td>\n      <td>0.0202</td>\n      <td>0.0171</td>\n      <td>6.77%</td>\n    </tr>\n  </tbody>\n</table>\n</div>"
     },
     "execution_count": 139,
     "metadata": {},
     "output_type": "execute_result"
    }
   ],
   "source": [
    "hedgefund_df = hedgefund_df.rename(columns={hedgefund_df.columns[0]: \"Year\"})\n",
    "hedgefund_df[\"Year\"] = hedgefund_df[\"Year\"].astype(int)\n",
    "hedgefund_df.head()"
   ],
   "metadata": {
    "collapsed": false
   }
  },
  {
   "cell_type": "code",
   "execution_count": 66,
   "outputs": [
    {
     "data": {
      "text/plain": "     Date    RF\n0  192607  0.22\n1  192608  0.25\n2  192609  0.23\n3  192610  0.32\n4  192611  0.31",
      "text/html": "<div>\n<style scoped>\n    .dataframe tbody tr th:only-of-type {\n        vertical-align: middle;\n    }\n\n    .dataframe tbody tr th {\n        vertical-align: top;\n    }\n\n    .dataframe thead th {\n        text-align: right;\n    }\n</style>\n<table border=\"1\" class=\"dataframe\">\n  <thead>\n    <tr style=\"text-align: right;\">\n      <th></th>\n      <th>Date</th>\n      <th>RF</th>\n    </tr>\n  </thead>\n  <tbody>\n    <tr>\n      <th>0</th>\n      <td>192607</td>\n      <td>0.22</td>\n    </tr>\n    <tr>\n      <th>1</th>\n      <td>192608</td>\n      <td>0.25</td>\n    </tr>\n    <tr>\n      <th>2</th>\n      <td>192609</td>\n      <td>0.23</td>\n    </tr>\n    <tr>\n      <th>3</th>\n      <td>192610</td>\n      <td>0.32</td>\n    </tr>\n    <tr>\n      <th>4</th>\n      <td>192611</td>\n      <td>0.31</td>\n    </tr>\n  </tbody>\n</table>\n</div>"
     },
     "execution_count": 66,
     "metadata": {},
     "output_type": "execute_result"
    }
   ],
   "source": [
    "rfasset_df.head()"
   ],
   "metadata": {
    "collapsed": false
   }
  },
  {
   "cell_type": "code",
   "execution_count": 68,
   "outputs": [],
   "source": [
    "hedgefund_df.to_sql('hf_wide', Con, if_exists='replace')\n",
    "rfasset_df.to_sql('rf_long', Con, if_exists='replace')"
   ],
   "metadata": {
    "collapsed": false
   }
  },
  {
   "cell_type": "markdown",
   "source": [
    "Part A"
   ],
   "metadata": {
    "collapsed": false
   }
  },
  {
   "cell_type": "markdown",
   "source": [
    "[a]"
   ],
   "metadata": {
    "collapsed": false
   }
  },
  {
   "cell_type": "code",
   "execution_count": 168,
   "outputs": [
    {
     "name": "stdout",
     "output_type": "stream",
     "text": [
      "    Year     Jan     Feb     Mar     Apr     May     Jun     Jul     Aug  \\\n",
      "0   1997  0.0362  0.0118 -0.0099  0.0049  0.0406  0.0311  0.0470  0.0052   \n",
      "1   1998 -0.0019  0.0376  0.0354  0.0115 -0.0168  0.0023 -0.0046 -0.0781   \n",
      "2   1999  0.0223 -0.0084  0.0348  0.0492  0.0115  0.0413  0.0082  0.0032   \n",
      "3   2000  0.0095  0.0676  0.0174 -0.0147 -0.0100  0.0326  0.0006  0.0374   \n",
      "4   2001  0.0304 -0.0144 -0.0111  0.0202  0.0147  0.0051 -0.0057 -0.0018   \n",
      "5   2002  0.0066 -0.0048  0.0187  0.0062  0.0038 -0.0149 -0.0224  0.0059   \n",
      "6   2003  0.0053  0.0009  0.0012  0.0253  0.0323  0.0135  0.0116  0.0166   \n",
      "7   2004  0.0181  0.0114  0.0065 -0.0122 -0.0044  0.0070 -0.0085  0.0012   \n",
      "8   2005  0.0012  0.0202 -0.0086 -0.0153  0.0085  0.0152  0.0229  0.0106   \n",
      "9   2006  0.0350  0.0061  0.0197  0.0173 -0.0184 -0.0039  0.0002  0.0096   \n",
      "10  2007  0.0113  0.0079  0.0091  0.0159  0.0200  0.0072  0.0037 -0.0145   \n",
      "11  2008 -0.0326  0.0123 -0.0238  0.0193  0.0182 -0.0173 -0.0210 -0.0121   \n",
      "12  2009 -0.0014 -0.0146  0.0204  0.0427  0.0557  0.0037  0.0297  0.0178   \n",
      "13  2010 -0.0041  0.0076  0.0282  0.0127 -0.0323 -0.0105  0.0193 -0.0040   \n",
      "14  2011  0.0044  0.0116  0.0023  0.0114 -0.0085 -0.0105 -0.0009 -0.0369   \n",
      "15  2012  0.0310  0.0231  0.0003 -0.0058 -0.0304  0.0059  0.0074  0.0098   \n",
      "16  2013  0.0248  0.0028  0.0137  0.0054  0.0087 -0.0152  0.0162 -0.0061   \n",
      "17  2014 -0.0041  0.0187 -0.0007 -0.0020  0.0111  0.0138 -0.0058  0.0116   \n",
      "18  2015 -0.0010  0.0220  0.0042  0.0108  0.0081 -0.0109 -0.0055 -0.0250   \n",
      "19  2016 -0.0299 -0.0035  0.0245  0.0103  0.0062 -0.0004  0.0204  0.0073   \n",
      "20  2017  0.0134  0.0111  0.0051  0.0059  0.0034  0.0037  0.0108  0.0063   \n",
      "21  2018  0.0207 -0.0152 -0.0072  0.0045  0.0074 -0.0047  0.0062  0.0013   \n",
      "22  2019  0.0364  0.0125  0.0061  0.0115 -0.0172  0.0211  0.0048 -0.0096   \n",
      "23  2020 -0.0018 -0.0284 -0.0916  0.0537  0.0267  0.0217  0.0268  0.0239   \n",
      "24  2021  0.0105  0.0256  0.0111  0.0204  0.0102  0.0077 -0.0018  0.0105   \n",
      "25  2022 -0.0262 -0.0094  0.0060 -0.0239 -0.0082 -0.0385  0.0258 -0.0038   \n",
      "\n",
      "       Sep     Oct     Nov     Dec     YTD  \n",
      "0   0.0405 -0.0127 -0.0019  0.0129  0.2235  \n",
      "1   0.0105  0.0217  0.0378  0.0295  0.0823  \n",
      "2   0.0074  0.0190  0.0533  0.0773  0.3656  \n",
      "3  -0.0071 -0.0107 -0.0252  0.0220  0.1219  \n",
      "4  -0.0258  0.0184  0.0202  0.0171  0.0677  \n",
      "5  -0.0124  0.0072  0.0209  0.0001  0.0142  \n",
      "6   0.0097  0.0229  0.0094  0.0183  0.1799  \n",
      "7   0.0152  0.0084  0.0270  0.0156  0.0880  \n",
      "8   0.0218 -0.0141  0.0192  0.0214  0.1067  \n",
      "9   0.0011  0.0180  0.0176  0.0161  0.1239  \n",
      "10  0.0251  0.0287 -0.0207  0.0052  0.1022  \n",
      "11 -0.0699 -0.0841 -0.0280  0.0037 -0.2163  \n",
      "12  0.0319 -0.0006  0.0133  0.0184  0.2374  \n",
      "13  0.0347  0.0198  0.0051  0.0293  0.1088  \n",
      "14 -0.0429  0.0345 -0.0137 -0.0045 -0.0548  \n",
      "15  0.0161  0.0012  0.0053  0.0170  0.0825  \n",
      "16  0.0203  0.0171  0.0076  0.0114  0.1112  \n",
      "17 -0.0126 -0.0029  0.0060 -0.0042  0.0288  \n",
      "18 -0.0169  0.0222  0.0022 -0.0086  0.0004  \n",
      "19  0.0089 -0.0031  0.0082  0.0114  0.0610  \n",
      "20  0.0103  0.0108  0.0064  0.0115  0.1036  \n",
      "21 -0.0009 -0.0330 -0.0041 -0.0275 -0.0523  \n",
      "22  0.0032  0.0071  0.0099  0.0167  0.1064  \n",
      "23 -0.0070 -0.0011  0.0580  0.0344  0.1114  \n",
      "24 -0.0095  0.0157 -0.0138  0.0119  0.1022  \n",
      "25 -0.0394  0.0186  0.0292 -0.0133 -0.0827  \n"
     ]
    }
   ],
   "source": [
    "# Load the data from the Excel file into pandas dataframes\n",
    "hedgefund_df = pd.read_excel('data.xlsx', sheet_name='HedgeFund', header=1, index_col=None)\n",
    "hedgefund_df = hedgefund_df[:-3]\n",
    "hedgefund_df = hedgefund_df.rename(columns={hedgefund_df.columns[0]: \"Year\"})\n",
    "hedgefund_df[\"Year\"] = hedgefund_df[\"Year\"].astype(int)\n",
    "hedgefund_df['YTD'] = hedgefund_df['YTD'].astype(str).str.strip('%').astype(float) / 100\n",
    "\n",
    "# Connect to the databases and create the tables\n",
    "conn_hedge = sqlite3.connect(\"hedgefund.db\")\n",
    "hedgefund_df.to_sql(\"hf_wide\", conn_hedge, if_exists=\"replace\", index=False)\n",
    "\n",
    "# Query the data to make sure it was stored correctly\n",
    "print(pd.read_sql_query(\"SELECT * FROM hf_wide\", conn_hedge))"
   ],
   "metadata": {
    "collapsed": false
   }
  },
  {
   "cell_type": "markdown",
   "source": [
    "[b]"
   ],
   "metadata": {
    "collapsed": false
   }
  },
  {
   "cell_type": "code",
   "execution_count": 169,
   "outputs": [
    {
     "name": "stdout",
     "output_type": "stream",
     "text": [
      "        Date      RF\n",
      "0     192607  0.0022\n",
      "1     192608  0.0025\n",
      "2     192609  0.0023\n",
      "3     192610  0.0032\n",
      "4     192611  0.0031\n",
      "...      ...     ...\n",
      "1152  202207  0.0008\n",
      "1153  202208  0.0019\n",
      "1154  202209  0.0019\n",
      "1155  202210  0.0023\n",
      "1156  202211  0.0029\n",
      "\n",
      "[1157 rows x 2 columns]\n"
     ]
    }
   ],
   "source": [
    "rfasset_df = pd.read_excel('data.xlsx', sheet_name='RiskFreeAsset',header=1, index_col=None)\n",
    "rfasset_df['RF'] = rfasset_df['RF'] / 100\n",
    "\n",
    "conn_rf = sqlite3.connect(\"rfasset.db\")\n",
    "rfasset_df.to_sql('rf_long', conn_rf, if_exists='replace', index=False)\n",
    "\n",
    "print(pd.read_sql_query(\"SELECT * FROM rf_long\", conn_rf))"
   ],
   "metadata": {
    "collapsed": false
   }
  },
  {
   "cell_type": "code",
   "execution_count": 100,
   "outputs": [
    {
     "ename": "ValueError",
     "evalue": "time data '1997.0Jan' does not match format '%Y%B' (match)",
     "output_type": "error",
     "traceback": [
      "\u001B[0;31m---------------------------------------------------------------------------\u001B[0m",
      "\u001B[0;31mTypeError\u001B[0m                                 Traceback (most recent call last)",
      "\u001B[0;32m/opt/anaconda3/lib/python3.8/site-packages/pandas/core/tools/datetimes.py\u001B[0m in \u001B[0;36m_convert_listlike_datetimes\u001B[0;34m(arg, format, name, tz, unit, errors, infer_datetime_format, dayfirst, yearfirst, exact)\u001B[0m\n\u001B[1;32m    455\u001B[0m             \u001B[0;32mtry\u001B[0m\u001B[0;34m:\u001B[0m\u001B[0;34m\u001B[0m\u001B[0;34m\u001B[0m\u001B[0m\n\u001B[0;32m--> 456\u001B[0;31m                 \u001B[0mvalues\u001B[0m\u001B[0;34m,\u001B[0m \u001B[0mtz\u001B[0m \u001B[0;34m=\u001B[0m \u001B[0mconversion\u001B[0m\u001B[0;34m.\u001B[0m\u001B[0mdatetime_to_datetime64\u001B[0m\u001B[0;34m(\u001B[0m\u001B[0marg\u001B[0m\u001B[0;34m)\u001B[0m\u001B[0;34m\u001B[0m\u001B[0;34m\u001B[0m\u001B[0m\n\u001B[0m\u001B[1;32m    457\u001B[0m                 \u001B[0mdta\u001B[0m \u001B[0;34m=\u001B[0m \u001B[0mDatetimeArray\u001B[0m\u001B[0;34m(\u001B[0m\u001B[0mvalues\u001B[0m\u001B[0;34m,\u001B[0m \u001B[0mdtype\u001B[0m\u001B[0;34m=\u001B[0m\u001B[0mtz_to_dtype\u001B[0m\u001B[0;34m(\u001B[0m\u001B[0mtz\u001B[0m\u001B[0;34m)\u001B[0m\u001B[0;34m)\u001B[0m\u001B[0;34m\u001B[0m\u001B[0;34m\u001B[0m\u001B[0m\n",
      "\u001B[0;32mpandas/_libs/tslibs/conversion.pyx\u001B[0m in \u001B[0;36mpandas._libs.tslibs.conversion.datetime_to_datetime64\u001B[0;34m()\u001B[0m\n",
      "\u001B[0;31mTypeError\u001B[0m: Unrecognized value type: <class 'str'>",
      "\nDuring handling of the above exception, another exception occurred:\n",
      "\u001B[0;31mValueError\u001B[0m                                Traceback (most recent call last)",
      "\u001B[0;32m<ipython-input-100-3eb3a655dba5>\u001B[0m in \u001B[0;36m<module>\u001B[0;34m\u001B[0m\n\u001B[1;32m      1\u001B[0m \u001B[0mlong_hedgefund_df\u001B[0m \u001B[0;34m=\u001B[0m \u001B[0mpd\u001B[0m\u001B[0;34m.\u001B[0m\u001B[0mmelt\u001B[0m\u001B[0;34m(\u001B[0m\u001B[0mhedgefund_df\u001B[0m\u001B[0;34m,\u001B[0m \u001B[0mid_vars\u001B[0m\u001B[0;34m=\u001B[0m\u001B[0;34m'Year'\u001B[0m\u001B[0;34m,\u001B[0m \u001B[0mvalue_vars\u001B[0m\u001B[0;34m=\u001B[0m\u001B[0mhedgefund_df\u001B[0m\u001B[0;34m.\u001B[0m\u001B[0mcolumns\u001B[0m\u001B[0;34m[\u001B[0m\u001B[0;36m1\u001B[0m\u001B[0;34m:\u001B[0m\u001B[0;34m]\u001B[0m\u001B[0;34m,\u001B[0m \u001B[0mvar_name\u001B[0m\u001B[0;34m=\u001B[0m\u001B[0;34m'month'\u001B[0m\u001B[0;34m,\u001B[0m \u001B[0mvalue_name\u001B[0m\u001B[0;34m=\u001B[0m\u001B[0;34m'value'\u001B[0m\u001B[0;34m)\u001B[0m\u001B[0;34m\u001B[0m\u001B[0;34m\u001B[0m\u001B[0m\n\u001B[1;32m      2\u001B[0m \u001B[0;34m\u001B[0m\u001B[0m\n\u001B[0;32m----> 3\u001B[0;31m \u001B[0mlong_hedgefund_df\u001B[0m\u001B[0;34m[\u001B[0m\u001B[0;34m'datetime'\u001B[0m\u001B[0;34m]\u001B[0m \u001B[0;34m=\u001B[0m \u001B[0mpd\u001B[0m\u001B[0;34m.\u001B[0m\u001B[0mto_datetime\u001B[0m\u001B[0;34m(\u001B[0m\u001B[0mlong_hedgefund_df\u001B[0m\u001B[0;34m[\u001B[0m\u001B[0;34m'Year'\u001B[0m\u001B[0;34m]\u001B[0m\u001B[0;34m.\u001B[0m\u001B[0mastype\u001B[0m\u001B[0;34m(\u001B[0m\u001B[0mstr\u001B[0m\u001B[0;34m)\u001B[0m \u001B[0;34m+\u001B[0m \u001B[0mlong_hedgefund_df\u001B[0m\u001B[0;34m[\u001B[0m\u001B[0;34m'month'\u001B[0m\u001B[0;34m]\u001B[0m\u001B[0;34m,\u001B[0m \u001B[0mformat\u001B[0m\u001B[0;34m=\u001B[0m\u001B[0;34m'%Y%B'\u001B[0m\u001B[0;34m)\u001B[0m\u001B[0;34m\u001B[0m\u001B[0;34m\u001B[0m\u001B[0m\n\u001B[0m\u001B[1;32m      4\u001B[0m \u001B[0;34m\u001B[0m\u001B[0m\n\u001B[1;32m      5\u001B[0m \u001B[0mlong_hedgefund_df\u001B[0m\u001B[0;34m[\u001B[0m\u001B[0;34m'datetime'\u001B[0m\u001B[0;34m]\u001B[0m \u001B[0;34m=\u001B[0m \u001B[0mlong_hedgefund_df\u001B[0m\u001B[0;34m[\u001B[0m\u001B[0;34m'datetime'\u001B[0m\u001B[0;34m]\u001B[0m\u001B[0;34m.\u001B[0m\u001B[0mdt\u001B[0m\u001B[0;34m.\u001B[0m\u001B[0mstrftime\u001B[0m\u001B[0;34m(\u001B[0m\u001B[0;34m'%Y%m'\u001B[0m\u001B[0;34m)\u001B[0m\u001B[0;34m\u001B[0m\u001B[0;34m\u001B[0m\u001B[0m\n",
      "\u001B[0;32m/opt/anaconda3/lib/python3.8/site-packages/pandas/core/tools/datetimes.py\u001B[0m in \u001B[0;36mto_datetime\u001B[0;34m(arg, errors, dayfirst, yearfirst, utc, format, exact, unit, infer_datetime_format, origin, cache)\u001B[0m\n\u001B[1;32m    803\u001B[0m             \u001B[0mresult\u001B[0m \u001B[0;34m=\u001B[0m \u001B[0marg\u001B[0m\u001B[0;34m.\u001B[0m\u001B[0mmap\u001B[0m\u001B[0;34m(\u001B[0m\u001B[0mcache_array\u001B[0m\u001B[0;34m)\u001B[0m\u001B[0;34m\u001B[0m\u001B[0;34m\u001B[0m\u001B[0m\n\u001B[1;32m    804\u001B[0m         \u001B[0;32melse\u001B[0m\u001B[0;34m:\u001B[0m\u001B[0;34m\u001B[0m\u001B[0;34m\u001B[0m\u001B[0m\n\u001B[0;32m--> 805\u001B[0;31m             \u001B[0mvalues\u001B[0m \u001B[0;34m=\u001B[0m \u001B[0mconvert_listlike\u001B[0m\u001B[0;34m(\u001B[0m\u001B[0marg\u001B[0m\u001B[0;34m.\u001B[0m\u001B[0m_values\u001B[0m\u001B[0;34m,\u001B[0m \u001B[0mformat\u001B[0m\u001B[0;34m)\u001B[0m\u001B[0;34m\u001B[0m\u001B[0;34m\u001B[0m\u001B[0m\n\u001B[0m\u001B[1;32m    806\u001B[0m             \u001B[0mresult\u001B[0m \u001B[0;34m=\u001B[0m \u001B[0marg\u001B[0m\u001B[0;34m.\u001B[0m\u001B[0m_constructor\u001B[0m\u001B[0;34m(\u001B[0m\u001B[0mvalues\u001B[0m\u001B[0;34m,\u001B[0m \u001B[0mindex\u001B[0m\u001B[0;34m=\u001B[0m\u001B[0marg\u001B[0m\u001B[0;34m.\u001B[0m\u001B[0mindex\u001B[0m\u001B[0;34m,\u001B[0m \u001B[0mname\u001B[0m\u001B[0;34m=\u001B[0m\u001B[0marg\u001B[0m\u001B[0;34m.\u001B[0m\u001B[0mname\u001B[0m\u001B[0;34m)\u001B[0m\u001B[0;34m\u001B[0m\u001B[0;34m\u001B[0m\u001B[0m\n\u001B[1;32m    807\u001B[0m     \u001B[0;32melif\u001B[0m \u001B[0misinstance\u001B[0m\u001B[0;34m(\u001B[0m\u001B[0marg\u001B[0m\u001B[0;34m,\u001B[0m \u001B[0;34m(\u001B[0m\u001B[0mABCDataFrame\u001B[0m\u001B[0;34m,\u001B[0m \u001B[0mabc\u001B[0m\u001B[0;34m.\u001B[0m\u001B[0mMutableMapping\u001B[0m\u001B[0;34m)\u001B[0m\u001B[0;34m)\u001B[0m\u001B[0;34m:\u001B[0m\u001B[0;34m\u001B[0m\u001B[0;34m\u001B[0m\u001B[0m\n",
      "\u001B[0;32m/opt/anaconda3/lib/python3.8/site-packages/pandas/core/tools/datetimes.py\u001B[0m in \u001B[0;36m_convert_listlike_datetimes\u001B[0;34m(arg, format, name, tz, unit, errors, infer_datetime_format, dayfirst, yearfirst, exact)\u001B[0m\n\u001B[1;32m    458\u001B[0m                 \u001B[0;32mreturn\u001B[0m \u001B[0mDatetimeIndex\u001B[0m\u001B[0;34m.\u001B[0m\u001B[0m_simple_new\u001B[0m\u001B[0;34m(\u001B[0m\u001B[0mdta\u001B[0m\u001B[0;34m,\u001B[0m \u001B[0mname\u001B[0m\u001B[0;34m=\u001B[0m\u001B[0mname\u001B[0m\u001B[0;34m)\u001B[0m\u001B[0;34m\u001B[0m\u001B[0;34m\u001B[0m\u001B[0m\n\u001B[1;32m    459\u001B[0m             \u001B[0;32mexcept\u001B[0m \u001B[0;34m(\u001B[0m\u001B[0mValueError\u001B[0m\u001B[0;34m,\u001B[0m \u001B[0mTypeError\u001B[0m\u001B[0;34m)\u001B[0m\u001B[0;34m:\u001B[0m\u001B[0;34m\u001B[0m\u001B[0;34m\u001B[0m\u001B[0m\n\u001B[0;32m--> 460\u001B[0;31m                 \u001B[0;32mraise\u001B[0m \u001B[0me\u001B[0m\u001B[0;34m\u001B[0m\u001B[0;34m\u001B[0m\u001B[0m\n\u001B[0m\u001B[1;32m    461\u001B[0m \u001B[0;34m\u001B[0m\u001B[0m\n\u001B[1;32m    462\u001B[0m     \u001B[0;32mif\u001B[0m \u001B[0mresult\u001B[0m \u001B[0;32mis\u001B[0m \u001B[0;32mNone\u001B[0m\u001B[0;34m:\u001B[0m\u001B[0;34m\u001B[0m\u001B[0;34m\u001B[0m\u001B[0m\n",
      "\u001B[0;32m/opt/anaconda3/lib/python3.8/site-packages/pandas/core/tools/datetimes.py\u001B[0m in \u001B[0;36m_convert_listlike_datetimes\u001B[0;34m(arg, format, name, tz, unit, errors, infer_datetime_format, dayfirst, yearfirst, exact)\u001B[0m\n\u001B[1;32m    421\u001B[0m             \u001B[0;32mif\u001B[0m \u001B[0mresult\u001B[0m \u001B[0;32mis\u001B[0m \u001B[0;32mNone\u001B[0m\u001B[0;34m:\u001B[0m\u001B[0;34m\u001B[0m\u001B[0;34m\u001B[0m\u001B[0m\n\u001B[1;32m    422\u001B[0m                 \u001B[0;32mtry\u001B[0m\u001B[0;34m:\u001B[0m\u001B[0;34m\u001B[0m\u001B[0;34m\u001B[0m\u001B[0m\n\u001B[0;32m--> 423\u001B[0;31m                     result, timezones = array_strptime(\n\u001B[0m\u001B[1;32m    424\u001B[0m                         \u001B[0marg\u001B[0m\u001B[0;34m,\u001B[0m \u001B[0mformat\u001B[0m\u001B[0;34m,\u001B[0m \u001B[0mexact\u001B[0m\u001B[0;34m=\u001B[0m\u001B[0mexact\u001B[0m\u001B[0;34m,\u001B[0m \u001B[0merrors\u001B[0m\u001B[0;34m=\u001B[0m\u001B[0merrors\u001B[0m\u001B[0;34m\u001B[0m\u001B[0;34m\u001B[0m\u001B[0m\n\u001B[1;32m    425\u001B[0m                     )\n",
      "\u001B[0;32mpandas/_libs/tslibs/strptime.pyx\u001B[0m in \u001B[0;36mpandas._libs.tslibs.strptime.array_strptime\u001B[0;34m()\u001B[0m\n",
      "\u001B[0;31mValueError\u001B[0m: time data '1997.0Jan' does not match format '%Y%B' (match)"
     ]
    }
   ],
   "source": [
    "long_hedgefund_df = pd.melt(hedgefund_df, id_vars='Year', value_vars=hedgefund_df.columns[1:], var_name='month', value_name='value')\n",
    "\n",
    "long_hedgefund_df['datetime'] = pd.to_datetime(long_hedgefund_df['Year'].astype(str) + long_hedgefund_df['month'], format='%Y%B')\n",
    "\n",
    "long_hedgefund_df['datetime'] = long_hedgefund_df['datetime'].dt.strftime('%Y%m')\n",
    "\n",
    "print(long_hedgefund_df)"
   ],
   "metadata": {
    "collapsed": false
   }
  },
  {
   "cell_type": "code",
   "execution_count": 96,
   "outputs": [
    {
     "name": "stdout",
     "output_type": "stream",
     "text": [
      "       Year month   value\n",
      "0    1997.0   Jan  0.0362\n",
      "1    1998.0   Jan -0.0019\n",
      "2    1999.0   Jan  0.0223\n",
      "3    2000.0   Jan  0.0095\n",
      "4    2001.0   Jan  0.0304\n",
      "..      ...   ...     ...\n",
      "307  2018.0   Dec -0.0275\n",
      "308  2019.0   Dec  0.0167\n",
      "309  2020.0   Dec  0.0344\n",
      "310  2021.0   Dec  0.0119\n",
      "311  2022.0   Dec -0.0133\n",
      "\n",
      "[312 rows x 3 columns]\n"
     ]
    }
   ],
   "source": [
    "long_hedgefund_df = pd.melt(hedgefund_df, id_vars='Year', value_vars=['Jan', 'Feb', 'Mar', 'Apr', 'May', 'Jun', 'Jul', 'Aug', 'Sep', 'Oct', 'Nov', 'Dec'], var_name='month', value_name='value')\n",
    "print(long_hedgefund_df)"
   ],
   "metadata": {
    "collapsed": false
   }
  },
  {
   "cell_type": "code",
   "execution_count": 258,
   "outputs": [
    {
     "data": {
      "text/plain": "0      Jan\n1      Jan\n2      Jan\n3      Jan\n4      Jan\n      ... \n333    YTD\n334    YTD\n335    YTD\n336    YTD\n337    YTD\nName: Month, Length: 338, dtype: object"
     },
     "execution_count": 258,
     "metadata": {},
     "output_type": "execute_result"
    },
    {
     "data": {
      "text/plain": "     Year  Month     Ret    Date\n0    1997      1  0.0362  199701\n26   1997      2  0.0118  199702\n52   1997      3 -0.0099  199703\n78   1997      4  0.0049  199704\n104  1997      5  0.0406  199705\n..    ...    ...     ...     ...\n207  2022      8 -0.0038  202208\n233  2022      9 -0.0394  202209\n259  2022     10  0.0186  202210\n285  2022     11  0.0292  202211\n311  2022     12 -0.0133  202212\n\n[312 rows x 4 columns]",
      "text/html": "<div>\n<style scoped>\n    .dataframe tbody tr th:only-of-type {\n        vertical-align: middle;\n    }\n\n    .dataframe tbody tr th {\n        vertical-align: top;\n    }\n\n    .dataframe thead th {\n        text-align: right;\n    }\n</style>\n<table border=\"1\" class=\"dataframe\">\n  <thead>\n    <tr style=\"text-align: right;\">\n      <th></th>\n      <th>Year</th>\n      <th>Month</th>\n      <th>Ret</th>\n      <th>Date</th>\n    </tr>\n  </thead>\n  <tbody>\n    <tr>\n      <th>0</th>\n      <td>1997</td>\n      <td>1</td>\n      <td>0.0362</td>\n      <td>199701</td>\n    </tr>\n    <tr>\n      <th>26</th>\n      <td>1997</td>\n      <td>2</td>\n      <td>0.0118</td>\n      <td>199702</td>\n    </tr>\n    <tr>\n      <th>52</th>\n      <td>1997</td>\n      <td>3</td>\n      <td>-0.0099</td>\n      <td>199703</td>\n    </tr>\n    <tr>\n      <th>78</th>\n      <td>1997</td>\n      <td>4</td>\n      <td>0.0049</td>\n      <td>199704</td>\n    </tr>\n    <tr>\n      <th>104</th>\n      <td>1997</td>\n      <td>5</td>\n      <td>0.0406</td>\n      <td>199705</td>\n    </tr>\n    <tr>\n      <th>...</th>\n      <td>...</td>\n      <td>...</td>\n      <td>...</td>\n      <td>...</td>\n    </tr>\n    <tr>\n      <th>207</th>\n      <td>2022</td>\n      <td>8</td>\n      <td>-0.0038</td>\n      <td>202208</td>\n    </tr>\n    <tr>\n      <th>233</th>\n      <td>2022</td>\n      <td>9</td>\n      <td>-0.0394</td>\n      <td>202209</td>\n    </tr>\n    <tr>\n      <th>259</th>\n      <td>2022</td>\n      <td>10</td>\n      <td>0.0186</td>\n      <td>202210</td>\n    </tr>\n    <tr>\n      <th>285</th>\n      <td>2022</td>\n      <td>11</td>\n      <td>0.0292</td>\n      <td>202211</td>\n    </tr>\n    <tr>\n      <th>311</th>\n      <td>2022</td>\n      <td>12</td>\n      <td>-0.0133</td>\n      <td>202212</td>\n    </tr>\n  </tbody>\n</table>\n<p>312 rows × 4 columns</p>\n</div>"
     },
     "execution_count": 258,
     "metadata": {},
     "output_type": "execute_result"
    }
   ],
   "source": [
    "# Reshape data from wide to long format\n",
    "long_hedgefund_df = pd.melt(hedgefund_df, id_vars='Year', value_vars=hedgefund_df.columns[1:], var_name='Month', value_name='Ret')\n",
    "\n",
    "#long_format_data = pd.melt(wide_format_data, id_vars='year', value_vars=wide_format_data.columns[1:], var_name='month', value_name='value')\n",
    "\n",
    "# Fill NaN values in the 'Year' column\n",
    "#long_hedgefund_df['Year'].fillna(long_hedgefund_df['Year'].mean(), inplace=True)\n",
    "long_hedgefund_df['Month'].dropna()\n",
    "\n",
    "# Combine 'Year' and 'Month' into a single column\n",
    "long_hedgefund_df['YearMonth'] = long_hedgefund_df['Year'].astype(int).astype(str) + long_hedgefund_df['Month'].astype(str)\n",
    "long_hedgefund_df = long_hedgefund_df[long_hedgefund_df['Month'] != 'YTD']\n",
    "\n",
    "long_hedgefund_df['Date'] = pd.to_datetime(long_hedgefund_df['YearMonth'], format='%Y%b')\n",
    "long_hedgefund_df['Date'] = long_hedgefund_df['Date'].dt.strftime('%Y%m')\n",
    "long_hedgefund_df = long_hedgefund_df.drop(['YearMonth'], axis=1)\n",
    "\n",
    "long_hedgefund_df['Month'] = pd.to_datetime(long_hedgefund_df['Month'], format='%b').dt.month\n",
    "#hedgefund_df = hedgefund_df.drop(['Month'], axis=1)\n",
    "\n",
    "# Convert the combined 'Date' column to datetime format\n",
    "#long_hedgefund_df['Date'] = pd.to_datetime(long_hedgefund_df['Date'], format='%Y%B')\n",
    "\n",
    "# Reorder columns and reset index\n",
    "#long_hedgefund_df = long_hedgefund_df[['Date', 'Ret']]\n",
    "long_hedgefund_df = long_hedgefund_df.reset_index(drop=True)\n",
    "long_hedgefund_df = long_hedgefund_df[['Year','Month','Ret','Date']]\n",
    "\n",
    "# Sort data by Year\n",
    "long_hedgefund_df.sort_values(by='Date', inplace=True)\n",
    "\n",
    "# Show final result\n",
    "long_hedgefund_df"
   ],
   "metadata": {
    "collapsed": false
   }
  },
  {
   "cell_type": "code",
   "execution_count": 259,
   "outputs": [
    {
     "name": "stdout",
     "output_type": "stream",
     "text": [
      "     Year  Month     Ret    Date\n",
      "0    1997      1  0.0362  199701\n",
      "1    1997      2  0.0118  199702\n",
      "2    1997      3 -0.0099  199703\n",
      "3    1997      4  0.0049  199704\n",
      "4    1997      5  0.0406  199705\n",
      "..    ...    ...     ...     ...\n",
      "307  2022      8 -0.0038  202208\n",
      "308  2022      9 -0.0394  202209\n",
      "309  2022     10  0.0186  202210\n",
      "310  2022     11  0.0292  202211\n",
      "311  2022     12 -0.0133  202212\n",
      "\n",
      "[312 rows x 4 columns]\n"
     ]
    }
   ],
   "source": [
    "# Connect to the databases and create the tables\n",
    "conn_out = sqlite3.connect(\"output.db\")\n",
    "long_hedgefund_df.to_sql(\"hf_long\", conn_out, if_exists=\"replace\", index=False)\n",
    "\n",
    "# Query the data to make sure it was stored correctly\n",
    "print(pd.read_sql_query(\"SELECT * FROM hf_long\", conn_out))"
   ],
   "metadata": {
    "collapsed": false
   }
  },
  {
   "cell_type": "code",
   "execution_count": 261,
   "outputs": [],
   "source": [
    "match_RF = []\n",
    "for i, rowi in long_hedgefund_df.iterrows():\n",
    "    #print(rowi['Date'])\n",
    "    for j, rowj in rfasset_df.iterrows():\n",
    "        #print(rowj['Date'])\n",
    "        if int(rowi['Date']) == rowj['Date']:\n",
    "            match_RF.append(rowj['RF'])\n",
    "            #print(rowj['RF'])\n",
    "match_RF.append(0)"
   ],
   "metadata": {
    "collapsed": false
   }
  },
  {
   "cell_type": "code",
   "execution_count": 263,
   "outputs": [
    {
     "data": {
      "text/plain": "     Year  Month     Ret    Date      RF\n0    1997      1  0.0362  199701  0.0045\n26   1997      2  0.0118  199702  0.0039\n52   1997      3 -0.0099  199703  0.0043\n78   1997      4  0.0049  199704  0.0043\n104  1997      5  0.0406  199705  0.0049",
      "text/html": "<div>\n<style scoped>\n    .dataframe tbody tr th:only-of-type {\n        vertical-align: middle;\n    }\n\n    .dataframe tbody tr th {\n        vertical-align: top;\n    }\n\n    .dataframe thead th {\n        text-align: right;\n    }\n</style>\n<table border=\"1\" class=\"dataframe\">\n  <thead>\n    <tr style=\"text-align: right;\">\n      <th></th>\n      <th>Year</th>\n      <th>Month</th>\n      <th>Ret</th>\n      <th>Date</th>\n      <th>RF</th>\n    </tr>\n  </thead>\n  <tbody>\n    <tr>\n      <th>0</th>\n      <td>1997</td>\n      <td>1</td>\n      <td>0.0362</td>\n      <td>199701</td>\n      <td>0.0045</td>\n    </tr>\n    <tr>\n      <th>26</th>\n      <td>1997</td>\n      <td>2</td>\n      <td>0.0118</td>\n      <td>199702</td>\n      <td>0.0039</td>\n    </tr>\n    <tr>\n      <th>52</th>\n      <td>1997</td>\n      <td>3</td>\n      <td>-0.0099</td>\n      <td>199703</td>\n      <td>0.0043</td>\n    </tr>\n    <tr>\n      <th>78</th>\n      <td>1997</td>\n      <td>4</td>\n      <td>0.0049</td>\n      <td>199704</td>\n      <td>0.0043</td>\n    </tr>\n    <tr>\n      <th>104</th>\n      <td>1997</td>\n      <td>5</td>\n      <td>0.0406</td>\n      <td>199705</td>\n      <td>0.0049</td>\n    </tr>\n  </tbody>\n</table>\n</div>"
     },
     "execution_count": 263,
     "metadata": {},
     "output_type": "execute_result"
    }
   ],
   "source": [
    "merged_df = long_hedgefund_df\n",
    "merged_df['RF'] = match_RF\n",
    "merged_df.head()"
   ],
   "metadata": {
    "collapsed": false
   }
  },
  {
   "cell_type": "code",
   "execution_count": 264,
   "outputs": [],
   "source": [
    "merged_df.to_sql(\"merged\", conn_out, if_exists=\"replace\", index=False)"
   ],
   "metadata": {
    "collapsed": false
   }
  },
  {
   "cell_type": "code",
   "execution_count": 265,
   "outputs": [
    {
     "name": "stdout",
     "output_type": "stream",
     "text": [
      "The estimated Sharpe ratio is:  0.8013146984726371\n"
     ]
    }
   ],
   "source": [
    "import seaborn as sns\n",
    "import numpy as np\n",
    "import matplotlib.pyplot as plt\n",
    "\n",
    "# Connect to the database\n",
    "conn = sqlite3.connect('output.db')\n",
    "\n",
    "# Task [a]: Estimating the Sharpe ratio\n",
    "# Get the merged data from the database\n",
    "merged = pd.read_sql_query(\"SELECT * FROM merged\", conn)\n",
    "\n",
    "# Calculate the Sharpe ratio\n",
    "sharpe_ratio = np.mean(merged['Ret'] - merged['RF']) / np.std(merged['Ret']) * np.sqrt(12)\n",
    "print(\"The estimated Sharpe ratio is: \", sharpe_ratio)"
   ],
   "metadata": {
    "collapsed": false
   }
  },
  {
   "cell_type": "code",
   "execution_count": 266,
   "outputs": [
    {
     "data": {
      "text/plain": "     cumulative_return    Date\n0          1036.200000  199701\n1          1048.427160  199702\n2          1038.047731  199703\n3          1043.134165  199704\n4          1085.485412  199705\n..                 ...     ...\n307        6746.850823  202208\n308        6481.024900  202209\n309        6601.571963  202210\n310        6794.337865  202211\n311        6703.973171  202212\n\n[312 rows x 2 columns]",
      "text/html": "<div>\n<style scoped>\n    .dataframe tbody tr th:only-of-type {\n        vertical-align: middle;\n    }\n\n    .dataframe tbody tr th {\n        vertical-align: top;\n    }\n\n    .dataframe thead th {\n        text-align: right;\n    }\n</style>\n<table border=\"1\" class=\"dataframe\">\n  <thead>\n    <tr style=\"text-align: right;\">\n      <th></th>\n      <th>cumulative_return</th>\n      <th>Date</th>\n    </tr>\n  </thead>\n  <tbody>\n    <tr>\n      <th>0</th>\n      <td>1036.200000</td>\n      <td>199701</td>\n    </tr>\n    <tr>\n      <th>1</th>\n      <td>1048.427160</td>\n      <td>199702</td>\n    </tr>\n    <tr>\n      <th>2</th>\n      <td>1038.047731</td>\n      <td>199703</td>\n    </tr>\n    <tr>\n      <th>3</th>\n      <td>1043.134165</td>\n      <td>199704</td>\n    </tr>\n    <tr>\n      <th>4</th>\n      <td>1085.485412</td>\n      <td>199705</td>\n    </tr>\n    <tr>\n      <th>...</th>\n      <td>...</td>\n      <td>...</td>\n    </tr>\n    <tr>\n      <th>307</th>\n      <td>6746.850823</td>\n      <td>202208</td>\n    </tr>\n    <tr>\n      <th>308</th>\n      <td>6481.024900</td>\n      <td>202209</td>\n    </tr>\n    <tr>\n      <th>309</th>\n      <td>6601.571963</td>\n      <td>202210</td>\n    </tr>\n    <tr>\n      <th>310</th>\n      <td>6794.337865</td>\n      <td>202211</td>\n    </tr>\n    <tr>\n      <th>311</th>\n      <td>6703.973171</td>\n      <td>202212</td>\n    </tr>\n  </tbody>\n</table>\n<p>312 rows × 2 columns</p>\n</div>"
     },
     "execution_count": 266,
     "metadata": {},
     "output_type": "execute_result"
    }
   ],
   "source": [
    "# Task [b]: Line graph of $1,000 invested in the Barclay Hedge Fund Index\n",
    "\n",
    "cumulative_return = []\n",
    "current = 1000\n",
    "for i, rowi in merged.iterrows():\n",
    "    current = current * (1 + rowi['Ret'])\n",
    "    cumulative_return.append(current)\n",
    "return_df = pd.DataFrame(cumulative_return, columns=['cumulative_return'])\n",
    "return_df['Date'] = merged['Date']\n",
    "return_df"
   ],
   "metadata": {
    "collapsed": false
   }
  },
  {
   "cell_type": "code",
   "execution_count": 268,
   "outputs": [
    {
     "data": {
      "text/plain": "<Figure size 864x432 with 0 Axes>"
     },
     "execution_count": 268,
     "metadata": {},
     "output_type": "execute_result"
    },
    {
     "data": {
      "text/plain": "Text(0.5, 1.0, 'Performance of $1000 invested in Jan 1997, as of Dec 2022')"
     },
     "execution_count": 268,
     "metadata": {},
     "output_type": "execute_result"
    },
    {
     "data": {
      "text/plain": "<AxesSubplot:title={'center':'Performance of $1000 invested in Jan 1997, as of Dec 2022'}, xlabel='Date', ylabel='cumulative_return'>"
     },
     "execution_count": 268,
     "metadata": {},
     "output_type": "execute_result"
    },
    {
     "data": {
      "text/plain": "([<matplotlib.axis.XTick at 0x7fc277862e20>,\n  <matplotlib.axis.XTick at 0x7fc277862b20>,\n  <matplotlib.axis.XTick at 0x7fc277870970>,\n  <matplotlib.axis.XTick at 0x7fc277a27c70>,\n  <matplotlib.axis.XTick at 0x7fc277a321c0>],\n [Text(4, 0, '1997-05'),\n  Text(70, 0, '2002-11'),\n  Text(136, 0, '2008-05'),\n  Text(201, 0, '2013-10'),\n  Text(267, 0, '2019-04')])"
     },
     "execution_count": 268,
     "metadata": {},
     "output_type": "execute_result"
    },
    {
     "data": {
      "text/plain": "<Figure size 864x432 with 1 Axes>",
      "image/png": "[encoded data removed]"
     },
     "metadata": {},
     "output_type": "display_data"
    }
   ],
   "source": [
    "# Plot the line graph\n",
    "plt.figure(figsize=(12, 6))\n",
    "plt.title(\"Performance of $1000 invested in Jan 1997, as of Dec 2022\")\n",
    "sns.lineplot(data = return_df, x = 'Date', y = 'cumulative_return')\n",
    "x_labels = [\"1997-05\", \"2002-11\", \"2008-05\", \"2013-10\", \"2019-04\"]\n",
    "x_locations = [4, 70, 136, 201, 267]\n",
    "plt.xticks(x_locations, x_labels, rotation=90)\n",
    "plt.show()"
   ],
   "metadata": {
    "collapsed": false
   }
  },
  {
   "cell_type": "code",
   "execution_count": 270,
   "outputs": [
    {
     "data": {
      "text/plain": "<Figure size 864x432 with 0 Axes>"
     },
     "execution_count": 270,
     "metadata": {},
     "output_type": "execute_result"
    },
    {
     "data": {
      "text/plain": "<AxesSubplot:>"
     },
     "execution_count": 270,
     "metadata": {},
     "output_type": "execute_result"
    },
    {
     "data": {
      "text/plain": "Text(0.5, 1.0, 'Performance of $1000 invested in Jan 1997, as of Dec 2022')"
     },
     "execution_count": 270,
     "metadata": {},
     "output_type": "execute_result"
    },
    {
     "data": {
      "text/plain": "[<matplotlib.lines.Line2D at 0x7fc27784a070>]"
     },
     "execution_count": 270,
     "metadata": {},
     "output_type": "execute_result"
    },
    {
     "name": "stderr",
     "output_type": "stream",
     "text": [
      "No handles with labels found to put in legend.\n"
     ]
    },
    {
     "data": {
      "text/plain": "<matplotlib.legend.Legend at 0x7fc277867ac0>"
     },
     "execution_count": 270,
     "metadata": {},
     "output_type": "execute_result"
    },
    {
     "data": {
      "text/plain": "<Figure size 864x432 with 1 Axes>",
      "image/png": "[encoded data removed]"
     },
     "metadata": {},
     "output_type": "display_data"
    }
   ],
   "source": [
    "plt.figure(figsize=(12, 6))\n",
    "plt.subplot(1, 2, 1)\n",
    "plt.title(\"Performance of $1000 invested in Jan 1997, as of Dec 2022\")\n",
    "#plt.plot(np.arange(params['n_estimators']) + 1, clf.train_score_, 'b-',\n",
    "\n",
    "plt.plot(return_df['cumulative_return'])\n",
    "plt.legend(loc='upper right')"
   ],
   "metadata": {
    "collapsed": false
   }
  },
  {
   "cell_type": "code",
   "execution_count": 108,
   "outputs": [
    {
     "ename": "ValueError",
     "evalue": "time data '1997.0Jan' does not match format '%Y%B' (match)",
     "output_type": "error",
     "traceback": [
      "\u001B[0;31m---------------------------------------------------------------------------\u001B[0m",
      "\u001B[0;31mTypeError\u001B[0m                                 Traceback (most recent call last)",
      "\u001B[0;32m/opt/anaconda3/lib/python3.8/site-packages/pandas/core/tools/datetimes.py\u001B[0m in \u001B[0;36m_convert_listlike_datetimes\u001B[0;34m(arg, format, name, tz, unit, errors, infer_datetime_format, dayfirst, yearfirst, exact)\u001B[0m\n\u001B[1;32m    455\u001B[0m             \u001B[0;32mtry\u001B[0m\u001B[0;34m:\u001B[0m\u001B[0;34m\u001B[0m\u001B[0;34m\u001B[0m\u001B[0m\n\u001B[0;32m--> 456\u001B[0;31m                 \u001B[0mvalues\u001B[0m\u001B[0;34m,\u001B[0m \u001B[0mtz\u001B[0m \u001B[0;34m=\u001B[0m \u001B[0mconversion\u001B[0m\u001B[0;34m.\u001B[0m\u001B[0mdatetime_to_datetime64\u001B[0m\u001B[0;34m(\u001B[0m\u001B[0marg\u001B[0m\u001B[0;34m)\u001B[0m\u001B[0;34m\u001B[0m\u001B[0;34m\u001B[0m\u001B[0m\n\u001B[0m\u001B[1;32m    457\u001B[0m                 \u001B[0mdta\u001B[0m \u001B[0;34m=\u001B[0m \u001B[0mDatetimeArray\u001B[0m\u001B[0;34m(\u001B[0m\u001B[0mvalues\u001B[0m\u001B[0;34m,\u001B[0m \u001B[0mdtype\u001B[0m\u001B[0;34m=\u001B[0m\u001B[0mtz_to_dtype\u001B[0m\u001B[0;34m(\u001B[0m\u001B[0mtz\u001B[0m\u001B[0;34m)\u001B[0m\u001B[0;34m)\u001B[0m\u001B[0;34m\u001B[0m\u001B[0;34m\u001B[0m\u001B[0m\n",
      "\u001B[0;32mpandas/_libs/tslibs/conversion.pyx\u001B[0m in \u001B[0;36mpandas._libs.tslibs.conversion.datetime_to_datetime64\u001B[0;34m()\u001B[0m\n",
      "\u001B[0;31mTypeError\u001B[0m: Unrecognized value type: <class 'str'>",
      "\nDuring handling of the above exception, another exception occurred:\n",
      "\u001B[0;31mValueError\u001B[0m                                Traceback (most recent call last)",
      "\u001B[0;32m<ipython-input-108-c1c8f4bcdbb0>\u001B[0m in \u001B[0;36m<module>\u001B[0;34m\u001B[0m\n\u001B[1;32m     13\u001B[0m \u001B[0;34m\u001B[0m\u001B[0m\n\u001B[1;32m     14\u001B[0m \u001B[0;31m# Combine 'year' and 'month' into a single column\u001B[0m\u001B[0;34m\u001B[0m\u001B[0;34m\u001B[0m\u001B[0;34m\u001B[0m\u001B[0m\n\u001B[0;32m---> 15\u001B[0;31m \u001B[0mlong_format_data\u001B[0m\u001B[0;34m[\u001B[0m\u001B[0;34m'datetime'\u001B[0m\u001B[0;34m]\u001B[0m \u001B[0;34m=\u001B[0m \u001B[0mpd\u001B[0m\u001B[0;34m.\u001B[0m\u001B[0mto_datetime\u001B[0m\u001B[0;34m(\u001B[0m\u001B[0mlong_format_data\u001B[0m\u001B[0;34m[\u001B[0m\u001B[0;34m'year'\u001B[0m\u001B[0;34m]\u001B[0m\u001B[0;34m.\u001B[0m\u001B[0mastype\u001B[0m\u001B[0;34m(\u001B[0m\u001B[0mstr\u001B[0m\u001B[0;34m)\u001B[0m \u001B[0;34m+\u001B[0m \u001B[0mlong_format_data\u001B[0m\u001B[0;34m[\u001B[0m\u001B[0;34m'month'\u001B[0m\u001B[0;34m]\u001B[0m\u001B[0;34m,\u001B[0m \u001B[0mformat\u001B[0m\u001B[0;34m=\u001B[0m\u001B[0;34m'%Y%B'\u001B[0m\u001B[0;34m)\u001B[0m\u001B[0;34m\u001B[0m\u001B[0;34m\u001B[0m\u001B[0m\n\u001B[0m\u001B[1;32m     16\u001B[0m \u001B[0;34m\u001B[0m\u001B[0m\n\u001B[1;32m     17\u001B[0m \u001B[0;31m# Format 'datetime' into a string with the desired format\u001B[0m\u001B[0;34m\u001B[0m\u001B[0;34m\u001B[0m\u001B[0;34m\u001B[0m\u001B[0m\n",
      "\u001B[0;32m/opt/anaconda3/lib/python3.8/site-packages/pandas/core/tools/datetimes.py\u001B[0m in \u001B[0;36mto_datetime\u001B[0;34m(arg, errors, dayfirst, yearfirst, utc, format, exact, unit, infer_datetime_format, origin, cache)\u001B[0m\n\u001B[1;32m    803\u001B[0m             \u001B[0mresult\u001B[0m \u001B[0;34m=\u001B[0m \u001B[0marg\u001B[0m\u001B[0;34m.\u001B[0m\u001B[0mmap\u001B[0m\u001B[0;34m(\u001B[0m\u001B[0mcache_array\u001B[0m\u001B[0;34m)\u001B[0m\u001B[0;34m\u001B[0m\u001B[0;34m\u001B[0m\u001B[0m\n\u001B[1;32m    804\u001B[0m         \u001B[0;32melse\u001B[0m\u001B[0;34m:\u001B[0m\u001B[0;34m\u001B[0m\u001B[0;34m\u001B[0m\u001B[0m\n\u001B[0;32m--> 805\u001B[0;31m             \u001B[0mvalues\u001B[0m \u001B[0;34m=\u001B[0m \u001B[0mconvert_listlike\u001B[0m\u001B[0;34m(\u001B[0m\u001B[0marg\u001B[0m\u001B[0;34m.\u001B[0m\u001B[0m_values\u001B[0m\u001B[0;34m,\u001B[0m \u001B[0mformat\u001B[0m\u001B[0;34m)\u001B[0m\u001B[0;34m\u001B[0m\u001B[0;34m\u001B[0m\u001B[0m\n\u001B[0m\u001B[1;32m    806\u001B[0m             \u001B[0mresult\u001B[0m \u001B[0;34m=\u001B[0m \u001B[0marg\u001B[0m\u001B[0;34m.\u001B[0m\u001B[0m_constructor\u001B[0m\u001B[0;34m(\u001B[0m\u001B[0mvalues\u001B[0m\u001B[0;34m,\u001B[0m \u001B[0mindex\u001B[0m\u001B[0;34m=\u001B[0m\u001B[0marg\u001B[0m\u001B[0;34m.\u001B[0m\u001B[0mindex\u001B[0m\u001B[0;34m,\u001B[0m \u001B[0mname\u001B[0m\u001B[0;34m=\u001B[0m\u001B[0marg\u001B[0m\u001B[0;34m.\u001B[0m\u001B[0mname\u001B[0m\u001B[0;34m)\u001B[0m\u001B[0;34m\u001B[0m\u001B[0;34m\u001B[0m\u001B[0m\n\u001B[1;32m    807\u001B[0m     \u001B[0;32melif\u001B[0m \u001B[0misinstance\u001B[0m\u001B[0;34m(\u001B[0m\u001B[0marg\u001B[0m\u001B[0;34m,\u001B[0m \u001B[0;34m(\u001B[0m\u001B[0mABCDataFrame\u001B[0m\u001B[0;34m,\u001B[0m \u001B[0mabc\u001B[0m\u001B[0;34m.\u001B[0m\u001B[0mMutableMapping\u001B[0m\u001B[0;34m)\u001B[0m\u001B[0;34m)\u001B[0m\u001B[0;34m:\u001B[0m\u001B[0;34m\u001B[0m\u001B[0;34m\u001B[0m\u001B[0m\n",
      "\u001B[0;32m/opt/anaconda3/lib/python3.8/site-packages/pandas/core/tools/datetimes.py\u001B[0m in \u001B[0;36m_convert_listlike_datetimes\u001B[0;34m(arg, format, name, tz, unit, errors, infer_datetime_format, dayfirst, yearfirst, exact)\u001B[0m\n\u001B[1;32m    458\u001B[0m                 \u001B[0;32mreturn\u001B[0m \u001B[0mDatetimeIndex\u001B[0m\u001B[0;34m.\u001B[0m\u001B[0m_simple_new\u001B[0m\u001B[0;34m(\u001B[0m\u001B[0mdta\u001B[0m\u001B[0;34m,\u001B[0m \u001B[0mname\u001B[0m\u001B[0;34m=\u001B[0m\u001B[0mname\u001B[0m\u001B[0;34m)\u001B[0m\u001B[0;34m\u001B[0m\u001B[0;34m\u001B[0m\u001B[0m\n\u001B[1;32m    459\u001B[0m             \u001B[0;32mexcept\u001B[0m \u001B[0;34m(\u001B[0m\u001B[0mValueError\u001B[0m\u001B[0;34m,\u001B[0m \u001B[0mTypeError\u001B[0m\u001B[0;34m)\u001B[0m\u001B[0;34m:\u001B[0m\u001B[0;34m\u001B[0m\u001B[0;34m\u001B[0m\u001B[0m\n\u001B[0;32m--> 460\u001B[0;31m                 \u001B[0;32mraise\u001B[0m \u001B[0me\u001B[0m\u001B[0;34m\u001B[0m\u001B[0;34m\u001B[0m\u001B[0m\n\u001B[0m\u001B[1;32m    461\u001B[0m \u001B[0;34m\u001B[0m\u001B[0m\n\u001B[1;32m    462\u001B[0m     \u001B[0;32mif\u001B[0m \u001B[0mresult\u001B[0m \u001B[0;32mis\u001B[0m \u001B[0;32mNone\u001B[0m\u001B[0;34m:\u001B[0m\u001B[0;34m\u001B[0m\u001B[0;34m\u001B[0m\u001B[0m\n",
      "\u001B[0;32m/opt/anaconda3/lib/python3.8/site-packages/pandas/core/tools/datetimes.py\u001B[0m in \u001B[0;36m_convert_listlike_datetimes\u001B[0;34m(arg, format, name, tz, unit, errors, infer_datetime_format, dayfirst, yearfirst, exact)\u001B[0m\n\u001B[1;32m    421\u001B[0m             \u001B[0;32mif\u001B[0m \u001B[0mresult\u001B[0m \u001B[0;32mis\u001B[0m \u001B[0;32mNone\u001B[0m\u001B[0;34m:\u001B[0m\u001B[0;34m\u001B[0m\u001B[0;34m\u001B[0m\u001B[0m\n\u001B[1;32m    422\u001B[0m                 \u001B[0;32mtry\u001B[0m\u001B[0;34m:\u001B[0m\u001B[0;34m\u001B[0m\u001B[0;34m\u001B[0m\u001B[0m\n\u001B[0;32m--> 423\u001B[0;31m                     result, timezones = array_strptime(\n\u001B[0m\u001B[1;32m    424\u001B[0m                         \u001B[0marg\u001B[0m\u001B[0;34m,\u001B[0m \u001B[0mformat\u001B[0m\u001B[0;34m,\u001B[0m \u001B[0mexact\u001B[0m\u001B[0;34m=\u001B[0m\u001B[0mexact\u001B[0m\u001B[0;34m,\u001B[0m \u001B[0merrors\u001B[0m\u001B[0;34m=\u001B[0m\u001B[0merrors\u001B[0m\u001B[0;34m\u001B[0m\u001B[0;34m\u001B[0m\u001B[0m\n\u001B[1;32m    425\u001B[0m                     )\n",
      "\u001B[0;32mpandas/_libs/tslibs/strptime.pyx\u001B[0m in \u001B[0;36mpandas._libs.tslibs.strptime.array_strptime\u001B[0;34m()\u001B[0m\n",
      "\u001B[0;31mValueError\u001B[0m: time data '1997.0Jan' does not match format '%Y%B' (match)"
     ]
    }
   ],
   "source": [
    "import pandas as pd\n",
    "\n",
    "# Load the wide format data from the Excel file\n",
    "wide_format_data = pd.read_excel('data.xlsx', sheet_name='HedgeFund', header=1, index_col=None)\n",
    "wide_format_data = hedgefund_df[:-3]\n",
    "wide_format_data = hedgefund_df.rename(columns={hedgefund_df.columns[0]: \"year\"})\n",
    "\n",
    "# Rename the first column to \"year\"\n",
    "wide_format_data = wide_format_data.rename(columns={wide_format_data.columns[0]: \"year\"})\n",
    "\n",
    "# Convert the wide format data into a long format dataframe\n",
    "long_format_data = pd.melt(wide_format_data, id_vars='year', value_vars=wide_format_data.columns[1:], var_name='month', value_name='value')\n",
    "\n",
    "# Combine 'year' and 'month' into a single column\n",
    "long_format_data['datetime'] = pd.to_datetime(long_format_data['year'].astype(str) + long_format_data['month'], format='%Y%B')\n",
    "\n",
    "# Format 'datetime' into a string with the desired format\n",
    "long_format_data['datetime'] = long_format_data['datetime'].dt.strftime('%Y%m')\n",
    "\n",
    "# Rename the 'datetime' column\n",
    "long_format_data = long_format_data.rename(columns={'datetime': 'yyyymm'})\n",
    "\n",
    "# Reorder columns\n",
    "long_format_data = long_format_data[['yyyymm', 'value']]\n",
    "\n",
    "# Reset index\n",
    "long_format_data = long_format_data.reset_index(drop=True)\n",
    "\n",
    "# Print the final long format dataframe\n",
    "print(long_format_data)"
   ],
   "metadata": {
    "collapsed": false
   }
  },
  {
   "cell_type": "code",
   "execution_count": 90,
   "outputs": [
    {
     "ename": "ValueError",
     "evalue": "Length of values (444) does not match length of index (26)",
     "output_type": "error",
     "traceback": [
      "\u001B[0;31m---------------------------------------------------------------------------\u001B[0m",
      "\u001B[0;31mValueError\u001B[0m                                Traceback (most recent call last)",
      "\u001B[0;32m<ipython-input-90-6a6ca89b60c6>\u001B[0m in \u001B[0;36m<module>\u001B[0;34m\u001B[0m\n\u001B[1;32m      9\u001B[0m \u001B[0;31m# Add a 'Date' column to the hedgefund dataframe if it is not present\u001B[0m\u001B[0;34m\u001B[0m\u001B[0;34m\u001B[0m\u001B[0;34m\u001B[0m\u001B[0m\n\u001B[1;32m     10\u001B[0m \u001B[0;32mif\u001B[0m \u001B[0;34m'Date'\u001B[0m \u001B[0;32mnot\u001B[0m \u001B[0;32min\u001B[0m \u001B[0mhedgefund_df\u001B[0m\u001B[0;34m.\u001B[0m\u001B[0mcolumns\u001B[0m\u001B[0;34m:\u001B[0m\u001B[0;34m\u001B[0m\u001B[0;34m\u001B[0m\u001B[0m\n\u001B[0;32m---> 11\u001B[0;31m     \u001B[0mhedgefund_df\u001B[0m\u001B[0;34m[\u001B[0m\u001B[0;34m'Date'\u001B[0m\u001B[0;34m]\u001B[0m \u001B[0;34m=\u001B[0m \u001B[0mpd\u001B[0m\u001B[0;34m.\u001B[0m\u001B[0mdate_range\u001B[0m\u001B[0;34m(\u001B[0m\u001B[0mstart\u001B[0m\u001B[0;34m=\u001B[0m\u001B[0;34m'1/1/1986'\u001B[0m\u001B[0;34m,\u001B[0m \u001B[0mend\u001B[0m\u001B[0;34m=\u001B[0m\u001B[0;34m'12/31/2022'\u001B[0m\u001B[0;34m,\u001B[0m \u001B[0mfreq\u001B[0m\u001B[0;34m=\u001B[0m\u001B[0;34m'M'\u001B[0m\u001B[0;34m)\u001B[0m\u001B[0;34m\u001B[0m\u001B[0;34m\u001B[0m\u001B[0m\n\u001B[0m\u001B[1;32m     12\u001B[0m \u001B[0;34m\u001B[0m\u001B[0m\n\u001B[1;32m     13\u001B[0m \u001B[0;31m# Transform the hedgefund data into the long format and store it in the output database\u001B[0m\u001B[0;34m\u001B[0m\u001B[0;34m\u001B[0m\u001B[0;34m\u001B[0m\u001B[0m\n",
      "\u001B[0;32m/opt/anaconda3/lib/python3.8/site-packages/pandas/core/frame.py\u001B[0m in \u001B[0;36m__setitem__\u001B[0;34m(self, key, value)\u001B[0m\n\u001B[1;32m   3161\u001B[0m         \u001B[0;32melse\u001B[0m\u001B[0;34m:\u001B[0m\u001B[0;34m\u001B[0m\u001B[0;34m\u001B[0m\u001B[0m\n\u001B[1;32m   3162\u001B[0m             \u001B[0;31m# set column\u001B[0m\u001B[0;34m\u001B[0m\u001B[0;34m\u001B[0m\u001B[0;34m\u001B[0m\u001B[0m\n\u001B[0;32m-> 3163\u001B[0;31m             \u001B[0mself\u001B[0m\u001B[0;34m.\u001B[0m\u001B[0m_set_item\u001B[0m\u001B[0;34m(\u001B[0m\u001B[0mkey\u001B[0m\u001B[0;34m,\u001B[0m \u001B[0mvalue\u001B[0m\u001B[0;34m)\u001B[0m\u001B[0;34m\u001B[0m\u001B[0;34m\u001B[0m\u001B[0m\n\u001B[0m\u001B[1;32m   3164\u001B[0m \u001B[0;34m\u001B[0m\u001B[0m\n\u001B[1;32m   3165\u001B[0m     \u001B[0;32mdef\u001B[0m \u001B[0m_setitem_slice\u001B[0m\u001B[0;34m(\u001B[0m\u001B[0mself\u001B[0m\u001B[0;34m,\u001B[0m \u001B[0mkey\u001B[0m\u001B[0;34m:\u001B[0m \u001B[0mslice\u001B[0m\u001B[0;34m,\u001B[0m \u001B[0mvalue\u001B[0m\u001B[0;34m)\u001B[0m\u001B[0;34m:\u001B[0m\u001B[0;34m\u001B[0m\u001B[0;34m\u001B[0m\u001B[0m\n",
      "\u001B[0;32m/opt/anaconda3/lib/python3.8/site-packages/pandas/core/frame.py\u001B[0m in \u001B[0;36m_set_item\u001B[0;34m(self, key, value)\u001B[0m\n\u001B[1;32m   3240\u001B[0m         \"\"\"\n\u001B[1;32m   3241\u001B[0m         \u001B[0mself\u001B[0m\u001B[0;34m.\u001B[0m\u001B[0m_ensure_valid_index\u001B[0m\u001B[0;34m(\u001B[0m\u001B[0mvalue\u001B[0m\u001B[0;34m)\u001B[0m\u001B[0;34m\u001B[0m\u001B[0;34m\u001B[0m\u001B[0m\n\u001B[0;32m-> 3242\u001B[0;31m         \u001B[0mvalue\u001B[0m \u001B[0;34m=\u001B[0m \u001B[0mself\u001B[0m\u001B[0;34m.\u001B[0m\u001B[0m_sanitize_column\u001B[0m\u001B[0;34m(\u001B[0m\u001B[0mkey\u001B[0m\u001B[0;34m,\u001B[0m \u001B[0mvalue\u001B[0m\u001B[0;34m)\u001B[0m\u001B[0;34m\u001B[0m\u001B[0;34m\u001B[0m\u001B[0m\n\u001B[0m\u001B[1;32m   3243\u001B[0m         \u001B[0mNDFrame\u001B[0m\u001B[0;34m.\u001B[0m\u001B[0m_set_item\u001B[0m\u001B[0;34m(\u001B[0m\u001B[0mself\u001B[0m\u001B[0;34m,\u001B[0m \u001B[0mkey\u001B[0m\u001B[0;34m,\u001B[0m \u001B[0mvalue\u001B[0m\u001B[0;34m)\u001B[0m\u001B[0;34m\u001B[0m\u001B[0;34m\u001B[0m\u001B[0m\n\u001B[1;32m   3244\u001B[0m \u001B[0;34m\u001B[0m\u001B[0m\n",
      "\u001B[0;32m/opt/anaconda3/lib/python3.8/site-packages/pandas/core/frame.py\u001B[0m in \u001B[0;36m_sanitize_column\u001B[0;34m(self, key, value, broadcast)\u001B[0m\n\u001B[1;32m   3897\u001B[0m \u001B[0;34m\u001B[0m\u001B[0m\n\u001B[1;32m   3898\u001B[0m             \u001B[0;31m# turn me into an ndarray\u001B[0m\u001B[0;34m\u001B[0m\u001B[0;34m\u001B[0m\u001B[0;34m\u001B[0m\u001B[0m\n\u001B[0;32m-> 3899\u001B[0;31m             \u001B[0mvalue\u001B[0m \u001B[0;34m=\u001B[0m \u001B[0msanitize_index\u001B[0m\u001B[0;34m(\u001B[0m\u001B[0mvalue\u001B[0m\u001B[0;34m,\u001B[0m \u001B[0mself\u001B[0m\u001B[0;34m.\u001B[0m\u001B[0mindex\u001B[0m\u001B[0;34m)\u001B[0m\u001B[0;34m\u001B[0m\u001B[0;34m\u001B[0m\u001B[0m\n\u001B[0m\u001B[1;32m   3900\u001B[0m             \u001B[0;32mif\u001B[0m \u001B[0;32mnot\u001B[0m \u001B[0misinstance\u001B[0m\u001B[0;34m(\u001B[0m\u001B[0mvalue\u001B[0m\u001B[0;34m,\u001B[0m \u001B[0;34m(\u001B[0m\u001B[0mnp\u001B[0m\u001B[0;34m.\u001B[0m\u001B[0mndarray\u001B[0m\u001B[0;34m,\u001B[0m \u001B[0mIndex\u001B[0m\u001B[0;34m)\u001B[0m\u001B[0;34m)\u001B[0m\u001B[0;34m:\u001B[0m\u001B[0;34m\u001B[0m\u001B[0;34m\u001B[0m\u001B[0m\n\u001B[1;32m   3901\u001B[0m                 \u001B[0;32mif\u001B[0m \u001B[0misinstance\u001B[0m\u001B[0;34m(\u001B[0m\u001B[0mvalue\u001B[0m\u001B[0;34m,\u001B[0m \u001B[0mlist\u001B[0m\u001B[0;34m)\u001B[0m \u001B[0;32mand\u001B[0m \u001B[0mlen\u001B[0m\u001B[0;34m(\u001B[0m\u001B[0mvalue\u001B[0m\u001B[0;34m)\u001B[0m \u001B[0;34m>\u001B[0m \u001B[0;36m0\u001B[0m\u001B[0;34m:\u001B[0m\u001B[0;34m\u001B[0m\u001B[0;34m\u001B[0m\u001B[0m\n",
      "\u001B[0;32m/opt/anaconda3/lib/python3.8/site-packages/pandas/core/internals/construction.py\u001B[0m in \u001B[0;36msanitize_index\u001B[0;34m(data, index)\u001B[0m\n\u001B[1;32m    749\u001B[0m     \"\"\"\n\u001B[1;32m    750\u001B[0m     \u001B[0;32mif\u001B[0m \u001B[0mlen\u001B[0m\u001B[0;34m(\u001B[0m\u001B[0mdata\u001B[0m\u001B[0;34m)\u001B[0m \u001B[0;34m!=\u001B[0m \u001B[0mlen\u001B[0m\u001B[0;34m(\u001B[0m\u001B[0mindex\u001B[0m\u001B[0;34m)\u001B[0m\u001B[0;34m:\u001B[0m\u001B[0;34m\u001B[0m\u001B[0;34m\u001B[0m\u001B[0m\n\u001B[0;32m--> 751\u001B[0;31m         raise ValueError(\n\u001B[0m\u001B[1;32m    752\u001B[0m             \u001B[0;34m\"Length of values \"\u001B[0m\u001B[0;34m\u001B[0m\u001B[0;34m\u001B[0m\u001B[0m\n\u001B[1;32m    753\u001B[0m             \u001B[0;34mf\"({len(data)}) \"\u001B[0m\u001B[0;34m\u001B[0m\u001B[0;34m\u001B[0m\u001B[0m\n",
      "\u001B[0;31mValueError\u001B[0m: Length of values (444) does not match length of index (26)"
     ]
    }
   ],
   "source": [
    "# Connect to the databases and create the output database\n",
    "hedgefund_conn = sqlite3.connect(\"hedgefund.db\")\n",
    "rfasset_conn = sqlite3.connect(\"rfasset.db\")\n",
    "output_conn = sqlite3.connect(\"output.db\")\n",
    "\n",
    "# Load the data from the hedgefund database into a pandas dataframe\n",
    "hedgefund_df = pd.read_sql_query(\"SELECT * FROM hf_wide\", hedgefund_conn)\n",
    "\n",
    "# Add a 'Date' column to the hedgefund dataframe if it is not present\n",
    "if 'Date' not in hedgefund_df.columns:\n",
    "    hedgefund_df['Date'] = pd.date_range(start='1/1/1986', end='12/31/2022', freq='M')\n",
    "\n",
    "# Transform the hedgefund data into the long format and store it in the output database\n",
    "hedgefund_df = pd.melt(hedgefund_df, id_vars=[\"Date\"], var_name=\"Year\", value_name=\"HedgeFund_Return\")\n",
    "hedgefund_df.to_sql(\"hf_long\", output_conn, if_exists=\"replace\", index=False)\n",
    "\n",
    "# Load the data from the riskfreeasset database into a pandas dataframe\n",
    "rfreeasset_df = pd.read_sql_query(\"SELECT * FROM rf_long\", rfasset_conn)\n",
    "\n",
    "# Merge the hedgefund and riskfreeasset data on the Date column and store it in the output database\n",
    "merged_df = pd.merge(hedgefund_df, riskfreeasset_df, on=\"Date\", how=\"left\")\n",
    "merged_df.to_sql(\"merged\", output_conn, if_exists=\"replace\", index=False)\n",
    "\n",
    "# Query the merged data to make sure it was stored correctly\n",
    "print(pd.read_sql_query(\"SELECT * FROM merged\", output_conn))"
   ],
   "metadata": {
    "collapsed": false
   }
  },
  {
   "cell_type": "code",
   "execution_count": null,
   "outputs": [],
   "source": [
    "# Map the values in the 'month' column to the corresponding month names\n",
    "month_map = {\n",
    "    'Jan': 1,\n",
    "    'Feb': 2,\n",
    "    'Mar': 3,\n",
    "    'Apr': 4,\n",
    "    'May': 5,\n",
    "    'Jun': 6,\n",
    "    'Jul': 7,\n",
    "    'Aug': 8,\n",
    "    'Sep': 9,\n",
    "    'Oct': 10,\n",
    "    'Nov': 11,\n",
    "    'Dec': 12\n",
    "}\n",
    "#long_hedgefund_df['Month'] = long_hedgefund_df['Month'].map(month_map)"
   ],
   "metadata": {
    "collapsed": false
   }
  }
 ],
 "metadata": {
  "kernelspec": {
   "display_name": "Python 3",
   "language": "python",
   "name": "python3"
  },
  "language_info": {
   "codemirror_mode": {
    "name": "ipython",
    "version": 2
   },
   "file_extension": ".py",
   "mimetype": "text/x-python",
   "name": "python",
   "nbconvert_exporter": "python",
   "pygments_lexer": "ipython2",
   "version": "2.7.6"
  }
 },
 "nbformat": 4,
 "nbformat_minor": 0
}
